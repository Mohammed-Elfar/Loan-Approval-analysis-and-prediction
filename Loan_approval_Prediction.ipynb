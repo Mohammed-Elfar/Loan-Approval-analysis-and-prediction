{
 "cells": [
  {
   "cell_type": "markdown",
   "id": "59922626",
   "metadata": {},
   "source": [
    "# **Loan Approval Prediction** "
   ]
  },
  {
   "cell_type": "markdown",
   "metadata": {},
   "source": [
    "### **I chose this dataset because it presents several challenges, it is relatively small with  about 615 rows, and contains many missing values and outliers. I addressed these issues through data preprocessing and was able to achieve an accuracy of 80%, which is a strong result given the limited size of the data.\"**\n",
    "\n"
   ]
  },
  {
   "cell_type": "markdown",
   "id": "65a95030",
   "metadata": {},
   "source": [
    "## Import data"
   ]
  },
  {
   "cell_type": "code",
   "execution_count": 1,
   "id": "5b108405-550d-4d10-ae89-081683e7ab10",
   "metadata": {},
   "outputs": [],
   "source": [
    "import pandas as pd\n",
    "import numpy as np\n",
    "import plotly.express as px"
   ]
  },
  {
   "cell_type": "code",
   "execution_count": 2,
   "id": "5710514e-14e2-4e4e-a407-1bc5e0d088cb",
   "metadata": {},
   "outputs": [
    {
     "data": {
      "text/html": [
       "<div>\n",
       "<style scoped>\n",
       "    .dataframe tbody tr th:only-of-type {\n",
       "        vertical-align: middle;\n",
       "    }\n",
       "\n",
       "    .dataframe tbody tr th {\n",
       "        vertical-align: top;\n",
       "    }\n",
       "\n",
       "    .dataframe thead th {\n",
       "        text-align: right;\n",
       "    }\n",
       "</style>\n",
       "<table border=\"1\" class=\"dataframe\">\n",
       "  <thead>\n",
       "    <tr style=\"text-align: right;\">\n",
       "      <th></th>\n",
       "      <th>Loan_ID</th>\n",
       "      <th>Gender</th>\n",
       "      <th>Married</th>\n",
       "      <th>Dependents</th>\n",
       "      <th>Education</th>\n",
       "      <th>Self_Employed</th>\n",
       "      <th>ApplicantIncome</th>\n",
       "      <th>CoapplicantIncome</th>\n",
       "      <th>LoanAmount</th>\n",
       "      <th>Loan_Amount_Term</th>\n",
       "      <th>Credit_History</th>\n",
       "      <th>Property_Area</th>\n",
       "      <th>Loan_Status</th>\n",
       "    </tr>\n",
       "  </thead>\n",
       "  <tbody>\n",
       "    <tr>\n",
       "      <th>0</th>\n",
       "      <td>LP001002</td>\n",
       "      <td>Male</td>\n",
       "      <td>No</td>\n",
       "      <td>0</td>\n",
       "      <td>Graduate</td>\n",
       "      <td>No</td>\n",
       "      <td>5849</td>\n",
       "      <td>0.0</td>\n",
       "      <td>NaN</td>\n",
       "      <td>360.0</td>\n",
       "      <td>1.0</td>\n",
       "      <td>Urban</td>\n",
       "      <td>Y</td>\n",
       "    </tr>\n",
       "    <tr>\n",
       "      <th>1</th>\n",
       "      <td>LP001003</td>\n",
       "      <td>Male</td>\n",
       "      <td>Yes</td>\n",
       "      <td>1</td>\n",
       "      <td>Graduate</td>\n",
       "      <td>No</td>\n",
       "      <td>4583</td>\n",
       "      <td>1508.0</td>\n",
       "      <td>128.0</td>\n",
       "      <td>360.0</td>\n",
       "      <td>1.0</td>\n",
       "      <td>Rural</td>\n",
       "      <td>N</td>\n",
       "    </tr>\n",
       "    <tr>\n",
       "      <th>2</th>\n",
       "      <td>LP001005</td>\n",
       "      <td>Male</td>\n",
       "      <td>Yes</td>\n",
       "      <td>0</td>\n",
       "      <td>Graduate</td>\n",
       "      <td>Yes</td>\n",
       "      <td>3000</td>\n",
       "      <td>0.0</td>\n",
       "      <td>66.0</td>\n",
       "      <td>360.0</td>\n",
       "      <td>1.0</td>\n",
       "      <td>Urban</td>\n",
       "      <td>Y</td>\n",
       "    </tr>\n",
       "    <tr>\n",
       "      <th>3</th>\n",
       "      <td>LP001006</td>\n",
       "      <td>Male</td>\n",
       "      <td>Yes</td>\n",
       "      <td>0</td>\n",
       "      <td>Not Graduate</td>\n",
       "      <td>No</td>\n",
       "      <td>2583</td>\n",
       "      <td>2358.0</td>\n",
       "      <td>120.0</td>\n",
       "      <td>360.0</td>\n",
       "      <td>1.0</td>\n",
       "      <td>Urban</td>\n",
       "      <td>Y</td>\n",
       "    </tr>\n",
       "    <tr>\n",
       "      <th>4</th>\n",
       "      <td>LP001008</td>\n",
       "      <td>Male</td>\n",
       "      <td>No</td>\n",
       "      <td>0</td>\n",
       "      <td>Graduate</td>\n",
       "      <td>No</td>\n",
       "      <td>6000</td>\n",
       "      <td>0.0</td>\n",
       "      <td>141.0</td>\n",
       "      <td>360.0</td>\n",
       "      <td>1.0</td>\n",
       "      <td>Urban</td>\n",
       "      <td>Y</td>\n",
       "    </tr>\n",
       "    <tr>\n",
       "      <th>...</th>\n",
       "      <td>...</td>\n",
       "      <td>...</td>\n",
       "      <td>...</td>\n",
       "      <td>...</td>\n",
       "      <td>...</td>\n",
       "      <td>...</td>\n",
       "      <td>...</td>\n",
       "      <td>...</td>\n",
       "      <td>...</td>\n",
       "      <td>...</td>\n",
       "      <td>...</td>\n",
       "      <td>...</td>\n",
       "      <td>...</td>\n",
       "    </tr>\n",
       "    <tr>\n",
       "      <th>609</th>\n",
       "      <td>LP002978</td>\n",
       "      <td>Female</td>\n",
       "      <td>No</td>\n",
       "      <td>0</td>\n",
       "      <td>Graduate</td>\n",
       "      <td>No</td>\n",
       "      <td>2900</td>\n",
       "      <td>0.0</td>\n",
       "      <td>71.0</td>\n",
       "      <td>360.0</td>\n",
       "      <td>1.0</td>\n",
       "      <td>Rural</td>\n",
       "      <td>Y</td>\n",
       "    </tr>\n",
       "    <tr>\n",
       "      <th>610</th>\n",
       "      <td>LP002979</td>\n",
       "      <td>Male</td>\n",
       "      <td>Yes</td>\n",
       "      <td>3+</td>\n",
       "      <td>Graduate</td>\n",
       "      <td>No</td>\n",
       "      <td>4106</td>\n",
       "      <td>0.0</td>\n",
       "      <td>40.0</td>\n",
       "      <td>180.0</td>\n",
       "      <td>1.0</td>\n",
       "      <td>Rural</td>\n",
       "      <td>Y</td>\n",
       "    </tr>\n",
       "    <tr>\n",
       "      <th>611</th>\n",
       "      <td>LP002983</td>\n",
       "      <td>Male</td>\n",
       "      <td>Yes</td>\n",
       "      <td>1</td>\n",
       "      <td>Graduate</td>\n",
       "      <td>No</td>\n",
       "      <td>8072</td>\n",
       "      <td>240.0</td>\n",
       "      <td>253.0</td>\n",
       "      <td>360.0</td>\n",
       "      <td>1.0</td>\n",
       "      <td>Urban</td>\n",
       "      <td>Y</td>\n",
       "    </tr>\n",
       "    <tr>\n",
       "      <th>612</th>\n",
       "      <td>LP002984</td>\n",
       "      <td>Male</td>\n",
       "      <td>Yes</td>\n",
       "      <td>2</td>\n",
       "      <td>Graduate</td>\n",
       "      <td>No</td>\n",
       "      <td>7583</td>\n",
       "      <td>0.0</td>\n",
       "      <td>187.0</td>\n",
       "      <td>360.0</td>\n",
       "      <td>1.0</td>\n",
       "      <td>Urban</td>\n",
       "      <td>Y</td>\n",
       "    </tr>\n",
       "    <tr>\n",
       "      <th>613</th>\n",
       "      <td>LP002990</td>\n",
       "      <td>Female</td>\n",
       "      <td>No</td>\n",
       "      <td>0</td>\n",
       "      <td>Graduate</td>\n",
       "      <td>Yes</td>\n",
       "      <td>4583</td>\n",
       "      <td>0.0</td>\n",
       "      <td>133.0</td>\n",
       "      <td>360.0</td>\n",
       "      <td>0.0</td>\n",
       "      <td>Semiurban</td>\n",
       "      <td>N</td>\n",
       "    </tr>\n",
       "  </tbody>\n",
       "</table>\n",
       "<p>614 rows × 13 columns</p>\n",
       "</div>"
      ],
      "text/plain": [
       "      Loan_ID  Gender Married Dependents     Education Self_Employed  \\\n",
       "0    LP001002    Male      No          0      Graduate            No   \n",
       "1    LP001003    Male     Yes          1      Graduate            No   \n",
       "2    LP001005    Male     Yes          0      Graduate           Yes   \n",
       "3    LP001006    Male     Yes          0  Not Graduate            No   \n",
       "4    LP001008    Male      No          0      Graduate            No   \n",
       "..        ...     ...     ...        ...           ...           ...   \n",
       "609  LP002978  Female      No          0      Graduate            No   \n",
       "610  LP002979    Male     Yes         3+      Graduate            No   \n",
       "611  LP002983    Male     Yes          1      Graduate            No   \n",
       "612  LP002984    Male     Yes          2      Graduate            No   \n",
       "613  LP002990  Female      No          0      Graduate           Yes   \n",
       "\n",
       "     ApplicantIncome  CoapplicantIncome  LoanAmount  Loan_Amount_Term  \\\n",
       "0               5849                0.0         NaN             360.0   \n",
       "1               4583             1508.0       128.0             360.0   \n",
       "2               3000                0.0        66.0             360.0   \n",
       "3               2583             2358.0       120.0             360.0   \n",
       "4               6000                0.0       141.0             360.0   \n",
       "..               ...                ...         ...               ...   \n",
       "609             2900                0.0        71.0             360.0   \n",
       "610             4106                0.0        40.0             180.0   \n",
       "611             8072              240.0       253.0             360.0   \n",
       "612             7583                0.0       187.0             360.0   \n",
       "613             4583                0.0       133.0             360.0   \n",
       "\n",
       "     Credit_History Property_Area Loan_Status  \n",
       "0               1.0         Urban           Y  \n",
       "1               1.0         Rural           N  \n",
       "2               1.0         Urban           Y  \n",
       "3               1.0         Urban           Y  \n",
       "4               1.0         Urban           Y  \n",
       "..              ...           ...         ...  \n",
       "609             1.0         Rural           Y  \n",
       "610             1.0         Rural           Y  \n",
       "611             1.0         Urban           Y  \n",
       "612             1.0         Urban           Y  \n",
       "613             0.0     Semiurban           N  \n",
       "\n",
       "[614 rows x 13 columns]"
      ]
     },
     "execution_count": 2,
     "metadata": {},
     "output_type": "execute_result"
    }
   ],
   "source": [
    "df = pd.read_csv('/Users/mohammedmahmood/Desktop/Data projects/Data science/Loan Default Detection Prediction  Main/Loan_Default_Detection_Prediction.csv')\n",
    "df"
   ]
  },
  {
   "cell_type": "code",
   "execution_count": 3,
   "id": "7fa2cd21-1ba8-42b7-9feb-6bfcb4f1c789",
   "metadata": {},
   "outputs": [
    {
     "name": "stdout",
     "output_type": "stream",
     "text": [
      "<class 'pandas.core.frame.DataFrame'>\n",
      "RangeIndex: 614 entries, 0 to 613\n",
      "Data columns (total 13 columns):\n",
      " #   Column             Non-Null Count  Dtype  \n",
      "---  ------             --------------  -----  \n",
      " 0   Loan_ID            614 non-null    object \n",
      " 1   Gender             601 non-null    object \n",
      " 2   Married            611 non-null    object \n",
      " 3   Dependents         599 non-null    object \n",
      " 4   Education          614 non-null    object \n",
      " 5   Self_Employed      582 non-null    object \n",
      " 6   ApplicantIncome    614 non-null    int64  \n",
      " 7   CoapplicantIncome  614 non-null    float64\n",
      " 8   LoanAmount         592 non-null    float64\n",
      " 9   Loan_Amount_Term   600 non-null    float64\n",
      " 10  Credit_History     564 non-null    float64\n",
      " 11  Property_Area      614 non-null    object \n",
      " 12  Loan_Status        614 non-null    object \n",
      "dtypes: float64(4), int64(1), object(8)\n",
      "memory usage: 62.5+ KB\n"
     ]
    }
   ],
   "source": [
    "df.info()"
   ]
  },
  {
   "cell_type": "markdown",
   "id": "8707d8a2",
   "metadata": {},
   "source": [
    "## Check duplication"
   ]
  },
  {
   "cell_type": "code",
   "execution_count": 4,
   "id": "5ee4c9a0-c89e-4870-a521-433218f3560f",
   "metadata": {},
   "outputs": [
    {
     "data": {
      "text/plain": [
       "np.int64(0)"
      ]
     },
     "execution_count": 4,
     "metadata": {},
     "output_type": "execute_result"
    }
   ],
   "source": [
    "df.duplicated().sum()"
   ]
  },
  {
   "cell_type": "markdown",
   "id": "6699cc82",
   "metadata": {},
   "source": [
    "## Null Values"
   ]
  },
  {
   "cell_type": "code",
   "execution_count": 5,
   "id": "6d64e090",
   "metadata": {},
   "outputs": [
    {
     "data": {
      "text/plain": [
       "Loan_ID              0.000000\n",
       "Gender               2.117264\n",
       "Married              0.488599\n",
       "Dependents           2.442997\n",
       "Education            0.000000\n",
       "Self_Employed        5.211726\n",
       "ApplicantIncome      0.000000\n",
       "CoapplicantIncome    0.000000\n",
       "LoanAmount           3.583062\n",
       "Loan_Amount_Term     2.280130\n",
       "Credit_History       8.143322\n",
       "Property_Area        0.000000\n",
       "Loan_Status          0.000000\n",
       "dtype: float64"
      ]
     },
     "execution_count": 5,
     "metadata": {},
     "output_type": "execute_result"
    }
   ],
   "source": [
    "df.isna().mean() * 100"
   ]
  },
  {
   "cell_type": "markdown",
   "id": "debd9c55",
   "metadata": {},
   "source": [
    "### I will handle the null values within the machine learning pipeline to ensure proper data preprocessing and prevent data leakage"
   ]
  },
  {
   "cell_type": "code",
   "execution_count": 6,
   "id": "e73c8ae2-e726-4a6f-a67b-9955c8220732",
   "metadata": {},
   "outputs": [],
   "source": [
    "# Unnecessary column in preidction \n",
    "df.drop(\"Loan_ID\" , axis = 1 , inplace=True ) "
   ]
  },
  {
   "cell_type": "code",
   "execution_count": 7,
   "id": "4df92029-0b28-4f30-9f99-e0439c1e6b96",
   "metadata": {},
   "outputs": [
    {
     "data": {
      "text/plain": [
       "Index(['Gender', 'Married', 'Dependents', 'Education', 'Self_Employed',\n",
       "       'ApplicantIncome', 'CoapplicantIncome', 'LoanAmount',\n",
       "       'Loan_Amount_Term', 'Credit_History', 'Property_Area', 'Loan_Status'],\n",
       "      dtype='object')"
      ]
     },
     "execution_count": 7,
     "metadata": {},
     "output_type": "execute_result"
    }
   ],
   "source": [
    "df.columns"
   ]
  },
  {
   "cell_type": "markdown",
   "id": "fc80f142",
   "metadata": {},
   "source": [
    "## Univariate analysis\n",
    "\n",
    "### **In this step i will go through each column and fix problems in and do Eda for features to understand**"
   ]
  },
  {
   "cell_type": "markdown",
   "id": "43e4a436",
   "metadata": {},
   "source": [
    "## Gender"
   ]
  },
  {
   "cell_type": "code",
   "execution_count": 8,
   "id": "9d2b17f9",
   "metadata": {},
   "outputs": [
    {
     "data": {
      "text/plain": [
       "array(['Male', 'Female', nan], dtype=object)"
      ]
     },
     "execution_count": 8,
     "metadata": {},
     "output_type": "execute_result"
    }
   ],
   "source": [
    "df.Gender.unique()"
   ]
  },
  {
   "cell_type": "code",
   "execution_count": 9,
   "id": "2939c967",
   "metadata": {},
   "outputs": [
    {
     "data": {
      "text/plain": [
       "Gender\n",
       "Male      489\n",
       "Female    112\n",
       "Name: count, dtype: int64"
      ]
     },
     "execution_count": 9,
     "metadata": {},
     "output_type": "execute_result"
    }
   ],
   "source": [
    "df.Gender.value_counts()"
   ]
  },
  {
   "cell_type": "markdown",
   "id": "c2fe55ce",
   "metadata": {},
   "source": [
    "## Married"
   ]
  },
  {
   "cell_type": "code",
   "execution_count": 10,
   "id": "b7456cea",
   "metadata": {},
   "outputs": [
    {
     "data": {
      "text/plain": [
       "array(['No', 'Yes', nan], dtype=object)"
      ]
     },
     "execution_count": 10,
     "metadata": {},
     "output_type": "execute_result"
    }
   ],
   "source": [
    "df.Married.unique()"
   ]
  },
  {
   "cell_type": "code",
   "execution_count": 11,
   "id": "5df89889",
   "metadata": {},
   "outputs": [
    {
     "data": {
      "text/plain": [
       "Married\n",
       "Yes    398\n",
       "No     213\n",
       "Name: count, dtype: int64"
      ]
     },
     "execution_count": 11,
     "metadata": {},
     "output_type": "execute_result"
    }
   ],
   "source": [
    "df.Married.value_counts()"
   ]
  },
  {
   "cell_type": "markdown",
   "id": "c385290a",
   "metadata": {},
   "source": [
    "## Dependents"
   ]
  },
  {
   "cell_type": "code",
   "execution_count": 12,
   "id": "ebe35a91",
   "metadata": {},
   "outputs": [
    {
     "data": {
      "text/plain": [
       "array(['0', '1', '2', '3+', nan], dtype=object)"
      ]
     },
     "execution_count": 12,
     "metadata": {},
     "output_type": "execute_result"
    }
   ],
   "source": [
    "df.Dependents.unique()"
   ]
  },
  {
   "cell_type": "code",
   "execution_count": 13,
   "id": "713cbaa1",
   "metadata": {},
   "outputs": [],
   "source": [
    "df['Dependents'] = df['Dependents'].replace('3+', '3')"
   ]
  },
  {
   "cell_type": "code",
   "execution_count": 14,
   "id": "b45e906d",
   "metadata": {},
   "outputs": [
    {
     "name": "stdout",
     "output_type": "stream",
     "text": [
      "<class 'pandas.core.series.Series'>\n",
      "RangeIndex: 614 entries, 0 to 613\n",
      "Series name: Dependents\n",
      "Non-Null Count  Dtype \n",
      "--------------  ----- \n",
      "599 non-null    object\n",
      "dtypes: object(1)\n",
      "memory usage: 4.9+ KB\n"
     ]
    }
   ],
   "source": [
    "df.Dependents.info()"
   ]
  },
  {
   "cell_type": "code",
   "execution_count": 15,
   "id": "5b309d4e",
   "metadata": {},
   "outputs": [
    {
     "data": {
      "text/plain": [
       "array(['0', '1', '2', '3', nan], dtype=object)"
      ]
     },
     "execution_count": 15,
     "metadata": {},
     "output_type": "execute_result"
    }
   ],
   "source": [
    "df.Dependents.unique()"
   ]
  },
  {
   "cell_type": "code",
   "execution_count": 16,
   "id": "704568d8",
   "metadata": {},
   "outputs": [],
   "source": [
    "df['Dependents'] = df['Dependents'].astype('Int64')"
   ]
  },
  {
   "cell_type": "code",
   "execution_count": 17,
   "id": "28bc8814",
   "metadata": {},
   "outputs": [
    {
     "name": "stdout",
     "output_type": "stream",
     "text": [
      "<class 'pandas.core.series.Series'>\n",
      "RangeIndex: 614 entries, 0 to 613\n",
      "Series name: Dependents\n",
      "Non-Null Count  Dtype\n",
      "--------------  -----\n",
      "599 non-null    Int64\n",
      "dtypes: Int64(1)\n",
      "memory usage: 5.5 KB\n"
     ]
    }
   ],
   "source": [
    "df.Dependents.info()"
   ]
  },
  {
   "cell_type": "code",
   "execution_count": 18,
   "id": "0e3b9f54",
   "metadata": {},
   "outputs": [
    {
     "name": "stdout",
     "output_type": "stream",
     "text": [
      "<class 'pandas.core.frame.DataFrame'>\n",
      "RangeIndex: 614 entries, 0 to 613\n",
      "Data columns (total 12 columns):\n",
      " #   Column             Non-Null Count  Dtype  \n",
      "---  ------             --------------  -----  \n",
      " 0   Gender             601 non-null    object \n",
      " 1   Married            611 non-null    object \n",
      " 2   Dependents         599 non-null    Int64  \n",
      " 3   Education          614 non-null    object \n",
      " 4   Self_Employed      582 non-null    object \n",
      " 5   ApplicantIncome    614 non-null    int64  \n",
      " 6   CoapplicantIncome  614 non-null    float64\n",
      " 7   LoanAmount         592 non-null    float64\n",
      " 8   Loan_Amount_Term   600 non-null    float64\n",
      " 9   Credit_History     564 non-null    float64\n",
      " 10  Property_Area      614 non-null    object \n",
      " 11  Loan_Status        614 non-null    object \n",
      "dtypes: Int64(1), float64(4), int64(1), object(6)\n",
      "memory usage: 58.3+ KB\n"
     ]
    }
   ],
   "source": [
    "df.info()"
   ]
  },
  {
   "cell_type": "markdown",
   "id": "1265ed03",
   "metadata": {},
   "source": [
    "## Education"
   ]
  },
  {
   "cell_type": "code",
   "execution_count": 19,
   "id": "cff16b1d",
   "metadata": {},
   "outputs": [
    {
     "data": {
      "text/plain": [
       "array(['Graduate', 'Not Graduate'], dtype=object)"
      ]
     },
     "execution_count": 19,
     "metadata": {},
     "output_type": "execute_result"
    }
   ],
   "source": [
    "df.Education.unique()"
   ]
  },
  {
   "cell_type": "markdown",
   "id": "88e5f50d",
   "metadata": {},
   "source": [
    "## Self_Employed"
   ]
  },
  {
   "cell_type": "code",
   "execution_count": 20,
   "id": "31958e66",
   "metadata": {},
   "outputs": [
    {
     "data": {
      "text/plain": [
       "array(['No', 'Yes', nan], dtype=object)"
      ]
     },
     "execution_count": 20,
     "metadata": {},
     "output_type": "execute_result"
    }
   ],
   "source": [
    "df.Self_Employed.unique()"
   ]
  },
  {
   "cell_type": "markdown",
   "id": "51df19dc",
   "metadata": {},
   "source": [
    "## ApplicantIncome"
   ]
  },
  {
   "cell_type": "code",
   "execution_count": 21,
   "id": "1081ef34",
   "metadata": {},
   "outputs": [
    {
     "data": {
      "text/plain": [
       "count      614.000000\n",
       "mean      5403.459283\n",
       "std       6109.041673\n",
       "min        150.000000\n",
       "25%       2877.500000\n",
       "50%       3812.500000\n",
       "75%       5795.000000\n",
       "max      81000.000000\n",
       "Name: ApplicantIncome, dtype: float64"
      ]
     },
     "execution_count": 21,
     "metadata": {},
     "output_type": "execute_result"
    }
   ],
   "source": [
    "df.ApplicantIncome.describe() "
   ]
  },
  {
   "cell_type": "code",
   "execution_count": 22,
   "id": "a280816c",
   "metadata": {},
   "outputs": [
    {
     "data": {
      "application/vnd.plotly.v1+json": {
       "config": {
        "plotlyServerURL": "https://plot.ly"
       },
       "data": [
        {
         "alignmentgroup": "True",
         "bingroup": "x",
         "hovertemplate": "ApplicantIncome=%{x}<br>count=%{y}<extra></extra>",
         "legendgroup": "",
         "marker": {
          "color": "#636efa",
          "pattern": {
           "shape": ""
          }
         },
         "name": "",
         "offsetgroup": "",
         "orientation": "v",
         "showlegend": false,
         "type": "histogram",
         "x": [
          5849,
          4583,
          3000,
          2583,
          6000,
          5417,
          2333,
          3036,
          4006,
          12841,
          3200,
          2500,
          3073,
          1853,
          1299,
          4950,
          3596,
          3510,
          4887,
          2600,
          7660,
          5955,
          2600,
          3365,
          3717,
          9560,
          2799,
          4226,
          1442,
          3750,
          4166,
          3167,
          4692,
          3500,
          12500,
          2275,
          1828,
          3667,
          4166,
          3748,
          3600,
          1800,
          2400,
          3941,
          4695,
          3410,
          5649,
          5821,
          2645,
          4000,
          1928,
          3086,
          4230,
          4616,
          11500,
          2708,
          2132,
          3366,
          8080,
          3357,
          2500,
          3029,
          2609,
          4945,
          4166,
          5726,
          3200,
          10750,
          7100,
          4300,
          3208,
          1875,
          3500,
          4755,
          5266,
          3750,
          3750,
          1000,
          3167,
          3333,
          3846,
          2395,
          1378,
          6000,
          3988,
          2366,
          3333,
          2500,
          8566,
          5695,
          2958,
          6250,
          3273,
          4133,
          3620,
          6782,
          2484,
          1977,
          4188,
          1759,
          4288,
          4843,
          13650,
          4652,
          3816,
          3052,
          11417,
          7333,
          3800,
          2071,
          5316,
          2929,
          3572,
          7451,
          5050,
          14583,
          3167,
          2214,
          5568,
          10408,
          5667,
          4166,
          2137,
          2957,
          4300,
          3692,
          23803,
          3865,
          10513,
          6080,
          20166,
          2014,
          2718,
          3459,
          4895,
          4000,
          4583,
          3316,
          14999,
          4200,
          5042,
          5417,
          6950,
          2698,
          11757,
          2330,
          14866,
          1538,
          10000,
          4860,
          6277,
          2577,
          9166,
          2281,
          3254,
          39999,
          6000,
          9538,
          2980,
          4583,
          1863,
          7933,
          3089,
          4167,
          9323,
          3707,
          4583,
          2439,
          2237,
          8000,
          1820,
          51763,
          3522,
          5708,
          4344,
          3497,
          2045,
          5516,
          3750,
          2333,
          6400,
          1916,
          4600,
          33846,
          3625,
          39147,
          2178,
          2383,
          674,
          9328,
          4885,
          12000,
          6033,
          3858,
          4191,
          3125,
          8333,
          1907,
          3416,
          11000,
          2600,
          4923,
          3992,
          3500,
          3917,
          4408,
          3244,
          3975,
          2479,
          3418,
          10000,
          3430,
          7787,
          5703,
          3173,
          3850,
          150,
          3727,
          5000,
          4283,
          2221,
          4009,
          2971,
          7578,
          6250,
          3250,
          4735,
          6250,
          4758,
          6400,
          2491,
          3716,
          3189,
          8333,
          3155,
          5500,
          5746,
          3463,
          3812,
          3315,
          5819,
          2510,
          2965,
          6250,
          3406,
          6050,
          9703,
          6608,
          2882,
          1809,
          1668,
          3427,
          2583,
          2661,
          16250,
          3083,
          6045,
          5250,
          14683,
          4931,
          6083,
          2060,
          3481,
          7200,
          5166,
          4095,
          4708,
          4333,
          3418,
          2876,
          3237,
          11146,
          2833,
          2620,
          3900,
          2750,
          3993,
          3103,
          14583,
          4100,
          4053,
          3927,
          2301,
          1811,
          20667,
          3158,
          2600,
          3704,
          4124,
          9508,
          3075,
          4400,
          3153,
          5417,
          2383,
          4416,
          6875,
          4666,
          5000,
          2014,
          1800,
          2875,
          5000,
          1625,
          4000,
          2000,
          3762,
          2400,
          20233,
          7667,
          2917,
          2927,
          2507,
          5746,
          2473,
          3399,
          3717,
          2058,
          3541,
          10000,
          2400,
          4342,
          3601,
          3166,
          15000,
          8666,
          4917,
          5818,
          4333,
          2500,
          4384,
          2935,
          2833,
          63337,
          9833,
          5503,
          5250,
          2500,
          1830,
          4160,
          2647,
          2378,
          4554,
          3173,
          2583,
          2499,
          3523,
          3083,
          6333,
          2625,
          9083,
          8750,
          2666,
          5500,
          2423,
          3813,
          8333,
          3875,
          3000,
          5167,
          4723,
          5000,
          4750,
          3013,
          6822,
          6216,
          2500,
          5124,
          6325,
          19730,
          15759,
          5185,
          9323,
          3062,
          2764,
          4817,
          8750,
          4310,
          3069,
          5391,
          3333,
          5941,
          6000,
          7167,
          4566,
          3667,
          2346,
          3010,
          2333,
          5488,
          9167,
          9504,
          2583,
          1993,
          3100,
          3276,
          3180,
          3033,
          3902,
          1500,
          2889,
          2755,
          2500,
          1963,
          7441,
          4547,
          2167,
          2213,
          8300,
          81000,
          3867,
          6256,
          6096,
          2253,
          2149,
          2995,
          2600,
          1600,
          1025,
          3246,
          5829,
          2720,
          1820,
          7250,
          14880,
          2666,
          4606,
          5935,
          2920,
          2717,
          8624,
          6500,
          12876,
          2425,
          3750,
          10047,
          1926,
          2213,
          10416,
          7142,
          3660,
          7901,
          4707,
          37719,
          7333,
          3466,
          4652,
          3539,
          3340,
          2769,
          2309,
          1958,
          3948,
          2483,
          7085,
          3859,
          4301,
          3708,
          4354,
          8334,
          2083,
          7740,
          3015,
          5191,
          4166,
          6000,
          2947,
          16692,
          210,
          4333,
          3450,
          2653,
          4691,
          2500,
          5532,
          16525,
          6700,
          2873,
          16667,
          2947,
          4350,
          3095,
          2083,
          10833,
          8333,
          1958,
          3547,
          18333,
          4583,
          2435,
          2699,
          5333,
          3691,
          17263,
          3597,
          3326,
          2600,
          4625,
          2895,
          6283,
          645,
          3159,
          4865,
          4050,
          3814,
          3510,
          20833,
          3583,
          2479,
          13262,
          3598,
          6065,
          3283,
          2130,
          5815,
          3466,
          2031,
          3074,
          4683,
          3400,
          2192,
          2500,
          5677,
          7948,
          4680,
          17500,
          3775,
          5285,
          2679,
          6783,
          1025,
          4281,
          3588,
          11250,
          18165,
          2550,
          6133,
          3617,
          2917,
          6417,
          4608,
          2138,
          3652,
          2239,
          3017,
          2768,
          3358,
          2526,
          5000,
          2785,
          6633,
          2492,
          3333,
          2454,
          3593,
          5468,
          2667,
          10139,
          3887,
          4180,
          3675,
          19484,
          5923,
          5800,
          8799,
          4467,
          3333,
          3400,
          2378,
          3166,
          3417,
          5116,
          16666,
          6125,
          6406,
          3159,
          3087,
          3229,
          1782,
          3182,
          6540,
          1836,
          3166,
          1880,
          2787,
          4283,
          2297,
          2165,
          4750,
          2726,
          3000,
          6000,
          9357,
          3859,
          16120,
          3833,
          6383,
          2987,
          9963,
          5780,
          416,
          2894,
          5703,
          3676,
          12000,
          2400,
          3400,
          3987,
          3232,
          2900,
          4106,
          8072,
          7583,
          4583
         ],
         "xaxis": "x",
         "yaxis": "y"
        }
       ],
       "layout": {
        "barmode": "relative",
        "legend": {
         "tracegroupgap": 0
        },
        "margin": {
         "t": 60
        },
        "template": {
         "data": {
          "bar": [
           {
            "error_x": {
             "color": "#2a3f5f"
            },
            "error_y": {
             "color": "#2a3f5f"
            },
            "marker": {
             "line": {
              "color": "#E5ECF6",
              "width": 0.5
             },
             "pattern": {
              "fillmode": "overlay",
              "size": 10,
              "solidity": 0.2
             }
            },
            "type": "bar"
           }
          ],
          "barpolar": [
           {
            "marker": {
             "line": {
              "color": "#E5ECF6",
              "width": 0.5
             },
             "pattern": {
              "fillmode": "overlay",
              "size": 10,
              "solidity": 0.2
             }
            },
            "type": "barpolar"
           }
          ],
          "carpet": [
           {
            "aaxis": {
             "endlinecolor": "#2a3f5f",
             "gridcolor": "white",
             "linecolor": "white",
             "minorgridcolor": "white",
             "startlinecolor": "#2a3f5f"
            },
            "baxis": {
             "endlinecolor": "#2a3f5f",
             "gridcolor": "white",
             "linecolor": "white",
             "minorgridcolor": "white",
             "startlinecolor": "#2a3f5f"
            },
            "type": "carpet"
           }
          ],
          "choropleth": [
           {
            "colorbar": {
             "outlinewidth": 0,
             "ticks": ""
            },
            "type": "choropleth"
           }
          ],
          "contour": [
           {
            "colorbar": {
             "outlinewidth": 0,
             "ticks": ""
            },
            "colorscale": [
             [
              0,
              "#0d0887"
             ],
             [
              0.1111111111111111,
              "#46039f"
             ],
             [
              0.2222222222222222,
              "#7201a8"
             ],
             [
              0.3333333333333333,
              "#9c179e"
             ],
             [
              0.4444444444444444,
              "#bd3786"
             ],
             [
              0.5555555555555556,
              "#d8576b"
             ],
             [
              0.6666666666666666,
              "#ed7953"
             ],
             [
              0.7777777777777778,
              "#fb9f3a"
             ],
             [
              0.8888888888888888,
              "#fdca26"
             ],
             [
              1,
              "#f0f921"
             ]
            ],
            "type": "contour"
           }
          ],
          "contourcarpet": [
           {
            "colorbar": {
             "outlinewidth": 0,
             "ticks": ""
            },
            "type": "contourcarpet"
           }
          ],
          "heatmap": [
           {
            "colorbar": {
             "outlinewidth": 0,
             "ticks": ""
            },
            "colorscale": [
             [
              0,
              "#0d0887"
             ],
             [
              0.1111111111111111,
              "#46039f"
             ],
             [
              0.2222222222222222,
              "#7201a8"
             ],
             [
              0.3333333333333333,
              "#9c179e"
             ],
             [
              0.4444444444444444,
              "#bd3786"
             ],
             [
              0.5555555555555556,
              "#d8576b"
             ],
             [
              0.6666666666666666,
              "#ed7953"
             ],
             [
              0.7777777777777778,
              "#fb9f3a"
             ],
             [
              0.8888888888888888,
              "#fdca26"
             ],
             [
              1,
              "#f0f921"
             ]
            ],
            "type": "heatmap"
           }
          ],
          "heatmapgl": [
           {
            "colorbar": {
             "outlinewidth": 0,
             "ticks": ""
            },
            "colorscale": [
             [
              0,
              "#0d0887"
             ],
             [
              0.1111111111111111,
              "#46039f"
             ],
             [
              0.2222222222222222,
              "#7201a8"
             ],
             [
              0.3333333333333333,
              "#9c179e"
             ],
             [
              0.4444444444444444,
              "#bd3786"
             ],
             [
              0.5555555555555556,
              "#d8576b"
             ],
             [
              0.6666666666666666,
              "#ed7953"
             ],
             [
              0.7777777777777778,
              "#fb9f3a"
             ],
             [
              0.8888888888888888,
              "#fdca26"
             ],
             [
              1,
              "#f0f921"
             ]
            ],
            "type": "heatmapgl"
           }
          ],
          "histogram": [
           {
            "marker": {
             "pattern": {
              "fillmode": "overlay",
              "size": 10,
              "solidity": 0.2
             }
            },
            "type": "histogram"
           }
          ],
          "histogram2d": [
           {
            "colorbar": {
             "outlinewidth": 0,
             "ticks": ""
            },
            "colorscale": [
             [
              0,
              "#0d0887"
             ],
             [
              0.1111111111111111,
              "#46039f"
             ],
             [
              0.2222222222222222,
              "#7201a8"
             ],
             [
              0.3333333333333333,
              "#9c179e"
             ],
             [
              0.4444444444444444,
              "#bd3786"
             ],
             [
              0.5555555555555556,
              "#d8576b"
             ],
             [
              0.6666666666666666,
              "#ed7953"
             ],
             [
              0.7777777777777778,
              "#fb9f3a"
             ],
             [
              0.8888888888888888,
              "#fdca26"
             ],
             [
              1,
              "#f0f921"
             ]
            ],
            "type": "histogram2d"
           }
          ],
          "histogram2dcontour": [
           {
            "colorbar": {
             "outlinewidth": 0,
             "ticks": ""
            },
            "colorscale": [
             [
              0,
              "#0d0887"
             ],
             [
              0.1111111111111111,
              "#46039f"
             ],
             [
              0.2222222222222222,
              "#7201a8"
             ],
             [
              0.3333333333333333,
              "#9c179e"
             ],
             [
              0.4444444444444444,
              "#bd3786"
             ],
             [
              0.5555555555555556,
              "#d8576b"
             ],
             [
              0.6666666666666666,
              "#ed7953"
             ],
             [
              0.7777777777777778,
              "#fb9f3a"
             ],
             [
              0.8888888888888888,
              "#fdca26"
             ],
             [
              1,
              "#f0f921"
             ]
            ],
            "type": "histogram2dcontour"
           }
          ],
          "mesh3d": [
           {
            "colorbar": {
             "outlinewidth": 0,
             "ticks": ""
            },
            "type": "mesh3d"
           }
          ],
          "parcoords": [
           {
            "line": {
             "colorbar": {
              "outlinewidth": 0,
              "ticks": ""
             }
            },
            "type": "parcoords"
           }
          ],
          "pie": [
           {
            "automargin": true,
            "type": "pie"
           }
          ],
          "scatter": [
           {
            "fillpattern": {
             "fillmode": "overlay",
             "size": 10,
             "solidity": 0.2
            },
            "type": "scatter"
           }
          ],
          "scatter3d": [
           {
            "line": {
             "colorbar": {
              "outlinewidth": 0,
              "ticks": ""
             }
            },
            "marker": {
             "colorbar": {
              "outlinewidth": 0,
              "ticks": ""
             }
            },
            "type": "scatter3d"
           }
          ],
          "scattercarpet": [
           {
            "marker": {
             "colorbar": {
              "outlinewidth": 0,
              "ticks": ""
             }
            },
            "type": "scattercarpet"
           }
          ],
          "scattergeo": [
           {
            "marker": {
             "colorbar": {
              "outlinewidth": 0,
              "ticks": ""
             }
            },
            "type": "scattergeo"
           }
          ],
          "scattergl": [
           {
            "marker": {
             "colorbar": {
              "outlinewidth": 0,
              "ticks": ""
             }
            },
            "type": "scattergl"
           }
          ],
          "scattermapbox": [
           {
            "marker": {
             "colorbar": {
              "outlinewidth": 0,
              "ticks": ""
             }
            },
            "type": "scattermapbox"
           }
          ],
          "scatterpolar": [
           {
            "marker": {
             "colorbar": {
              "outlinewidth": 0,
              "ticks": ""
             }
            },
            "type": "scatterpolar"
           }
          ],
          "scatterpolargl": [
           {
            "marker": {
             "colorbar": {
              "outlinewidth": 0,
              "ticks": ""
             }
            },
            "type": "scatterpolargl"
           }
          ],
          "scatterternary": [
           {
            "marker": {
             "colorbar": {
              "outlinewidth": 0,
              "ticks": ""
             }
            },
            "type": "scatterternary"
           }
          ],
          "surface": [
           {
            "colorbar": {
             "outlinewidth": 0,
             "ticks": ""
            },
            "colorscale": [
             [
              0,
              "#0d0887"
             ],
             [
              0.1111111111111111,
              "#46039f"
             ],
             [
              0.2222222222222222,
              "#7201a8"
             ],
             [
              0.3333333333333333,
              "#9c179e"
             ],
             [
              0.4444444444444444,
              "#bd3786"
             ],
             [
              0.5555555555555556,
              "#d8576b"
             ],
             [
              0.6666666666666666,
              "#ed7953"
             ],
             [
              0.7777777777777778,
              "#fb9f3a"
             ],
             [
              0.8888888888888888,
              "#fdca26"
             ],
             [
              1,
              "#f0f921"
             ]
            ],
            "type": "surface"
           }
          ],
          "table": [
           {
            "cells": {
             "fill": {
              "color": "#EBF0F8"
             },
             "line": {
              "color": "white"
             }
            },
            "header": {
             "fill": {
              "color": "#C8D4E3"
             },
             "line": {
              "color": "white"
             }
            },
            "type": "table"
           }
          ]
         },
         "layout": {
          "annotationdefaults": {
           "arrowcolor": "#2a3f5f",
           "arrowhead": 0,
           "arrowwidth": 1
          },
          "autotypenumbers": "strict",
          "coloraxis": {
           "colorbar": {
            "outlinewidth": 0,
            "ticks": ""
           }
          },
          "colorscale": {
           "diverging": [
            [
             0,
             "#8e0152"
            ],
            [
             0.1,
             "#c51b7d"
            ],
            [
             0.2,
             "#de77ae"
            ],
            [
             0.3,
             "#f1b6da"
            ],
            [
             0.4,
             "#fde0ef"
            ],
            [
             0.5,
             "#f7f7f7"
            ],
            [
             0.6,
             "#e6f5d0"
            ],
            [
             0.7,
             "#b8e186"
            ],
            [
             0.8,
             "#7fbc41"
            ],
            [
             0.9,
             "#4d9221"
            ],
            [
             1,
             "#276419"
            ]
           ],
           "sequential": [
            [
             0,
             "#0d0887"
            ],
            [
             0.1111111111111111,
             "#46039f"
            ],
            [
             0.2222222222222222,
             "#7201a8"
            ],
            [
             0.3333333333333333,
             "#9c179e"
            ],
            [
             0.4444444444444444,
             "#bd3786"
            ],
            [
             0.5555555555555556,
             "#d8576b"
            ],
            [
             0.6666666666666666,
             "#ed7953"
            ],
            [
             0.7777777777777778,
             "#fb9f3a"
            ],
            [
             0.8888888888888888,
             "#fdca26"
            ],
            [
             1,
             "#f0f921"
            ]
           ],
           "sequentialminus": [
            [
             0,
             "#0d0887"
            ],
            [
             0.1111111111111111,
             "#46039f"
            ],
            [
             0.2222222222222222,
             "#7201a8"
            ],
            [
             0.3333333333333333,
             "#9c179e"
            ],
            [
             0.4444444444444444,
             "#bd3786"
            ],
            [
             0.5555555555555556,
             "#d8576b"
            ],
            [
             0.6666666666666666,
             "#ed7953"
            ],
            [
             0.7777777777777778,
             "#fb9f3a"
            ],
            [
             0.8888888888888888,
             "#fdca26"
            ],
            [
             1,
             "#f0f921"
            ]
           ]
          },
          "colorway": [
           "#636efa",
           "#EF553B",
           "#00cc96",
           "#ab63fa",
           "#FFA15A",
           "#19d3f3",
           "#FF6692",
           "#B6E880",
           "#FF97FF",
           "#FECB52"
          ],
          "font": {
           "color": "#2a3f5f"
          },
          "geo": {
           "bgcolor": "white",
           "lakecolor": "white",
           "landcolor": "#E5ECF6",
           "showlakes": true,
           "showland": true,
           "subunitcolor": "white"
          },
          "hoverlabel": {
           "align": "left"
          },
          "hovermode": "closest",
          "mapbox": {
           "style": "light"
          },
          "paper_bgcolor": "white",
          "plot_bgcolor": "#E5ECF6",
          "polar": {
           "angularaxis": {
            "gridcolor": "white",
            "linecolor": "white",
            "ticks": ""
           },
           "bgcolor": "#E5ECF6",
           "radialaxis": {
            "gridcolor": "white",
            "linecolor": "white",
            "ticks": ""
           }
          },
          "scene": {
           "xaxis": {
            "backgroundcolor": "#E5ECF6",
            "gridcolor": "white",
            "gridwidth": 2,
            "linecolor": "white",
            "showbackground": true,
            "ticks": "",
            "zerolinecolor": "white"
           },
           "yaxis": {
            "backgroundcolor": "#E5ECF6",
            "gridcolor": "white",
            "gridwidth": 2,
            "linecolor": "white",
            "showbackground": true,
            "ticks": "",
            "zerolinecolor": "white"
           },
           "zaxis": {
            "backgroundcolor": "#E5ECF6",
            "gridcolor": "white",
            "gridwidth": 2,
            "linecolor": "white",
            "showbackground": true,
            "ticks": "",
            "zerolinecolor": "white"
           }
          },
          "shapedefaults": {
           "line": {
            "color": "#2a3f5f"
           }
          },
          "ternary": {
           "aaxis": {
            "gridcolor": "white",
            "linecolor": "white",
            "ticks": ""
           },
           "baxis": {
            "gridcolor": "white",
            "linecolor": "white",
            "ticks": ""
           },
           "bgcolor": "#E5ECF6",
           "caxis": {
            "gridcolor": "white",
            "linecolor": "white",
            "ticks": ""
           }
          },
          "title": {
           "x": 0.05
          },
          "xaxis": {
           "automargin": true,
           "gridcolor": "white",
           "linecolor": "white",
           "ticks": "",
           "title": {
            "standoff": 15
           },
           "zerolinecolor": "white",
           "zerolinewidth": 2
          },
          "yaxis": {
           "automargin": true,
           "gridcolor": "white",
           "linecolor": "white",
           "ticks": "",
           "title": {
            "standoff": 15
           },
           "zerolinecolor": "white",
           "zerolinewidth": 2
          }
         }
        },
        "xaxis": {
         "anchor": "y",
         "domain": [
          0,
          1
         ],
         "title": {
          "text": "ApplicantIncome"
         }
        },
        "yaxis": {
         "anchor": "x",
         "domain": [
          0,
          1
         ],
         "title": {
          "text": "count"
         }
        }
       }
      }
     },
     "metadata": {},
     "output_type": "display_data"
    }
   ],
   "source": [
    "px.histogram(df, x= \"ApplicantIncome\") "
   ]
  },
  {
   "cell_type": "code",
   "execution_count": 23,
   "id": "a665d10c",
   "metadata": {},
   "outputs": [
    {
     "data": {
      "application/vnd.plotly.v1+json": {
       "config": {
        "plotlyServerURL": "https://plot.ly"
       },
       "data": [
        {
         "alignmentgroup": "True",
         "hovertemplate": "ApplicantIncome=%{x}<extra></extra>",
         "legendgroup": "",
         "marker": {
          "color": "#636efa"
         },
         "name": "",
         "notched": false,
         "offsetgroup": "",
         "orientation": "h",
         "showlegend": false,
         "type": "box",
         "x": [
          5849,
          4583,
          3000,
          2583,
          6000,
          5417,
          2333,
          3036,
          4006,
          12841,
          3200,
          2500,
          3073,
          1853,
          1299,
          4950,
          3596,
          3510,
          4887,
          2600,
          7660,
          5955,
          2600,
          3365,
          3717,
          9560,
          2799,
          4226,
          1442,
          3750,
          4166,
          3167,
          4692,
          3500,
          12500,
          2275,
          1828,
          3667,
          4166,
          3748,
          3600,
          1800,
          2400,
          3941,
          4695,
          3410,
          5649,
          5821,
          2645,
          4000,
          1928,
          3086,
          4230,
          4616,
          11500,
          2708,
          2132,
          3366,
          8080,
          3357,
          2500,
          3029,
          2609,
          4945,
          4166,
          5726,
          3200,
          10750,
          7100,
          4300,
          3208,
          1875,
          3500,
          4755,
          5266,
          3750,
          3750,
          1000,
          3167,
          3333,
          3846,
          2395,
          1378,
          6000,
          3988,
          2366,
          3333,
          2500,
          8566,
          5695,
          2958,
          6250,
          3273,
          4133,
          3620,
          6782,
          2484,
          1977,
          4188,
          1759,
          4288,
          4843,
          13650,
          4652,
          3816,
          3052,
          11417,
          7333,
          3800,
          2071,
          5316,
          2929,
          3572,
          7451,
          5050,
          14583,
          3167,
          2214,
          5568,
          10408,
          5667,
          4166,
          2137,
          2957,
          4300,
          3692,
          23803,
          3865,
          10513,
          6080,
          20166,
          2014,
          2718,
          3459,
          4895,
          4000,
          4583,
          3316,
          14999,
          4200,
          5042,
          5417,
          6950,
          2698,
          11757,
          2330,
          14866,
          1538,
          10000,
          4860,
          6277,
          2577,
          9166,
          2281,
          3254,
          39999,
          6000,
          9538,
          2980,
          4583,
          1863,
          7933,
          3089,
          4167,
          9323,
          3707,
          4583,
          2439,
          2237,
          8000,
          1820,
          51763,
          3522,
          5708,
          4344,
          3497,
          2045,
          5516,
          3750,
          2333,
          6400,
          1916,
          4600,
          33846,
          3625,
          39147,
          2178,
          2383,
          674,
          9328,
          4885,
          12000,
          6033,
          3858,
          4191,
          3125,
          8333,
          1907,
          3416,
          11000,
          2600,
          4923,
          3992,
          3500,
          3917,
          4408,
          3244,
          3975,
          2479,
          3418,
          10000,
          3430,
          7787,
          5703,
          3173,
          3850,
          150,
          3727,
          5000,
          4283,
          2221,
          4009,
          2971,
          7578,
          6250,
          3250,
          4735,
          6250,
          4758,
          6400,
          2491,
          3716,
          3189,
          8333,
          3155,
          5500,
          5746,
          3463,
          3812,
          3315,
          5819,
          2510,
          2965,
          6250,
          3406,
          6050,
          9703,
          6608,
          2882,
          1809,
          1668,
          3427,
          2583,
          2661,
          16250,
          3083,
          6045,
          5250,
          14683,
          4931,
          6083,
          2060,
          3481,
          7200,
          5166,
          4095,
          4708,
          4333,
          3418,
          2876,
          3237,
          11146,
          2833,
          2620,
          3900,
          2750,
          3993,
          3103,
          14583,
          4100,
          4053,
          3927,
          2301,
          1811,
          20667,
          3158,
          2600,
          3704,
          4124,
          9508,
          3075,
          4400,
          3153,
          5417,
          2383,
          4416,
          6875,
          4666,
          5000,
          2014,
          1800,
          2875,
          5000,
          1625,
          4000,
          2000,
          3762,
          2400,
          20233,
          7667,
          2917,
          2927,
          2507,
          5746,
          2473,
          3399,
          3717,
          2058,
          3541,
          10000,
          2400,
          4342,
          3601,
          3166,
          15000,
          8666,
          4917,
          5818,
          4333,
          2500,
          4384,
          2935,
          2833,
          63337,
          9833,
          5503,
          5250,
          2500,
          1830,
          4160,
          2647,
          2378,
          4554,
          3173,
          2583,
          2499,
          3523,
          3083,
          6333,
          2625,
          9083,
          8750,
          2666,
          5500,
          2423,
          3813,
          8333,
          3875,
          3000,
          5167,
          4723,
          5000,
          4750,
          3013,
          6822,
          6216,
          2500,
          5124,
          6325,
          19730,
          15759,
          5185,
          9323,
          3062,
          2764,
          4817,
          8750,
          4310,
          3069,
          5391,
          3333,
          5941,
          6000,
          7167,
          4566,
          3667,
          2346,
          3010,
          2333,
          5488,
          9167,
          9504,
          2583,
          1993,
          3100,
          3276,
          3180,
          3033,
          3902,
          1500,
          2889,
          2755,
          2500,
          1963,
          7441,
          4547,
          2167,
          2213,
          8300,
          81000,
          3867,
          6256,
          6096,
          2253,
          2149,
          2995,
          2600,
          1600,
          1025,
          3246,
          5829,
          2720,
          1820,
          7250,
          14880,
          2666,
          4606,
          5935,
          2920,
          2717,
          8624,
          6500,
          12876,
          2425,
          3750,
          10047,
          1926,
          2213,
          10416,
          7142,
          3660,
          7901,
          4707,
          37719,
          7333,
          3466,
          4652,
          3539,
          3340,
          2769,
          2309,
          1958,
          3948,
          2483,
          7085,
          3859,
          4301,
          3708,
          4354,
          8334,
          2083,
          7740,
          3015,
          5191,
          4166,
          6000,
          2947,
          16692,
          210,
          4333,
          3450,
          2653,
          4691,
          2500,
          5532,
          16525,
          6700,
          2873,
          16667,
          2947,
          4350,
          3095,
          2083,
          10833,
          8333,
          1958,
          3547,
          18333,
          4583,
          2435,
          2699,
          5333,
          3691,
          17263,
          3597,
          3326,
          2600,
          4625,
          2895,
          6283,
          645,
          3159,
          4865,
          4050,
          3814,
          3510,
          20833,
          3583,
          2479,
          13262,
          3598,
          6065,
          3283,
          2130,
          5815,
          3466,
          2031,
          3074,
          4683,
          3400,
          2192,
          2500,
          5677,
          7948,
          4680,
          17500,
          3775,
          5285,
          2679,
          6783,
          1025,
          4281,
          3588,
          11250,
          18165,
          2550,
          6133,
          3617,
          2917,
          6417,
          4608,
          2138,
          3652,
          2239,
          3017,
          2768,
          3358,
          2526,
          5000,
          2785,
          6633,
          2492,
          3333,
          2454,
          3593,
          5468,
          2667,
          10139,
          3887,
          4180,
          3675,
          19484,
          5923,
          5800,
          8799,
          4467,
          3333,
          3400,
          2378,
          3166,
          3417,
          5116,
          16666,
          6125,
          6406,
          3159,
          3087,
          3229,
          1782,
          3182,
          6540,
          1836,
          3166,
          1880,
          2787,
          4283,
          2297,
          2165,
          4750,
          2726,
          3000,
          6000,
          9357,
          3859,
          16120,
          3833,
          6383,
          2987,
          9963,
          5780,
          416,
          2894,
          5703,
          3676,
          12000,
          2400,
          3400,
          3987,
          3232,
          2900,
          4106,
          8072,
          7583,
          4583
         ],
         "x0": " ",
         "xaxis": "x",
         "y0": " ",
         "yaxis": "y"
        }
       ],
       "layout": {
        "boxmode": "group",
        "legend": {
         "tracegroupgap": 0
        },
        "margin": {
         "t": 60
        },
        "template": {
         "data": {
          "bar": [
           {
            "error_x": {
             "color": "#2a3f5f"
            },
            "error_y": {
             "color": "#2a3f5f"
            },
            "marker": {
             "line": {
              "color": "#E5ECF6",
              "width": 0.5
             },
             "pattern": {
              "fillmode": "overlay",
              "size": 10,
              "solidity": 0.2
             }
            },
            "type": "bar"
           }
          ],
          "barpolar": [
           {
            "marker": {
             "line": {
              "color": "#E5ECF6",
              "width": 0.5
             },
             "pattern": {
              "fillmode": "overlay",
              "size": 10,
              "solidity": 0.2
             }
            },
            "type": "barpolar"
           }
          ],
          "carpet": [
           {
            "aaxis": {
             "endlinecolor": "#2a3f5f",
             "gridcolor": "white",
             "linecolor": "white",
             "minorgridcolor": "white",
             "startlinecolor": "#2a3f5f"
            },
            "baxis": {
             "endlinecolor": "#2a3f5f",
             "gridcolor": "white",
             "linecolor": "white",
             "minorgridcolor": "white",
             "startlinecolor": "#2a3f5f"
            },
            "type": "carpet"
           }
          ],
          "choropleth": [
           {
            "colorbar": {
             "outlinewidth": 0,
             "ticks": ""
            },
            "type": "choropleth"
           }
          ],
          "contour": [
           {
            "colorbar": {
             "outlinewidth": 0,
             "ticks": ""
            },
            "colorscale": [
             [
              0,
              "#0d0887"
             ],
             [
              0.1111111111111111,
              "#46039f"
             ],
             [
              0.2222222222222222,
              "#7201a8"
             ],
             [
              0.3333333333333333,
              "#9c179e"
             ],
             [
              0.4444444444444444,
              "#bd3786"
             ],
             [
              0.5555555555555556,
              "#d8576b"
             ],
             [
              0.6666666666666666,
              "#ed7953"
             ],
             [
              0.7777777777777778,
              "#fb9f3a"
             ],
             [
              0.8888888888888888,
              "#fdca26"
             ],
             [
              1,
              "#f0f921"
             ]
            ],
            "type": "contour"
           }
          ],
          "contourcarpet": [
           {
            "colorbar": {
             "outlinewidth": 0,
             "ticks": ""
            },
            "type": "contourcarpet"
           }
          ],
          "heatmap": [
           {
            "colorbar": {
             "outlinewidth": 0,
             "ticks": ""
            },
            "colorscale": [
             [
              0,
              "#0d0887"
             ],
             [
              0.1111111111111111,
              "#46039f"
             ],
             [
              0.2222222222222222,
              "#7201a8"
             ],
             [
              0.3333333333333333,
              "#9c179e"
             ],
             [
              0.4444444444444444,
              "#bd3786"
             ],
             [
              0.5555555555555556,
              "#d8576b"
             ],
             [
              0.6666666666666666,
              "#ed7953"
             ],
             [
              0.7777777777777778,
              "#fb9f3a"
             ],
             [
              0.8888888888888888,
              "#fdca26"
             ],
             [
              1,
              "#f0f921"
             ]
            ],
            "type": "heatmap"
           }
          ],
          "heatmapgl": [
           {
            "colorbar": {
             "outlinewidth": 0,
             "ticks": ""
            },
            "colorscale": [
             [
              0,
              "#0d0887"
             ],
             [
              0.1111111111111111,
              "#46039f"
             ],
             [
              0.2222222222222222,
              "#7201a8"
             ],
             [
              0.3333333333333333,
              "#9c179e"
             ],
             [
              0.4444444444444444,
              "#bd3786"
             ],
             [
              0.5555555555555556,
              "#d8576b"
             ],
             [
              0.6666666666666666,
              "#ed7953"
             ],
             [
              0.7777777777777778,
              "#fb9f3a"
             ],
             [
              0.8888888888888888,
              "#fdca26"
             ],
             [
              1,
              "#f0f921"
             ]
            ],
            "type": "heatmapgl"
           }
          ],
          "histogram": [
           {
            "marker": {
             "pattern": {
              "fillmode": "overlay",
              "size": 10,
              "solidity": 0.2
             }
            },
            "type": "histogram"
           }
          ],
          "histogram2d": [
           {
            "colorbar": {
             "outlinewidth": 0,
             "ticks": ""
            },
            "colorscale": [
             [
              0,
              "#0d0887"
             ],
             [
              0.1111111111111111,
              "#46039f"
             ],
             [
              0.2222222222222222,
              "#7201a8"
             ],
             [
              0.3333333333333333,
              "#9c179e"
             ],
             [
              0.4444444444444444,
              "#bd3786"
             ],
             [
              0.5555555555555556,
              "#d8576b"
             ],
             [
              0.6666666666666666,
              "#ed7953"
             ],
             [
              0.7777777777777778,
              "#fb9f3a"
             ],
             [
              0.8888888888888888,
              "#fdca26"
             ],
             [
              1,
              "#f0f921"
             ]
            ],
            "type": "histogram2d"
           }
          ],
          "histogram2dcontour": [
           {
            "colorbar": {
             "outlinewidth": 0,
             "ticks": ""
            },
            "colorscale": [
             [
              0,
              "#0d0887"
             ],
             [
              0.1111111111111111,
              "#46039f"
             ],
             [
              0.2222222222222222,
              "#7201a8"
             ],
             [
              0.3333333333333333,
              "#9c179e"
             ],
             [
              0.4444444444444444,
              "#bd3786"
             ],
             [
              0.5555555555555556,
              "#d8576b"
             ],
             [
              0.6666666666666666,
              "#ed7953"
             ],
             [
              0.7777777777777778,
              "#fb9f3a"
             ],
             [
              0.8888888888888888,
              "#fdca26"
             ],
             [
              1,
              "#f0f921"
             ]
            ],
            "type": "histogram2dcontour"
           }
          ],
          "mesh3d": [
           {
            "colorbar": {
             "outlinewidth": 0,
             "ticks": ""
            },
            "type": "mesh3d"
           }
          ],
          "parcoords": [
           {
            "line": {
             "colorbar": {
              "outlinewidth": 0,
              "ticks": ""
             }
            },
            "type": "parcoords"
           }
          ],
          "pie": [
           {
            "automargin": true,
            "type": "pie"
           }
          ],
          "scatter": [
           {
            "fillpattern": {
             "fillmode": "overlay",
             "size": 10,
             "solidity": 0.2
            },
            "type": "scatter"
           }
          ],
          "scatter3d": [
           {
            "line": {
             "colorbar": {
              "outlinewidth": 0,
              "ticks": ""
             }
            },
            "marker": {
             "colorbar": {
              "outlinewidth": 0,
              "ticks": ""
             }
            },
            "type": "scatter3d"
           }
          ],
          "scattercarpet": [
           {
            "marker": {
             "colorbar": {
              "outlinewidth": 0,
              "ticks": ""
             }
            },
            "type": "scattercarpet"
           }
          ],
          "scattergeo": [
           {
            "marker": {
             "colorbar": {
              "outlinewidth": 0,
              "ticks": ""
             }
            },
            "type": "scattergeo"
           }
          ],
          "scattergl": [
           {
            "marker": {
             "colorbar": {
              "outlinewidth": 0,
              "ticks": ""
             }
            },
            "type": "scattergl"
           }
          ],
          "scattermapbox": [
           {
            "marker": {
             "colorbar": {
              "outlinewidth": 0,
              "ticks": ""
             }
            },
            "type": "scattermapbox"
           }
          ],
          "scatterpolar": [
           {
            "marker": {
             "colorbar": {
              "outlinewidth": 0,
              "ticks": ""
             }
            },
            "type": "scatterpolar"
           }
          ],
          "scatterpolargl": [
           {
            "marker": {
             "colorbar": {
              "outlinewidth": 0,
              "ticks": ""
             }
            },
            "type": "scatterpolargl"
           }
          ],
          "scatterternary": [
           {
            "marker": {
             "colorbar": {
              "outlinewidth": 0,
              "ticks": ""
             }
            },
            "type": "scatterternary"
           }
          ],
          "surface": [
           {
            "colorbar": {
             "outlinewidth": 0,
             "ticks": ""
            },
            "colorscale": [
             [
              0,
              "#0d0887"
             ],
             [
              0.1111111111111111,
              "#46039f"
             ],
             [
              0.2222222222222222,
              "#7201a8"
             ],
             [
              0.3333333333333333,
              "#9c179e"
             ],
             [
              0.4444444444444444,
              "#bd3786"
             ],
             [
              0.5555555555555556,
              "#d8576b"
             ],
             [
              0.6666666666666666,
              "#ed7953"
             ],
             [
              0.7777777777777778,
              "#fb9f3a"
             ],
             [
              0.8888888888888888,
              "#fdca26"
             ],
             [
              1,
              "#f0f921"
             ]
            ],
            "type": "surface"
           }
          ],
          "table": [
           {
            "cells": {
             "fill": {
              "color": "#EBF0F8"
             },
             "line": {
              "color": "white"
             }
            },
            "header": {
             "fill": {
              "color": "#C8D4E3"
             },
             "line": {
              "color": "white"
             }
            },
            "type": "table"
           }
          ]
         },
         "layout": {
          "annotationdefaults": {
           "arrowcolor": "#2a3f5f",
           "arrowhead": 0,
           "arrowwidth": 1
          },
          "autotypenumbers": "strict",
          "coloraxis": {
           "colorbar": {
            "outlinewidth": 0,
            "ticks": ""
           }
          },
          "colorscale": {
           "diverging": [
            [
             0,
             "#8e0152"
            ],
            [
             0.1,
             "#c51b7d"
            ],
            [
             0.2,
             "#de77ae"
            ],
            [
             0.3,
             "#f1b6da"
            ],
            [
             0.4,
             "#fde0ef"
            ],
            [
             0.5,
             "#f7f7f7"
            ],
            [
             0.6,
             "#e6f5d0"
            ],
            [
             0.7,
             "#b8e186"
            ],
            [
             0.8,
             "#7fbc41"
            ],
            [
             0.9,
             "#4d9221"
            ],
            [
             1,
             "#276419"
            ]
           ],
           "sequential": [
            [
             0,
             "#0d0887"
            ],
            [
             0.1111111111111111,
             "#46039f"
            ],
            [
             0.2222222222222222,
             "#7201a8"
            ],
            [
             0.3333333333333333,
             "#9c179e"
            ],
            [
             0.4444444444444444,
             "#bd3786"
            ],
            [
             0.5555555555555556,
             "#d8576b"
            ],
            [
             0.6666666666666666,
             "#ed7953"
            ],
            [
             0.7777777777777778,
             "#fb9f3a"
            ],
            [
             0.8888888888888888,
             "#fdca26"
            ],
            [
             1,
             "#f0f921"
            ]
           ],
           "sequentialminus": [
            [
             0,
             "#0d0887"
            ],
            [
             0.1111111111111111,
             "#46039f"
            ],
            [
             0.2222222222222222,
             "#7201a8"
            ],
            [
             0.3333333333333333,
             "#9c179e"
            ],
            [
             0.4444444444444444,
             "#bd3786"
            ],
            [
             0.5555555555555556,
             "#d8576b"
            ],
            [
             0.6666666666666666,
             "#ed7953"
            ],
            [
             0.7777777777777778,
             "#fb9f3a"
            ],
            [
             0.8888888888888888,
             "#fdca26"
            ],
            [
             1,
             "#f0f921"
            ]
           ]
          },
          "colorway": [
           "#636efa",
           "#EF553B",
           "#00cc96",
           "#ab63fa",
           "#FFA15A",
           "#19d3f3",
           "#FF6692",
           "#B6E880",
           "#FF97FF",
           "#FECB52"
          ],
          "font": {
           "color": "#2a3f5f"
          },
          "geo": {
           "bgcolor": "white",
           "lakecolor": "white",
           "landcolor": "#E5ECF6",
           "showlakes": true,
           "showland": true,
           "subunitcolor": "white"
          },
          "hoverlabel": {
           "align": "left"
          },
          "hovermode": "closest",
          "mapbox": {
           "style": "light"
          },
          "paper_bgcolor": "white",
          "plot_bgcolor": "#E5ECF6",
          "polar": {
           "angularaxis": {
            "gridcolor": "white",
            "linecolor": "white",
            "ticks": ""
           },
           "bgcolor": "#E5ECF6",
           "radialaxis": {
            "gridcolor": "white",
            "linecolor": "white",
            "ticks": ""
           }
          },
          "scene": {
           "xaxis": {
            "backgroundcolor": "#E5ECF6",
            "gridcolor": "white",
            "gridwidth": 2,
            "linecolor": "white",
            "showbackground": true,
            "ticks": "",
            "zerolinecolor": "white"
           },
           "yaxis": {
            "backgroundcolor": "#E5ECF6",
            "gridcolor": "white",
            "gridwidth": 2,
            "linecolor": "white",
            "showbackground": true,
            "ticks": "",
            "zerolinecolor": "white"
           },
           "zaxis": {
            "backgroundcolor": "#E5ECF6",
            "gridcolor": "white",
            "gridwidth": 2,
            "linecolor": "white",
            "showbackground": true,
            "ticks": "",
            "zerolinecolor": "white"
           }
          },
          "shapedefaults": {
           "line": {
            "color": "#2a3f5f"
           }
          },
          "ternary": {
           "aaxis": {
            "gridcolor": "white",
            "linecolor": "white",
            "ticks": ""
           },
           "baxis": {
            "gridcolor": "white",
            "linecolor": "white",
            "ticks": ""
           },
           "bgcolor": "#E5ECF6",
           "caxis": {
            "gridcolor": "white",
            "linecolor": "white",
            "ticks": ""
           }
          },
          "title": {
           "x": 0.05
          },
          "xaxis": {
           "automargin": true,
           "gridcolor": "white",
           "linecolor": "white",
           "ticks": "",
           "title": {
            "standoff": 15
           },
           "zerolinecolor": "white",
           "zerolinewidth": 2
          },
          "yaxis": {
           "automargin": true,
           "gridcolor": "white",
           "linecolor": "white",
           "ticks": "",
           "title": {
            "standoff": 15
           },
           "zerolinecolor": "white",
           "zerolinewidth": 2
          }
         }
        },
        "xaxis": {
         "anchor": "y",
         "domain": [
          0,
          1
         ],
         "title": {
          "text": "ApplicantIncome"
         }
        },
        "yaxis": {
         "anchor": "x",
         "domain": [
          0,
          1
         ]
        }
       }
      }
     },
     "metadata": {},
     "output_type": "display_data"
    }
   ],
   "source": [
    "px.box(df, x= \"ApplicantIncome\")"
   ]
  },
  {
   "cell_type": "markdown",
   "id": "82d91afe",
   "metadata": {},
   "source": [
    "## **Taking log for column to handle skewenes & Handle outliers**"
   ]
  },
  {
   "cell_type": "code",
   "execution_count": 24,
   "id": "2f2f2fd1",
   "metadata": {},
   "outputs": [],
   "source": [
    "df[\"log_ApplicantIncome\"] = np.log(df[\"ApplicantIncome\"]) "
   ]
  },
  {
   "cell_type": "code",
   "execution_count": 25,
   "id": "be9465d5",
   "metadata": {},
   "outputs": [
    {
     "data": {
      "application/vnd.plotly.v1+json": {
       "config": {
        "plotlyServerURL": "https://plot.ly"
       },
       "data": [
        {
         "alignmentgroup": "True",
         "bingroup": "x",
         "hovertemplate": "log_ApplicantIncome=%{x}<br>count=%{y}<extra></extra>",
         "legendgroup": "",
         "marker": {
          "color": "#636efa",
          "pattern": {
           "shape": ""
          }
         },
         "name": "",
         "offsetgroup": "",
         "orientation": "v",
         "showlegend": false,
         "type": "histogram",
         "x": [
          8.674025985443025,
          8.430109084509125,
          8.006367567650246,
          7.8567067930958405,
          8.699514748210191,
          8.597297435657898,
          7.75491027202143,
          8.01829613851552,
          8.295548516225763,
          9.460398455831275,
          8.070906088787819,
          7.824046010856292,
          8.030409562130485,
          7.52456122628536,
          7.1693500166706,
          8.507142855562735,
          8.18757739559151,
          8.163371316459912,
          8.494333897270154,
          7.8632667240095735,
          8.943767262734637,
          8.691986481789401,
          7.8632667240095735,
          8.121183242078828,
          8.220672170297252,
          9.165343006045447,
          7.937017489515454,
          8.349011198176003,
          7.273786317844895,
          8.229511118964457,
          8.334711621820917,
          8.06054004653864,
          8.453614209773367,
          8.160518247477505,
          9.433483923290392,
          7.729735331385051,
          7.510977752014095,
          8.207129168071326,
          8.334711621820917,
          8.228977643358313,
          8.1886891244442,
          7.495541943884256,
          7.783224016336037,
          8.279189777195004,
          8.454253391642363,
          8.134467570277563,
          8.639233817325263,
          8.669227347271736,
          7.8804263442924,
          8.294049640102028,
          7.564238475170491,
          8.034631032923107,
          8.349957272040324,
          8.437283808187935,
          9.350102314351341,
          7.903965634032166,
          7.664815785285735,
          8.121480374750751,
          8.997147151515142,
          8.118802996980035,
          7.824046010856292,
          8.015987811027237,
          7.866722285136729,
          8.506132244056813,
          8.334711621820917,
          8.65277248565806,
          8.070906088787819,
          9.28266103355581,
          8.867850063029406,
          8.366370301681654,
          8.073402968986406,
          7.536363938404511,
          8.160518247477505,
          8.46695197497949,
          8.569026340056254,
          8.229511118964457,
          8.229511118964457,
          6.907755278982137,
          8.06054004653864,
          8.11162807830774,
          8.254788926148725,
          7.781138509845015,
          7.228388451573604,
          8.699514748210191,
          8.291045131081729,
          7.768956044538332,
          8.11162807830774,
          7.824046010856292,
          9.055556158175316,
          8.647343875881283,
          7.992268643270745,
          8.740336742730447,
          8.09346227450118,
          8.326758814511733,
          8.194229304819817,
          8.822027322685583,
          7.81762544305337,
          7.589335823170617,
          8.339978571990427,
          7.472500744737558,
          8.363575702750637,
          8.48528964240323,
          9.521494800613105,
          8.445052513638554,
          8.246958032568177,
          8.023552392404348,
          9.342858751676328,
          8.9001399880938,
          8.242756345714477,
          7.635786861395585,
          8.578476419833136,
          7.982416346827733,
          8.18088094199639,
          8.916103530553727,
          8.527143522269405,
          9.587611745713565,
          8.06054004653864,
          7.7025561132685825,
          8.624791202014256,
          9.250330020192342,
          8.64241515616962,
          8.334711621820917,
          7.667158255319148,
          7.9919305198524775,
          8.366370301681654,
          8.213923595622743,
          10.077566902136047,
          8.259716961021523,
          9.26036786557583,
          8.712759974960212,
          9.91175329695316,
          7.607878073278507,
          7.907651594711089,
          8.148734808937169,
          8.49596955496461,
          8.294049640102028,
          8.430109084509125,
          8.106514516255185,
          9.61573881119536,
          8.34283980427146,
          8.525558107747866,
          8.597297435657898,
          8.846496938558838,
          7.900266036767701,
          9.372204086867741,
          7.753623546559746,
          9.60683200528524,
          7.338238150065589,
          9.210340371976184,
          8.48879371689454,
          8.744647438317532,
          7.854381210652365,
          9.123256265069069,
          7.732369222284388,
          8.087640287778983,
          10.596609732783568,
          8.699514748210191,
          9.16303909885817,
          7.9996785794994505,
          8.430109084509125,
          7.529943370601589,
          8.978786553302003,
          8.035602692918582,
          8.334951631422454,
          9.140239744296693,
          8.217978203150732,
          8.430109084509125,
          7.79934339821592,
          7.71289096149013,
          8.987196820661973,
          7.506591780070841,
          10.854430887309706,
          8.166784289056151,
          8.649623978596727,
          8.37655086161377,
          8.159660737063376,
          7.623153068476902,
          8.615408238913192,
          8.229511118964457,
          7.75491027202143,
          8.764053269347762,
          7.557994958530806,
          8.433811582477187,
          10.429576102968031,
          8.195609567288775,
          10.575079070130357,
          7.686162303492906,
          7.776115477098742,
          6.513230110912307,
          9.140775908590273,
          8.493924564476883,
          9.392661928770137,
          8.704999678440762,
          8.257904193465674,
          8.340694647925071,
          8.047189562170502,
          9.027978814382207,
          7.553286605600419,
          8.13622555490846,
          9.305650551780507,
          7.8632667240095735,
          8.5016733797582,
          8.292047637431354,
          8.160518247477505,
          8.27308133366583,
          8.391176350832751,
          8.084562415235304,
          8.287780027088433,
          7.8156105320351905,
          8.136810863675537,
          9.210340371976184,
          8.140315540159985,
          8.960210955576986,
          8.648747631156539,
          8.062432791583195,
          8.25582842728183,
          5.0106352940962555,
          8.223358899479258,
          8.517193191416238,
          8.36240897761537,
          7.7057128238944275,
          8.296297112642508,
          7.9966538754626075,
          8.933004591578547,
          8.740336742730447,
          8.086410275323782,
          8.462737005620179,
          8.740336742730447,
          8.467582690862903,
          8.764053269347762,
          7.820439515262181,
          8.22040309993373,
          8.067462667010057,
          9.027978814382207,
          8.056743774975313,
          8.612503371220562,
          8.656259239539235,
          8.149890544402423,
          8.245909264774093,
          8.106212902619962,
          8.66888370465667,
          7.828038032125829,
          7.994632311431825,
          8.740336742730447,
          8.133293861222633,
          8.707813551024888,
          9.1801903950253,
          8.796036315200814,
          7.966239776559467,
          7.500529485395295,
          7.419380582918692,
          8.139440521874608,
          7.8567067930958405,
          7.886457270977689,
          9.695848187757884,
          8.03365842788615,
          8.706986763048892,
          8.565983355585669,
          9.594445640962938,
          8.503297086224126,
          8.713253274320705,
          7.630461261783627,
          8.15507488781144,
          8.881836305004146,
          8.549853973655786,
          8.31752199628717,
          8.457018468380168,
          8.374015421739909,
          8.136810863675537,
          7.964155718840937,
          8.082402253926244,
          9.318835968129482,
          7.949091499830517,
          7.8709295967551425,
          8.268731832117737,
          7.919356190660617,
          8.292298107063221,
          8.04012466444838,
          9.587611745713565,
          8.318742252692399,
          8.307212626628308,
          8.27563105457801,
          7.741099090035366,
          7.501634457883413,
          9.936293504261306,
          8.057694194815587,
          7.8632667240095735,
          8.21716859576607,
          8.32457884513685,
          9.159888828480085,
          8.031060180240619,
          8.389359819906353,
          8.056109659545061,
          8.597297435657898,
          7.776115477098742,
          8.392989587956931,
          8.835646922534773,
          8.448057452581375,
          8.517193191416238,
          7.607878073278507,
          7.495541943884256,
          7.963807953231451,
          8.517193191416238,
          7.393263094763838,
          8.294049640102028,
          7.600902459542082,
          8.232706009860976,
          7.783224016336037,
          9.915070213779195,
          8.944680683558895,
          7.978310969867722,
          7.9817332866918855,
          7.826842098158293,
          8.656259239539235,
          7.813187267521416,
          8.131236549696116,
          8.220672170297252,
          7.629489916393995,
          8.172164452111904,
          9.210340371976184,
          7.783224016336037,
          8.376090350438238,
          8.188966863648876,
          8.060224240440958,
          9.615805480084347,
          9.067162602299854,
          8.50045386741194,
          8.668711839055147,
          8.374015421739909,
          7.824046010856292,
          8.385716828627851,
          7.984462732262196,
          7.949091499830517,
          11.05622495553552,
          9.193499354780156,
          8.613048677059759,
          8.565983355585669,
          7.824046010856292,
          7.512071245835466,
          8.333270353255308,
          7.881182202227102,
          7.774015077250727,
          8.423761246623686,
          8.062432791583195,
          7.8567067930958405,
          7.823645930834952,
          8.167068178341237,
          8.03365842788615,
          8.753529336516431,
          7.872836175025724,
          9.114159813502214,
          9.07680897935166,
          7.888334500738654,
          8.612503371220562,
          7.792761720816526,
          8.246171559857563,
          9.027978814382207,
          8.262300941787448,
          8.006367567650246,
          8.550047528287184,
          8.460199469896118,
          8.517193191416238,
          8.465899897028686,
          8.0106915391303,
          8.82790796297859,
          8.734881892047483,
          7.824046010856292,
          8.541690663016626,
          8.752265313595721,
          9.889895599016661,
          9.665166909622071,
          8.553525120663627,
          9.140239744296693,
          8.026823576217629,
          7.92443418488756,
          8.479906606630221,
          9.07680897935166,
          8.368693183097793,
          8.029107054619736,
          8.592486175451668,
          8.11162807830774,
          8.689632748355741,
          8.699514748210191,
          8.877242435993919,
          8.42639282708974,
          8.207129168071326,
          7.76046702921342,
          8.009695357742922,
          7.75491027202143,
          8.610319169405722,
          9.123365357961776,
          9.159468041602427,
          7.8567067930958405,
          7.597396320212795,
          8.039157390473237,
          8.09437844497296,
          8.064636475774222,
          8.017307507688582,
          8.269244521183056,
          7.313220387090301,
          7.968665700466235,
          7.9211727215870145,
          7.824046010856292,
          7.5822291942764615,
          8.914760527397261,
          8.42222295382501,
          7.681099001536359,
          7.70210434005105,
          9.02401079378469,
          11.302204433654575,
          8.260234291607297,
          8.741296282225147,
          8.715388097366482,
          7.720017940432244,
          7.67275789664251,
          8.00469951054955,
          7.8632667240095735,
          7.3777589082278725,
          6.932447891572509,
          8.085178748074537,
          8.67060073804555,
          7.908387159290043,
          7.506591780070841,
          8.88875674784872,
          9.607773308387083,
          7.888334500738654,
          8.43511508038063,
          8.688622307043769,
          7.979338895262328,
          7.907283609426348,
          9.06230429314878,
          8.779557455883728,
          9.463120392418698,
          7.793586803371584,
          8.229511118964457,
          9.215029361462314,
          7.563200592358071,
          7.70210434005105,
          9.251098364448351,
          8.873748128154395,
          8.205218426395412,
          8.974744612722734,
          8.456806041401142,
          10.537919225261291,
          8.9001399880938,
          8.150756470275551,
          8.445052513638554,
          8.171599480345463,
          8.113726085970747,
          7.926241523170962,
          7.744569809354496,
          7.579678823090456,
          8.280964400553373,
          7.817222785508166,
          8.865735152124781,
          8.258163361537619,
          8.366602832783736,
          8.218247926685745,
          8.378850241794492,
          9.0280988119824,
          7.641564441260972,
          8.954156966583772,
          8.011355109161286,
          8.55468163582723,
          8.334711621820917,
          8.699514748210191,
          7.988542982737695,
          9.722684841711443,
          5.3471075307174685,
          8.374015421739909,
          8.146129510025405,
          7.88344635413774,
          8.453401058328458,
          7.824046010856292,
          8.61830469278465,
          9.712629664719888,
          8.809862805379057,
          7.96311205897929,
          9.721185995542177,
          7.988542982737695,
          8.37793112408273,
          8.037543185118697,
          7.641564441260972,
          9.290352309945568,
          9.027978814382207,
          7.579678823090456,
          8.173857454773621,
          9.816457993563025,
          8.430109084509125,
          7.79770203551669,
          7.900636613018005,
          8.581669210600602,
          8.213652703029998,
          9.756320761816548,
          8.187855443695623,
          8.109525659752872,
          7.8632667240095735,
          8.439231649946526,
          7.970740390007095,
          8.745602852402946,
          6.4692503167957724,
          8.058010800802085,
          8.489821994620105,
          8.306472160100585,
          8.246433786160365,
          8.163371316459912,
          9.944293546928382,
          8.183955717304954,
          7.8156105320351905,
          9.492658081928813,
          8.188133414510478,
          8.71028982137815,
          8.096512917501594,
          7.6638772587034705,
          8.668196064952765,
          8.150756470275551,
          7.616283561580385,
          8.03073492409854,
          8.451694209183541,
          8.131530710604252,
          7.692569648067906,
          7.824046010856292,
          8.644178203170727,
          8.980675603671708,
          8.451053388911692,
          9.769956159911606,
          8.236155661683124,
          8.572627898304338,
          7.893198869544609,
          8.82217476094608,
          6.932447891572509,
          8.361941906144946,
          8.185350223178686,
          9.328123407632566,
          9.807251944655302,
          7.843848638152472,
          8.721439305625983,
          8.193400231952097,
          7.978310969867722,
          8.766705997750515,
          8.435549202375727,
          7.6676260915849905,
          8.20303024171486,
          7.713784616598755,
          8.012018239159062,
          7.92588031673756,
          8.119100837637486,
          7.8343923029104365,
          8.517193191416238,
          7.932003152361385,
          8.799812469525556,
          7.820840879907344,
          8.11162807830774,
          7.805474625270857,
          8.186742787113518,
          8.60666819784384,
          7.888709524182015,
          9.22414465295258,
          8.265392930852224,
          8.338066525518801,
          8.209308411646937,
          9.877348894926433,
          8.686598356276965,
          8.66561319653451,
          9.08239335764556,
          8.404472321352118,
          8.11162807830774,
          8.131530710604252,
          7.774015077250727,
          8.060224240440958,
          8.136518252115291,
          8.540128162698734,
          9.721125994942152,
          8.720134035412928,
          8.764990330169104,
          8.058010800802085,
          8.034955024502159,
          8.079927770758275,
          7.485491608030754,
          8.065265208897733,
          8.785692444451245,
          7.515344571180436,
          8.060224240440958,
          7.539027055823995,
          7.932721027481948,
          8.36240897761537,
          7.739359202689098,
          7.68017564043659,
          8.465899897028686,
          7.9105906122564775,
          8.006367567650246,
          8.699514748210191,
          9.143880005275912,
          8.258163361537619,
          9.68781601606062,
          8.251403065380556,
          8.761393485256058,
          8.00202481821611,
          9.206633510044856,
          8.662158961666423,
          6.030685260261263,
          7.970394907191429,
          8.648747631156539,
          8.209580483475577,
          9.392661928770137,
          7.783224016336037,
          8.131530710604252,
          8.290794347381356,
          8.080856419640986,
          7.9724660159745655,
          8.32020459757888,
          8.996156562033445,
          8.933664178700935,
          8.430109084509125
         ],
         "xaxis": "x",
         "yaxis": "y"
        }
       ],
       "layout": {
        "barmode": "relative",
        "legend": {
         "tracegroupgap": 0
        },
        "margin": {
         "t": 60
        },
        "template": {
         "data": {
          "bar": [
           {
            "error_x": {
             "color": "#2a3f5f"
            },
            "error_y": {
             "color": "#2a3f5f"
            },
            "marker": {
             "line": {
              "color": "#E5ECF6",
              "width": 0.5
             },
             "pattern": {
              "fillmode": "overlay",
              "size": 10,
              "solidity": 0.2
             }
            },
            "type": "bar"
           }
          ],
          "barpolar": [
           {
            "marker": {
             "line": {
              "color": "#E5ECF6",
              "width": 0.5
             },
             "pattern": {
              "fillmode": "overlay",
              "size": 10,
              "solidity": 0.2
             }
            },
            "type": "barpolar"
           }
          ],
          "carpet": [
           {
            "aaxis": {
             "endlinecolor": "#2a3f5f",
             "gridcolor": "white",
             "linecolor": "white",
             "minorgridcolor": "white",
             "startlinecolor": "#2a3f5f"
            },
            "baxis": {
             "endlinecolor": "#2a3f5f",
             "gridcolor": "white",
             "linecolor": "white",
             "minorgridcolor": "white",
             "startlinecolor": "#2a3f5f"
            },
            "type": "carpet"
           }
          ],
          "choropleth": [
           {
            "colorbar": {
             "outlinewidth": 0,
             "ticks": ""
            },
            "type": "choropleth"
           }
          ],
          "contour": [
           {
            "colorbar": {
             "outlinewidth": 0,
             "ticks": ""
            },
            "colorscale": [
             [
              0,
              "#0d0887"
             ],
             [
              0.1111111111111111,
              "#46039f"
             ],
             [
              0.2222222222222222,
              "#7201a8"
             ],
             [
              0.3333333333333333,
              "#9c179e"
             ],
             [
              0.4444444444444444,
              "#bd3786"
             ],
             [
              0.5555555555555556,
              "#d8576b"
             ],
             [
              0.6666666666666666,
              "#ed7953"
             ],
             [
              0.7777777777777778,
              "#fb9f3a"
             ],
             [
              0.8888888888888888,
              "#fdca26"
             ],
             [
              1,
              "#f0f921"
             ]
            ],
            "type": "contour"
           }
          ],
          "contourcarpet": [
           {
            "colorbar": {
             "outlinewidth": 0,
             "ticks": ""
            },
            "type": "contourcarpet"
           }
          ],
          "heatmap": [
           {
            "colorbar": {
             "outlinewidth": 0,
             "ticks": ""
            },
            "colorscale": [
             [
              0,
              "#0d0887"
             ],
             [
              0.1111111111111111,
              "#46039f"
             ],
             [
              0.2222222222222222,
              "#7201a8"
             ],
             [
              0.3333333333333333,
              "#9c179e"
             ],
             [
              0.4444444444444444,
              "#bd3786"
             ],
             [
              0.5555555555555556,
              "#d8576b"
             ],
             [
              0.6666666666666666,
              "#ed7953"
             ],
             [
              0.7777777777777778,
              "#fb9f3a"
             ],
             [
              0.8888888888888888,
              "#fdca26"
             ],
             [
              1,
              "#f0f921"
             ]
            ],
            "type": "heatmap"
           }
          ],
          "heatmapgl": [
           {
            "colorbar": {
             "outlinewidth": 0,
             "ticks": ""
            },
            "colorscale": [
             [
              0,
              "#0d0887"
             ],
             [
              0.1111111111111111,
              "#46039f"
             ],
             [
              0.2222222222222222,
              "#7201a8"
             ],
             [
              0.3333333333333333,
              "#9c179e"
             ],
             [
              0.4444444444444444,
              "#bd3786"
             ],
             [
              0.5555555555555556,
              "#d8576b"
             ],
             [
              0.6666666666666666,
              "#ed7953"
             ],
             [
              0.7777777777777778,
              "#fb9f3a"
             ],
             [
              0.8888888888888888,
              "#fdca26"
             ],
             [
              1,
              "#f0f921"
             ]
            ],
            "type": "heatmapgl"
           }
          ],
          "histogram": [
           {
            "marker": {
             "pattern": {
              "fillmode": "overlay",
              "size": 10,
              "solidity": 0.2
             }
            },
            "type": "histogram"
           }
          ],
          "histogram2d": [
           {
            "colorbar": {
             "outlinewidth": 0,
             "ticks": ""
            },
            "colorscale": [
             [
              0,
              "#0d0887"
             ],
             [
              0.1111111111111111,
              "#46039f"
             ],
             [
              0.2222222222222222,
              "#7201a8"
             ],
             [
              0.3333333333333333,
              "#9c179e"
             ],
             [
              0.4444444444444444,
              "#bd3786"
             ],
             [
              0.5555555555555556,
              "#d8576b"
             ],
             [
              0.6666666666666666,
              "#ed7953"
             ],
             [
              0.7777777777777778,
              "#fb9f3a"
             ],
             [
              0.8888888888888888,
              "#fdca26"
             ],
             [
              1,
              "#f0f921"
             ]
            ],
            "type": "histogram2d"
           }
          ],
          "histogram2dcontour": [
           {
            "colorbar": {
             "outlinewidth": 0,
             "ticks": ""
            },
            "colorscale": [
             [
              0,
              "#0d0887"
             ],
             [
              0.1111111111111111,
              "#46039f"
             ],
             [
              0.2222222222222222,
              "#7201a8"
             ],
             [
              0.3333333333333333,
              "#9c179e"
             ],
             [
              0.4444444444444444,
              "#bd3786"
             ],
             [
              0.5555555555555556,
              "#d8576b"
             ],
             [
              0.6666666666666666,
              "#ed7953"
             ],
             [
              0.7777777777777778,
              "#fb9f3a"
             ],
             [
              0.8888888888888888,
              "#fdca26"
             ],
             [
              1,
              "#f0f921"
             ]
            ],
            "type": "histogram2dcontour"
           }
          ],
          "mesh3d": [
           {
            "colorbar": {
             "outlinewidth": 0,
             "ticks": ""
            },
            "type": "mesh3d"
           }
          ],
          "parcoords": [
           {
            "line": {
             "colorbar": {
              "outlinewidth": 0,
              "ticks": ""
             }
            },
            "type": "parcoords"
           }
          ],
          "pie": [
           {
            "automargin": true,
            "type": "pie"
           }
          ],
          "scatter": [
           {
            "fillpattern": {
             "fillmode": "overlay",
             "size": 10,
             "solidity": 0.2
            },
            "type": "scatter"
           }
          ],
          "scatter3d": [
           {
            "line": {
             "colorbar": {
              "outlinewidth": 0,
              "ticks": ""
             }
            },
            "marker": {
             "colorbar": {
              "outlinewidth": 0,
              "ticks": ""
             }
            },
            "type": "scatter3d"
           }
          ],
          "scattercarpet": [
           {
            "marker": {
             "colorbar": {
              "outlinewidth": 0,
              "ticks": ""
             }
            },
            "type": "scattercarpet"
           }
          ],
          "scattergeo": [
           {
            "marker": {
             "colorbar": {
              "outlinewidth": 0,
              "ticks": ""
             }
            },
            "type": "scattergeo"
           }
          ],
          "scattergl": [
           {
            "marker": {
             "colorbar": {
              "outlinewidth": 0,
              "ticks": ""
             }
            },
            "type": "scattergl"
           }
          ],
          "scattermapbox": [
           {
            "marker": {
             "colorbar": {
              "outlinewidth": 0,
              "ticks": ""
             }
            },
            "type": "scattermapbox"
           }
          ],
          "scatterpolar": [
           {
            "marker": {
             "colorbar": {
              "outlinewidth": 0,
              "ticks": ""
             }
            },
            "type": "scatterpolar"
           }
          ],
          "scatterpolargl": [
           {
            "marker": {
             "colorbar": {
              "outlinewidth": 0,
              "ticks": ""
             }
            },
            "type": "scatterpolargl"
           }
          ],
          "scatterternary": [
           {
            "marker": {
             "colorbar": {
              "outlinewidth": 0,
              "ticks": ""
             }
            },
            "type": "scatterternary"
           }
          ],
          "surface": [
           {
            "colorbar": {
             "outlinewidth": 0,
             "ticks": ""
            },
            "colorscale": [
             [
              0,
              "#0d0887"
             ],
             [
              0.1111111111111111,
              "#46039f"
             ],
             [
              0.2222222222222222,
              "#7201a8"
             ],
             [
              0.3333333333333333,
              "#9c179e"
             ],
             [
              0.4444444444444444,
              "#bd3786"
             ],
             [
              0.5555555555555556,
              "#d8576b"
             ],
             [
              0.6666666666666666,
              "#ed7953"
             ],
             [
              0.7777777777777778,
              "#fb9f3a"
             ],
             [
              0.8888888888888888,
              "#fdca26"
             ],
             [
              1,
              "#f0f921"
             ]
            ],
            "type": "surface"
           }
          ],
          "table": [
           {
            "cells": {
             "fill": {
              "color": "#EBF0F8"
             },
             "line": {
              "color": "white"
             }
            },
            "header": {
             "fill": {
              "color": "#C8D4E3"
             },
             "line": {
              "color": "white"
             }
            },
            "type": "table"
           }
          ]
         },
         "layout": {
          "annotationdefaults": {
           "arrowcolor": "#2a3f5f",
           "arrowhead": 0,
           "arrowwidth": 1
          },
          "autotypenumbers": "strict",
          "coloraxis": {
           "colorbar": {
            "outlinewidth": 0,
            "ticks": ""
           }
          },
          "colorscale": {
           "diverging": [
            [
             0,
             "#8e0152"
            ],
            [
             0.1,
             "#c51b7d"
            ],
            [
             0.2,
             "#de77ae"
            ],
            [
             0.3,
             "#f1b6da"
            ],
            [
             0.4,
             "#fde0ef"
            ],
            [
             0.5,
             "#f7f7f7"
            ],
            [
             0.6,
             "#e6f5d0"
            ],
            [
             0.7,
             "#b8e186"
            ],
            [
             0.8,
             "#7fbc41"
            ],
            [
             0.9,
             "#4d9221"
            ],
            [
             1,
             "#276419"
            ]
           ],
           "sequential": [
            [
             0,
             "#0d0887"
            ],
            [
             0.1111111111111111,
             "#46039f"
            ],
            [
             0.2222222222222222,
             "#7201a8"
            ],
            [
             0.3333333333333333,
             "#9c179e"
            ],
            [
             0.4444444444444444,
             "#bd3786"
            ],
            [
             0.5555555555555556,
             "#d8576b"
            ],
            [
             0.6666666666666666,
             "#ed7953"
            ],
            [
             0.7777777777777778,
             "#fb9f3a"
            ],
            [
             0.8888888888888888,
             "#fdca26"
            ],
            [
             1,
             "#f0f921"
            ]
           ],
           "sequentialminus": [
            [
             0,
             "#0d0887"
            ],
            [
             0.1111111111111111,
             "#46039f"
            ],
            [
             0.2222222222222222,
             "#7201a8"
            ],
            [
             0.3333333333333333,
             "#9c179e"
            ],
            [
             0.4444444444444444,
             "#bd3786"
            ],
            [
             0.5555555555555556,
             "#d8576b"
            ],
            [
             0.6666666666666666,
             "#ed7953"
            ],
            [
             0.7777777777777778,
             "#fb9f3a"
            ],
            [
             0.8888888888888888,
             "#fdca26"
            ],
            [
             1,
             "#f0f921"
            ]
           ]
          },
          "colorway": [
           "#636efa",
           "#EF553B",
           "#00cc96",
           "#ab63fa",
           "#FFA15A",
           "#19d3f3",
           "#FF6692",
           "#B6E880",
           "#FF97FF",
           "#FECB52"
          ],
          "font": {
           "color": "#2a3f5f"
          },
          "geo": {
           "bgcolor": "white",
           "lakecolor": "white",
           "landcolor": "#E5ECF6",
           "showlakes": true,
           "showland": true,
           "subunitcolor": "white"
          },
          "hoverlabel": {
           "align": "left"
          },
          "hovermode": "closest",
          "mapbox": {
           "style": "light"
          },
          "paper_bgcolor": "white",
          "plot_bgcolor": "#E5ECF6",
          "polar": {
           "angularaxis": {
            "gridcolor": "white",
            "linecolor": "white",
            "ticks": ""
           },
           "bgcolor": "#E5ECF6",
           "radialaxis": {
            "gridcolor": "white",
            "linecolor": "white",
            "ticks": ""
           }
          },
          "scene": {
           "xaxis": {
            "backgroundcolor": "#E5ECF6",
            "gridcolor": "white",
            "gridwidth": 2,
            "linecolor": "white",
            "showbackground": true,
            "ticks": "",
            "zerolinecolor": "white"
           },
           "yaxis": {
            "backgroundcolor": "#E5ECF6",
            "gridcolor": "white",
            "gridwidth": 2,
            "linecolor": "white",
            "showbackground": true,
            "ticks": "",
            "zerolinecolor": "white"
           },
           "zaxis": {
            "backgroundcolor": "#E5ECF6",
            "gridcolor": "white",
            "gridwidth": 2,
            "linecolor": "white",
            "showbackground": true,
            "ticks": "",
            "zerolinecolor": "white"
           }
          },
          "shapedefaults": {
           "line": {
            "color": "#2a3f5f"
           }
          },
          "ternary": {
           "aaxis": {
            "gridcolor": "white",
            "linecolor": "white",
            "ticks": ""
           },
           "baxis": {
            "gridcolor": "white",
            "linecolor": "white",
            "ticks": ""
           },
           "bgcolor": "#E5ECF6",
           "caxis": {
            "gridcolor": "white",
            "linecolor": "white",
            "ticks": ""
           }
          },
          "title": {
           "x": 0.05
          },
          "xaxis": {
           "automargin": true,
           "gridcolor": "white",
           "linecolor": "white",
           "ticks": "",
           "title": {
            "standoff": 15
           },
           "zerolinecolor": "white",
           "zerolinewidth": 2
          },
          "yaxis": {
           "automargin": true,
           "gridcolor": "white",
           "linecolor": "white",
           "ticks": "",
           "title": {
            "standoff": 15
           },
           "zerolinecolor": "white",
           "zerolinewidth": 2
          }
         }
        },
        "xaxis": {
         "anchor": "y",
         "domain": [
          0,
          1
         ],
         "title": {
          "text": "log_ApplicantIncome"
         }
        },
        "yaxis": {
         "anchor": "x",
         "domain": [
          0,
          1
         ],
         "title": {
          "text": "count"
         }
        }
       }
      }
     },
     "metadata": {},
     "output_type": "display_data"
    }
   ],
   "source": [
    "px.histogram(df, x= \"log_ApplicantIncome\")"
   ]
  },
  {
   "cell_type": "code",
   "execution_count": 26,
   "id": "6481411e",
   "metadata": {},
   "outputs": [
    {
     "data": {
      "application/vnd.plotly.v1+json": {
       "config": {
        "plotlyServerURL": "https://plot.ly"
       },
       "data": [
        {
         "alignmentgroup": "True",
         "hovertemplate": "log_ApplicantIncome=%{x}<extra></extra>",
         "legendgroup": "",
         "marker": {
          "color": "#636efa"
         },
         "name": "",
         "notched": false,
         "offsetgroup": "",
         "orientation": "h",
         "showlegend": false,
         "type": "box",
         "x": [
          8.674025985443025,
          8.430109084509125,
          8.006367567650246,
          7.8567067930958405,
          8.699514748210191,
          8.597297435657898,
          7.75491027202143,
          8.01829613851552,
          8.295548516225763,
          9.460398455831275,
          8.070906088787819,
          7.824046010856292,
          8.030409562130485,
          7.52456122628536,
          7.1693500166706,
          8.507142855562735,
          8.18757739559151,
          8.163371316459912,
          8.494333897270154,
          7.8632667240095735,
          8.943767262734637,
          8.691986481789401,
          7.8632667240095735,
          8.121183242078828,
          8.220672170297252,
          9.165343006045447,
          7.937017489515454,
          8.349011198176003,
          7.273786317844895,
          8.229511118964457,
          8.334711621820917,
          8.06054004653864,
          8.453614209773367,
          8.160518247477505,
          9.433483923290392,
          7.729735331385051,
          7.510977752014095,
          8.207129168071326,
          8.334711621820917,
          8.228977643358313,
          8.1886891244442,
          7.495541943884256,
          7.783224016336037,
          8.279189777195004,
          8.454253391642363,
          8.134467570277563,
          8.639233817325263,
          8.669227347271736,
          7.8804263442924,
          8.294049640102028,
          7.564238475170491,
          8.034631032923107,
          8.349957272040324,
          8.437283808187935,
          9.350102314351341,
          7.903965634032166,
          7.664815785285735,
          8.121480374750751,
          8.997147151515142,
          8.118802996980035,
          7.824046010856292,
          8.015987811027237,
          7.866722285136729,
          8.506132244056813,
          8.334711621820917,
          8.65277248565806,
          8.070906088787819,
          9.28266103355581,
          8.867850063029406,
          8.366370301681654,
          8.073402968986406,
          7.536363938404511,
          8.160518247477505,
          8.46695197497949,
          8.569026340056254,
          8.229511118964457,
          8.229511118964457,
          6.907755278982137,
          8.06054004653864,
          8.11162807830774,
          8.254788926148725,
          7.781138509845015,
          7.228388451573604,
          8.699514748210191,
          8.291045131081729,
          7.768956044538332,
          8.11162807830774,
          7.824046010856292,
          9.055556158175316,
          8.647343875881283,
          7.992268643270745,
          8.740336742730447,
          8.09346227450118,
          8.326758814511733,
          8.194229304819817,
          8.822027322685583,
          7.81762544305337,
          7.589335823170617,
          8.339978571990427,
          7.472500744737558,
          8.363575702750637,
          8.48528964240323,
          9.521494800613105,
          8.445052513638554,
          8.246958032568177,
          8.023552392404348,
          9.342858751676328,
          8.9001399880938,
          8.242756345714477,
          7.635786861395585,
          8.578476419833136,
          7.982416346827733,
          8.18088094199639,
          8.916103530553727,
          8.527143522269405,
          9.587611745713565,
          8.06054004653864,
          7.7025561132685825,
          8.624791202014256,
          9.250330020192342,
          8.64241515616962,
          8.334711621820917,
          7.667158255319148,
          7.9919305198524775,
          8.366370301681654,
          8.213923595622743,
          10.077566902136047,
          8.259716961021523,
          9.26036786557583,
          8.712759974960212,
          9.91175329695316,
          7.607878073278507,
          7.907651594711089,
          8.148734808937169,
          8.49596955496461,
          8.294049640102028,
          8.430109084509125,
          8.106514516255185,
          9.61573881119536,
          8.34283980427146,
          8.525558107747866,
          8.597297435657898,
          8.846496938558838,
          7.900266036767701,
          9.372204086867741,
          7.753623546559746,
          9.60683200528524,
          7.338238150065589,
          9.210340371976184,
          8.48879371689454,
          8.744647438317532,
          7.854381210652365,
          9.123256265069069,
          7.732369222284388,
          8.087640287778983,
          10.596609732783568,
          8.699514748210191,
          9.16303909885817,
          7.9996785794994505,
          8.430109084509125,
          7.529943370601589,
          8.978786553302003,
          8.035602692918582,
          8.334951631422454,
          9.140239744296693,
          8.217978203150732,
          8.430109084509125,
          7.79934339821592,
          7.71289096149013,
          8.987196820661973,
          7.506591780070841,
          10.854430887309706,
          8.166784289056151,
          8.649623978596727,
          8.37655086161377,
          8.159660737063376,
          7.623153068476902,
          8.615408238913192,
          8.229511118964457,
          7.75491027202143,
          8.764053269347762,
          7.557994958530806,
          8.433811582477187,
          10.429576102968031,
          8.195609567288775,
          10.575079070130357,
          7.686162303492906,
          7.776115477098742,
          6.513230110912307,
          9.140775908590273,
          8.493924564476883,
          9.392661928770137,
          8.704999678440762,
          8.257904193465674,
          8.340694647925071,
          8.047189562170502,
          9.027978814382207,
          7.553286605600419,
          8.13622555490846,
          9.305650551780507,
          7.8632667240095735,
          8.5016733797582,
          8.292047637431354,
          8.160518247477505,
          8.27308133366583,
          8.391176350832751,
          8.084562415235304,
          8.287780027088433,
          7.8156105320351905,
          8.136810863675537,
          9.210340371976184,
          8.140315540159985,
          8.960210955576986,
          8.648747631156539,
          8.062432791583195,
          8.25582842728183,
          5.0106352940962555,
          8.223358899479258,
          8.517193191416238,
          8.36240897761537,
          7.7057128238944275,
          8.296297112642508,
          7.9966538754626075,
          8.933004591578547,
          8.740336742730447,
          8.086410275323782,
          8.462737005620179,
          8.740336742730447,
          8.467582690862903,
          8.764053269347762,
          7.820439515262181,
          8.22040309993373,
          8.067462667010057,
          9.027978814382207,
          8.056743774975313,
          8.612503371220562,
          8.656259239539235,
          8.149890544402423,
          8.245909264774093,
          8.106212902619962,
          8.66888370465667,
          7.828038032125829,
          7.994632311431825,
          8.740336742730447,
          8.133293861222633,
          8.707813551024888,
          9.1801903950253,
          8.796036315200814,
          7.966239776559467,
          7.500529485395295,
          7.419380582918692,
          8.139440521874608,
          7.8567067930958405,
          7.886457270977689,
          9.695848187757884,
          8.03365842788615,
          8.706986763048892,
          8.565983355585669,
          9.594445640962938,
          8.503297086224126,
          8.713253274320705,
          7.630461261783627,
          8.15507488781144,
          8.881836305004146,
          8.549853973655786,
          8.31752199628717,
          8.457018468380168,
          8.374015421739909,
          8.136810863675537,
          7.964155718840937,
          8.082402253926244,
          9.318835968129482,
          7.949091499830517,
          7.8709295967551425,
          8.268731832117737,
          7.919356190660617,
          8.292298107063221,
          8.04012466444838,
          9.587611745713565,
          8.318742252692399,
          8.307212626628308,
          8.27563105457801,
          7.741099090035366,
          7.501634457883413,
          9.936293504261306,
          8.057694194815587,
          7.8632667240095735,
          8.21716859576607,
          8.32457884513685,
          9.159888828480085,
          8.031060180240619,
          8.389359819906353,
          8.056109659545061,
          8.597297435657898,
          7.776115477098742,
          8.392989587956931,
          8.835646922534773,
          8.448057452581375,
          8.517193191416238,
          7.607878073278507,
          7.495541943884256,
          7.963807953231451,
          8.517193191416238,
          7.393263094763838,
          8.294049640102028,
          7.600902459542082,
          8.232706009860976,
          7.783224016336037,
          9.915070213779195,
          8.944680683558895,
          7.978310969867722,
          7.9817332866918855,
          7.826842098158293,
          8.656259239539235,
          7.813187267521416,
          8.131236549696116,
          8.220672170297252,
          7.629489916393995,
          8.172164452111904,
          9.210340371976184,
          7.783224016336037,
          8.376090350438238,
          8.188966863648876,
          8.060224240440958,
          9.615805480084347,
          9.067162602299854,
          8.50045386741194,
          8.668711839055147,
          8.374015421739909,
          7.824046010856292,
          8.385716828627851,
          7.984462732262196,
          7.949091499830517,
          11.05622495553552,
          9.193499354780156,
          8.613048677059759,
          8.565983355585669,
          7.824046010856292,
          7.512071245835466,
          8.333270353255308,
          7.881182202227102,
          7.774015077250727,
          8.423761246623686,
          8.062432791583195,
          7.8567067930958405,
          7.823645930834952,
          8.167068178341237,
          8.03365842788615,
          8.753529336516431,
          7.872836175025724,
          9.114159813502214,
          9.07680897935166,
          7.888334500738654,
          8.612503371220562,
          7.792761720816526,
          8.246171559857563,
          9.027978814382207,
          8.262300941787448,
          8.006367567650246,
          8.550047528287184,
          8.460199469896118,
          8.517193191416238,
          8.465899897028686,
          8.0106915391303,
          8.82790796297859,
          8.734881892047483,
          7.824046010856292,
          8.541690663016626,
          8.752265313595721,
          9.889895599016661,
          9.665166909622071,
          8.553525120663627,
          9.140239744296693,
          8.026823576217629,
          7.92443418488756,
          8.479906606630221,
          9.07680897935166,
          8.368693183097793,
          8.029107054619736,
          8.592486175451668,
          8.11162807830774,
          8.689632748355741,
          8.699514748210191,
          8.877242435993919,
          8.42639282708974,
          8.207129168071326,
          7.76046702921342,
          8.009695357742922,
          7.75491027202143,
          8.610319169405722,
          9.123365357961776,
          9.159468041602427,
          7.8567067930958405,
          7.597396320212795,
          8.039157390473237,
          8.09437844497296,
          8.064636475774222,
          8.017307507688582,
          8.269244521183056,
          7.313220387090301,
          7.968665700466235,
          7.9211727215870145,
          7.824046010856292,
          7.5822291942764615,
          8.914760527397261,
          8.42222295382501,
          7.681099001536359,
          7.70210434005105,
          9.02401079378469,
          11.302204433654575,
          8.260234291607297,
          8.741296282225147,
          8.715388097366482,
          7.720017940432244,
          7.67275789664251,
          8.00469951054955,
          7.8632667240095735,
          7.3777589082278725,
          6.932447891572509,
          8.085178748074537,
          8.67060073804555,
          7.908387159290043,
          7.506591780070841,
          8.88875674784872,
          9.607773308387083,
          7.888334500738654,
          8.43511508038063,
          8.688622307043769,
          7.979338895262328,
          7.907283609426348,
          9.06230429314878,
          8.779557455883728,
          9.463120392418698,
          7.793586803371584,
          8.229511118964457,
          9.215029361462314,
          7.563200592358071,
          7.70210434005105,
          9.251098364448351,
          8.873748128154395,
          8.205218426395412,
          8.974744612722734,
          8.456806041401142,
          10.537919225261291,
          8.9001399880938,
          8.150756470275551,
          8.445052513638554,
          8.171599480345463,
          8.113726085970747,
          7.926241523170962,
          7.744569809354496,
          7.579678823090456,
          8.280964400553373,
          7.817222785508166,
          8.865735152124781,
          8.258163361537619,
          8.366602832783736,
          8.218247926685745,
          8.378850241794492,
          9.0280988119824,
          7.641564441260972,
          8.954156966583772,
          8.011355109161286,
          8.55468163582723,
          8.334711621820917,
          8.699514748210191,
          7.988542982737695,
          9.722684841711443,
          5.3471075307174685,
          8.374015421739909,
          8.146129510025405,
          7.88344635413774,
          8.453401058328458,
          7.824046010856292,
          8.61830469278465,
          9.712629664719888,
          8.809862805379057,
          7.96311205897929,
          9.721185995542177,
          7.988542982737695,
          8.37793112408273,
          8.037543185118697,
          7.641564441260972,
          9.290352309945568,
          9.027978814382207,
          7.579678823090456,
          8.173857454773621,
          9.816457993563025,
          8.430109084509125,
          7.79770203551669,
          7.900636613018005,
          8.581669210600602,
          8.213652703029998,
          9.756320761816548,
          8.187855443695623,
          8.109525659752872,
          7.8632667240095735,
          8.439231649946526,
          7.970740390007095,
          8.745602852402946,
          6.4692503167957724,
          8.058010800802085,
          8.489821994620105,
          8.306472160100585,
          8.246433786160365,
          8.163371316459912,
          9.944293546928382,
          8.183955717304954,
          7.8156105320351905,
          9.492658081928813,
          8.188133414510478,
          8.71028982137815,
          8.096512917501594,
          7.6638772587034705,
          8.668196064952765,
          8.150756470275551,
          7.616283561580385,
          8.03073492409854,
          8.451694209183541,
          8.131530710604252,
          7.692569648067906,
          7.824046010856292,
          8.644178203170727,
          8.980675603671708,
          8.451053388911692,
          9.769956159911606,
          8.236155661683124,
          8.572627898304338,
          7.893198869544609,
          8.82217476094608,
          6.932447891572509,
          8.361941906144946,
          8.185350223178686,
          9.328123407632566,
          9.807251944655302,
          7.843848638152472,
          8.721439305625983,
          8.193400231952097,
          7.978310969867722,
          8.766705997750515,
          8.435549202375727,
          7.6676260915849905,
          8.20303024171486,
          7.713784616598755,
          8.012018239159062,
          7.92588031673756,
          8.119100837637486,
          7.8343923029104365,
          8.517193191416238,
          7.932003152361385,
          8.799812469525556,
          7.820840879907344,
          8.11162807830774,
          7.805474625270857,
          8.186742787113518,
          8.60666819784384,
          7.888709524182015,
          9.22414465295258,
          8.265392930852224,
          8.338066525518801,
          8.209308411646937,
          9.877348894926433,
          8.686598356276965,
          8.66561319653451,
          9.08239335764556,
          8.404472321352118,
          8.11162807830774,
          8.131530710604252,
          7.774015077250727,
          8.060224240440958,
          8.136518252115291,
          8.540128162698734,
          9.721125994942152,
          8.720134035412928,
          8.764990330169104,
          8.058010800802085,
          8.034955024502159,
          8.079927770758275,
          7.485491608030754,
          8.065265208897733,
          8.785692444451245,
          7.515344571180436,
          8.060224240440958,
          7.539027055823995,
          7.932721027481948,
          8.36240897761537,
          7.739359202689098,
          7.68017564043659,
          8.465899897028686,
          7.9105906122564775,
          8.006367567650246,
          8.699514748210191,
          9.143880005275912,
          8.258163361537619,
          9.68781601606062,
          8.251403065380556,
          8.761393485256058,
          8.00202481821611,
          9.206633510044856,
          8.662158961666423,
          6.030685260261263,
          7.970394907191429,
          8.648747631156539,
          8.209580483475577,
          9.392661928770137,
          7.783224016336037,
          8.131530710604252,
          8.290794347381356,
          8.080856419640986,
          7.9724660159745655,
          8.32020459757888,
          8.996156562033445,
          8.933664178700935,
          8.430109084509125
         ],
         "x0": " ",
         "xaxis": "x",
         "y0": " ",
         "yaxis": "y"
        }
       ],
       "layout": {
        "boxmode": "group",
        "legend": {
         "tracegroupgap": 0
        },
        "margin": {
         "t": 60
        },
        "template": {
         "data": {
          "bar": [
           {
            "error_x": {
             "color": "#2a3f5f"
            },
            "error_y": {
             "color": "#2a3f5f"
            },
            "marker": {
             "line": {
              "color": "#E5ECF6",
              "width": 0.5
             },
             "pattern": {
              "fillmode": "overlay",
              "size": 10,
              "solidity": 0.2
             }
            },
            "type": "bar"
           }
          ],
          "barpolar": [
           {
            "marker": {
             "line": {
              "color": "#E5ECF6",
              "width": 0.5
             },
             "pattern": {
              "fillmode": "overlay",
              "size": 10,
              "solidity": 0.2
             }
            },
            "type": "barpolar"
           }
          ],
          "carpet": [
           {
            "aaxis": {
             "endlinecolor": "#2a3f5f",
             "gridcolor": "white",
             "linecolor": "white",
             "minorgridcolor": "white",
             "startlinecolor": "#2a3f5f"
            },
            "baxis": {
             "endlinecolor": "#2a3f5f",
             "gridcolor": "white",
             "linecolor": "white",
             "minorgridcolor": "white",
             "startlinecolor": "#2a3f5f"
            },
            "type": "carpet"
           }
          ],
          "choropleth": [
           {
            "colorbar": {
             "outlinewidth": 0,
             "ticks": ""
            },
            "type": "choropleth"
           }
          ],
          "contour": [
           {
            "colorbar": {
             "outlinewidth": 0,
             "ticks": ""
            },
            "colorscale": [
             [
              0,
              "#0d0887"
             ],
             [
              0.1111111111111111,
              "#46039f"
             ],
             [
              0.2222222222222222,
              "#7201a8"
             ],
             [
              0.3333333333333333,
              "#9c179e"
             ],
             [
              0.4444444444444444,
              "#bd3786"
             ],
             [
              0.5555555555555556,
              "#d8576b"
             ],
             [
              0.6666666666666666,
              "#ed7953"
             ],
             [
              0.7777777777777778,
              "#fb9f3a"
             ],
             [
              0.8888888888888888,
              "#fdca26"
             ],
             [
              1,
              "#f0f921"
             ]
            ],
            "type": "contour"
           }
          ],
          "contourcarpet": [
           {
            "colorbar": {
             "outlinewidth": 0,
             "ticks": ""
            },
            "type": "contourcarpet"
           }
          ],
          "heatmap": [
           {
            "colorbar": {
             "outlinewidth": 0,
             "ticks": ""
            },
            "colorscale": [
             [
              0,
              "#0d0887"
             ],
             [
              0.1111111111111111,
              "#46039f"
             ],
             [
              0.2222222222222222,
              "#7201a8"
             ],
             [
              0.3333333333333333,
              "#9c179e"
             ],
             [
              0.4444444444444444,
              "#bd3786"
             ],
             [
              0.5555555555555556,
              "#d8576b"
             ],
             [
              0.6666666666666666,
              "#ed7953"
             ],
             [
              0.7777777777777778,
              "#fb9f3a"
             ],
             [
              0.8888888888888888,
              "#fdca26"
             ],
             [
              1,
              "#f0f921"
             ]
            ],
            "type": "heatmap"
           }
          ],
          "heatmapgl": [
           {
            "colorbar": {
             "outlinewidth": 0,
             "ticks": ""
            },
            "colorscale": [
             [
              0,
              "#0d0887"
             ],
             [
              0.1111111111111111,
              "#46039f"
             ],
             [
              0.2222222222222222,
              "#7201a8"
             ],
             [
              0.3333333333333333,
              "#9c179e"
             ],
             [
              0.4444444444444444,
              "#bd3786"
             ],
             [
              0.5555555555555556,
              "#d8576b"
             ],
             [
              0.6666666666666666,
              "#ed7953"
             ],
             [
              0.7777777777777778,
              "#fb9f3a"
             ],
             [
              0.8888888888888888,
              "#fdca26"
             ],
             [
              1,
              "#f0f921"
             ]
            ],
            "type": "heatmapgl"
           }
          ],
          "histogram": [
           {
            "marker": {
             "pattern": {
              "fillmode": "overlay",
              "size": 10,
              "solidity": 0.2
             }
            },
            "type": "histogram"
           }
          ],
          "histogram2d": [
           {
            "colorbar": {
             "outlinewidth": 0,
             "ticks": ""
            },
            "colorscale": [
             [
              0,
              "#0d0887"
             ],
             [
              0.1111111111111111,
              "#46039f"
             ],
             [
              0.2222222222222222,
              "#7201a8"
             ],
             [
              0.3333333333333333,
              "#9c179e"
             ],
             [
              0.4444444444444444,
              "#bd3786"
             ],
             [
              0.5555555555555556,
              "#d8576b"
             ],
             [
              0.6666666666666666,
              "#ed7953"
             ],
             [
              0.7777777777777778,
              "#fb9f3a"
             ],
             [
              0.8888888888888888,
              "#fdca26"
             ],
             [
              1,
              "#f0f921"
             ]
            ],
            "type": "histogram2d"
           }
          ],
          "histogram2dcontour": [
           {
            "colorbar": {
             "outlinewidth": 0,
             "ticks": ""
            },
            "colorscale": [
             [
              0,
              "#0d0887"
             ],
             [
              0.1111111111111111,
              "#46039f"
             ],
             [
              0.2222222222222222,
              "#7201a8"
             ],
             [
              0.3333333333333333,
              "#9c179e"
             ],
             [
              0.4444444444444444,
              "#bd3786"
             ],
             [
              0.5555555555555556,
              "#d8576b"
             ],
             [
              0.6666666666666666,
              "#ed7953"
             ],
             [
              0.7777777777777778,
              "#fb9f3a"
             ],
             [
              0.8888888888888888,
              "#fdca26"
             ],
             [
              1,
              "#f0f921"
             ]
            ],
            "type": "histogram2dcontour"
           }
          ],
          "mesh3d": [
           {
            "colorbar": {
             "outlinewidth": 0,
             "ticks": ""
            },
            "type": "mesh3d"
           }
          ],
          "parcoords": [
           {
            "line": {
             "colorbar": {
              "outlinewidth": 0,
              "ticks": ""
             }
            },
            "type": "parcoords"
           }
          ],
          "pie": [
           {
            "automargin": true,
            "type": "pie"
           }
          ],
          "scatter": [
           {
            "fillpattern": {
             "fillmode": "overlay",
             "size": 10,
             "solidity": 0.2
            },
            "type": "scatter"
           }
          ],
          "scatter3d": [
           {
            "line": {
             "colorbar": {
              "outlinewidth": 0,
              "ticks": ""
             }
            },
            "marker": {
             "colorbar": {
              "outlinewidth": 0,
              "ticks": ""
             }
            },
            "type": "scatter3d"
           }
          ],
          "scattercarpet": [
           {
            "marker": {
             "colorbar": {
              "outlinewidth": 0,
              "ticks": ""
             }
            },
            "type": "scattercarpet"
           }
          ],
          "scattergeo": [
           {
            "marker": {
             "colorbar": {
              "outlinewidth": 0,
              "ticks": ""
             }
            },
            "type": "scattergeo"
           }
          ],
          "scattergl": [
           {
            "marker": {
             "colorbar": {
              "outlinewidth": 0,
              "ticks": ""
             }
            },
            "type": "scattergl"
           }
          ],
          "scattermapbox": [
           {
            "marker": {
             "colorbar": {
              "outlinewidth": 0,
              "ticks": ""
             }
            },
            "type": "scattermapbox"
           }
          ],
          "scatterpolar": [
           {
            "marker": {
             "colorbar": {
              "outlinewidth": 0,
              "ticks": ""
             }
            },
            "type": "scatterpolar"
           }
          ],
          "scatterpolargl": [
           {
            "marker": {
             "colorbar": {
              "outlinewidth": 0,
              "ticks": ""
             }
            },
            "type": "scatterpolargl"
           }
          ],
          "scatterternary": [
           {
            "marker": {
             "colorbar": {
              "outlinewidth": 0,
              "ticks": ""
             }
            },
            "type": "scatterternary"
           }
          ],
          "surface": [
           {
            "colorbar": {
             "outlinewidth": 0,
             "ticks": ""
            },
            "colorscale": [
             [
              0,
              "#0d0887"
             ],
             [
              0.1111111111111111,
              "#46039f"
             ],
             [
              0.2222222222222222,
              "#7201a8"
             ],
             [
              0.3333333333333333,
              "#9c179e"
             ],
             [
              0.4444444444444444,
              "#bd3786"
             ],
             [
              0.5555555555555556,
              "#d8576b"
             ],
             [
              0.6666666666666666,
              "#ed7953"
             ],
             [
              0.7777777777777778,
              "#fb9f3a"
             ],
             [
              0.8888888888888888,
              "#fdca26"
             ],
             [
              1,
              "#f0f921"
             ]
            ],
            "type": "surface"
           }
          ],
          "table": [
           {
            "cells": {
             "fill": {
              "color": "#EBF0F8"
             },
             "line": {
              "color": "white"
             }
            },
            "header": {
             "fill": {
              "color": "#C8D4E3"
             },
             "line": {
              "color": "white"
             }
            },
            "type": "table"
           }
          ]
         },
         "layout": {
          "annotationdefaults": {
           "arrowcolor": "#2a3f5f",
           "arrowhead": 0,
           "arrowwidth": 1
          },
          "autotypenumbers": "strict",
          "coloraxis": {
           "colorbar": {
            "outlinewidth": 0,
            "ticks": ""
           }
          },
          "colorscale": {
           "diverging": [
            [
             0,
             "#8e0152"
            ],
            [
             0.1,
             "#c51b7d"
            ],
            [
             0.2,
             "#de77ae"
            ],
            [
             0.3,
             "#f1b6da"
            ],
            [
             0.4,
             "#fde0ef"
            ],
            [
             0.5,
             "#f7f7f7"
            ],
            [
             0.6,
             "#e6f5d0"
            ],
            [
             0.7,
             "#b8e186"
            ],
            [
             0.8,
             "#7fbc41"
            ],
            [
             0.9,
             "#4d9221"
            ],
            [
             1,
             "#276419"
            ]
           ],
           "sequential": [
            [
             0,
             "#0d0887"
            ],
            [
             0.1111111111111111,
             "#46039f"
            ],
            [
             0.2222222222222222,
             "#7201a8"
            ],
            [
             0.3333333333333333,
             "#9c179e"
            ],
            [
             0.4444444444444444,
             "#bd3786"
            ],
            [
             0.5555555555555556,
             "#d8576b"
            ],
            [
             0.6666666666666666,
             "#ed7953"
            ],
            [
             0.7777777777777778,
             "#fb9f3a"
            ],
            [
             0.8888888888888888,
             "#fdca26"
            ],
            [
             1,
             "#f0f921"
            ]
           ],
           "sequentialminus": [
            [
             0,
             "#0d0887"
            ],
            [
             0.1111111111111111,
             "#46039f"
            ],
            [
             0.2222222222222222,
             "#7201a8"
            ],
            [
             0.3333333333333333,
             "#9c179e"
            ],
            [
             0.4444444444444444,
             "#bd3786"
            ],
            [
             0.5555555555555556,
             "#d8576b"
            ],
            [
             0.6666666666666666,
             "#ed7953"
            ],
            [
             0.7777777777777778,
             "#fb9f3a"
            ],
            [
             0.8888888888888888,
             "#fdca26"
            ],
            [
             1,
             "#f0f921"
            ]
           ]
          },
          "colorway": [
           "#636efa",
           "#EF553B",
           "#00cc96",
           "#ab63fa",
           "#FFA15A",
           "#19d3f3",
           "#FF6692",
           "#B6E880",
           "#FF97FF",
           "#FECB52"
          ],
          "font": {
           "color": "#2a3f5f"
          },
          "geo": {
           "bgcolor": "white",
           "lakecolor": "white",
           "landcolor": "#E5ECF6",
           "showlakes": true,
           "showland": true,
           "subunitcolor": "white"
          },
          "hoverlabel": {
           "align": "left"
          },
          "hovermode": "closest",
          "mapbox": {
           "style": "light"
          },
          "paper_bgcolor": "white",
          "plot_bgcolor": "#E5ECF6",
          "polar": {
           "angularaxis": {
            "gridcolor": "white",
            "linecolor": "white",
            "ticks": ""
           },
           "bgcolor": "#E5ECF6",
           "radialaxis": {
            "gridcolor": "white",
            "linecolor": "white",
            "ticks": ""
           }
          },
          "scene": {
           "xaxis": {
            "backgroundcolor": "#E5ECF6",
            "gridcolor": "white",
            "gridwidth": 2,
            "linecolor": "white",
            "showbackground": true,
            "ticks": "",
            "zerolinecolor": "white"
           },
           "yaxis": {
            "backgroundcolor": "#E5ECF6",
            "gridcolor": "white",
            "gridwidth": 2,
            "linecolor": "white",
            "showbackground": true,
            "ticks": "",
            "zerolinecolor": "white"
           },
           "zaxis": {
            "backgroundcolor": "#E5ECF6",
            "gridcolor": "white",
            "gridwidth": 2,
            "linecolor": "white",
            "showbackground": true,
            "ticks": "",
            "zerolinecolor": "white"
           }
          },
          "shapedefaults": {
           "line": {
            "color": "#2a3f5f"
           }
          },
          "ternary": {
           "aaxis": {
            "gridcolor": "white",
            "linecolor": "white",
            "ticks": ""
           },
           "baxis": {
            "gridcolor": "white",
            "linecolor": "white",
            "ticks": ""
           },
           "bgcolor": "#E5ECF6",
           "caxis": {
            "gridcolor": "white",
            "linecolor": "white",
            "ticks": ""
           }
          },
          "title": {
           "x": 0.05
          },
          "xaxis": {
           "automargin": true,
           "gridcolor": "white",
           "linecolor": "white",
           "ticks": "",
           "title": {
            "standoff": 15
           },
           "zerolinecolor": "white",
           "zerolinewidth": 2
          },
          "yaxis": {
           "automargin": true,
           "gridcolor": "white",
           "linecolor": "white",
           "ticks": "",
           "title": {
            "standoff": 15
           },
           "zerolinecolor": "white",
           "zerolinewidth": 2
          }
         }
        },
        "xaxis": {
         "anchor": "y",
         "domain": [
          0,
          1
         ],
         "title": {
          "text": "log_ApplicantIncome"
         }
        },
        "yaxis": {
         "anchor": "x",
         "domain": [
          0,
          1
         ]
        }
       }
      }
     },
     "metadata": {},
     "output_type": "display_data"
    }
   ],
   "source": [
    "px.box(df, x= \"log_ApplicantIncome\")"
   ]
  },
  {
   "cell_type": "markdown",
   "id": "63c9b573",
   "metadata": {},
   "source": [
    "## LoanAmount"
   ]
  },
  {
   "cell_type": "code",
   "execution_count": 27,
   "id": "b7554d24",
   "metadata": {},
   "outputs": [
    {
     "data": {
      "text/plain": [
       "count    592.000000\n",
       "mean     146.412162\n",
       "std       85.587325\n",
       "min        9.000000\n",
       "25%      100.000000\n",
       "50%      128.000000\n",
       "75%      168.000000\n",
       "max      700.000000\n",
       "Name: LoanAmount, dtype: float64"
      ]
     },
     "execution_count": 27,
     "metadata": {},
     "output_type": "execute_result"
    }
   ],
   "source": [
    "df.LoanAmount.describe() "
   ]
  },
  {
   "cell_type": "code",
   "execution_count": 28,
   "id": "e469be29",
   "metadata": {},
   "outputs": [
    {
     "data": {
      "application/vnd.plotly.v1+json": {
       "config": {
        "plotlyServerURL": "https://plot.ly"
       },
       "data": [
        {
         "alignmentgroup": "True",
         "bingroup": "x",
         "hovertemplate": "LoanAmount=%{x}<br>count=%{y}<extra></extra>",
         "legendgroup": "",
         "marker": {
          "color": "#636efa",
          "pattern": {
           "shape": ""
          }
         },
         "name": "",
         "offsetgroup": "",
         "orientation": "v",
         "showlegend": false,
         "type": "histogram",
         "x": [
          null,
          128,
          66,
          120,
          141,
          267,
          95,
          158,
          168,
          349,
          70,
          109,
          200,
          114,
          17,
          125,
          100,
          76,
          133,
          115,
          104,
          315,
          116,
          112,
          151,
          191,
          122,
          110,
          35,
          120,
          201,
          74,
          106,
          114,
          320,
          null,
          100,
          144,
          184,
          110,
          80,
          47,
          75,
          134,
          96,
          88,
          44,
          144,
          120,
          144,
          100,
          120,
          112,
          134,
          286,
          97,
          96,
          135,
          180,
          144,
          120,
          99,
          165,
          null,
          116,
          258,
          126,
          312,
          125,
          136,
          172,
          97,
          81,
          95,
          187,
          113,
          176,
          110,
          180,
          130,
          111,
          null,
          167,
          265,
          50,
          136,
          99,
          104,
          210,
          175,
          131,
          188,
          81,
          122,
          25,
          null,
          137,
          50,
          115,
          131,
          133,
          151,
          null,
          null,
          160,
          100,
          225,
          120,
          216,
          94,
          136,
          139,
          152,
          null,
          118,
          185,
          154,
          85,
          175,
          259,
          180,
          44,
          137,
          81,
          194,
          93,
          370,
          null,
          160,
          182,
          650,
          74,
          70,
          25,
          102,
          290,
          84,
          88,
          242,
          129,
          185,
          168,
          175,
          122,
          187,
          100,
          70,
          30,
          225,
          125,
          118,
          152,
          244,
          113,
          50,
          600,
          160,
          187,
          120,
          255,
          98,
          275,
          121,
          158,
          75,
          182,
          112,
          129,
          63,
          200,
          95,
          700,
          81,
          187,
          87,
          116,
          101,
          495,
          116,
          102,
          180,
          67,
          73,
          260,
          108,
          120,
          66,
          58,
          168,
          188,
          48,
          164,
          160,
          76,
          120,
          170,
          187,
          120,
          113,
          83,
          90,
          166,
          null,
          135,
          124,
          120,
          80,
          55,
          59,
          127,
          214,
          128,
          240,
          130,
          137,
          100,
          135,
          131,
          72,
          127,
          60,
          116,
          144,
          175,
          128,
          170,
          138,
          210,
          158,
          200,
          104,
          42,
          120,
          280,
          140,
          170,
          255,
          122,
          112,
          96,
          120,
          140,
          155,
          108,
          123,
          120,
          112,
          137,
          123,
          90,
          201,
          138,
          104,
          279,
          192,
          255,
          115,
          94,
          304,
          128,
          330,
          134,
          155,
          120,
          128,
          151,
          150,
          160,
          135,
          90,
          30,
          136,
          126,
          150,
          90,
          115,
          207,
          80,
          436,
          124,
          158,
          112,
          78,
          54,
          null,
          89,
          99,
          120,
          115,
          187,
          139,
          127,
          134,
          143,
          172,
          110,
          200,
          135,
          151,
          113,
          93,
          105,
          132,
          96,
          140,
          null,
          135,
          104,
          480,
          185,
          84,
          111,
          56,
          144,
          159,
          111,
          120,
          88,
          112,
          155,
          115,
          124,
          null,
          132,
          300,
          376,
          130,
          184,
          110,
          67,
          117,
          98,
          71,
          490,
          182,
          70,
          160,
          176,
          null,
          71,
          173,
          46,
          158,
          74,
          125,
          160,
          152,
          126,
          259,
          187,
          228,
          308,
          95,
          105,
          130,
          116,
          165,
          67,
          100,
          200,
          81,
          236,
          130,
          95,
          141,
          133,
          96,
          124,
          175,
          570,
          55,
          155,
          380,
          111,
          110,
          120,
          130,
          130,
          71,
          130,
          128,
          296,
          156,
          128,
          100,
          113,
          132,
          null,
          136,
          125,
          185,
          275,
          120,
          113,
          113,
          135,
          71,
          95,
          109,
          103,
          45,
          65,
          103,
          53,
          194,
          115,
          115,
          66,
          152,
          360,
          62,
          160,
          218,
          110,
          178,
          60,
          160,
          239,
          112,
          138,
          138,
          80,
          100,
          110,
          96,
          121,
          81,
          133,
          87,
          60,
          150,
          105,
          405,
          143,
          100,
          null,
          50,
          null,
          187,
          138,
          187,
          180,
          148,
          152,
          175,
          130,
          110,
          55,
          150,
          190,
          125,
          60,
          149,
          90,
          84,
          96,
          118,
          173,
          136,
          160,
          160,
          128,
          153,
          132,
          98,
          140,
          70,
          110,
          98,
          110,
          162,
          113,
          100,
          93,
          162,
          150,
          230,
          132,
          86,
          null,
          154,
          113,
          128,
          234,
          246,
          131,
          80,
          500,
          160,
          75,
          96,
          186,
          110,
          225,
          119,
          105,
          107,
          111,
          95,
          209,
          113,
          100,
          208,
          138,
          124,
          243,
          480,
          96,
          188,
          40,
          100,
          250,
          148,
          70,
          311,
          150,
          113,
          123,
          185,
          95,
          45,
          55,
          100,
          480,
          null,
          400,
          110,
          161,
          94,
          130,
          216,
          100,
          110,
          196,
          125,
          126,
          324,
          107,
          66,
          157,
          140,
          99,
          95,
          128,
          102,
          155,
          80,
          145,
          103,
          110,
          null,
          null,
          158,
          181,
          132,
          26,
          84,
          260,
          162,
          182,
          108,
          600,
          211,
          132,
          258,
          120,
          70,
          123,
          9,
          104,
          186,
          165,
          275,
          187,
          150,
          108,
          136,
          110,
          107,
          161,
          205,
          90,
          36,
          61,
          146,
          172,
          104,
          70,
          94,
          106,
          56,
          205,
          292,
          142,
          260,
          110,
          187,
          88,
          180,
          192,
          350,
          155,
          128,
          172,
          496,
          null,
          173,
          157,
          108,
          71,
          40,
          253,
          187,
          133
         ],
         "xaxis": "x",
         "yaxis": "y"
        }
       ],
       "layout": {
        "barmode": "relative",
        "legend": {
         "tracegroupgap": 0
        },
        "margin": {
         "t": 60
        },
        "template": {
         "data": {
          "bar": [
           {
            "error_x": {
             "color": "#2a3f5f"
            },
            "error_y": {
             "color": "#2a3f5f"
            },
            "marker": {
             "line": {
              "color": "#E5ECF6",
              "width": 0.5
             },
             "pattern": {
              "fillmode": "overlay",
              "size": 10,
              "solidity": 0.2
             }
            },
            "type": "bar"
           }
          ],
          "barpolar": [
           {
            "marker": {
             "line": {
              "color": "#E5ECF6",
              "width": 0.5
             },
             "pattern": {
              "fillmode": "overlay",
              "size": 10,
              "solidity": 0.2
             }
            },
            "type": "barpolar"
           }
          ],
          "carpet": [
           {
            "aaxis": {
             "endlinecolor": "#2a3f5f",
             "gridcolor": "white",
             "linecolor": "white",
             "minorgridcolor": "white",
             "startlinecolor": "#2a3f5f"
            },
            "baxis": {
             "endlinecolor": "#2a3f5f",
             "gridcolor": "white",
             "linecolor": "white",
             "minorgridcolor": "white",
             "startlinecolor": "#2a3f5f"
            },
            "type": "carpet"
           }
          ],
          "choropleth": [
           {
            "colorbar": {
             "outlinewidth": 0,
             "ticks": ""
            },
            "type": "choropleth"
           }
          ],
          "contour": [
           {
            "colorbar": {
             "outlinewidth": 0,
             "ticks": ""
            },
            "colorscale": [
             [
              0,
              "#0d0887"
             ],
             [
              0.1111111111111111,
              "#46039f"
             ],
             [
              0.2222222222222222,
              "#7201a8"
             ],
             [
              0.3333333333333333,
              "#9c179e"
             ],
             [
              0.4444444444444444,
              "#bd3786"
             ],
             [
              0.5555555555555556,
              "#d8576b"
             ],
             [
              0.6666666666666666,
              "#ed7953"
             ],
             [
              0.7777777777777778,
              "#fb9f3a"
             ],
             [
              0.8888888888888888,
              "#fdca26"
             ],
             [
              1,
              "#f0f921"
             ]
            ],
            "type": "contour"
           }
          ],
          "contourcarpet": [
           {
            "colorbar": {
             "outlinewidth": 0,
             "ticks": ""
            },
            "type": "contourcarpet"
           }
          ],
          "heatmap": [
           {
            "colorbar": {
             "outlinewidth": 0,
             "ticks": ""
            },
            "colorscale": [
             [
              0,
              "#0d0887"
             ],
             [
              0.1111111111111111,
              "#46039f"
             ],
             [
              0.2222222222222222,
              "#7201a8"
             ],
             [
              0.3333333333333333,
              "#9c179e"
             ],
             [
              0.4444444444444444,
              "#bd3786"
             ],
             [
              0.5555555555555556,
              "#d8576b"
             ],
             [
              0.6666666666666666,
              "#ed7953"
             ],
             [
              0.7777777777777778,
              "#fb9f3a"
             ],
             [
              0.8888888888888888,
              "#fdca26"
             ],
             [
              1,
              "#f0f921"
             ]
            ],
            "type": "heatmap"
           }
          ],
          "heatmapgl": [
           {
            "colorbar": {
             "outlinewidth": 0,
             "ticks": ""
            },
            "colorscale": [
             [
              0,
              "#0d0887"
             ],
             [
              0.1111111111111111,
              "#46039f"
             ],
             [
              0.2222222222222222,
              "#7201a8"
             ],
             [
              0.3333333333333333,
              "#9c179e"
             ],
             [
              0.4444444444444444,
              "#bd3786"
             ],
             [
              0.5555555555555556,
              "#d8576b"
             ],
             [
              0.6666666666666666,
              "#ed7953"
             ],
             [
              0.7777777777777778,
              "#fb9f3a"
             ],
             [
              0.8888888888888888,
              "#fdca26"
             ],
             [
              1,
              "#f0f921"
             ]
            ],
            "type": "heatmapgl"
           }
          ],
          "histogram": [
           {
            "marker": {
             "pattern": {
              "fillmode": "overlay",
              "size": 10,
              "solidity": 0.2
             }
            },
            "type": "histogram"
           }
          ],
          "histogram2d": [
           {
            "colorbar": {
             "outlinewidth": 0,
             "ticks": ""
            },
            "colorscale": [
             [
              0,
              "#0d0887"
             ],
             [
              0.1111111111111111,
              "#46039f"
             ],
             [
              0.2222222222222222,
              "#7201a8"
             ],
             [
              0.3333333333333333,
              "#9c179e"
             ],
             [
              0.4444444444444444,
              "#bd3786"
             ],
             [
              0.5555555555555556,
              "#d8576b"
             ],
             [
              0.6666666666666666,
              "#ed7953"
             ],
             [
              0.7777777777777778,
              "#fb9f3a"
             ],
             [
              0.8888888888888888,
              "#fdca26"
             ],
             [
              1,
              "#f0f921"
             ]
            ],
            "type": "histogram2d"
           }
          ],
          "histogram2dcontour": [
           {
            "colorbar": {
             "outlinewidth": 0,
             "ticks": ""
            },
            "colorscale": [
             [
              0,
              "#0d0887"
             ],
             [
              0.1111111111111111,
              "#46039f"
             ],
             [
              0.2222222222222222,
              "#7201a8"
             ],
             [
              0.3333333333333333,
              "#9c179e"
             ],
             [
              0.4444444444444444,
              "#bd3786"
             ],
             [
              0.5555555555555556,
              "#d8576b"
             ],
             [
              0.6666666666666666,
              "#ed7953"
             ],
             [
              0.7777777777777778,
              "#fb9f3a"
             ],
             [
              0.8888888888888888,
              "#fdca26"
             ],
             [
              1,
              "#f0f921"
             ]
            ],
            "type": "histogram2dcontour"
           }
          ],
          "mesh3d": [
           {
            "colorbar": {
             "outlinewidth": 0,
             "ticks": ""
            },
            "type": "mesh3d"
           }
          ],
          "parcoords": [
           {
            "line": {
             "colorbar": {
              "outlinewidth": 0,
              "ticks": ""
             }
            },
            "type": "parcoords"
           }
          ],
          "pie": [
           {
            "automargin": true,
            "type": "pie"
           }
          ],
          "scatter": [
           {
            "fillpattern": {
             "fillmode": "overlay",
             "size": 10,
             "solidity": 0.2
            },
            "type": "scatter"
           }
          ],
          "scatter3d": [
           {
            "line": {
             "colorbar": {
              "outlinewidth": 0,
              "ticks": ""
             }
            },
            "marker": {
             "colorbar": {
              "outlinewidth": 0,
              "ticks": ""
             }
            },
            "type": "scatter3d"
           }
          ],
          "scattercarpet": [
           {
            "marker": {
             "colorbar": {
              "outlinewidth": 0,
              "ticks": ""
             }
            },
            "type": "scattercarpet"
           }
          ],
          "scattergeo": [
           {
            "marker": {
             "colorbar": {
              "outlinewidth": 0,
              "ticks": ""
             }
            },
            "type": "scattergeo"
           }
          ],
          "scattergl": [
           {
            "marker": {
             "colorbar": {
              "outlinewidth": 0,
              "ticks": ""
             }
            },
            "type": "scattergl"
           }
          ],
          "scattermapbox": [
           {
            "marker": {
             "colorbar": {
              "outlinewidth": 0,
              "ticks": ""
             }
            },
            "type": "scattermapbox"
           }
          ],
          "scatterpolar": [
           {
            "marker": {
             "colorbar": {
              "outlinewidth": 0,
              "ticks": ""
             }
            },
            "type": "scatterpolar"
           }
          ],
          "scatterpolargl": [
           {
            "marker": {
             "colorbar": {
              "outlinewidth": 0,
              "ticks": ""
             }
            },
            "type": "scatterpolargl"
           }
          ],
          "scatterternary": [
           {
            "marker": {
             "colorbar": {
              "outlinewidth": 0,
              "ticks": ""
             }
            },
            "type": "scatterternary"
           }
          ],
          "surface": [
           {
            "colorbar": {
             "outlinewidth": 0,
             "ticks": ""
            },
            "colorscale": [
             [
              0,
              "#0d0887"
             ],
             [
              0.1111111111111111,
              "#46039f"
             ],
             [
              0.2222222222222222,
              "#7201a8"
             ],
             [
              0.3333333333333333,
              "#9c179e"
             ],
             [
              0.4444444444444444,
              "#bd3786"
             ],
             [
              0.5555555555555556,
              "#d8576b"
             ],
             [
              0.6666666666666666,
              "#ed7953"
             ],
             [
              0.7777777777777778,
              "#fb9f3a"
             ],
             [
              0.8888888888888888,
              "#fdca26"
             ],
             [
              1,
              "#f0f921"
             ]
            ],
            "type": "surface"
           }
          ],
          "table": [
           {
            "cells": {
             "fill": {
              "color": "#EBF0F8"
             },
             "line": {
              "color": "white"
             }
            },
            "header": {
             "fill": {
              "color": "#C8D4E3"
             },
             "line": {
              "color": "white"
             }
            },
            "type": "table"
           }
          ]
         },
         "layout": {
          "annotationdefaults": {
           "arrowcolor": "#2a3f5f",
           "arrowhead": 0,
           "arrowwidth": 1
          },
          "autotypenumbers": "strict",
          "coloraxis": {
           "colorbar": {
            "outlinewidth": 0,
            "ticks": ""
           }
          },
          "colorscale": {
           "diverging": [
            [
             0,
             "#8e0152"
            ],
            [
             0.1,
             "#c51b7d"
            ],
            [
             0.2,
             "#de77ae"
            ],
            [
             0.3,
             "#f1b6da"
            ],
            [
             0.4,
             "#fde0ef"
            ],
            [
             0.5,
             "#f7f7f7"
            ],
            [
             0.6,
             "#e6f5d0"
            ],
            [
             0.7,
             "#b8e186"
            ],
            [
             0.8,
             "#7fbc41"
            ],
            [
             0.9,
             "#4d9221"
            ],
            [
             1,
             "#276419"
            ]
           ],
           "sequential": [
            [
             0,
             "#0d0887"
            ],
            [
             0.1111111111111111,
             "#46039f"
            ],
            [
             0.2222222222222222,
             "#7201a8"
            ],
            [
             0.3333333333333333,
             "#9c179e"
            ],
            [
             0.4444444444444444,
             "#bd3786"
            ],
            [
             0.5555555555555556,
             "#d8576b"
            ],
            [
             0.6666666666666666,
             "#ed7953"
            ],
            [
             0.7777777777777778,
             "#fb9f3a"
            ],
            [
             0.8888888888888888,
             "#fdca26"
            ],
            [
             1,
             "#f0f921"
            ]
           ],
           "sequentialminus": [
            [
             0,
             "#0d0887"
            ],
            [
             0.1111111111111111,
             "#46039f"
            ],
            [
             0.2222222222222222,
             "#7201a8"
            ],
            [
             0.3333333333333333,
             "#9c179e"
            ],
            [
             0.4444444444444444,
             "#bd3786"
            ],
            [
             0.5555555555555556,
             "#d8576b"
            ],
            [
             0.6666666666666666,
             "#ed7953"
            ],
            [
             0.7777777777777778,
             "#fb9f3a"
            ],
            [
             0.8888888888888888,
             "#fdca26"
            ],
            [
             1,
             "#f0f921"
            ]
           ]
          },
          "colorway": [
           "#636efa",
           "#EF553B",
           "#00cc96",
           "#ab63fa",
           "#FFA15A",
           "#19d3f3",
           "#FF6692",
           "#B6E880",
           "#FF97FF",
           "#FECB52"
          ],
          "font": {
           "color": "#2a3f5f"
          },
          "geo": {
           "bgcolor": "white",
           "lakecolor": "white",
           "landcolor": "#E5ECF6",
           "showlakes": true,
           "showland": true,
           "subunitcolor": "white"
          },
          "hoverlabel": {
           "align": "left"
          },
          "hovermode": "closest",
          "mapbox": {
           "style": "light"
          },
          "paper_bgcolor": "white",
          "plot_bgcolor": "#E5ECF6",
          "polar": {
           "angularaxis": {
            "gridcolor": "white",
            "linecolor": "white",
            "ticks": ""
           },
           "bgcolor": "#E5ECF6",
           "radialaxis": {
            "gridcolor": "white",
            "linecolor": "white",
            "ticks": ""
           }
          },
          "scene": {
           "xaxis": {
            "backgroundcolor": "#E5ECF6",
            "gridcolor": "white",
            "gridwidth": 2,
            "linecolor": "white",
            "showbackground": true,
            "ticks": "",
            "zerolinecolor": "white"
           },
           "yaxis": {
            "backgroundcolor": "#E5ECF6",
            "gridcolor": "white",
            "gridwidth": 2,
            "linecolor": "white",
            "showbackground": true,
            "ticks": "",
            "zerolinecolor": "white"
           },
           "zaxis": {
            "backgroundcolor": "#E5ECF6",
            "gridcolor": "white",
            "gridwidth": 2,
            "linecolor": "white",
            "showbackground": true,
            "ticks": "",
            "zerolinecolor": "white"
           }
          },
          "shapedefaults": {
           "line": {
            "color": "#2a3f5f"
           }
          },
          "ternary": {
           "aaxis": {
            "gridcolor": "white",
            "linecolor": "white",
            "ticks": ""
           },
           "baxis": {
            "gridcolor": "white",
            "linecolor": "white",
            "ticks": ""
           },
           "bgcolor": "#E5ECF6",
           "caxis": {
            "gridcolor": "white",
            "linecolor": "white",
            "ticks": ""
           }
          },
          "title": {
           "x": 0.05
          },
          "xaxis": {
           "automargin": true,
           "gridcolor": "white",
           "linecolor": "white",
           "ticks": "",
           "title": {
            "standoff": 15
           },
           "zerolinecolor": "white",
           "zerolinewidth": 2
          },
          "yaxis": {
           "automargin": true,
           "gridcolor": "white",
           "linecolor": "white",
           "ticks": "",
           "title": {
            "standoff": 15
           },
           "zerolinecolor": "white",
           "zerolinewidth": 2
          }
         }
        },
        "xaxis": {
         "anchor": "y",
         "domain": [
          0,
          1
         ],
         "title": {
          "text": "LoanAmount"
         }
        },
        "yaxis": {
         "anchor": "x",
         "domain": [
          0,
          1
         ],
         "title": {
          "text": "count"
         }
        }
       }
      }
     },
     "metadata": {},
     "output_type": "display_data"
    }
   ],
   "source": [
    "px.histogram(df, x= \"LoanAmount\") "
   ]
  },
  {
   "cell_type": "code",
   "execution_count": 29,
   "id": "236a6674",
   "metadata": {},
   "outputs": [
    {
     "data": {
      "application/vnd.plotly.v1+json": {
       "config": {
        "plotlyServerURL": "https://plot.ly"
       },
       "data": [
        {
         "alignmentgroup": "True",
         "hovertemplate": "LoanAmount=%{x}<extra></extra>",
         "legendgroup": "",
         "marker": {
          "color": "#636efa"
         },
         "name": "",
         "notched": false,
         "offsetgroup": "",
         "orientation": "h",
         "showlegend": false,
         "type": "box",
         "x": [
          null,
          128,
          66,
          120,
          141,
          267,
          95,
          158,
          168,
          349,
          70,
          109,
          200,
          114,
          17,
          125,
          100,
          76,
          133,
          115,
          104,
          315,
          116,
          112,
          151,
          191,
          122,
          110,
          35,
          120,
          201,
          74,
          106,
          114,
          320,
          null,
          100,
          144,
          184,
          110,
          80,
          47,
          75,
          134,
          96,
          88,
          44,
          144,
          120,
          144,
          100,
          120,
          112,
          134,
          286,
          97,
          96,
          135,
          180,
          144,
          120,
          99,
          165,
          null,
          116,
          258,
          126,
          312,
          125,
          136,
          172,
          97,
          81,
          95,
          187,
          113,
          176,
          110,
          180,
          130,
          111,
          null,
          167,
          265,
          50,
          136,
          99,
          104,
          210,
          175,
          131,
          188,
          81,
          122,
          25,
          null,
          137,
          50,
          115,
          131,
          133,
          151,
          null,
          null,
          160,
          100,
          225,
          120,
          216,
          94,
          136,
          139,
          152,
          null,
          118,
          185,
          154,
          85,
          175,
          259,
          180,
          44,
          137,
          81,
          194,
          93,
          370,
          null,
          160,
          182,
          650,
          74,
          70,
          25,
          102,
          290,
          84,
          88,
          242,
          129,
          185,
          168,
          175,
          122,
          187,
          100,
          70,
          30,
          225,
          125,
          118,
          152,
          244,
          113,
          50,
          600,
          160,
          187,
          120,
          255,
          98,
          275,
          121,
          158,
          75,
          182,
          112,
          129,
          63,
          200,
          95,
          700,
          81,
          187,
          87,
          116,
          101,
          495,
          116,
          102,
          180,
          67,
          73,
          260,
          108,
          120,
          66,
          58,
          168,
          188,
          48,
          164,
          160,
          76,
          120,
          170,
          187,
          120,
          113,
          83,
          90,
          166,
          null,
          135,
          124,
          120,
          80,
          55,
          59,
          127,
          214,
          128,
          240,
          130,
          137,
          100,
          135,
          131,
          72,
          127,
          60,
          116,
          144,
          175,
          128,
          170,
          138,
          210,
          158,
          200,
          104,
          42,
          120,
          280,
          140,
          170,
          255,
          122,
          112,
          96,
          120,
          140,
          155,
          108,
          123,
          120,
          112,
          137,
          123,
          90,
          201,
          138,
          104,
          279,
          192,
          255,
          115,
          94,
          304,
          128,
          330,
          134,
          155,
          120,
          128,
          151,
          150,
          160,
          135,
          90,
          30,
          136,
          126,
          150,
          90,
          115,
          207,
          80,
          436,
          124,
          158,
          112,
          78,
          54,
          null,
          89,
          99,
          120,
          115,
          187,
          139,
          127,
          134,
          143,
          172,
          110,
          200,
          135,
          151,
          113,
          93,
          105,
          132,
          96,
          140,
          null,
          135,
          104,
          480,
          185,
          84,
          111,
          56,
          144,
          159,
          111,
          120,
          88,
          112,
          155,
          115,
          124,
          null,
          132,
          300,
          376,
          130,
          184,
          110,
          67,
          117,
          98,
          71,
          490,
          182,
          70,
          160,
          176,
          null,
          71,
          173,
          46,
          158,
          74,
          125,
          160,
          152,
          126,
          259,
          187,
          228,
          308,
          95,
          105,
          130,
          116,
          165,
          67,
          100,
          200,
          81,
          236,
          130,
          95,
          141,
          133,
          96,
          124,
          175,
          570,
          55,
          155,
          380,
          111,
          110,
          120,
          130,
          130,
          71,
          130,
          128,
          296,
          156,
          128,
          100,
          113,
          132,
          null,
          136,
          125,
          185,
          275,
          120,
          113,
          113,
          135,
          71,
          95,
          109,
          103,
          45,
          65,
          103,
          53,
          194,
          115,
          115,
          66,
          152,
          360,
          62,
          160,
          218,
          110,
          178,
          60,
          160,
          239,
          112,
          138,
          138,
          80,
          100,
          110,
          96,
          121,
          81,
          133,
          87,
          60,
          150,
          105,
          405,
          143,
          100,
          null,
          50,
          null,
          187,
          138,
          187,
          180,
          148,
          152,
          175,
          130,
          110,
          55,
          150,
          190,
          125,
          60,
          149,
          90,
          84,
          96,
          118,
          173,
          136,
          160,
          160,
          128,
          153,
          132,
          98,
          140,
          70,
          110,
          98,
          110,
          162,
          113,
          100,
          93,
          162,
          150,
          230,
          132,
          86,
          null,
          154,
          113,
          128,
          234,
          246,
          131,
          80,
          500,
          160,
          75,
          96,
          186,
          110,
          225,
          119,
          105,
          107,
          111,
          95,
          209,
          113,
          100,
          208,
          138,
          124,
          243,
          480,
          96,
          188,
          40,
          100,
          250,
          148,
          70,
          311,
          150,
          113,
          123,
          185,
          95,
          45,
          55,
          100,
          480,
          null,
          400,
          110,
          161,
          94,
          130,
          216,
          100,
          110,
          196,
          125,
          126,
          324,
          107,
          66,
          157,
          140,
          99,
          95,
          128,
          102,
          155,
          80,
          145,
          103,
          110,
          null,
          null,
          158,
          181,
          132,
          26,
          84,
          260,
          162,
          182,
          108,
          600,
          211,
          132,
          258,
          120,
          70,
          123,
          9,
          104,
          186,
          165,
          275,
          187,
          150,
          108,
          136,
          110,
          107,
          161,
          205,
          90,
          36,
          61,
          146,
          172,
          104,
          70,
          94,
          106,
          56,
          205,
          292,
          142,
          260,
          110,
          187,
          88,
          180,
          192,
          350,
          155,
          128,
          172,
          496,
          null,
          173,
          157,
          108,
          71,
          40,
          253,
          187,
          133
         ],
         "x0": " ",
         "xaxis": "x",
         "y0": " ",
         "yaxis": "y"
        }
       ],
       "layout": {
        "boxmode": "group",
        "legend": {
         "tracegroupgap": 0
        },
        "margin": {
         "t": 60
        },
        "template": {
         "data": {
          "bar": [
           {
            "error_x": {
             "color": "#2a3f5f"
            },
            "error_y": {
             "color": "#2a3f5f"
            },
            "marker": {
             "line": {
              "color": "#E5ECF6",
              "width": 0.5
             },
             "pattern": {
              "fillmode": "overlay",
              "size": 10,
              "solidity": 0.2
             }
            },
            "type": "bar"
           }
          ],
          "barpolar": [
           {
            "marker": {
             "line": {
              "color": "#E5ECF6",
              "width": 0.5
             },
             "pattern": {
              "fillmode": "overlay",
              "size": 10,
              "solidity": 0.2
             }
            },
            "type": "barpolar"
           }
          ],
          "carpet": [
           {
            "aaxis": {
             "endlinecolor": "#2a3f5f",
             "gridcolor": "white",
             "linecolor": "white",
             "minorgridcolor": "white",
             "startlinecolor": "#2a3f5f"
            },
            "baxis": {
             "endlinecolor": "#2a3f5f",
             "gridcolor": "white",
             "linecolor": "white",
             "minorgridcolor": "white",
             "startlinecolor": "#2a3f5f"
            },
            "type": "carpet"
           }
          ],
          "choropleth": [
           {
            "colorbar": {
             "outlinewidth": 0,
             "ticks": ""
            },
            "type": "choropleth"
           }
          ],
          "contour": [
           {
            "colorbar": {
             "outlinewidth": 0,
             "ticks": ""
            },
            "colorscale": [
             [
              0,
              "#0d0887"
             ],
             [
              0.1111111111111111,
              "#46039f"
             ],
             [
              0.2222222222222222,
              "#7201a8"
             ],
             [
              0.3333333333333333,
              "#9c179e"
             ],
             [
              0.4444444444444444,
              "#bd3786"
             ],
             [
              0.5555555555555556,
              "#d8576b"
             ],
             [
              0.6666666666666666,
              "#ed7953"
             ],
             [
              0.7777777777777778,
              "#fb9f3a"
             ],
             [
              0.8888888888888888,
              "#fdca26"
             ],
             [
              1,
              "#f0f921"
             ]
            ],
            "type": "contour"
           }
          ],
          "contourcarpet": [
           {
            "colorbar": {
             "outlinewidth": 0,
             "ticks": ""
            },
            "type": "contourcarpet"
           }
          ],
          "heatmap": [
           {
            "colorbar": {
             "outlinewidth": 0,
             "ticks": ""
            },
            "colorscale": [
             [
              0,
              "#0d0887"
             ],
             [
              0.1111111111111111,
              "#46039f"
             ],
             [
              0.2222222222222222,
              "#7201a8"
             ],
             [
              0.3333333333333333,
              "#9c179e"
             ],
             [
              0.4444444444444444,
              "#bd3786"
             ],
             [
              0.5555555555555556,
              "#d8576b"
             ],
             [
              0.6666666666666666,
              "#ed7953"
             ],
             [
              0.7777777777777778,
              "#fb9f3a"
             ],
             [
              0.8888888888888888,
              "#fdca26"
             ],
             [
              1,
              "#f0f921"
             ]
            ],
            "type": "heatmap"
           }
          ],
          "heatmapgl": [
           {
            "colorbar": {
             "outlinewidth": 0,
             "ticks": ""
            },
            "colorscale": [
             [
              0,
              "#0d0887"
             ],
             [
              0.1111111111111111,
              "#46039f"
             ],
             [
              0.2222222222222222,
              "#7201a8"
             ],
             [
              0.3333333333333333,
              "#9c179e"
             ],
             [
              0.4444444444444444,
              "#bd3786"
             ],
             [
              0.5555555555555556,
              "#d8576b"
             ],
             [
              0.6666666666666666,
              "#ed7953"
             ],
             [
              0.7777777777777778,
              "#fb9f3a"
             ],
             [
              0.8888888888888888,
              "#fdca26"
             ],
             [
              1,
              "#f0f921"
             ]
            ],
            "type": "heatmapgl"
           }
          ],
          "histogram": [
           {
            "marker": {
             "pattern": {
              "fillmode": "overlay",
              "size": 10,
              "solidity": 0.2
             }
            },
            "type": "histogram"
           }
          ],
          "histogram2d": [
           {
            "colorbar": {
             "outlinewidth": 0,
             "ticks": ""
            },
            "colorscale": [
             [
              0,
              "#0d0887"
             ],
             [
              0.1111111111111111,
              "#46039f"
             ],
             [
              0.2222222222222222,
              "#7201a8"
             ],
             [
              0.3333333333333333,
              "#9c179e"
             ],
             [
              0.4444444444444444,
              "#bd3786"
             ],
             [
              0.5555555555555556,
              "#d8576b"
             ],
             [
              0.6666666666666666,
              "#ed7953"
             ],
             [
              0.7777777777777778,
              "#fb9f3a"
             ],
             [
              0.8888888888888888,
              "#fdca26"
             ],
             [
              1,
              "#f0f921"
             ]
            ],
            "type": "histogram2d"
           }
          ],
          "histogram2dcontour": [
           {
            "colorbar": {
             "outlinewidth": 0,
             "ticks": ""
            },
            "colorscale": [
             [
              0,
              "#0d0887"
             ],
             [
              0.1111111111111111,
              "#46039f"
             ],
             [
              0.2222222222222222,
              "#7201a8"
             ],
             [
              0.3333333333333333,
              "#9c179e"
             ],
             [
              0.4444444444444444,
              "#bd3786"
             ],
             [
              0.5555555555555556,
              "#d8576b"
             ],
             [
              0.6666666666666666,
              "#ed7953"
             ],
             [
              0.7777777777777778,
              "#fb9f3a"
             ],
             [
              0.8888888888888888,
              "#fdca26"
             ],
             [
              1,
              "#f0f921"
             ]
            ],
            "type": "histogram2dcontour"
           }
          ],
          "mesh3d": [
           {
            "colorbar": {
             "outlinewidth": 0,
             "ticks": ""
            },
            "type": "mesh3d"
           }
          ],
          "parcoords": [
           {
            "line": {
             "colorbar": {
              "outlinewidth": 0,
              "ticks": ""
             }
            },
            "type": "parcoords"
           }
          ],
          "pie": [
           {
            "automargin": true,
            "type": "pie"
           }
          ],
          "scatter": [
           {
            "fillpattern": {
             "fillmode": "overlay",
             "size": 10,
             "solidity": 0.2
            },
            "type": "scatter"
           }
          ],
          "scatter3d": [
           {
            "line": {
             "colorbar": {
              "outlinewidth": 0,
              "ticks": ""
             }
            },
            "marker": {
             "colorbar": {
              "outlinewidth": 0,
              "ticks": ""
             }
            },
            "type": "scatter3d"
           }
          ],
          "scattercarpet": [
           {
            "marker": {
             "colorbar": {
              "outlinewidth": 0,
              "ticks": ""
             }
            },
            "type": "scattercarpet"
           }
          ],
          "scattergeo": [
           {
            "marker": {
             "colorbar": {
              "outlinewidth": 0,
              "ticks": ""
             }
            },
            "type": "scattergeo"
           }
          ],
          "scattergl": [
           {
            "marker": {
             "colorbar": {
              "outlinewidth": 0,
              "ticks": ""
             }
            },
            "type": "scattergl"
           }
          ],
          "scattermapbox": [
           {
            "marker": {
             "colorbar": {
              "outlinewidth": 0,
              "ticks": ""
             }
            },
            "type": "scattermapbox"
           }
          ],
          "scatterpolar": [
           {
            "marker": {
             "colorbar": {
              "outlinewidth": 0,
              "ticks": ""
             }
            },
            "type": "scatterpolar"
           }
          ],
          "scatterpolargl": [
           {
            "marker": {
             "colorbar": {
              "outlinewidth": 0,
              "ticks": ""
             }
            },
            "type": "scatterpolargl"
           }
          ],
          "scatterternary": [
           {
            "marker": {
             "colorbar": {
              "outlinewidth": 0,
              "ticks": ""
             }
            },
            "type": "scatterternary"
           }
          ],
          "surface": [
           {
            "colorbar": {
             "outlinewidth": 0,
             "ticks": ""
            },
            "colorscale": [
             [
              0,
              "#0d0887"
             ],
             [
              0.1111111111111111,
              "#46039f"
             ],
             [
              0.2222222222222222,
              "#7201a8"
             ],
             [
              0.3333333333333333,
              "#9c179e"
             ],
             [
              0.4444444444444444,
              "#bd3786"
             ],
             [
              0.5555555555555556,
              "#d8576b"
             ],
             [
              0.6666666666666666,
              "#ed7953"
             ],
             [
              0.7777777777777778,
              "#fb9f3a"
             ],
             [
              0.8888888888888888,
              "#fdca26"
             ],
             [
              1,
              "#f0f921"
             ]
            ],
            "type": "surface"
           }
          ],
          "table": [
           {
            "cells": {
             "fill": {
              "color": "#EBF0F8"
             },
             "line": {
              "color": "white"
             }
            },
            "header": {
             "fill": {
              "color": "#C8D4E3"
             },
             "line": {
              "color": "white"
             }
            },
            "type": "table"
           }
          ]
         },
         "layout": {
          "annotationdefaults": {
           "arrowcolor": "#2a3f5f",
           "arrowhead": 0,
           "arrowwidth": 1
          },
          "autotypenumbers": "strict",
          "coloraxis": {
           "colorbar": {
            "outlinewidth": 0,
            "ticks": ""
           }
          },
          "colorscale": {
           "diverging": [
            [
             0,
             "#8e0152"
            ],
            [
             0.1,
             "#c51b7d"
            ],
            [
             0.2,
             "#de77ae"
            ],
            [
             0.3,
             "#f1b6da"
            ],
            [
             0.4,
             "#fde0ef"
            ],
            [
             0.5,
             "#f7f7f7"
            ],
            [
             0.6,
             "#e6f5d0"
            ],
            [
             0.7,
             "#b8e186"
            ],
            [
             0.8,
             "#7fbc41"
            ],
            [
             0.9,
             "#4d9221"
            ],
            [
             1,
             "#276419"
            ]
           ],
           "sequential": [
            [
             0,
             "#0d0887"
            ],
            [
             0.1111111111111111,
             "#46039f"
            ],
            [
             0.2222222222222222,
             "#7201a8"
            ],
            [
             0.3333333333333333,
             "#9c179e"
            ],
            [
             0.4444444444444444,
             "#bd3786"
            ],
            [
             0.5555555555555556,
             "#d8576b"
            ],
            [
             0.6666666666666666,
             "#ed7953"
            ],
            [
             0.7777777777777778,
             "#fb9f3a"
            ],
            [
             0.8888888888888888,
             "#fdca26"
            ],
            [
             1,
             "#f0f921"
            ]
           ],
           "sequentialminus": [
            [
             0,
             "#0d0887"
            ],
            [
             0.1111111111111111,
             "#46039f"
            ],
            [
             0.2222222222222222,
             "#7201a8"
            ],
            [
             0.3333333333333333,
             "#9c179e"
            ],
            [
             0.4444444444444444,
             "#bd3786"
            ],
            [
             0.5555555555555556,
             "#d8576b"
            ],
            [
             0.6666666666666666,
             "#ed7953"
            ],
            [
             0.7777777777777778,
             "#fb9f3a"
            ],
            [
             0.8888888888888888,
             "#fdca26"
            ],
            [
             1,
             "#f0f921"
            ]
           ]
          },
          "colorway": [
           "#636efa",
           "#EF553B",
           "#00cc96",
           "#ab63fa",
           "#FFA15A",
           "#19d3f3",
           "#FF6692",
           "#B6E880",
           "#FF97FF",
           "#FECB52"
          ],
          "font": {
           "color": "#2a3f5f"
          },
          "geo": {
           "bgcolor": "white",
           "lakecolor": "white",
           "landcolor": "#E5ECF6",
           "showlakes": true,
           "showland": true,
           "subunitcolor": "white"
          },
          "hoverlabel": {
           "align": "left"
          },
          "hovermode": "closest",
          "mapbox": {
           "style": "light"
          },
          "paper_bgcolor": "white",
          "plot_bgcolor": "#E5ECF6",
          "polar": {
           "angularaxis": {
            "gridcolor": "white",
            "linecolor": "white",
            "ticks": ""
           },
           "bgcolor": "#E5ECF6",
           "radialaxis": {
            "gridcolor": "white",
            "linecolor": "white",
            "ticks": ""
           }
          },
          "scene": {
           "xaxis": {
            "backgroundcolor": "#E5ECF6",
            "gridcolor": "white",
            "gridwidth": 2,
            "linecolor": "white",
            "showbackground": true,
            "ticks": "",
            "zerolinecolor": "white"
           },
           "yaxis": {
            "backgroundcolor": "#E5ECF6",
            "gridcolor": "white",
            "gridwidth": 2,
            "linecolor": "white",
            "showbackground": true,
            "ticks": "",
            "zerolinecolor": "white"
           },
           "zaxis": {
            "backgroundcolor": "#E5ECF6",
            "gridcolor": "white",
            "gridwidth": 2,
            "linecolor": "white",
            "showbackground": true,
            "ticks": "",
            "zerolinecolor": "white"
           }
          },
          "shapedefaults": {
           "line": {
            "color": "#2a3f5f"
           }
          },
          "ternary": {
           "aaxis": {
            "gridcolor": "white",
            "linecolor": "white",
            "ticks": ""
           },
           "baxis": {
            "gridcolor": "white",
            "linecolor": "white",
            "ticks": ""
           },
           "bgcolor": "#E5ECF6",
           "caxis": {
            "gridcolor": "white",
            "linecolor": "white",
            "ticks": ""
           }
          },
          "title": {
           "x": 0.05
          },
          "xaxis": {
           "automargin": true,
           "gridcolor": "white",
           "linecolor": "white",
           "ticks": "",
           "title": {
            "standoff": 15
           },
           "zerolinecolor": "white",
           "zerolinewidth": 2
          },
          "yaxis": {
           "automargin": true,
           "gridcolor": "white",
           "linecolor": "white",
           "ticks": "",
           "title": {
            "standoff": 15
           },
           "zerolinecolor": "white",
           "zerolinewidth": 2
          }
         }
        },
        "xaxis": {
         "anchor": "y",
         "domain": [
          0,
          1
         ],
         "title": {
          "text": "LoanAmount"
         }
        },
        "yaxis": {
         "anchor": "x",
         "domain": [
          0,
          1
         ]
        }
       }
      }
     },
     "metadata": {},
     "output_type": "display_data"
    }
   ],
   "source": [
    "px.box(df, x= \"LoanAmount\")"
   ]
  },
  {
   "cell_type": "markdown",
   "id": "e5292355",
   "metadata": {},
   "source": [
    "### **Taking log for column to handle skewenes & Handle outliers**"
   ]
  },
  {
   "cell_type": "code",
   "execution_count": 30,
   "id": "0d736716",
   "metadata": {},
   "outputs": [],
   "source": [
    "df[\"log_LoanAmount\"] = np.log(df[\"LoanAmount\"]) "
   ]
  },
  {
   "cell_type": "code",
   "execution_count": 31,
   "id": "208bd50d",
   "metadata": {},
   "outputs": [
    {
     "data": {
      "application/vnd.plotly.v1+json": {
       "config": {
        "plotlyServerURL": "https://plot.ly"
       },
       "data": [
        {
         "alignmentgroup": "True",
         "bingroup": "x",
         "hovertemplate": "log_LoanAmount=%{x}<br>count=%{y}<extra></extra>",
         "legendgroup": "",
         "marker": {
          "color": "#636efa",
          "pattern": {
           "shape": ""
          }
         },
         "name": "",
         "offsetgroup": "",
         "orientation": "v",
         "showlegend": false,
         "type": "histogram",
         "x": [
          null,
          4.852030263919617,
          4.189654742026425,
          4.787491742782046,
          4.948759890378168,
          5.58724865840025,
          4.553876891600541,
          5.062595033026967,
          5.123963979403259,
          5.855071922202427,
          4.248495242049359,
          4.6913478822291435,
          5.298317366548036,
          4.736198448394496,
          2.833213344056216,
          4.8283137373023015,
          4.605170185988092,
          4.330733340286331,
          4.890349128221754,
          4.74493212836325,
          4.6443908991413725,
          5.752572638825633,
          4.7535901911063645,
          4.718498871295094,
          5.017279836814924,
          5.25227342804663,
          4.804021044733257,
          4.700480365792417,
          3.5553480614894135,
          4.787491742782046,
          5.303304908059076,
          4.30406509320417,
          4.663439094112067,
          4.736198448394496,
          5.768320995793772,
          null,
          4.605170185988092,
          4.969813299576001,
          5.214935757608986,
          4.700480365792417,
          4.382026634673881,
          3.8501476017100584,
          4.31748811353631,
          4.897839799950911,
          4.564348191467836,
          4.477336814478207,
          3.784189633918261,
          4.969813299576001,
          4.787491742782046,
          4.969813299576001,
          4.605170185988092,
          4.787491742782046,
          4.718498871295094,
          4.897839799950911,
          5.655991810819852,
          4.574710978503383,
          4.564348191467836,
          4.90527477843843,
          5.19295685089021,
          4.969813299576001,
          4.787491742782046,
          4.59511985013459,
          5.10594547390058,
          null,
          4.7535901911063645,
          5.552959584921617,
          4.836281906951478,
          5.7430031878094825,
          4.8283137373023015,
          4.912654885736052,
          5.147494476813453,
          4.574710978503383,
          4.394449154672439,
          4.553876891600541,
          5.231108616854587,
          4.727387818712341,
          5.170483995038151,
          4.700480365792417,
          5.19295685089021,
          4.867534450455582,
          4.709530201312334,
          null,
          5.117993812416755,
          5.579729825986222,
          3.912023005428146,
          4.912654885736052,
          4.59511985013459,
          4.6443908991413725,
          5.3471075307174685,
          5.1647859739235145,
          4.875197323201151,
          5.236441962829949,
          4.394449154672439,
          4.804021044733257,
          3.2188758248682006,
          null,
          4.919980925828125,
          3.912023005428146,
          4.74493212836325,
          4.875197323201151,
          4.890349128221754,
          5.017279836814924,
          null,
          null,
          5.075173815233827,
          4.605170185988092,
          5.41610040220442,
          4.787491742782046,
          5.375278407684165,
          4.543294782270004,
          4.912654885736052,
          4.9344739331306915,
          5.0238805208462765,
          null,
          4.770684624465665,
          5.220355825078324,
          5.0369526024136295,
          4.442651256490317,
          5.1647859739235145,
          5.556828061699537,
          5.19295685089021,
          3.784189633918261,
          4.919980925828125,
          4.394449154672439,
          5.267858159063328,
          4.532599493153256,
          5.91350300563827,
          null,
          5.075173815233827,
          5.204006687076795,
          6.476972362889683,
          4.30406509320417,
          4.248495242049359,
          3.2188758248682006,
          4.624972813284271,
          5.66988092298052,
          4.430816798843313,
          4.477336814478207,
          5.488937726156687,
          4.859812404361672,
          5.220355825078324,
          5.123963979403259,
          5.1647859739235145,
          4.804021044733257,
          5.231108616854587,
          4.605170185988092,
          4.248495242049359,
          3.4011973816621555,
          5.41610040220442,
          4.8283137373023015,
          4.770684624465665,
          5.0238805208462765,
          5.497168225293202,
          4.727387818712341,
          3.912023005428146,
          6.396929655216146,
          5.075173815233827,
          5.231108616854587,
          4.787491742782046,
          5.541263545158426,
          4.584967478670572,
          5.616771097666572,
          4.795790545596741,
          5.062595033026967,
          4.31748811353631,
          5.204006687076795,
          4.718498871295094,
          4.859812404361672,
          4.143134726391533,
          5.298317366548036,
          4.553876891600541,
          6.551080335043404,
          4.394449154672439,
          5.231108616854587,
          4.465908118654584,
          4.7535901911063645,
          4.61512051684126,
          6.20455776256869,
          4.7535901911063645,
          4.624972813284271,
          5.19295685089021,
          4.204692619390966,
          4.290459441148391,
          5.560681631015528,
          4.68213122712422,
          4.787491742782046,
          4.189654742026425,
          4.060443010546419,
          5.123963979403259,
          5.236441962829949,
          3.871201010907891,
          5.099866427824199,
          5.075173815233827,
          4.330733340286331,
          4.787491742782046,
          5.135798437050262,
          5.231108616854587,
          4.787491742782046,
          4.727387818712341,
          4.418840607796598,
          4.499809670330265,
          5.111987788356544,
          null,
          4.90527477843843,
          4.820281565605037,
          4.787491742782046,
          4.382026634673881,
          4.007333185232471,
          4.07753744390572,
          4.844187086458591,
          5.365976015021851,
          4.852030263919617,
          5.480638923341991,
          4.867534450455582,
          4.919980925828125,
          4.605170185988092,
          4.90527477843843,
          4.875197323201151,
          4.276666119016055,
          4.844187086458591,
          4.0943445622221,
          4.7535901911063645,
          4.969813299576001,
          5.1647859739235145,
          4.852030263919617,
          5.135798437050262,
          4.927253685157205,
          5.3471075307174685,
          5.062595033026967,
          5.298317366548036,
          4.6443908991413725,
          3.7376696182833684,
          4.787491742782046,
          5.634789603169249,
          4.941642422609304,
          5.135798437050262,
          5.541263545158426,
          4.804021044733257,
          4.718498871295094,
          4.564348191467836,
          4.787491742782046,
          4.941642422609304,
          5.043425116919247,
          4.68213122712422,
          4.812184355372417,
          4.787491742782046,
          4.718498871295094,
          4.919980925828125,
          4.812184355372417,
          4.499809670330265,
          5.303304908059076,
          4.927253685157205,
          4.6443908991413725,
          5.631211781821365,
          5.2574953720277815,
          5.541263545158426,
          4.74493212836325,
          4.543294782270004,
          5.717027701406222,
          4.852030263919617,
          5.799092654460526,
          4.897839799950911,
          5.043425116919247,
          4.787491742782046,
          4.852030263919617,
          5.017279836814924,
          5.0106352940962555,
          5.075173815233827,
          4.90527477843843,
          4.499809670330265,
          3.4011973816621555,
          4.912654885736052,
          4.836281906951478,
          5.0106352940962555,
          4.499809670330265,
          4.74493212836325,
          5.332718793265369,
          4.382026634673881,
          6.077642243349034,
          4.820281565605037,
          5.062595033026967,
          4.718498871295094,
          4.356708826689592,
          3.9889840465642745,
          null,
          4.48863636973214,
          4.59511985013459,
          4.787491742782046,
          4.74493212836325,
          5.231108616854587,
          4.9344739331306915,
          4.844187086458591,
          4.897839799950911,
          4.962844630259907,
          5.147494476813453,
          4.700480365792417,
          5.298317366548036,
          4.90527477843843,
          5.017279836814924,
          4.727387818712341,
          4.532599493153256,
          4.653960350157523,
          4.882801922586371,
          4.564348191467836,
          4.941642422609304,
          null,
          4.90527477843843,
          4.6443908991413725,
          6.173786103901937,
          5.220355825078324,
          4.430816798843313,
          4.709530201312334,
          4.02535169073515,
          4.969813299576001,
          5.0689042022202315,
          4.709530201312334,
          4.787491742782046,
          4.477336814478207,
          4.718498871295094,
          5.043425116919247,
          4.74493212836325,
          4.820281565605037,
          null,
          4.882801922586371,
          5.703782474656201,
          5.929589143389895,
          4.867534450455582,
          5.214935757608986,
          4.700480365792417,
          4.204692619390966,
          4.762173934797756,
          4.584967478670572,
          4.2626798770413155,
          6.194405391104672,
          5.204006687076795,
          4.248495242049359,
          5.075173815233827,
          5.170483995038151,
          null,
          4.2626798770413155,
          5.153291594497779,
          3.828641396489095,
          5.062595033026967,
          4.30406509320417,
          4.8283137373023015,
          5.075173815233827,
          5.0238805208462765,
          4.836281906951478,
          5.556828061699537,
          5.231108616854587,
          5.429345628954441,
          5.730099782973574,
          4.553876891600541,
          4.653960350157523,
          4.867534450455582,
          4.7535901911063645,
          5.10594547390058,
          4.204692619390966,
          4.605170185988092,
          5.298317366548036,
          4.394449154672439,
          5.4638318050256105,
          4.867534450455582,
          4.553876891600541,
          4.948759890378168,
          4.890349128221754,
          4.564348191467836,
          4.820281565605037,
          5.1647859739235145,
          6.345636360828596,
          4.007333185232471,
          5.043425116919247,
          5.940171252720432,
          4.709530201312334,
          4.700480365792417,
          4.787491742782046,
          4.867534450455582,
          4.867534450455582,
          4.2626798770413155,
          4.867534450455582,
          4.852030263919617,
          5.69035945432406,
          5.049856007249537,
          4.852030263919617,
          4.605170185988092,
          4.727387818712341,
          4.882801922586371,
          null,
          4.912654885736052,
          4.8283137373023015,
          5.220355825078324,
          5.616771097666572,
          4.787491742782046,
          4.727387818712341,
          4.727387818712341,
          4.90527477843843,
          4.2626798770413155,
          4.553876891600541,
          4.6913478822291435,
          4.634728988229636,
          3.8066624897703196,
          4.174387269895637,
          4.634728988229636,
          3.970291913552122,
          5.267858159063328,
          4.74493212836325,
          4.74493212836325,
          4.189654742026425,
          5.0238805208462765,
          5.886104031450156,
          4.127134385045092,
          5.075173815233827,
          5.384495062789089,
          4.700480365792417,
          5.181783550292085,
          4.0943445622221,
          5.075173815233827,
          5.476463551931511,
          4.718498871295094,
          4.927253685157205,
          4.927253685157205,
          4.382026634673881,
          4.605170185988092,
          4.700480365792417,
          4.564348191467836,
          4.795790545596741,
          4.394449154672439,
          4.890349128221754,
          4.465908118654584,
          4.0943445622221,
          5.0106352940962555,
          4.653960350157523,
          6.003887067106539,
          4.962844630259907,
          4.605170185988092,
          null,
          3.912023005428146,
          null,
          5.231108616854587,
          4.927253685157205,
          5.231108616854587,
          5.19295685089021,
          4.997212273764115,
          5.0238805208462765,
          5.1647859739235145,
          4.867534450455582,
          4.700480365792417,
          4.007333185232471,
          5.0106352940962555,
          5.247024072160486,
          4.8283137373023015,
          4.0943445622221,
          5.003946305945459,
          4.499809670330265,
          4.430816798843313,
          4.564348191467836,
          4.770684624465665,
          5.153291594497779,
          4.912654885736052,
          5.075173815233827,
          5.075173815233827,
          4.852030263919617,
          5.030437921392435,
          4.882801922586371,
          4.584967478670572,
          4.941642422609304,
          4.248495242049359,
          4.700480365792417,
          4.584967478670572,
          4.700480365792417,
          5.087596335232384,
          4.727387818712341,
          4.605170185988092,
          4.532599493153256,
          5.087596335232384,
          5.0106352940962555,
          5.438079308923196,
          4.882801922586371,
          4.454347296253507,
          null,
          5.0369526024136295,
          4.727387818712341,
          4.852030263919617,
          5.455321115357702,
          5.5053315359323625,
          4.875197323201151,
          4.382026634673881,
          6.214608098422191,
          5.075173815233827,
          4.31748811353631,
          4.564348191467836,
          5.225746673713202,
          4.700480365792417,
          5.41610040220442,
          4.77912349311153,
          4.653960350157523,
          4.672828834461906,
          4.709530201312334,
          4.553876891600541,
          5.342334251964811,
          4.727387818712341,
          4.605170185988092,
          5.337538079701318,
          4.927253685157205,
          4.820281565605037,
          5.493061443340548,
          6.173786103901937,
          4.564348191467836,
          5.236441962829949,
          3.6888794541139363,
          4.605170185988092,
          5.521460917862246,
          4.997212273764115,
          4.248495242049359,
          5.739792912179234,
          5.0106352940962555,
          4.727387818712341,
          4.812184355372417,
          5.220355825078324,
          4.553876891600541,
          3.8066624897703196,
          4.007333185232471,
          4.605170185988092,
          6.173786103901937,
          null,
          5.991464547107982,
          4.700480365792417,
          5.081404364984463,
          4.543294782270004,
          4.867534450455582,
          5.375278407684165,
          4.605170185988092,
          4.700480365792417,
          5.278114659230517,
          4.8283137373023015,
          4.836281906951478,
          5.780743515792329,
          4.672828834461906,
          4.189654742026425,
          5.056245805348308,
          4.941642422609304,
          4.59511985013459,
          4.553876891600541,
          4.852030263919617,
          4.624972813284271,
          5.043425116919247,
          4.382026634673881,
          4.976733742420574,
          4.634728988229636,
          4.700480365792417,
          null,
          null,
          5.062595033026967,
          5.198497031265826,
          4.882801922586371,
          3.258096538021482,
          4.430816798843313,
          5.560681631015528,
          5.087596335232384,
          5.204006687076795,
          4.68213122712422,
          6.396929655216146,
          5.351858133476067,
          4.882801922586371,
          5.552959584921617,
          4.787491742782046,
          4.248495242049359,
          4.812184355372417,
          2.1972245773362196,
          4.6443908991413725,
          5.225746673713202,
          5.10594547390058,
          5.616771097666572,
          5.231108616854587,
          5.0106352940962555,
          4.68213122712422,
          4.912654885736052,
          4.700480365792417,
          4.672828834461906,
          5.081404364984463,
          5.3230099791384085,
          4.499809670330265,
          3.58351893845611,
          4.110873864173311,
          4.983606621708336,
          5.147494476813453,
          4.6443908991413725,
          4.248495242049359,
          4.543294782270004,
          4.663439094112067,
          4.02535169073515,
          5.3230099791384085,
          5.676753802268282,
          4.955827057601261,
          5.560681631015528,
          4.700480365792417,
          5.231108616854587,
          4.477336814478207,
          5.19295685089021,
          5.2574953720277815,
          5.857933154483459,
          5.043425116919247,
          4.852030263919617,
          5.147494476813453,
          6.206575926724928,
          null,
          5.153291594497779,
          5.056245805348308,
          4.68213122712422,
          4.2626798770413155,
          3.6888794541139363,
          5.53338948872752,
          5.231108616854587,
          4.890349128221754
         ],
         "xaxis": "x",
         "yaxis": "y"
        }
       ],
       "layout": {
        "barmode": "relative",
        "legend": {
         "tracegroupgap": 0
        },
        "margin": {
         "t": 60
        },
        "template": {
         "data": {
          "bar": [
           {
            "error_x": {
             "color": "#2a3f5f"
            },
            "error_y": {
             "color": "#2a3f5f"
            },
            "marker": {
             "line": {
              "color": "#E5ECF6",
              "width": 0.5
             },
             "pattern": {
              "fillmode": "overlay",
              "size": 10,
              "solidity": 0.2
             }
            },
            "type": "bar"
           }
          ],
          "barpolar": [
           {
            "marker": {
             "line": {
              "color": "#E5ECF6",
              "width": 0.5
             },
             "pattern": {
              "fillmode": "overlay",
              "size": 10,
              "solidity": 0.2
             }
            },
            "type": "barpolar"
           }
          ],
          "carpet": [
           {
            "aaxis": {
             "endlinecolor": "#2a3f5f",
             "gridcolor": "white",
             "linecolor": "white",
             "minorgridcolor": "white",
             "startlinecolor": "#2a3f5f"
            },
            "baxis": {
             "endlinecolor": "#2a3f5f",
             "gridcolor": "white",
             "linecolor": "white",
             "minorgridcolor": "white",
             "startlinecolor": "#2a3f5f"
            },
            "type": "carpet"
           }
          ],
          "choropleth": [
           {
            "colorbar": {
             "outlinewidth": 0,
             "ticks": ""
            },
            "type": "choropleth"
           }
          ],
          "contour": [
           {
            "colorbar": {
             "outlinewidth": 0,
             "ticks": ""
            },
            "colorscale": [
             [
              0,
              "#0d0887"
             ],
             [
              0.1111111111111111,
              "#46039f"
             ],
             [
              0.2222222222222222,
              "#7201a8"
             ],
             [
              0.3333333333333333,
              "#9c179e"
             ],
             [
              0.4444444444444444,
              "#bd3786"
             ],
             [
              0.5555555555555556,
              "#d8576b"
             ],
             [
              0.6666666666666666,
              "#ed7953"
             ],
             [
              0.7777777777777778,
              "#fb9f3a"
             ],
             [
              0.8888888888888888,
              "#fdca26"
             ],
             [
              1,
              "#f0f921"
             ]
            ],
            "type": "contour"
           }
          ],
          "contourcarpet": [
           {
            "colorbar": {
             "outlinewidth": 0,
             "ticks": ""
            },
            "type": "contourcarpet"
           }
          ],
          "heatmap": [
           {
            "colorbar": {
             "outlinewidth": 0,
             "ticks": ""
            },
            "colorscale": [
             [
              0,
              "#0d0887"
             ],
             [
              0.1111111111111111,
              "#46039f"
             ],
             [
              0.2222222222222222,
              "#7201a8"
             ],
             [
              0.3333333333333333,
              "#9c179e"
             ],
             [
              0.4444444444444444,
              "#bd3786"
             ],
             [
              0.5555555555555556,
              "#d8576b"
             ],
             [
              0.6666666666666666,
              "#ed7953"
             ],
             [
              0.7777777777777778,
              "#fb9f3a"
             ],
             [
              0.8888888888888888,
              "#fdca26"
             ],
             [
              1,
              "#f0f921"
             ]
            ],
            "type": "heatmap"
           }
          ],
          "heatmapgl": [
           {
            "colorbar": {
             "outlinewidth": 0,
             "ticks": ""
            },
            "colorscale": [
             [
              0,
              "#0d0887"
             ],
             [
              0.1111111111111111,
              "#46039f"
             ],
             [
              0.2222222222222222,
              "#7201a8"
             ],
             [
              0.3333333333333333,
              "#9c179e"
             ],
             [
              0.4444444444444444,
              "#bd3786"
             ],
             [
              0.5555555555555556,
              "#d8576b"
             ],
             [
              0.6666666666666666,
              "#ed7953"
             ],
             [
              0.7777777777777778,
              "#fb9f3a"
             ],
             [
              0.8888888888888888,
              "#fdca26"
             ],
             [
              1,
              "#f0f921"
             ]
            ],
            "type": "heatmapgl"
           }
          ],
          "histogram": [
           {
            "marker": {
             "pattern": {
              "fillmode": "overlay",
              "size": 10,
              "solidity": 0.2
             }
            },
            "type": "histogram"
           }
          ],
          "histogram2d": [
           {
            "colorbar": {
             "outlinewidth": 0,
             "ticks": ""
            },
            "colorscale": [
             [
              0,
              "#0d0887"
             ],
             [
              0.1111111111111111,
              "#46039f"
             ],
             [
              0.2222222222222222,
              "#7201a8"
             ],
             [
              0.3333333333333333,
              "#9c179e"
             ],
             [
              0.4444444444444444,
              "#bd3786"
             ],
             [
              0.5555555555555556,
              "#d8576b"
             ],
             [
              0.6666666666666666,
              "#ed7953"
             ],
             [
              0.7777777777777778,
              "#fb9f3a"
             ],
             [
              0.8888888888888888,
              "#fdca26"
             ],
             [
              1,
              "#f0f921"
             ]
            ],
            "type": "histogram2d"
           }
          ],
          "histogram2dcontour": [
           {
            "colorbar": {
             "outlinewidth": 0,
             "ticks": ""
            },
            "colorscale": [
             [
              0,
              "#0d0887"
             ],
             [
              0.1111111111111111,
              "#46039f"
             ],
             [
              0.2222222222222222,
              "#7201a8"
             ],
             [
              0.3333333333333333,
              "#9c179e"
             ],
             [
              0.4444444444444444,
              "#bd3786"
             ],
             [
              0.5555555555555556,
              "#d8576b"
             ],
             [
              0.6666666666666666,
              "#ed7953"
             ],
             [
              0.7777777777777778,
              "#fb9f3a"
             ],
             [
              0.8888888888888888,
              "#fdca26"
             ],
             [
              1,
              "#f0f921"
             ]
            ],
            "type": "histogram2dcontour"
           }
          ],
          "mesh3d": [
           {
            "colorbar": {
             "outlinewidth": 0,
             "ticks": ""
            },
            "type": "mesh3d"
           }
          ],
          "parcoords": [
           {
            "line": {
             "colorbar": {
              "outlinewidth": 0,
              "ticks": ""
             }
            },
            "type": "parcoords"
           }
          ],
          "pie": [
           {
            "automargin": true,
            "type": "pie"
           }
          ],
          "scatter": [
           {
            "fillpattern": {
             "fillmode": "overlay",
             "size": 10,
             "solidity": 0.2
            },
            "type": "scatter"
           }
          ],
          "scatter3d": [
           {
            "line": {
             "colorbar": {
              "outlinewidth": 0,
              "ticks": ""
             }
            },
            "marker": {
             "colorbar": {
              "outlinewidth": 0,
              "ticks": ""
             }
            },
            "type": "scatter3d"
           }
          ],
          "scattercarpet": [
           {
            "marker": {
             "colorbar": {
              "outlinewidth": 0,
              "ticks": ""
             }
            },
            "type": "scattercarpet"
           }
          ],
          "scattergeo": [
           {
            "marker": {
             "colorbar": {
              "outlinewidth": 0,
              "ticks": ""
             }
            },
            "type": "scattergeo"
           }
          ],
          "scattergl": [
           {
            "marker": {
             "colorbar": {
              "outlinewidth": 0,
              "ticks": ""
             }
            },
            "type": "scattergl"
           }
          ],
          "scattermapbox": [
           {
            "marker": {
             "colorbar": {
              "outlinewidth": 0,
              "ticks": ""
             }
            },
            "type": "scattermapbox"
           }
          ],
          "scatterpolar": [
           {
            "marker": {
             "colorbar": {
              "outlinewidth": 0,
              "ticks": ""
             }
            },
            "type": "scatterpolar"
           }
          ],
          "scatterpolargl": [
           {
            "marker": {
             "colorbar": {
              "outlinewidth": 0,
              "ticks": ""
             }
            },
            "type": "scatterpolargl"
           }
          ],
          "scatterternary": [
           {
            "marker": {
             "colorbar": {
              "outlinewidth": 0,
              "ticks": ""
             }
            },
            "type": "scatterternary"
           }
          ],
          "surface": [
           {
            "colorbar": {
             "outlinewidth": 0,
             "ticks": ""
            },
            "colorscale": [
             [
              0,
              "#0d0887"
             ],
             [
              0.1111111111111111,
              "#46039f"
             ],
             [
              0.2222222222222222,
              "#7201a8"
             ],
             [
              0.3333333333333333,
              "#9c179e"
             ],
             [
              0.4444444444444444,
              "#bd3786"
             ],
             [
              0.5555555555555556,
              "#d8576b"
             ],
             [
              0.6666666666666666,
              "#ed7953"
             ],
             [
              0.7777777777777778,
              "#fb9f3a"
             ],
             [
              0.8888888888888888,
              "#fdca26"
             ],
             [
              1,
              "#f0f921"
             ]
            ],
            "type": "surface"
           }
          ],
          "table": [
           {
            "cells": {
             "fill": {
              "color": "#EBF0F8"
             },
             "line": {
              "color": "white"
             }
            },
            "header": {
             "fill": {
              "color": "#C8D4E3"
             },
             "line": {
              "color": "white"
             }
            },
            "type": "table"
           }
          ]
         },
         "layout": {
          "annotationdefaults": {
           "arrowcolor": "#2a3f5f",
           "arrowhead": 0,
           "arrowwidth": 1
          },
          "autotypenumbers": "strict",
          "coloraxis": {
           "colorbar": {
            "outlinewidth": 0,
            "ticks": ""
           }
          },
          "colorscale": {
           "diverging": [
            [
             0,
             "#8e0152"
            ],
            [
             0.1,
             "#c51b7d"
            ],
            [
             0.2,
             "#de77ae"
            ],
            [
             0.3,
             "#f1b6da"
            ],
            [
             0.4,
             "#fde0ef"
            ],
            [
             0.5,
             "#f7f7f7"
            ],
            [
             0.6,
             "#e6f5d0"
            ],
            [
             0.7,
             "#b8e186"
            ],
            [
             0.8,
             "#7fbc41"
            ],
            [
             0.9,
             "#4d9221"
            ],
            [
             1,
             "#276419"
            ]
           ],
           "sequential": [
            [
             0,
             "#0d0887"
            ],
            [
             0.1111111111111111,
             "#46039f"
            ],
            [
             0.2222222222222222,
             "#7201a8"
            ],
            [
             0.3333333333333333,
             "#9c179e"
            ],
            [
             0.4444444444444444,
             "#bd3786"
            ],
            [
             0.5555555555555556,
             "#d8576b"
            ],
            [
             0.6666666666666666,
             "#ed7953"
            ],
            [
             0.7777777777777778,
             "#fb9f3a"
            ],
            [
             0.8888888888888888,
             "#fdca26"
            ],
            [
             1,
             "#f0f921"
            ]
           ],
           "sequentialminus": [
            [
             0,
             "#0d0887"
            ],
            [
             0.1111111111111111,
             "#46039f"
            ],
            [
             0.2222222222222222,
             "#7201a8"
            ],
            [
             0.3333333333333333,
             "#9c179e"
            ],
            [
             0.4444444444444444,
             "#bd3786"
            ],
            [
             0.5555555555555556,
             "#d8576b"
            ],
            [
             0.6666666666666666,
             "#ed7953"
            ],
            [
             0.7777777777777778,
             "#fb9f3a"
            ],
            [
             0.8888888888888888,
             "#fdca26"
            ],
            [
             1,
             "#f0f921"
            ]
           ]
          },
          "colorway": [
           "#636efa",
           "#EF553B",
           "#00cc96",
           "#ab63fa",
           "#FFA15A",
           "#19d3f3",
           "#FF6692",
           "#B6E880",
           "#FF97FF",
           "#FECB52"
          ],
          "font": {
           "color": "#2a3f5f"
          },
          "geo": {
           "bgcolor": "white",
           "lakecolor": "white",
           "landcolor": "#E5ECF6",
           "showlakes": true,
           "showland": true,
           "subunitcolor": "white"
          },
          "hoverlabel": {
           "align": "left"
          },
          "hovermode": "closest",
          "mapbox": {
           "style": "light"
          },
          "paper_bgcolor": "white",
          "plot_bgcolor": "#E5ECF6",
          "polar": {
           "angularaxis": {
            "gridcolor": "white",
            "linecolor": "white",
            "ticks": ""
           },
           "bgcolor": "#E5ECF6",
           "radialaxis": {
            "gridcolor": "white",
            "linecolor": "white",
            "ticks": ""
           }
          },
          "scene": {
           "xaxis": {
            "backgroundcolor": "#E5ECF6",
            "gridcolor": "white",
            "gridwidth": 2,
            "linecolor": "white",
            "showbackground": true,
            "ticks": "",
            "zerolinecolor": "white"
           },
           "yaxis": {
            "backgroundcolor": "#E5ECF6",
            "gridcolor": "white",
            "gridwidth": 2,
            "linecolor": "white",
            "showbackground": true,
            "ticks": "",
            "zerolinecolor": "white"
           },
           "zaxis": {
            "backgroundcolor": "#E5ECF6",
            "gridcolor": "white",
            "gridwidth": 2,
            "linecolor": "white",
            "showbackground": true,
            "ticks": "",
            "zerolinecolor": "white"
           }
          },
          "shapedefaults": {
           "line": {
            "color": "#2a3f5f"
           }
          },
          "ternary": {
           "aaxis": {
            "gridcolor": "white",
            "linecolor": "white",
            "ticks": ""
           },
           "baxis": {
            "gridcolor": "white",
            "linecolor": "white",
            "ticks": ""
           },
           "bgcolor": "#E5ECF6",
           "caxis": {
            "gridcolor": "white",
            "linecolor": "white",
            "ticks": ""
           }
          },
          "title": {
           "x": 0.05
          },
          "xaxis": {
           "automargin": true,
           "gridcolor": "white",
           "linecolor": "white",
           "ticks": "",
           "title": {
            "standoff": 15
           },
           "zerolinecolor": "white",
           "zerolinewidth": 2
          },
          "yaxis": {
           "automargin": true,
           "gridcolor": "white",
           "linecolor": "white",
           "ticks": "",
           "title": {
            "standoff": 15
           },
           "zerolinecolor": "white",
           "zerolinewidth": 2
          }
         }
        },
        "xaxis": {
         "anchor": "y",
         "domain": [
          0,
          1
         ],
         "title": {
          "text": "log_LoanAmount"
         }
        },
        "yaxis": {
         "anchor": "x",
         "domain": [
          0,
          1
         ],
         "title": {
          "text": "count"
         }
        }
       }
      }
     },
     "metadata": {},
     "output_type": "display_data"
    }
   ],
   "source": [
    "px.histogram(df, x= \"log_LoanAmount\")"
   ]
  },
  {
   "cell_type": "code",
   "execution_count": 32,
   "id": "4235dc31",
   "metadata": {},
   "outputs": [
    {
     "data": {
      "application/vnd.plotly.v1+json": {
       "config": {
        "plotlyServerURL": "https://plot.ly"
       },
       "data": [
        {
         "alignmentgroup": "True",
         "hovertemplate": "log_LoanAmount=%{x}<extra></extra>",
         "legendgroup": "",
         "marker": {
          "color": "#636efa"
         },
         "name": "",
         "notched": false,
         "offsetgroup": "",
         "orientation": "h",
         "showlegend": false,
         "type": "box",
         "x": [
          null,
          4.852030263919617,
          4.189654742026425,
          4.787491742782046,
          4.948759890378168,
          5.58724865840025,
          4.553876891600541,
          5.062595033026967,
          5.123963979403259,
          5.855071922202427,
          4.248495242049359,
          4.6913478822291435,
          5.298317366548036,
          4.736198448394496,
          2.833213344056216,
          4.8283137373023015,
          4.605170185988092,
          4.330733340286331,
          4.890349128221754,
          4.74493212836325,
          4.6443908991413725,
          5.752572638825633,
          4.7535901911063645,
          4.718498871295094,
          5.017279836814924,
          5.25227342804663,
          4.804021044733257,
          4.700480365792417,
          3.5553480614894135,
          4.787491742782046,
          5.303304908059076,
          4.30406509320417,
          4.663439094112067,
          4.736198448394496,
          5.768320995793772,
          null,
          4.605170185988092,
          4.969813299576001,
          5.214935757608986,
          4.700480365792417,
          4.382026634673881,
          3.8501476017100584,
          4.31748811353631,
          4.897839799950911,
          4.564348191467836,
          4.477336814478207,
          3.784189633918261,
          4.969813299576001,
          4.787491742782046,
          4.969813299576001,
          4.605170185988092,
          4.787491742782046,
          4.718498871295094,
          4.897839799950911,
          5.655991810819852,
          4.574710978503383,
          4.564348191467836,
          4.90527477843843,
          5.19295685089021,
          4.969813299576001,
          4.787491742782046,
          4.59511985013459,
          5.10594547390058,
          null,
          4.7535901911063645,
          5.552959584921617,
          4.836281906951478,
          5.7430031878094825,
          4.8283137373023015,
          4.912654885736052,
          5.147494476813453,
          4.574710978503383,
          4.394449154672439,
          4.553876891600541,
          5.231108616854587,
          4.727387818712341,
          5.170483995038151,
          4.700480365792417,
          5.19295685089021,
          4.867534450455582,
          4.709530201312334,
          null,
          5.117993812416755,
          5.579729825986222,
          3.912023005428146,
          4.912654885736052,
          4.59511985013459,
          4.6443908991413725,
          5.3471075307174685,
          5.1647859739235145,
          4.875197323201151,
          5.236441962829949,
          4.394449154672439,
          4.804021044733257,
          3.2188758248682006,
          null,
          4.919980925828125,
          3.912023005428146,
          4.74493212836325,
          4.875197323201151,
          4.890349128221754,
          5.017279836814924,
          null,
          null,
          5.075173815233827,
          4.605170185988092,
          5.41610040220442,
          4.787491742782046,
          5.375278407684165,
          4.543294782270004,
          4.912654885736052,
          4.9344739331306915,
          5.0238805208462765,
          null,
          4.770684624465665,
          5.220355825078324,
          5.0369526024136295,
          4.442651256490317,
          5.1647859739235145,
          5.556828061699537,
          5.19295685089021,
          3.784189633918261,
          4.919980925828125,
          4.394449154672439,
          5.267858159063328,
          4.532599493153256,
          5.91350300563827,
          null,
          5.075173815233827,
          5.204006687076795,
          6.476972362889683,
          4.30406509320417,
          4.248495242049359,
          3.2188758248682006,
          4.624972813284271,
          5.66988092298052,
          4.430816798843313,
          4.477336814478207,
          5.488937726156687,
          4.859812404361672,
          5.220355825078324,
          5.123963979403259,
          5.1647859739235145,
          4.804021044733257,
          5.231108616854587,
          4.605170185988092,
          4.248495242049359,
          3.4011973816621555,
          5.41610040220442,
          4.8283137373023015,
          4.770684624465665,
          5.0238805208462765,
          5.497168225293202,
          4.727387818712341,
          3.912023005428146,
          6.396929655216146,
          5.075173815233827,
          5.231108616854587,
          4.787491742782046,
          5.541263545158426,
          4.584967478670572,
          5.616771097666572,
          4.795790545596741,
          5.062595033026967,
          4.31748811353631,
          5.204006687076795,
          4.718498871295094,
          4.859812404361672,
          4.143134726391533,
          5.298317366548036,
          4.553876891600541,
          6.551080335043404,
          4.394449154672439,
          5.231108616854587,
          4.465908118654584,
          4.7535901911063645,
          4.61512051684126,
          6.20455776256869,
          4.7535901911063645,
          4.624972813284271,
          5.19295685089021,
          4.204692619390966,
          4.290459441148391,
          5.560681631015528,
          4.68213122712422,
          4.787491742782046,
          4.189654742026425,
          4.060443010546419,
          5.123963979403259,
          5.236441962829949,
          3.871201010907891,
          5.099866427824199,
          5.075173815233827,
          4.330733340286331,
          4.787491742782046,
          5.135798437050262,
          5.231108616854587,
          4.787491742782046,
          4.727387818712341,
          4.418840607796598,
          4.499809670330265,
          5.111987788356544,
          null,
          4.90527477843843,
          4.820281565605037,
          4.787491742782046,
          4.382026634673881,
          4.007333185232471,
          4.07753744390572,
          4.844187086458591,
          5.365976015021851,
          4.852030263919617,
          5.480638923341991,
          4.867534450455582,
          4.919980925828125,
          4.605170185988092,
          4.90527477843843,
          4.875197323201151,
          4.276666119016055,
          4.844187086458591,
          4.0943445622221,
          4.7535901911063645,
          4.969813299576001,
          5.1647859739235145,
          4.852030263919617,
          5.135798437050262,
          4.927253685157205,
          5.3471075307174685,
          5.062595033026967,
          5.298317366548036,
          4.6443908991413725,
          3.7376696182833684,
          4.787491742782046,
          5.634789603169249,
          4.941642422609304,
          5.135798437050262,
          5.541263545158426,
          4.804021044733257,
          4.718498871295094,
          4.564348191467836,
          4.787491742782046,
          4.941642422609304,
          5.043425116919247,
          4.68213122712422,
          4.812184355372417,
          4.787491742782046,
          4.718498871295094,
          4.919980925828125,
          4.812184355372417,
          4.499809670330265,
          5.303304908059076,
          4.927253685157205,
          4.6443908991413725,
          5.631211781821365,
          5.2574953720277815,
          5.541263545158426,
          4.74493212836325,
          4.543294782270004,
          5.717027701406222,
          4.852030263919617,
          5.799092654460526,
          4.897839799950911,
          5.043425116919247,
          4.787491742782046,
          4.852030263919617,
          5.017279836814924,
          5.0106352940962555,
          5.075173815233827,
          4.90527477843843,
          4.499809670330265,
          3.4011973816621555,
          4.912654885736052,
          4.836281906951478,
          5.0106352940962555,
          4.499809670330265,
          4.74493212836325,
          5.332718793265369,
          4.382026634673881,
          6.077642243349034,
          4.820281565605037,
          5.062595033026967,
          4.718498871295094,
          4.356708826689592,
          3.9889840465642745,
          null,
          4.48863636973214,
          4.59511985013459,
          4.787491742782046,
          4.74493212836325,
          5.231108616854587,
          4.9344739331306915,
          4.844187086458591,
          4.897839799950911,
          4.962844630259907,
          5.147494476813453,
          4.700480365792417,
          5.298317366548036,
          4.90527477843843,
          5.017279836814924,
          4.727387818712341,
          4.532599493153256,
          4.653960350157523,
          4.882801922586371,
          4.564348191467836,
          4.941642422609304,
          null,
          4.90527477843843,
          4.6443908991413725,
          6.173786103901937,
          5.220355825078324,
          4.430816798843313,
          4.709530201312334,
          4.02535169073515,
          4.969813299576001,
          5.0689042022202315,
          4.709530201312334,
          4.787491742782046,
          4.477336814478207,
          4.718498871295094,
          5.043425116919247,
          4.74493212836325,
          4.820281565605037,
          null,
          4.882801922586371,
          5.703782474656201,
          5.929589143389895,
          4.867534450455582,
          5.214935757608986,
          4.700480365792417,
          4.204692619390966,
          4.762173934797756,
          4.584967478670572,
          4.2626798770413155,
          6.194405391104672,
          5.204006687076795,
          4.248495242049359,
          5.075173815233827,
          5.170483995038151,
          null,
          4.2626798770413155,
          5.153291594497779,
          3.828641396489095,
          5.062595033026967,
          4.30406509320417,
          4.8283137373023015,
          5.075173815233827,
          5.0238805208462765,
          4.836281906951478,
          5.556828061699537,
          5.231108616854587,
          5.429345628954441,
          5.730099782973574,
          4.553876891600541,
          4.653960350157523,
          4.867534450455582,
          4.7535901911063645,
          5.10594547390058,
          4.204692619390966,
          4.605170185988092,
          5.298317366548036,
          4.394449154672439,
          5.4638318050256105,
          4.867534450455582,
          4.553876891600541,
          4.948759890378168,
          4.890349128221754,
          4.564348191467836,
          4.820281565605037,
          5.1647859739235145,
          6.345636360828596,
          4.007333185232471,
          5.043425116919247,
          5.940171252720432,
          4.709530201312334,
          4.700480365792417,
          4.787491742782046,
          4.867534450455582,
          4.867534450455582,
          4.2626798770413155,
          4.867534450455582,
          4.852030263919617,
          5.69035945432406,
          5.049856007249537,
          4.852030263919617,
          4.605170185988092,
          4.727387818712341,
          4.882801922586371,
          null,
          4.912654885736052,
          4.8283137373023015,
          5.220355825078324,
          5.616771097666572,
          4.787491742782046,
          4.727387818712341,
          4.727387818712341,
          4.90527477843843,
          4.2626798770413155,
          4.553876891600541,
          4.6913478822291435,
          4.634728988229636,
          3.8066624897703196,
          4.174387269895637,
          4.634728988229636,
          3.970291913552122,
          5.267858159063328,
          4.74493212836325,
          4.74493212836325,
          4.189654742026425,
          5.0238805208462765,
          5.886104031450156,
          4.127134385045092,
          5.075173815233827,
          5.384495062789089,
          4.700480365792417,
          5.181783550292085,
          4.0943445622221,
          5.075173815233827,
          5.476463551931511,
          4.718498871295094,
          4.927253685157205,
          4.927253685157205,
          4.382026634673881,
          4.605170185988092,
          4.700480365792417,
          4.564348191467836,
          4.795790545596741,
          4.394449154672439,
          4.890349128221754,
          4.465908118654584,
          4.0943445622221,
          5.0106352940962555,
          4.653960350157523,
          6.003887067106539,
          4.962844630259907,
          4.605170185988092,
          null,
          3.912023005428146,
          null,
          5.231108616854587,
          4.927253685157205,
          5.231108616854587,
          5.19295685089021,
          4.997212273764115,
          5.0238805208462765,
          5.1647859739235145,
          4.867534450455582,
          4.700480365792417,
          4.007333185232471,
          5.0106352940962555,
          5.247024072160486,
          4.8283137373023015,
          4.0943445622221,
          5.003946305945459,
          4.499809670330265,
          4.430816798843313,
          4.564348191467836,
          4.770684624465665,
          5.153291594497779,
          4.912654885736052,
          5.075173815233827,
          5.075173815233827,
          4.852030263919617,
          5.030437921392435,
          4.882801922586371,
          4.584967478670572,
          4.941642422609304,
          4.248495242049359,
          4.700480365792417,
          4.584967478670572,
          4.700480365792417,
          5.087596335232384,
          4.727387818712341,
          4.605170185988092,
          4.532599493153256,
          5.087596335232384,
          5.0106352940962555,
          5.438079308923196,
          4.882801922586371,
          4.454347296253507,
          null,
          5.0369526024136295,
          4.727387818712341,
          4.852030263919617,
          5.455321115357702,
          5.5053315359323625,
          4.875197323201151,
          4.382026634673881,
          6.214608098422191,
          5.075173815233827,
          4.31748811353631,
          4.564348191467836,
          5.225746673713202,
          4.700480365792417,
          5.41610040220442,
          4.77912349311153,
          4.653960350157523,
          4.672828834461906,
          4.709530201312334,
          4.553876891600541,
          5.342334251964811,
          4.727387818712341,
          4.605170185988092,
          5.337538079701318,
          4.927253685157205,
          4.820281565605037,
          5.493061443340548,
          6.173786103901937,
          4.564348191467836,
          5.236441962829949,
          3.6888794541139363,
          4.605170185988092,
          5.521460917862246,
          4.997212273764115,
          4.248495242049359,
          5.739792912179234,
          5.0106352940962555,
          4.727387818712341,
          4.812184355372417,
          5.220355825078324,
          4.553876891600541,
          3.8066624897703196,
          4.007333185232471,
          4.605170185988092,
          6.173786103901937,
          null,
          5.991464547107982,
          4.700480365792417,
          5.081404364984463,
          4.543294782270004,
          4.867534450455582,
          5.375278407684165,
          4.605170185988092,
          4.700480365792417,
          5.278114659230517,
          4.8283137373023015,
          4.836281906951478,
          5.780743515792329,
          4.672828834461906,
          4.189654742026425,
          5.056245805348308,
          4.941642422609304,
          4.59511985013459,
          4.553876891600541,
          4.852030263919617,
          4.624972813284271,
          5.043425116919247,
          4.382026634673881,
          4.976733742420574,
          4.634728988229636,
          4.700480365792417,
          null,
          null,
          5.062595033026967,
          5.198497031265826,
          4.882801922586371,
          3.258096538021482,
          4.430816798843313,
          5.560681631015528,
          5.087596335232384,
          5.204006687076795,
          4.68213122712422,
          6.396929655216146,
          5.351858133476067,
          4.882801922586371,
          5.552959584921617,
          4.787491742782046,
          4.248495242049359,
          4.812184355372417,
          2.1972245773362196,
          4.6443908991413725,
          5.225746673713202,
          5.10594547390058,
          5.616771097666572,
          5.231108616854587,
          5.0106352940962555,
          4.68213122712422,
          4.912654885736052,
          4.700480365792417,
          4.672828834461906,
          5.081404364984463,
          5.3230099791384085,
          4.499809670330265,
          3.58351893845611,
          4.110873864173311,
          4.983606621708336,
          5.147494476813453,
          4.6443908991413725,
          4.248495242049359,
          4.543294782270004,
          4.663439094112067,
          4.02535169073515,
          5.3230099791384085,
          5.676753802268282,
          4.955827057601261,
          5.560681631015528,
          4.700480365792417,
          5.231108616854587,
          4.477336814478207,
          5.19295685089021,
          5.2574953720277815,
          5.857933154483459,
          5.043425116919247,
          4.852030263919617,
          5.147494476813453,
          6.206575926724928,
          null,
          5.153291594497779,
          5.056245805348308,
          4.68213122712422,
          4.2626798770413155,
          3.6888794541139363,
          5.53338948872752,
          5.231108616854587,
          4.890349128221754
         ],
         "x0": " ",
         "xaxis": "x",
         "y0": " ",
         "yaxis": "y"
        }
       ],
       "layout": {
        "boxmode": "group",
        "legend": {
         "tracegroupgap": 0
        },
        "margin": {
         "t": 60
        },
        "template": {
         "data": {
          "bar": [
           {
            "error_x": {
             "color": "#2a3f5f"
            },
            "error_y": {
             "color": "#2a3f5f"
            },
            "marker": {
             "line": {
              "color": "#E5ECF6",
              "width": 0.5
             },
             "pattern": {
              "fillmode": "overlay",
              "size": 10,
              "solidity": 0.2
             }
            },
            "type": "bar"
           }
          ],
          "barpolar": [
           {
            "marker": {
             "line": {
              "color": "#E5ECF6",
              "width": 0.5
             },
             "pattern": {
              "fillmode": "overlay",
              "size": 10,
              "solidity": 0.2
             }
            },
            "type": "barpolar"
           }
          ],
          "carpet": [
           {
            "aaxis": {
             "endlinecolor": "#2a3f5f",
             "gridcolor": "white",
             "linecolor": "white",
             "minorgridcolor": "white",
             "startlinecolor": "#2a3f5f"
            },
            "baxis": {
             "endlinecolor": "#2a3f5f",
             "gridcolor": "white",
             "linecolor": "white",
             "minorgridcolor": "white",
             "startlinecolor": "#2a3f5f"
            },
            "type": "carpet"
           }
          ],
          "choropleth": [
           {
            "colorbar": {
             "outlinewidth": 0,
             "ticks": ""
            },
            "type": "choropleth"
           }
          ],
          "contour": [
           {
            "colorbar": {
             "outlinewidth": 0,
             "ticks": ""
            },
            "colorscale": [
             [
              0,
              "#0d0887"
             ],
             [
              0.1111111111111111,
              "#46039f"
             ],
             [
              0.2222222222222222,
              "#7201a8"
             ],
             [
              0.3333333333333333,
              "#9c179e"
             ],
             [
              0.4444444444444444,
              "#bd3786"
             ],
             [
              0.5555555555555556,
              "#d8576b"
             ],
             [
              0.6666666666666666,
              "#ed7953"
             ],
             [
              0.7777777777777778,
              "#fb9f3a"
             ],
             [
              0.8888888888888888,
              "#fdca26"
             ],
             [
              1,
              "#f0f921"
             ]
            ],
            "type": "contour"
           }
          ],
          "contourcarpet": [
           {
            "colorbar": {
             "outlinewidth": 0,
             "ticks": ""
            },
            "type": "contourcarpet"
           }
          ],
          "heatmap": [
           {
            "colorbar": {
             "outlinewidth": 0,
             "ticks": ""
            },
            "colorscale": [
             [
              0,
              "#0d0887"
             ],
             [
              0.1111111111111111,
              "#46039f"
             ],
             [
              0.2222222222222222,
              "#7201a8"
             ],
             [
              0.3333333333333333,
              "#9c179e"
             ],
             [
              0.4444444444444444,
              "#bd3786"
             ],
             [
              0.5555555555555556,
              "#d8576b"
             ],
             [
              0.6666666666666666,
              "#ed7953"
             ],
             [
              0.7777777777777778,
              "#fb9f3a"
             ],
             [
              0.8888888888888888,
              "#fdca26"
             ],
             [
              1,
              "#f0f921"
             ]
            ],
            "type": "heatmap"
           }
          ],
          "heatmapgl": [
           {
            "colorbar": {
             "outlinewidth": 0,
             "ticks": ""
            },
            "colorscale": [
             [
              0,
              "#0d0887"
             ],
             [
              0.1111111111111111,
              "#46039f"
             ],
             [
              0.2222222222222222,
              "#7201a8"
             ],
             [
              0.3333333333333333,
              "#9c179e"
             ],
             [
              0.4444444444444444,
              "#bd3786"
             ],
             [
              0.5555555555555556,
              "#d8576b"
             ],
             [
              0.6666666666666666,
              "#ed7953"
             ],
             [
              0.7777777777777778,
              "#fb9f3a"
             ],
             [
              0.8888888888888888,
              "#fdca26"
             ],
             [
              1,
              "#f0f921"
             ]
            ],
            "type": "heatmapgl"
           }
          ],
          "histogram": [
           {
            "marker": {
             "pattern": {
              "fillmode": "overlay",
              "size": 10,
              "solidity": 0.2
             }
            },
            "type": "histogram"
           }
          ],
          "histogram2d": [
           {
            "colorbar": {
             "outlinewidth": 0,
             "ticks": ""
            },
            "colorscale": [
             [
              0,
              "#0d0887"
             ],
             [
              0.1111111111111111,
              "#46039f"
             ],
             [
              0.2222222222222222,
              "#7201a8"
             ],
             [
              0.3333333333333333,
              "#9c179e"
             ],
             [
              0.4444444444444444,
              "#bd3786"
             ],
             [
              0.5555555555555556,
              "#d8576b"
             ],
             [
              0.6666666666666666,
              "#ed7953"
             ],
             [
              0.7777777777777778,
              "#fb9f3a"
             ],
             [
              0.8888888888888888,
              "#fdca26"
             ],
             [
              1,
              "#f0f921"
             ]
            ],
            "type": "histogram2d"
           }
          ],
          "histogram2dcontour": [
           {
            "colorbar": {
             "outlinewidth": 0,
             "ticks": ""
            },
            "colorscale": [
             [
              0,
              "#0d0887"
             ],
             [
              0.1111111111111111,
              "#46039f"
             ],
             [
              0.2222222222222222,
              "#7201a8"
             ],
             [
              0.3333333333333333,
              "#9c179e"
             ],
             [
              0.4444444444444444,
              "#bd3786"
             ],
             [
              0.5555555555555556,
              "#d8576b"
             ],
             [
              0.6666666666666666,
              "#ed7953"
             ],
             [
              0.7777777777777778,
              "#fb9f3a"
             ],
             [
              0.8888888888888888,
              "#fdca26"
             ],
             [
              1,
              "#f0f921"
             ]
            ],
            "type": "histogram2dcontour"
           }
          ],
          "mesh3d": [
           {
            "colorbar": {
             "outlinewidth": 0,
             "ticks": ""
            },
            "type": "mesh3d"
           }
          ],
          "parcoords": [
           {
            "line": {
             "colorbar": {
              "outlinewidth": 0,
              "ticks": ""
             }
            },
            "type": "parcoords"
           }
          ],
          "pie": [
           {
            "automargin": true,
            "type": "pie"
           }
          ],
          "scatter": [
           {
            "fillpattern": {
             "fillmode": "overlay",
             "size": 10,
             "solidity": 0.2
            },
            "type": "scatter"
           }
          ],
          "scatter3d": [
           {
            "line": {
             "colorbar": {
              "outlinewidth": 0,
              "ticks": ""
             }
            },
            "marker": {
             "colorbar": {
              "outlinewidth": 0,
              "ticks": ""
             }
            },
            "type": "scatter3d"
           }
          ],
          "scattercarpet": [
           {
            "marker": {
             "colorbar": {
              "outlinewidth": 0,
              "ticks": ""
             }
            },
            "type": "scattercarpet"
           }
          ],
          "scattergeo": [
           {
            "marker": {
             "colorbar": {
              "outlinewidth": 0,
              "ticks": ""
             }
            },
            "type": "scattergeo"
           }
          ],
          "scattergl": [
           {
            "marker": {
             "colorbar": {
              "outlinewidth": 0,
              "ticks": ""
             }
            },
            "type": "scattergl"
           }
          ],
          "scattermapbox": [
           {
            "marker": {
             "colorbar": {
              "outlinewidth": 0,
              "ticks": ""
             }
            },
            "type": "scattermapbox"
           }
          ],
          "scatterpolar": [
           {
            "marker": {
             "colorbar": {
              "outlinewidth": 0,
              "ticks": ""
             }
            },
            "type": "scatterpolar"
           }
          ],
          "scatterpolargl": [
           {
            "marker": {
             "colorbar": {
              "outlinewidth": 0,
              "ticks": ""
             }
            },
            "type": "scatterpolargl"
           }
          ],
          "scatterternary": [
           {
            "marker": {
             "colorbar": {
              "outlinewidth": 0,
              "ticks": ""
             }
            },
            "type": "scatterternary"
           }
          ],
          "surface": [
           {
            "colorbar": {
             "outlinewidth": 0,
             "ticks": ""
            },
            "colorscale": [
             [
              0,
              "#0d0887"
             ],
             [
              0.1111111111111111,
              "#46039f"
             ],
             [
              0.2222222222222222,
              "#7201a8"
             ],
             [
              0.3333333333333333,
              "#9c179e"
             ],
             [
              0.4444444444444444,
              "#bd3786"
             ],
             [
              0.5555555555555556,
              "#d8576b"
             ],
             [
              0.6666666666666666,
              "#ed7953"
             ],
             [
              0.7777777777777778,
              "#fb9f3a"
             ],
             [
              0.8888888888888888,
              "#fdca26"
             ],
             [
              1,
              "#f0f921"
             ]
            ],
            "type": "surface"
           }
          ],
          "table": [
           {
            "cells": {
             "fill": {
              "color": "#EBF0F8"
             },
             "line": {
              "color": "white"
             }
            },
            "header": {
             "fill": {
              "color": "#C8D4E3"
             },
             "line": {
              "color": "white"
             }
            },
            "type": "table"
           }
          ]
         },
         "layout": {
          "annotationdefaults": {
           "arrowcolor": "#2a3f5f",
           "arrowhead": 0,
           "arrowwidth": 1
          },
          "autotypenumbers": "strict",
          "coloraxis": {
           "colorbar": {
            "outlinewidth": 0,
            "ticks": ""
           }
          },
          "colorscale": {
           "diverging": [
            [
             0,
             "#8e0152"
            ],
            [
             0.1,
             "#c51b7d"
            ],
            [
             0.2,
             "#de77ae"
            ],
            [
             0.3,
             "#f1b6da"
            ],
            [
             0.4,
             "#fde0ef"
            ],
            [
             0.5,
             "#f7f7f7"
            ],
            [
             0.6,
             "#e6f5d0"
            ],
            [
             0.7,
             "#b8e186"
            ],
            [
             0.8,
             "#7fbc41"
            ],
            [
             0.9,
             "#4d9221"
            ],
            [
             1,
             "#276419"
            ]
           ],
           "sequential": [
            [
             0,
             "#0d0887"
            ],
            [
             0.1111111111111111,
             "#46039f"
            ],
            [
             0.2222222222222222,
             "#7201a8"
            ],
            [
             0.3333333333333333,
             "#9c179e"
            ],
            [
             0.4444444444444444,
             "#bd3786"
            ],
            [
             0.5555555555555556,
             "#d8576b"
            ],
            [
             0.6666666666666666,
             "#ed7953"
            ],
            [
             0.7777777777777778,
             "#fb9f3a"
            ],
            [
             0.8888888888888888,
             "#fdca26"
            ],
            [
             1,
             "#f0f921"
            ]
           ],
           "sequentialminus": [
            [
             0,
             "#0d0887"
            ],
            [
             0.1111111111111111,
             "#46039f"
            ],
            [
             0.2222222222222222,
             "#7201a8"
            ],
            [
             0.3333333333333333,
             "#9c179e"
            ],
            [
             0.4444444444444444,
             "#bd3786"
            ],
            [
             0.5555555555555556,
             "#d8576b"
            ],
            [
             0.6666666666666666,
             "#ed7953"
            ],
            [
             0.7777777777777778,
             "#fb9f3a"
            ],
            [
             0.8888888888888888,
             "#fdca26"
            ],
            [
             1,
             "#f0f921"
            ]
           ]
          },
          "colorway": [
           "#636efa",
           "#EF553B",
           "#00cc96",
           "#ab63fa",
           "#FFA15A",
           "#19d3f3",
           "#FF6692",
           "#B6E880",
           "#FF97FF",
           "#FECB52"
          ],
          "font": {
           "color": "#2a3f5f"
          },
          "geo": {
           "bgcolor": "white",
           "lakecolor": "white",
           "landcolor": "#E5ECF6",
           "showlakes": true,
           "showland": true,
           "subunitcolor": "white"
          },
          "hoverlabel": {
           "align": "left"
          },
          "hovermode": "closest",
          "mapbox": {
           "style": "light"
          },
          "paper_bgcolor": "white",
          "plot_bgcolor": "#E5ECF6",
          "polar": {
           "angularaxis": {
            "gridcolor": "white",
            "linecolor": "white",
            "ticks": ""
           },
           "bgcolor": "#E5ECF6",
           "radialaxis": {
            "gridcolor": "white",
            "linecolor": "white",
            "ticks": ""
           }
          },
          "scene": {
           "xaxis": {
            "backgroundcolor": "#E5ECF6",
            "gridcolor": "white",
            "gridwidth": 2,
            "linecolor": "white",
            "showbackground": true,
            "ticks": "",
            "zerolinecolor": "white"
           },
           "yaxis": {
            "backgroundcolor": "#E5ECF6",
            "gridcolor": "white",
            "gridwidth": 2,
            "linecolor": "white",
            "showbackground": true,
            "ticks": "",
            "zerolinecolor": "white"
           },
           "zaxis": {
            "backgroundcolor": "#E5ECF6",
            "gridcolor": "white",
            "gridwidth": 2,
            "linecolor": "white",
            "showbackground": true,
            "ticks": "",
            "zerolinecolor": "white"
           }
          },
          "shapedefaults": {
           "line": {
            "color": "#2a3f5f"
           }
          },
          "ternary": {
           "aaxis": {
            "gridcolor": "white",
            "linecolor": "white",
            "ticks": ""
           },
           "baxis": {
            "gridcolor": "white",
            "linecolor": "white",
            "ticks": ""
           },
           "bgcolor": "#E5ECF6",
           "caxis": {
            "gridcolor": "white",
            "linecolor": "white",
            "ticks": ""
           }
          },
          "title": {
           "x": 0.05
          },
          "xaxis": {
           "automargin": true,
           "gridcolor": "white",
           "linecolor": "white",
           "ticks": "",
           "title": {
            "standoff": 15
           },
           "zerolinecolor": "white",
           "zerolinewidth": 2
          },
          "yaxis": {
           "automargin": true,
           "gridcolor": "white",
           "linecolor": "white",
           "ticks": "",
           "title": {
            "standoff": 15
           },
           "zerolinecolor": "white",
           "zerolinewidth": 2
          }
         }
        },
        "xaxis": {
         "anchor": "y",
         "domain": [
          0,
          1
         ],
         "title": {
          "text": "log_LoanAmount"
         }
        },
        "yaxis": {
         "anchor": "x",
         "domain": [
          0,
          1
         ]
        }
       }
      }
     },
     "metadata": {},
     "output_type": "display_data"
    }
   ],
   "source": [
    "px.box(df, x= \"log_LoanAmount\")"
   ]
  },
  {
   "cell_type": "code",
   "execution_count": 33,
   "id": "44d576a5",
   "metadata": {},
   "outputs": [
    {
     "data": {
      "text/plain": [
       "Index(['Gender', 'Married', 'Dependents', 'Education', 'Self_Employed',\n",
       "       'ApplicantIncome', 'CoapplicantIncome', 'LoanAmount',\n",
       "       'Loan_Amount_Term', 'Credit_History', 'Property_Area', 'Loan_Status',\n",
       "       'log_ApplicantIncome', 'log_LoanAmount'],\n",
       "      dtype='object')"
      ]
     },
     "execution_count": 33,
     "metadata": {},
     "output_type": "execute_result"
    }
   ],
   "source": [
    "df.columns"
   ]
  },
  {
   "cell_type": "markdown",
   "id": "1414ac5d",
   "metadata": {},
   "source": [
    "## Loan_Amount_Term"
   ]
  },
  {
   "cell_type": "code",
   "execution_count": 34,
   "id": "9f85ca0e",
   "metadata": {},
   "outputs": [
    {
     "data": {
      "text/plain": [
       "count    600.00000\n",
       "mean     342.00000\n",
       "std       65.12041\n",
       "min       12.00000\n",
       "25%      360.00000\n",
       "50%      360.00000\n",
       "75%      360.00000\n",
       "max      480.00000\n",
       "Name: Loan_Amount_Term, dtype: float64"
      ]
     },
     "execution_count": 34,
     "metadata": {},
     "output_type": "execute_result"
    }
   ],
   "source": [
    "df.Loan_Amount_Term.describe()"
   ]
  },
  {
   "cell_type": "code",
   "execution_count": 35,
   "id": "f93cee8f",
   "metadata": {},
   "outputs": [
    {
     "data": {
      "application/vnd.plotly.v1+json": {
       "config": {
        "plotlyServerURL": "https://plot.ly"
       },
       "data": [
        {
         "alignmentgroup": "True",
         "bingroup": "x",
         "hovertemplate": "Loan_Amount_Term=%{x}<br>count=%{y}<extra></extra>",
         "legendgroup": "",
         "marker": {
          "color": "#636efa",
          "pattern": {
           "shape": ""
          }
         },
         "name": "",
         "offsetgroup": "",
         "orientation": "v",
         "showlegend": false,
         "type": "histogram",
         "x": [
          360,
          360,
          360,
          360,
          360,
          360,
          360,
          360,
          360,
          360,
          360,
          360,
          360,
          360,
          120,
          360,
          240,
          360,
          360,
          null,
          360,
          360,
          360,
          360,
          360,
          360,
          360,
          360,
          360,
          360,
          360,
          360,
          360,
          360,
          360,
          360,
          null,
          360,
          360,
          360,
          360,
          360,
          360,
          360,
          null,
          null,
          360,
          360,
          360,
          360,
          360,
          360,
          360,
          360,
          360,
          360,
          360,
          360,
          360,
          360,
          360,
          360,
          180,
          360,
          360,
          360,
          180,
          360,
          60,
          360,
          360,
          360,
          300,
          null,
          360,
          480,
          360,
          360,
          300,
          360,
          360,
          360,
          360,
          360,
          240,
          360,
          360,
          360,
          360,
          360,
          360,
          180,
          360,
          360,
          120,
          360,
          360,
          360,
          180,
          360,
          180,
          360,
          360,
          360,
          360,
          360,
          360,
          360,
          360,
          480,
          360,
          360,
          null,
          360,
          360,
          180,
          360,
          360,
          360,
          360,
          360,
          360,
          360,
          360,
          360,
          360,
          360,
          360,
          180,
          360,
          480,
          360,
          360,
          120,
          360,
          360,
          360,
          360,
          360,
          360,
          360,
          360,
          180,
          360,
          180,
          360,
          360,
          360,
          360,
          360,
          360,
          360,
          360,
          360,
          360,
          180,
          360,
          360,
          360,
          360,
          360,
          360,
          360,
          360,
          180,
          null,
          360,
          360,
          480,
          360,
          360,
          300,
          180,
          360,
          360,
          360,
          360,
          360,
          360,
          480,
          360,
          360,
          180,
          360,
          360,
          360,
          300,
          360,
          360,
          180,
          360,
          360,
          360,
          360,
          360,
          360,
          360,
          null,
          360,
          360,
          360,
          360,
          180,
          360,
          360,
          360,
          360,
          360,
          360,
          360,
          360,
          360,
          360,
          360,
          360,
          360,
          360,
          360,
          360,
          360,
          360,
          360,
          360,
          null,
          360,
          360,
          360,
          360,
          480,
          360,
          360,
          180,
          null,
          360,
          360,
          360,
          360,
          360,
          360,
          360,
          360,
          180,
          60,
          360,
          360,
          180,
          360,
          180,
          480,
          360,
          360,
          360,
          360,
          180,
          360,
          360,
          360,
          360,
          360,
          360,
          360,
          360,
          36,
          360,
          360,
          360,
          360,
          360,
          360,
          360,
          360,
          360,
          360,
          360,
          360,
          360,
          360,
          360,
          360,
          360,
          360,
          360,
          180,
          360,
          360,
          360,
          300,
          360,
          360,
          360,
          360,
          360,
          360,
          480,
          360,
          360,
          360,
          360,
          480,
          360,
          360,
          360,
          360,
          360,
          360,
          360,
          360,
          360,
          360,
          360,
          360,
          360,
          360,
          84,
          360,
          180,
          360,
          360,
          360,
          360,
          360,
          360,
          360,
          360,
          360,
          360,
          360,
          360,
          360,
          360,
          360,
          360,
          360,
          180,
          180,
          null,
          360,
          360,
          360,
          360,
          360,
          360,
          360,
          360,
          360,
          360,
          360,
          360,
          360,
          360,
          360,
          360,
          360,
          360,
          360,
          180,
          360,
          360,
          480,
          360,
          360,
          360,
          360,
          300,
          360,
          360,
          480,
          null,
          360,
          360,
          360,
          360,
          300,
          180,
          360,
          180,
          360,
          360,
          480,
          360,
          360,
          360,
          360,
          360,
          360,
          180,
          360,
          360,
          360,
          360,
          360,
          360,
          360,
          180,
          360,
          360,
          360,
          360,
          360,
          360,
          180,
          300,
          360,
          360,
          360,
          360,
          360,
          360,
          300,
          360,
          360,
          360,
          360,
          360,
          360,
          360,
          360,
          360,
          360,
          360,
          360,
          null,
          360,
          null,
          360,
          360,
          360,
          360,
          360,
          180,
          360,
          360,
          360,
          360,
          360,
          240,
          360,
          360,
          360,
          360,
          360,
          360,
          360,
          360,
          300,
          360,
          360,
          360,
          360,
          360,
          360,
          300,
          360,
          180,
          360,
          360,
          360,
          360,
          360,
          360,
          360,
          180,
          360,
          360,
          360,
          360,
          180,
          360,
          360,
          360,
          360,
          180,
          360,
          360,
          360,
          360,
          300,
          360,
          360,
          360,
          360,
          360,
          360,
          360,
          360,
          360,
          360,
          360,
          360,
          360,
          360,
          360,
          360,
          360,
          360,
          84,
          360,
          12,
          360,
          360,
          480,
          360,
          360,
          360,
          300,
          360,
          360,
          360,
          360,
          360,
          360,
          360,
          360,
          180,
          360,
          360,
          480,
          360,
          360,
          360,
          360,
          360,
          360,
          360,
          360,
          360,
          360,
          360,
          360,
          360,
          360,
          360,
          360,
          360,
          360,
          360,
          360,
          360,
          360,
          180,
          180,
          360,
          360,
          360,
          360,
          360,
          36,
          360,
          360,
          360,
          360,
          360,
          360,
          360,
          180,
          360,
          360,
          360,
          360,
          360,
          360,
          360,
          360,
          360,
          360,
          360,
          360,
          360,
          360,
          360,
          360,
          360,
          360,
          480,
          360,
          84,
          360,
          360,
          360,
          360,
          360,
          360,
          360,
          360,
          360,
          84,
          360,
          360,
          360,
          360,
          180,
          240,
          360,
          180,
          360,
          360,
          360,
          360,
          360,
          360,
          180,
          360,
          360,
          360,
          360,
          180,
          360,
          360,
          360,
          360,
          180,
          360,
          360,
          360
         ],
         "xaxis": "x",
         "yaxis": "y"
        }
       ],
       "layout": {
        "barmode": "relative",
        "legend": {
         "tracegroupgap": 0
        },
        "margin": {
         "t": 60
        },
        "template": {
         "data": {
          "bar": [
           {
            "error_x": {
             "color": "#2a3f5f"
            },
            "error_y": {
             "color": "#2a3f5f"
            },
            "marker": {
             "line": {
              "color": "#E5ECF6",
              "width": 0.5
             },
             "pattern": {
              "fillmode": "overlay",
              "size": 10,
              "solidity": 0.2
             }
            },
            "type": "bar"
           }
          ],
          "barpolar": [
           {
            "marker": {
             "line": {
              "color": "#E5ECF6",
              "width": 0.5
             },
             "pattern": {
              "fillmode": "overlay",
              "size": 10,
              "solidity": 0.2
             }
            },
            "type": "barpolar"
           }
          ],
          "carpet": [
           {
            "aaxis": {
             "endlinecolor": "#2a3f5f",
             "gridcolor": "white",
             "linecolor": "white",
             "minorgridcolor": "white",
             "startlinecolor": "#2a3f5f"
            },
            "baxis": {
             "endlinecolor": "#2a3f5f",
             "gridcolor": "white",
             "linecolor": "white",
             "minorgridcolor": "white",
             "startlinecolor": "#2a3f5f"
            },
            "type": "carpet"
           }
          ],
          "choropleth": [
           {
            "colorbar": {
             "outlinewidth": 0,
             "ticks": ""
            },
            "type": "choropleth"
           }
          ],
          "contour": [
           {
            "colorbar": {
             "outlinewidth": 0,
             "ticks": ""
            },
            "colorscale": [
             [
              0,
              "#0d0887"
             ],
             [
              0.1111111111111111,
              "#46039f"
             ],
             [
              0.2222222222222222,
              "#7201a8"
             ],
             [
              0.3333333333333333,
              "#9c179e"
             ],
             [
              0.4444444444444444,
              "#bd3786"
             ],
             [
              0.5555555555555556,
              "#d8576b"
             ],
             [
              0.6666666666666666,
              "#ed7953"
             ],
             [
              0.7777777777777778,
              "#fb9f3a"
             ],
             [
              0.8888888888888888,
              "#fdca26"
             ],
             [
              1,
              "#f0f921"
             ]
            ],
            "type": "contour"
           }
          ],
          "contourcarpet": [
           {
            "colorbar": {
             "outlinewidth": 0,
             "ticks": ""
            },
            "type": "contourcarpet"
           }
          ],
          "heatmap": [
           {
            "colorbar": {
             "outlinewidth": 0,
             "ticks": ""
            },
            "colorscale": [
             [
              0,
              "#0d0887"
             ],
             [
              0.1111111111111111,
              "#46039f"
             ],
             [
              0.2222222222222222,
              "#7201a8"
             ],
             [
              0.3333333333333333,
              "#9c179e"
             ],
             [
              0.4444444444444444,
              "#bd3786"
             ],
             [
              0.5555555555555556,
              "#d8576b"
             ],
             [
              0.6666666666666666,
              "#ed7953"
             ],
             [
              0.7777777777777778,
              "#fb9f3a"
             ],
             [
              0.8888888888888888,
              "#fdca26"
             ],
             [
              1,
              "#f0f921"
             ]
            ],
            "type": "heatmap"
           }
          ],
          "heatmapgl": [
           {
            "colorbar": {
             "outlinewidth": 0,
             "ticks": ""
            },
            "colorscale": [
             [
              0,
              "#0d0887"
             ],
             [
              0.1111111111111111,
              "#46039f"
             ],
             [
              0.2222222222222222,
              "#7201a8"
             ],
             [
              0.3333333333333333,
              "#9c179e"
             ],
             [
              0.4444444444444444,
              "#bd3786"
             ],
             [
              0.5555555555555556,
              "#d8576b"
             ],
             [
              0.6666666666666666,
              "#ed7953"
             ],
             [
              0.7777777777777778,
              "#fb9f3a"
             ],
             [
              0.8888888888888888,
              "#fdca26"
             ],
             [
              1,
              "#f0f921"
             ]
            ],
            "type": "heatmapgl"
           }
          ],
          "histogram": [
           {
            "marker": {
             "pattern": {
              "fillmode": "overlay",
              "size": 10,
              "solidity": 0.2
             }
            },
            "type": "histogram"
           }
          ],
          "histogram2d": [
           {
            "colorbar": {
             "outlinewidth": 0,
             "ticks": ""
            },
            "colorscale": [
             [
              0,
              "#0d0887"
             ],
             [
              0.1111111111111111,
              "#46039f"
             ],
             [
              0.2222222222222222,
              "#7201a8"
             ],
             [
              0.3333333333333333,
              "#9c179e"
             ],
             [
              0.4444444444444444,
              "#bd3786"
             ],
             [
              0.5555555555555556,
              "#d8576b"
             ],
             [
              0.6666666666666666,
              "#ed7953"
             ],
             [
              0.7777777777777778,
              "#fb9f3a"
             ],
             [
              0.8888888888888888,
              "#fdca26"
             ],
             [
              1,
              "#f0f921"
             ]
            ],
            "type": "histogram2d"
           }
          ],
          "histogram2dcontour": [
           {
            "colorbar": {
             "outlinewidth": 0,
             "ticks": ""
            },
            "colorscale": [
             [
              0,
              "#0d0887"
             ],
             [
              0.1111111111111111,
              "#46039f"
             ],
             [
              0.2222222222222222,
              "#7201a8"
             ],
             [
              0.3333333333333333,
              "#9c179e"
             ],
             [
              0.4444444444444444,
              "#bd3786"
             ],
             [
              0.5555555555555556,
              "#d8576b"
             ],
             [
              0.6666666666666666,
              "#ed7953"
             ],
             [
              0.7777777777777778,
              "#fb9f3a"
             ],
             [
              0.8888888888888888,
              "#fdca26"
             ],
             [
              1,
              "#f0f921"
             ]
            ],
            "type": "histogram2dcontour"
           }
          ],
          "mesh3d": [
           {
            "colorbar": {
             "outlinewidth": 0,
             "ticks": ""
            },
            "type": "mesh3d"
           }
          ],
          "parcoords": [
           {
            "line": {
             "colorbar": {
              "outlinewidth": 0,
              "ticks": ""
             }
            },
            "type": "parcoords"
           }
          ],
          "pie": [
           {
            "automargin": true,
            "type": "pie"
           }
          ],
          "scatter": [
           {
            "fillpattern": {
             "fillmode": "overlay",
             "size": 10,
             "solidity": 0.2
            },
            "type": "scatter"
           }
          ],
          "scatter3d": [
           {
            "line": {
             "colorbar": {
              "outlinewidth": 0,
              "ticks": ""
             }
            },
            "marker": {
             "colorbar": {
              "outlinewidth": 0,
              "ticks": ""
             }
            },
            "type": "scatter3d"
           }
          ],
          "scattercarpet": [
           {
            "marker": {
             "colorbar": {
              "outlinewidth": 0,
              "ticks": ""
             }
            },
            "type": "scattercarpet"
           }
          ],
          "scattergeo": [
           {
            "marker": {
             "colorbar": {
              "outlinewidth": 0,
              "ticks": ""
             }
            },
            "type": "scattergeo"
           }
          ],
          "scattergl": [
           {
            "marker": {
             "colorbar": {
              "outlinewidth": 0,
              "ticks": ""
             }
            },
            "type": "scattergl"
           }
          ],
          "scattermapbox": [
           {
            "marker": {
             "colorbar": {
              "outlinewidth": 0,
              "ticks": ""
             }
            },
            "type": "scattermapbox"
           }
          ],
          "scatterpolar": [
           {
            "marker": {
             "colorbar": {
              "outlinewidth": 0,
              "ticks": ""
             }
            },
            "type": "scatterpolar"
           }
          ],
          "scatterpolargl": [
           {
            "marker": {
             "colorbar": {
              "outlinewidth": 0,
              "ticks": ""
             }
            },
            "type": "scatterpolargl"
           }
          ],
          "scatterternary": [
           {
            "marker": {
             "colorbar": {
              "outlinewidth": 0,
              "ticks": ""
             }
            },
            "type": "scatterternary"
           }
          ],
          "surface": [
           {
            "colorbar": {
             "outlinewidth": 0,
             "ticks": ""
            },
            "colorscale": [
             [
              0,
              "#0d0887"
             ],
             [
              0.1111111111111111,
              "#46039f"
             ],
             [
              0.2222222222222222,
              "#7201a8"
             ],
             [
              0.3333333333333333,
              "#9c179e"
             ],
             [
              0.4444444444444444,
              "#bd3786"
             ],
             [
              0.5555555555555556,
              "#d8576b"
             ],
             [
              0.6666666666666666,
              "#ed7953"
             ],
             [
              0.7777777777777778,
              "#fb9f3a"
             ],
             [
              0.8888888888888888,
              "#fdca26"
             ],
             [
              1,
              "#f0f921"
             ]
            ],
            "type": "surface"
           }
          ],
          "table": [
           {
            "cells": {
             "fill": {
              "color": "#EBF0F8"
             },
             "line": {
              "color": "white"
             }
            },
            "header": {
             "fill": {
              "color": "#C8D4E3"
             },
             "line": {
              "color": "white"
             }
            },
            "type": "table"
           }
          ]
         },
         "layout": {
          "annotationdefaults": {
           "arrowcolor": "#2a3f5f",
           "arrowhead": 0,
           "arrowwidth": 1
          },
          "autotypenumbers": "strict",
          "coloraxis": {
           "colorbar": {
            "outlinewidth": 0,
            "ticks": ""
           }
          },
          "colorscale": {
           "diverging": [
            [
             0,
             "#8e0152"
            ],
            [
             0.1,
             "#c51b7d"
            ],
            [
             0.2,
             "#de77ae"
            ],
            [
             0.3,
             "#f1b6da"
            ],
            [
             0.4,
             "#fde0ef"
            ],
            [
             0.5,
             "#f7f7f7"
            ],
            [
             0.6,
             "#e6f5d0"
            ],
            [
             0.7,
             "#b8e186"
            ],
            [
             0.8,
             "#7fbc41"
            ],
            [
             0.9,
             "#4d9221"
            ],
            [
             1,
             "#276419"
            ]
           ],
           "sequential": [
            [
             0,
             "#0d0887"
            ],
            [
             0.1111111111111111,
             "#46039f"
            ],
            [
             0.2222222222222222,
             "#7201a8"
            ],
            [
             0.3333333333333333,
             "#9c179e"
            ],
            [
             0.4444444444444444,
             "#bd3786"
            ],
            [
             0.5555555555555556,
             "#d8576b"
            ],
            [
             0.6666666666666666,
             "#ed7953"
            ],
            [
             0.7777777777777778,
             "#fb9f3a"
            ],
            [
             0.8888888888888888,
             "#fdca26"
            ],
            [
             1,
             "#f0f921"
            ]
           ],
           "sequentialminus": [
            [
             0,
             "#0d0887"
            ],
            [
             0.1111111111111111,
             "#46039f"
            ],
            [
             0.2222222222222222,
             "#7201a8"
            ],
            [
             0.3333333333333333,
             "#9c179e"
            ],
            [
             0.4444444444444444,
             "#bd3786"
            ],
            [
             0.5555555555555556,
             "#d8576b"
            ],
            [
             0.6666666666666666,
             "#ed7953"
            ],
            [
             0.7777777777777778,
             "#fb9f3a"
            ],
            [
             0.8888888888888888,
             "#fdca26"
            ],
            [
             1,
             "#f0f921"
            ]
           ]
          },
          "colorway": [
           "#636efa",
           "#EF553B",
           "#00cc96",
           "#ab63fa",
           "#FFA15A",
           "#19d3f3",
           "#FF6692",
           "#B6E880",
           "#FF97FF",
           "#FECB52"
          ],
          "font": {
           "color": "#2a3f5f"
          },
          "geo": {
           "bgcolor": "white",
           "lakecolor": "white",
           "landcolor": "#E5ECF6",
           "showlakes": true,
           "showland": true,
           "subunitcolor": "white"
          },
          "hoverlabel": {
           "align": "left"
          },
          "hovermode": "closest",
          "mapbox": {
           "style": "light"
          },
          "paper_bgcolor": "white",
          "plot_bgcolor": "#E5ECF6",
          "polar": {
           "angularaxis": {
            "gridcolor": "white",
            "linecolor": "white",
            "ticks": ""
           },
           "bgcolor": "#E5ECF6",
           "radialaxis": {
            "gridcolor": "white",
            "linecolor": "white",
            "ticks": ""
           }
          },
          "scene": {
           "xaxis": {
            "backgroundcolor": "#E5ECF6",
            "gridcolor": "white",
            "gridwidth": 2,
            "linecolor": "white",
            "showbackground": true,
            "ticks": "",
            "zerolinecolor": "white"
           },
           "yaxis": {
            "backgroundcolor": "#E5ECF6",
            "gridcolor": "white",
            "gridwidth": 2,
            "linecolor": "white",
            "showbackground": true,
            "ticks": "",
            "zerolinecolor": "white"
           },
           "zaxis": {
            "backgroundcolor": "#E5ECF6",
            "gridcolor": "white",
            "gridwidth": 2,
            "linecolor": "white",
            "showbackground": true,
            "ticks": "",
            "zerolinecolor": "white"
           }
          },
          "shapedefaults": {
           "line": {
            "color": "#2a3f5f"
           }
          },
          "ternary": {
           "aaxis": {
            "gridcolor": "white",
            "linecolor": "white",
            "ticks": ""
           },
           "baxis": {
            "gridcolor": "white",
            "linecolor": "white",
            "ticks": ""
           },
           "bgcolor": "#E5ECF6",
           "caxis": {
            "gridcolor": "white",
            "linecolor": "white",
            "ticks": ""
           }
          },
          "title": {
           "x": 0.05
          },
          "xaxis": {
           "automargin": true,
           "gridcolor": "white",
           "linecolor": "white",
           "ticks": "",
           "title": {
            "standoff": 15
           },
           "zerolinecolor": "white",
           "zerolinewidth": 2
          },
          "yaxis": {
           "automargin": true,
           "gridcolor": "white",
           "linecolor": "white",
           "ticks": "",
           "title": {
            "standoff": 15
           },
           "zerolinecolor": "white",
           "zerolinewidth": 2
          }
         }
        },
        "xaxis": {
         "anchor": "y",
         "domain": [
          0,
          1
         ],
         "title": {
          "text": "Loan_Amount_Term"
         }
        },
        "yaxis": {
         "anchor": "x",
         "domain": [
          0,
          1
         ],
         "title": {
          "text": "count"
         }
        }
       }
      }
     },
     "metadata": {},
     "output_type": "display_data"
    }
   ],
   "source": [
    "px.histogram(df, x= \"Loan_Amount_Term\" )"
   ]
  },
  {
   "cell_type": "markdown",
   "id": "0d68d08f",
   "metadata": {},
   "source": [
    "## Credit_History"
   ]
  },
  {
   "cell_type": "code",
   "execution_count": 36,
   "id": "796f46e2",
   "metadata": {},
   "outputs": [
    {
     "data": {
      "text/plain": [
       "array([ 1.,  0., nan])"
      ]
     },
     "execution_count": 36,
     "metadata": {},
     "output_type": "execute_result"
    }
   ],
   "source": [
    "df.Credit_History.unique()"
   ]
  },
  {
   "cell_type": "code",
   "execution_count": 37,
   "id": "da4109bd",
   "metadata": {},
   "outputs": [
    {
     "data": {
      "text/plain": [
       "Credit_History\n",
       "1.0    475\n",
       "0.0     89\n",
       "Name: count, dtype: int64"
      ]
     },
     "execution_count": 37,
     "metadata": {},
     "output_type": "execute_result"
    }
   ],
   "source": [
    "df.Credit_History.value_counts()"
   ]
  },
  {
   "cell_type": "markdown",
   "id": "5e873bf1",
   "metadata": {},
   "source": [
    "## Property_Area"
   ]
  },
  {
   "cell_type": "code",
   "execution_count": 38,
   "id": "0476c39f",
   "metadata": {},
   "outputs": [
    {
     "data": {
      "text/plain": [
       "array(['Urban', 'Rural', 'Semiurban'], dtype=object)"
      ]
     },
     "execution_count": 38,
     "metadata": {},
     "output_type": "execute_result"
    }
   ],
   "source": [
    "df.Property_Area.unique()"
   ]
  },
  {
   "cell_type": "code",
   "execution_count": 39,
   "id": "fdeb738f",
   "metadata": {},
   "outputs": [
    {
     "data": {
      "text/plain": [
       "Property_Area\n",
       "Semiurban    233\n",
       "Urban        202\n",
       "Rural        179\n",
       "Name: count, dtype: int64"
      ]
     },
     "execution_count": 39,
     "metadata": {},
     "output_type": "execute_result"
    }
   ],
   "source": [
    "df.Property_Area.value_counts() "
   ]
  },
  {
   "cell_type": "markdown",
   "id": "214ed120",
   "metadata": {},
   "source": [
    "## Loan_Status"
   ]
  },
  {
   "cell_type": "code",
   "execution_count": 40,
   "id": "eae3f988",
   "metadata": {},
   "outputs": [
    {
     "data": {
      "text/plain": [
       "Loan_Status\n",
       "Y    422\n",
       "N    192\n",
       "Name: count, dtype: int64"
      ]
     },
     "execution_count": 40,
     "metadata": {},
     "output_type": "execute_result"
    }
   ],
   "source": [
    "df[\"Loan_Status\"]. value_counts()"
   ]
  },
  {
   "cell_type": "code",
   "execution_count": 41,
   "id": "b6f17bfa",
   "metadata": {},
   "outputs": [],
   "source": [
    "# Map Target\n",
    "df[\"Loan_Status\"] = df[\"Loan_Status\"].map({\"N\" : 0, \"Y\": 1})"
   ]
  },
  {
   "cell_type": "markdown",
   "id": "ddfcc0a0",
   "metadata": {},
   "source": [
    "### **Target is immbalanced and wil handle it**"
   ]
  },
  {
   "cell_type": "markdown",
   "id": "229339d3",
   "metadata": {},
   "source": [
    "## Multivariate analysis \n",
    "\n",
    "### **Multivariate analysis was performed to examine the relationships between multiple features and the target**"
   ]
  },
  {
   "cell_type": "code",
   "execution_count": 42,
   "id": "81dbd914",
   "metadata": {},
   "outputs": [
    {
     "data": {
      "text/plain": [
       "Index(['Gender', 'Married', 'Dependents', 'Education', 'Self_Employed',\n",
       "       'ApplicantIncome', 'CoapplicantIncome', 'LoanAmount',\n",
       "       'Loan_Amount_Term', 'Credit_History', 'Property_Area', 'Loan_Status',\n",
       "       'log_ApplicantIncome', 'log_LoanAmount'],\n",
       "      dtype='object')"
      ]
     },
     "execution_count": 42,
     "metadata": {},
     "output_type": "execute_result"
    }
   ],
   "source": [
    "df.columns"
   ]
  },
  {
   "cell_type": "markdown",
   "id": "7c7f308c",
   "metadata": {},
   "source": [
    "##  1-Does higher income always mean higher loan?"
   ]
  },
  {
   "cell_type": "code",
   "execution_count": 43,
   "id": "bce0021c",
   "metadata": {},
   "outputs": [
    {
     "data": {
      "application/vnd.plotly.v1+json": {
       "config": {
        "plotlyServerURL": "https://plot.ly"
       },
       "data": [
        {
         "alignmentgroup": "True",
         "hovertemplate": "Loan_Status=%{x}<br>ApplicantIncome=%{y}<extra></extra>",
         "legendgroup": "1",
         "marker": {
          "color": "#636efa"
         },
         "name": "1",
         "notched": false,
         "offsetgroup": "1",
         "orientation": "v",
         "showlegend": true,
         "type": "box",
         "x": [
          1,
          1,
          1,
          1,
          1,
          1,
          1,
          1,
          1,
          1,
          1,
          1,
          1,
          1,
          1,
          1,
          1,
          1,
          1,
          1,
          1,
          1,
          1,
          1,
          1,
          1,
          1,
          1,
          1,
          1,
          1,
          1,
          1,
          1,
          1,
          1,
          1,
          1,
          1,
          1,
          1,
          1,
          1,
          1,
          1,
          1,
          1,
          1,
          1,
          1,
          1,
          1,
          1,
          1,
          1,
          1,
          1,
          1,
          1,
          1,
          1,
          1,
          1,
          1,
          1,
          1,
          1,
          1,
          1,
          1,
          1,
          1,
          1,
          1,
          1,
          1,
          1,
          1,
          1,
          1,
          1,
          1,
          1,
          1,
          1,
          1,
          1,
          1,
          1,
          1,
          1,
          1,
          1,
          1,
          1,
          1,
          1,
          1,
          1,
          1,
          1,
          1,
          1,
          1,
          1,
          1,
          1,
          1,
          1,
          1,
          1,
          1,
          1,
          1,
          1,
          1,
          1,
          1,
          1,
          1,
          1,
          1,
          1,
          1,
          1,
          1,
          1,
          1,
          1,
          1,
          1,
          1,
          1,
          1,
          1,
          1,
          1,
          1,
          1,
          1,
          1,
          1,
          1,
          1,
          1,
          1,
          1,
          1,
          1,
          1,
          1,
          1,
          1,
          1,
          1,
          1,
          1,
          1,
          1,
          1,
          1,
          1,
          1,
          1,
          1,
          1,
          1,
          1,
          1,
          1,
          1,
          1,
          1,
          1,
          1,
          1,
          1,
          1,
          1,
          1,
          1,
          1,
          1,
          1,
          1,
          1,
          1,
          1,
          1,
          1,
          1,
          1,
          1,
          1,
          1,
          1,
          1,
          1,
          1,
          1,
          1,
          1,
          1,
          1,
          1,
          1,
          1,
          1,
          1,
          1,
          1,
          1,
          1,
          1,
          1,
          1,
          1,
          1,
          1,
          1,
          1,
          1,
          1,
          1,
          1,
          1,
          1,
          1,
          1,
          1,
          1,
          1,
          1,
          1,
          1,
          1,
          1,
          1,
          1,
          1,
          1,
          1,
          1,
          1,
          1,
          1,
          1,
          1,
          1,
          1,
          1,
          1,
          1,
          1,
          1,
          1,
          1,
          1,
          1,
          1,
          1,
          1,
          1,
          1,
          1,
          1,
          1,
          1,
          1,
          1,
          1,
          1,
          1,
          1,
          1,
          1,
          1,
          1,
          1,
          1,
          1,
          1,
          1,
          1,
          1,
          1,
          1,
          1,
          1,
          1,
          1,
          1,
          1,
          1,
          1,
          1,
          1,
          1,
          1,
          1,
          1,
          1,
          1,
          1,
          1,
          1,
          1,
          1,
          1,
          1,
          1,
          1,
          1,
          1,
          1,
          1,
          1,
          1,
          1,
          1,
          1,
          1,
          1,
          1,
          1,
          1,
          1,
          1,
          1,
          1,
          1,
          1,
          1,
          1,
          1,
          1,
          1,
          1,
          1,
          1,
          1,
          1,
          1,
          1,
          1,
          1,
          1,
          1,
          1,
          1,
          1,
          1,
          1,
          1,
          1,
          1,
          1,
          1,
          1,
          1,
          1,
          1,
          1,
          1,
          1,
          1,
          1,
          1,
          1,
          1,
          1,
          1,
          1,
          1,
          1,
          1,
          1,
          1,
          1,
          1,
          1,
          1,
          1,
          1,
          1,
          1,
          1,
          1,
          1,
          1,
          1,
          1,
          1,
          1,
          1,
          1,
          1,
          1,
          1,
          1,
          1,
          1,
          1,
          1,
          1,
          1,
          1,
          1,
          1,
          1,
          1,
          1,
          1,
          1,
          1,
          1,
          1,
          1,
          1,
          1,
          1,
          1
         ],
         "x0": " ",
         "xaxis": "x",
         "y": [
          5849,
          3000,
          2583,
          6000,
          5417,
          2333,
          4006,
          3200,
          2500,
          3073,
          1299,
          4950,
          3596,
          2600,
          5955,
          9560,
          2799,
          4226,
          3750,
          3500,
          2275,
          3667,
          4166,
          3748,
          1800,
          2400,
          3941,
          4695,
          3410,
          5649,
          5821,
          4000,
          1928,
          3086,
          2708,
          2132,
          8080,
          3357,
          2500,
          3029,
          10750,
          7100,
          3208,
          1875,
          3500,
          5266,
          3333,
          3846,
          2395,
          3988,
          2366,
          3333,
          2500,
          8566,
          5695,
          2958,
          6250,
          3273,
          4133,
          3620,
          2484,
          1977,
          4188,
          1759,
          4288,
          4843,
          13650,
          4652,
          3816,
          3052,
          11417,
          2071,
          5316,
          2929,
          7451,
          5050,
          14583,
          3167,
          2214,
          10408,
          5667,
          4166,
          2137,
          2957,
          4300,
          3692,
          23803,
          3865,
          20166,
          2014,
          2718,
          3459,
          4895,
          3316,
          5417,
          6950,
          2698,
          11757,
          2330,
          14866,
          1538,
          4860,
          2577,
          3254,
          39999,
          6000,
          9538,
          2980,
          4583,
          1863,
          4167,
          9323,
          3707,
          2439,
          8000,
          1820,
          51763,
          5708,
          3497,
          2045,
          3750,
          4600,
          3625,
          39147,
          2383,
          674,
          9328,
          4885,
          3858,
          4191,
          8333,
          1907,
          3416,
          2600,
          4923,
          3500,
          3917,
          4408,
          3244,
          3975,
          2479,
          7787,
          5703,
          3173,
          3850,
          3727,
          4283,
          4009,
          2971,
          7578,
          6250,
          6250,
          4758,
          6400,
          2491,
          3716,
          3189,
          8333,
          3155,
          5500,
          3463,
          3812,
          3315,
          5819,
          2965,
          6250,
          3406,
          9703,
          6608,
          2882,
          1809,
          2583,
          2661,
          3083,
          6083,
          2060,
          7200,
          5166,
          4095,
          4708,
          4333,
          2876,
          3237,
          11146,
          2833,
          2620,
          3900,
          2750,
          3993,
          3103,
          14583,
          4100,
          3927,
          2301,
          1811,
          3158,
          3704,
          4124,
          9508,
          3075,
          3153,
          2383,
          4416,
          6875,
          4666,
          2875,
          5000,
          1625,
          4000,
          3762,
          7667,
          2917,
          2927,
          2507,
          5746,
          3399,
          3717,
          2058,
          3541,
          2400,
          4342,
          3601,
          3166,
          15000,
          4917,
          5818,
          2500,
          4384,
          2935,
          2833,
          63337,
          9833,
          5503,
          5250,
          2500,
          4160,
          4554,
          3173,
          2583,
          2499,
          3083,
          6333,
          2625,
          9083,
          2666,
          2423,
          3813,
          8333,
          5167,
          5000,
          4750,
          3013,
          6822,
          6325,
          15759,
          5185,
          9323,
          2764,
          4817,
          8750,
          4310,
          5391,
          3333,
          5941,
          6000,
          7167,
          3667,
          2346,
          2333,
          5488,
          9167,
          9504,
          2583,
          1993,
          3100,
          3276,
          3033,
          3902,
          2500,
          1963,
          4547,
          2167,
          2213,
          6256,
          2253,
          2995,
          1025,
          3246,
          5829,
          1820,
          14880,
          2666,
          5935,
          2920,
          2717,
          8624,
          12876,
          2425,
          3750,
          10047,
          1926,
          2213,
          7142,
          3660,
          7901,
          4707,
          37719,
          7333,
          3466,
          4652,
          1958,
          2483,
          7085,
          3859,
          4301,
          4354,
          2083,
          7740,
          3015,
          5191,
          6000,
          16692,
          210,
          3450,
          4691,
          2500,
          5532,
          16525,
          6700,
          16667,
          4350,
          3095,
          2083,
          10833,
          8333,
          1958,
          4583,
          2699,
          5333,
          3691,
          17263,
          3326,
          2600,
          4625,
          2895,
          645,
          3159,
          4865,
          3814,
          3510,
          20833,
          2479,
          13262,
          6065,
          3283,
          3466,
          2031,
          2192,
          2500,
          5677,
          7948,
          17500,
          3775,
          5285,
          2679,
          6783,
          1025,
          4281,
          18165,
          2550,
          6133,
          3617,
          6417,
          4608,
          3652,
          2239,
          3017,
          2768,
          2526,
          2785,
          2492,
          3333,
          5468,
          2667,
          10139,
          3887,
          4180,
          3675,
          19484,
          5923,
          5800,
          4467,
          3333,
          3417,
          16666,
          3159,
          3229,
          1782,
          3182,
          6540,
          3166,
          2297,
          2165,
          4750,
          3000,
          9357,
          3859,
          16120,
          3833,
          9963,
          5780,
          2894,
          5703,
          3676,
          12000,
          3400,
          3987,
          3232,
          2900,
          4106,
          8072,
          7583
         ],
         "y0": " ",
         "yaxis": "y"
        },
        {
         "alignmentgroup": "True",
         "hovertemplate": "Loan_Status=%{x}<br>ApplicantIncome=%{y}<extra></extra>",
         "legendgroup": "0",
         "marker": {
          "color": "#EF553B"
         },
         "name": "0",
         "notched": false,
         "offsetgroup": "0",
         "orientation": "v",
         "showlegend": true,
         "type": "box",
         "x": [
          0,
          0,
          0,
          0,
          0,
          0,
          0,
          0,
          0,
          0,
          0,
          0,
          0,
          0,
          0,
          0,
          0,
          0,
          0,
          0,
          0,
          0,
          0,
          0,
          0,
          0,
          0,
          0,
          0,
          0,
          0,
          0,
          0,
          0,
          0,
          0,
          0,
          0,
          0,
          0,
          0,
          0,
          0,
          0,
          0,
          0,
          0,
          0,
          0,
          0,
          0,
          0,
          0,
          0,
          0,
          0,
          0,
          0,
          0,
          0,
          0,
          0,
          0,
          0,
          0,
          0,
          0,
          0,
          0,
          0,
          0,
          0,
          0,
          0,
          0,
          0,
          0,
          0,
          0,
          0,
          0,
          0,
          0,
          0,
          0,
          0,
          0,
          0,
          0,
          0,
          0,
          0,
          0,
          0,
          0,
          0,
          0,
          0,
          0,
          0,
          0,
          0,
          0,
          0,
          0,
          0,
          0,
          0,
          0,
          0,
          0,
          0,
          0,
          0,
          0,
          0,
          0,
          0,
          0,
          0,
          0,
          0,
          0,
          0,
          0,
          0,
          0,
          0,
          0,
          0,
          0,
          0,
          0,
          0,
          0,
          0,
          0,
          0,
          0,
          0,
          0,
          0,
          0,
          0,
          0,
          0,
          0,
          0,
          0,
          0,
          0,
          0,
          0,
          0,
          0,
          0,
          0,
          0,
          0,
          0,
          0,
          0,
          0,
          0,
          0,
          0,
          0,
          0,
          0,
          0,
          0,
          0,
          0,
          0,
          0,
          0,
          0,
          0,
          0,
          0,
          0,
          0,
          0,
          0,
          0,
          0,
          0,
          0,
          0,
          0,
          0,
          0
         ],
         "x0": " ",
         "xaxis": "x",
         "y": [
          4583,
          3036,
          12841,
          1853,
          3510,
          4887,
          7660,
          2600,
          3365,
          3717,
          1442,
          4166,
          3167,
          4692,
          12500,
          1828,
          3600,
          2645,
          4230,
          4616,
          11500,
          3366,
          2609,
          4945,
          4166,
          5726,
          3200,
          4300,
          4755,
          3750,
          3750,
          1000,
          3167,
          1378,
          6000,
          6782,
          7333,
          3800,
          3572,
          5568,
          10513,
          6080,
          4000,
          4583,
          14999,
          4200,
          5042,
          10000,
          6277,
          9166,
          2281,
          7933,
          3089,
          4583,
          2237,
          3522,
          4344,
          5516,
          2333,
          6400,
          1916,
          33846,
          2178,
          12000,
          6033,
          3125,
          11000,
          3992,
          3418,
          10000,
          3430,
          150,
          5000,
          2221,
          3250,
          4735,
          5746,
          2510,
          6050,
          1668,
          3427,
          16250,
          6045,
          5250,
          14683,
          4931,
          3481,
          3418,
          4053,
          20667,
          2600,
          4400,
          5417,
          5000,
          2014,
          1800,
          2000,
          2400,
          20233,
          2473,
          10000,
          8666,
          4333,
          1830,
          2647,
          2378,
          3523,
          8750,
          5500,
          3875,
          3000,
          4723,
          6216,
          2500,
          5124,
          19730,
          3062,
          3069,
          4566,
          3010,
          3180,
          1500,
          2889,
          2755,
          7441,
          8300,
          81000,
          3867,
          6096,
          2149,
          2600,
          1600,
          2720,
          7250,
          4606,
          6500,
          10416,
          3539,
          3340,
          2769,
          2309,
          3948,
          3708,
          8334,
          4166,
          2947,
          4333,
          2653,
          2873,
          2947,
          3547,
          18333,
          2435,
          3597,
          6283,
          4050,
          3583,
          3598,
          2130,
          5815,
          3074,
          4683,
          3400,
          4680,
          3588,
          11250,
          2917,
          2138,
          3358,
          5000,
          6633,
          2454,
          3593,
          8799,
          3400,
          2378,
          3166,
          5116,
          6125,
          6406,
          3087,
          1836,
          1880,
          2787,
          4283,
          2726,
          6000,
          6383,
          2987,
          416,
          2400,
          4583
         ],
         "y0": " ",
         "yaxis": "y"
        }
       ],
       "layout": {
        "boxmode": "overlay",
        "legend": {
         "title": {
          "text": "Loan_Status"
         },
         "tracegroupgap": 0
        },
        "template": {
         "data": {
          "bar": [
           {
            "error_x": {
             "color": "#2a3f5f"
            },
            "error_y": {
             "color": "#2a3f5f"
            },
            "marker": {
             "line": {
              "color": "#E5ECF6",
              "width": 0.5
             },
             "pattern": {
              "fillmode": "overlay",
              "size": 10,
              "solidity": 0.2
             }
            },
            "type": "bar"
           }
          ],
          "barpolar": [
           {
            "marker": {
             "line": {
              "color": "#E5ECF6",
              "width": 0.5
             },
             "pattern": {
              "fillmode": "overlay",
              "size": 10,
              "solidity": 0.2
             }
            },
            "type": "barpolar"
           }
          ],
          "carpet": [
           {
            "aaxis": {
             "endlinecolor": "#2a3f5f",
             "gridcolor": "white",
             "linecolor": "white",
             "minorgridcolor": "white",
             "startlinecolor": "#2a3f5f"
            },
            "baxis": {
             "endlinecolor": "#2a3f5f",
             "gridcolor": "white",
             "linecolor": "white",
             "minorgridcolor": "white",
             "startlinecolor": "#2a3f5f"
            },
            "type": "carpet"
           }
          ],
          "choropleth": [
           {
            "colorbar": {
             "outlinewidth": 0,
             "ticks": ""
            },
            "type": "choropleth"
           }
          ],
          "contour": [
           {
            "colorbar": {
             "outlinewidth": 0,
             "ticks": ""
            },
            "colorscale": [
             [
              0,
              "#0d0887"
             ],
             [
              0.1111111111111111,
              "#46039f"
             ],
             [
              0.2222222222222222,
              "#7201a8"
             ],
             [
              0.3333333333333333,
              "#9c179e"
             ],
             [
              0.4444444444444444,
              "#bd3786"
             ],
             [
              0.5555555555555556,
              "#d8576b"
             ],
             [
              0.6666666666666666,
              "#ed7953"
             ],
             [
              0.7777777777777778,
              "#fb9f3a"
             ],
             [
              0.8888888888888888,
              "#fdca26"
             ],
             [
              1,
              "#f0f921"
             ]
            ],
            "type": "contour"
           }
          ],
          "contourcarpet": [
           {
            "colorbar": {
             "outlinewidth": 0,
             "ticks": ""
            },
            "type": "contourcarpet"
           }
          ],
          "heatmap": [
           {
            "colorbar": {
             "outlinewidth": 0,
             "ticks": ""
            },
            "colorscale": [
             [
              0,
              "#0d0887"
             ],
             [
              0.1111111111111111,
              "#46039f"
             ],
             [
              0.2222222222222222,
              "#7201a8"
             ],
             [
              0.3333333333333333,
              "#9c179e"
             ],
             [
              0.4444444444444444,
              "#bd3786"
             ],
             [
              0.5555555555555556,
              "#d8576b"
             ],
             [
              0.6666666666666666,
              "#ed7953"
             ],
             [
              0.7777777777777778,
              "#fb9f3a"
             ],
             [
              0.8888888888888888,
              "#fdca26"
             ],
             [
              1,
              "#f0f921"
             ]
            ],
            "type": "heatmap"
           }
          ],
          "heatmapgl": [
           {
            "colorbar": {
             "outlinewidth": 0,
             "ticks": ""
            },
            "colorscale": [
             [
              0,
              "#0d0887"
             ],
             [
              0.1111111111111111,
              "#46039f"
             ],
             [
              0.2222222222222222,
              "#7201a8"
             ],
             [
              0.3333333333333333,
              "#9c179e"
             ],
             [
              0.4444444444444444,
              "#bd3786"
             ],
             [
              0.5555555555555556,
              "#d8576b"
             ],
             [
              0.6666666666666666,
              "#ed7953"
             ],
             [
              0.7777777777777778,
              "#fb9f3a"
             ],
             [
              0.8888888888888888,
              "#fdca26"
             ],
             [
              1,
              "#f0f921"
             ]
            ],
            "type": "heatmapgl"
           }
          ],
          "histogram": [
           {
            "marker": {
             "pattern": {
              "fillmode": "overlay",
              "size": 10,
              "solidity": 0.2
             }
            },
            "type": "histogram"
           }
          ],
          "histogram2d": [
           {
            "colorbar": {
             "outlinewidth": 0,
             "ticks": ""
            },
            "colorscale": [
             [
              0,
              "#0d0887"
             ],
             [
              0.1111111111111111,
              "#46039f"
             ],
             [
              0.2222222222222222,
              "#7201a8"
             ],
             [
              0.3333333333333333,
              "#9c179e"
             ],
             [
              0.4444444444444444,
              "#bd3786"
             ],
             [
              0.5555555555555556,
              "#d8576b"
             ],
             [
              0.6666666666666666,
              "#ed7953"
             ],
             [
              0.7777777777777778,
              "#fb9f3a"
             ],
             [
              0.8888888888888888,
              "#fdca26"
             ],
             [
              1,
              "#f0f921"
             ]
            ],
            "type": "histogram2d"
           }
          ],
          "histogram2dcontour": [
           {
            "colorbar": {
             "outlinewidth": 0,
             "ticks": ""
            },
            "colorscale": [
             [
              0,
              "#0d0887"
             ],
             [
              0.1111111111111111,
              "#46039f"
             ],
             [
              0.2222222222222222,
              "#7201a8"
             ],
             [
              0.3333333333333333,
              "#9c179e"
             ],
             [
              0.4444444444444444,
              "#bd3786"
             ],
             [
              0.5555555555555556,
              "#d8576b"
             ],
             [
              0.6666666666666666,
              "#ed7953"
             ],
             [
              0.7777777777777778,
              "#fb9f3a"
             ],
             [
              0.8888888888888888,
              "#fdca26"
             ],
             [
              1,
              "#f0f921"
             ]
            ],
            "type": "histogram2dcontour"
           }
          ],
          "mesh3d": [
           {
            "colorbar": {
             "outlinewidth": 0,
             "ticks": ""
            },
            "type": "mesh3d"
           }
          ],
          "parcoords": [
           {
            "line": {
             "colorbar": {
              "outlinewidth": 0,
              "ticks": ""
             }
            },
            "type": "parcoords"
           }
          ],
          "pie": [
           {
            "automargin": true,
            "type": "pie"
           }
          ],
          "scatter": [
           {
            "fillpattern": {
             "fillmode": "overlay",
             "size": 10,
             "solidity": 0.2
            },
            "type": "scatter"
           }
          ],
          "scatter3d": [
           {
            "line": {
             "colorbar": {
              "outlinewidth": 0,
              "ticks": ""
             }
            },
            "marker": {
             "colorbar": {
              "outlinewidth": 0,
              "ticks": ""
             }
            },
            "type": "scatter3d"
           }
          ],
          "scattercarpet": [
           {
            "marker": {
             "colorbar": {
              "outlinewidth": 0,
              "ticks": ""
             }
            },
            "type": "scattercarpet"
           }
          ],
          "scattergeo": [
           {
            "marker": {
             "colorbar": {
              "outlinewidth": 0,
              "ticks": ""
             }
            },
            "type": "scattergeo"
           }
          ],
          "scattergl": [
           {
            "marker": {
             "colorbar": {
              "outlinewidth": 0,
              "ticks": ""
             }
            },
            "type": "scattergl"
           }
          ],
          "scattermapbox": [
           {
            "marker": {
             "colorbar": {
              "outlinewidth": 0,
              "ticks": ""
             }
            },
            "type": "scattermapbox"
           }
          ],
          "scatterpolar": [
           {
            "marker": {
             "colorbar": {
              "outlinewidth": 0,
              "ticks": ""
             }
            },
            "type": "scatterpolar"
           }
          ],
          "scatterpolargl": [
           {
            "marker": {
             "colorbar": {
              "outlinewidth": 0,
              "ticks": ""
             }
            },
            "type": "scatterpolargl"
           }
          ],
          "scatterternary": [
           {
            "marker": {
             "colorbar": {
              "outlinewidth": 0,
              "ticks": ""
             }
            },
            "type": "scatterternary"
           }
          ],
          "surface": [
           {
            "colorbar": {
             "outlinewidth": 0,
             "ticks": ""
            },
            "colorscale": [
             [
              0,
              "#0d0887"
             ],
             [
              0.1111111111111111,
              "#46039f"
             ],
             [
              0.2222222222222222,
              "#7201a8"
             ],
             [
              0.3333333333333333,
              "#9c179e"
             ],
             [
              0.4444444444444444,
              "#bd3786"
             ],
             [
              0.5555555555555556,
              "#d8576b"
             ],
             [
              0.6666666666666666,
              "#ed7953"
             ],
             [
              0.7777777777777778,
              "#fb9f3a"
             ],
             [
              0.8888888888888888,
              "#fdca26"
             ],
             [
              1,
              "#f0f921"
             ]
            ],
            "type": "surface"
           }
          ],
          "table": [
           {
            "cells": {
             "fill": {
              "color": "#EBF0F8"
             },
             "line": {
              "color": "white"
             }
            },
            "header": {
             "fill": {
              "color": "#C8D4E3"
             },
             "line": {
              "color": "white"
             }
            },
            "type": "table"
           }
          ]
         },
         "layout": {
          "annotationdefaults": {
           "arrowcolor": "#2a3f5f",
           "arrowhead": 0,
           "arrowwidth": 1
          },
          "autotypenumbers": "strict",
          "coloraxis": {
           "colorbar": {
            "outlinewidth": 0,
            "ticks": ""
           }
          },
          "colorscale": {
           "diverging": [
            [
             0,
             "#8e0152"
            ],
            [
             0.1,
             "#c51b7d"
            ],
            [
             0.2,
             "#de77ae"
            ],
            [
             0.3,
             "#f1b6da"
            ],
            [
             0.4,
             "#fde0ef"
            ],
            [
             0.5,
             "#f7f7f7"
            ],
            [
             0.6,
             "#e6f5d0"
            ],
            [
             0.7,
             "#b8e186"
            ],
            [
             0.8,
             "#7fbc41"
            ],
            [
             0.9,
             "#4d9221"
            ],
            [
             1,
             "#276419"
            ]
           ],
           "sequential": [
            [
             0,
             "#0d0887"
            ],
            [
             0.1111111111111111,
             "#46039f"
            ],
            [
             0.2222222222222222,
             "#7201a8"
            ],
            [
             0.3333333333333333,
             "#9c179e"
            ],
            [
             0.4444444444444444,
             "#bd3786"
            ],
            [
             0.5555555555555556,
             "#d8576b"
            ],
            [
             0.6666666666666666,
             "#ed7953"
            ],
            [
             0.7777777777777778,
             "#fb9f3a"
            ],
            [
             0.8888888888888888,
             "#fdca26"
            ],
            [
             1,
             "#f0f921"
            ]
           ],
           "sequentialminus": [
            [
             0,
             "#0d0887"
            ],
            [
             0.1111111111111111,
             "#46039f"
            ],
            [
             0.2222222222222222,
             "#7201a8"
            ],
            [
             0.3333333333333333,
             "#9c179e"
            ],
            [
             0.4444444444444444,
             "#bd3786"
            ],
            [
             0.5555555555555556,
             "#d8576b"
            ],
            [
             0.6666666666666666,
             "#ed7953"
            ],
            [
             0.7777777777777778,
             "#fb9f3a"
            ],
            [
             0.8888888888888888,
             "#fdca26"
            ],
            [
             1,
             "#f0f921"
            ]
           ]
          },
          "colorway": [
           "#636efa",
           "#EF553B",
           "#00cc96",
           "#ab63fa",
           "#FFA15A",
           "#19d3f3",
           "#FF6692",
           "#B6E880",
           "#FF97FF",
           "#FECB52"
          ],
          "font": {
           "color": "#2a3f5f"
          },
          "geo": {
           "bgcolor": "white",
           "lakecolor": "white",
           "landcolor": "#E5ECF6",
           "showlakes": true,
           "showland": true,
           "subunitcolor": "white"
          },
          "hoverlabel": {
           "align": "left"
          },
          "hovermode": "closest",
          "mapbox": {
           "style": "light"
          },
          "paper_bgcolor": "white",
          "plot_bgcolor": "#E5ECF6",
          "polar": {
           "angularaxis": {
            "gridcolor": "white",
            "linecolor": "white",
            "ticks": ""
           },
           "bgcolor": "#E5ECF6",
           "radialaxis": {
            "gridcolor": "white",
            "linecolor": "white",
            "ticks": ""
           }
          },
          "scene": {
           "xaxis": {
            "backgroundcolor": "#E5ECF6",
            "gridcolor": "white",
            "gridwidth": 2,
            "linecolor": "white",
            "showbackground": true,
            "ticks": "",
            "zerolinecolor": "white"
           },
           "yaxis": {
            "backgroundcolor": "#E5ECF6",
            "gridcolor": "white",
            "gridwidth": 2,
            "linecolor": "white",
            "showbackground": true,
            "ticks": "",
            "zerolinecolor": "white"
           },
           "zaxis": {
            "backgroundcolor": "#E5ECF6",
            "gridcolor": "white",
            "gridwidth": 2,
            "linecolor": "white",
            "showbackground": true,
            "ticks": "",
            "zerolinecolor": "white"
           }
          },
          "shapedefaults": {
           "line": {
            "color": "#2a3f5f"
           }
          },
          "ternary": {
           "aaxis": {
            "gridcolor": "white",
            "linecolor": "white",
            "ticks": ""
           },
           "baxis": {
            "gridcolor": "white",
            "linecolor": "white",
            "ticks": ""
           },
           "bgcolor": "#E5ECF6",
           "caxis": {
            "gridcolor": "white",
            "linecolor": "white",
            "ticks": ""
           }
          },
          "title": {
           "x": 0.05
          },
          "xaxis": {
           "automargin": true,
           "gridcolor": "white",
           "linecolor": "white",
           "ticks": "",
           "title": {
            "standoff": 15
           },
           "zerolinecolor": "white",
           "zerolinewidth": 2
          },
          "yaxis": {
           "automargin": true,
           "gridcolor": "white",
           "linecolor": "white",
           "ticks": "",
           "title": {
            "standoff": 15
           },
           "zerolinecolor": "white",
           "zerolinewidth": 2
          }
         }
        },
        "title": {
         "text": "Applicant Income Distribution by Loan Status"
        },
        "xaxis": {
         "anchor": "y",
         "categoryarray": [
          1,
          0
         ],
         "categoryorder": "array",
         "domain": [
          0,
          1
         ],
         "title": {
          "text": "Loan_Status"
         }
        },
        "yaxis": {
         "anchor": "x",
         "domain": [
          0,
          1
         ],
         "title": {
          "text": "ApplicantIncome"
         }
        }
       }
      }
     },
     "metadata": {},
     "output_type": "display_data"
    }
   ],
   "source": [
    "fig = px.box(df, x='Loan_Status', y='ApplicantIncome', color='Loan_Status',\n",
    "             title='Applicant Income Distribution by Loan Status')\n",
    "fig.show()\n"
   ]
  },
  {
   "cell_type": "markdown",
   "id": "a5e852e4",
   "metadata": {},
   "source": [
    "### **Insights** :\n",
    "\n",
    "### **Higher income doesn’t consistently lead to loan approval; other factors likely play a larger role**"
   ]
  },
  {
   "cell_type": "markdown",
   "id": "e6945f6c",
   "metadata": {},
   "source": [
    "## 2-Is there a relationship between number of dependents and loan approval?"
   ]
  },
  {
   "cell_type": "code",
   "execution_count": 44,
   "id": "0c841380",
   "metadata": {},
   "outputs": [
    {
     "data": {
      "application/vnd.plotly.v1+json": {
       "config": {
        "plotlyServerURL": "https://plot.ly"
       },
       "data": [
        {
         "alignmentgroup": "True",
         "bingroup": "x",
         "hovertemplate": "Loan_Status=1<br>Dependents=%{x}<br>count=%{y}<extra></extra>",
         "legendgroup": "1",
         "marker": {
          "color": "#636efa",
          "pattern": {
           "shape": ""
          }
         },
         "name": "1",
         "offsetgroup": "1",
         "orientation": "v",
         "showlegend": true,
         "type": "histogram",
         "x": [
          0,
          0,
          0,
          0,
          2,
          0,
          2,
          2,
          2,
          2,
          2,
          0,
          1,
          0,
          1,
          0,
          0,
          2,
          2,
          0,
          0,
          0,
          0,
          0,
          0,
          0,
          0,
          0,
          0,
          1,
          0,
          0,
          0,
          0,
          2,
          0,
          1,
          2,
          0,
          3,
          1,
          3,
          0,
          2,
          0,
          3,
          3,
          0,
          1,
          1,
          0,
          2,
          0,
          0,
          0,
          0,
          2,
          2,
          0,
          0,
          0,
          0,
          0,
          0,
          2,
          0,
          null,
          0,
          null,
          1,
          2,
          3,
          0,
          0,
          1,
          0,
          1,
          0,
          1,
          0,
          null,
          0,
          0,
          2,
          0,
          0,
          3,
          0,
          0,
          0,
          0,
          0,
          0,
          2,
          0,
          0,
          0,
          2,
          0,
          2,
          1,
          0,
          0,
          0,
          3,
          1,
          1,
          0,
          0,
          0,
          2,
          0,
          0,
          0,
          2,
          0,
          3,
          0,
          0,
          2,
          1,
          0,
          0,
          0,
          0,
          0,
          0,
          0,
          0,
          0,
          0,
          0,
          0,
          1,
          2,
          1,
          2,
          0,
          0,
          0,
          0,
          1,
          3,
          0,
          3,
          0,
          2,
          2,
          0,
          0,
          0,
          2,
          null,
          0,
          1,
          0,
          0,
          0,
          1,
          1,
          0,
          1,
          1,
          2,
          0,
          2,
          0,
          2,
          1,
          1,
          0,
          0,
          1,
          3,
          1,
          0,
          0,
          0,
          0,
          2,
          3,
          1,
          0,
          0,
          0,
          0,
          2,
          1,
          0,
          0,
          0,
          0,
          0,
          2,
          0,
          0,
          0,
          0,
          0,
          0,
          2,
          0,
          3,
          1,
          1,
          null,
          0,
          1,
          0,
          0,
          2,
          0,
          0,
          0,
          2,
          1,
          2,
          0,
          1,
          0,
          3,
          2,
          0,
          3,
          0,
          0,
          0,
          1,
          0,
          null,
          0,
          1,
          null,
          1,
          2,
          0,
          1,
          3,
          2,
          0,
          2,
          0,
          0,
          0,
          3,
          0,
          null,
          2,
          3,
          2,
          0,
          0,
          0,
          1,
          0,
          2,
          2,
          0,
          0,
          3,
          0,
          2,
          0,
          0,
          0,
          0,
          1,
          0,
          0,
          0,
          3,
          3,
          0,
          2,
          2,
          2,
          0,
          0,
          0,
          0,
          0,
          0,
          0,
          0,
          0,
          0,
          0,
          0,
          0,
          0,
          0,
          0,
          2,
          0,
          0,
          1,
          0,
          0,
          0,
          null,
          0,
          0,
          0,
          0,
          0,
          3,
          1,
          0,
          1,
          2,
          2,
          0,
          0,
          2,
          0,
          2,
          0,
          3,
          0,
          1,
          0,
          0,
          2,
          1,
          3,
          0,
          2,
          2,
          2,
          1,
          0,
          3,
          0,
          0,
          2,
          1,
          2,
          0,
          1,
          0,
          0,
          1,
          0,
          0,
          1,
          0,
          0,
          2,
          0,
          2,
          0,
          0,
          1,
          1,
          2,
          3,
          2,
          2,
          0,
          3,
          2,
          2,
          0,
          1,
          1,
          0,
          0,
          3,
          0,
          0,
          0,
          2,
          3,
          1,
          1,
          1,
          0,
          0,
          0,
          0,
          1,
          1,
          1,
          0,
          3,
          0,
          0,
          2,
          1,
          0,
          0,
          0,
          0,
          1,
          2,
          2,
          0,
          1,
          0,
          2,
          0,
          0,
          0,
          0,
          0,
          3,
          0,
          0,
          0,
          0,
          2,
          0,
          3,
          0,
          1,
          1,
          2,
          0,
          0,
          3,
          1,
          2
         ],
         "xaxis": "x",
         "yaxis": "y"
        },
        {
         "alignmentgroup": "True",
         "bingroup": "x",
         "hovertemplate": "Loan_Status=0<br>Dependents=%{x}<br>count=%{y}<extra></extra>",
         "legendgroup": "0",
         "marker": {
          "color": "#EF553B",
          "pattern": {
           "shape": ""
          }
         },
         "name": "0",
         "offsetgroup": "0",
         "orientation": "v",
         "showlegend": true,
         "type": "histogram",
         "x": [
          1,
          3,
          1,
          0,
          0,
          0,
          0,
          0,
          2,
          1,
          0,
          1,
          0,
          1,
          3,
          0,
          0,
          0,
          0,
          2,
          1,
          0,
          0,
          1,
          0,
          0,
          0,
          0,
          3,
          0,
          0,
          1,
          3,
          2,
          0,
          0,
          0,
          2,
          0,
          0,
          1,
          0,
          3,
          0,
          0,
          2,
          2,
          0,
          0,
          0,
          2,
          0,
          1,
          0,
          0,
          3,
          0,
          3,
          0,
          1,
          0,
          1,
          1,
          0,
          0,
          1,
          0,
          3,
          0,
          0,
          3,
          0,
          2,
          0,
          0,
          null,
          0,
          1,
          0,
          0,
          2,
          0,
          0,
          3,
          0,
          3,
          1,
          0,
          1,
          0,
          0,
          2,
          null,
          0,
          1,
          0,
          0,
          0,
          0,
          0,
          1,
          1,
          0,
          3,
          3,
          0,
          null,
          0,
          0,
          1,
          0,
          1,
          0,
          0,
          0,
          0,
          1,
          0,
          2,
          0,
          0,
          0,
          2,
          0,
          0,
          1,
          3,
          1,
          0,
          0,
          1,
          2,
          0,
          1,
          1,
          0,
          0,
          0,
          2,
          1,
          2,
          0,
          0,
          0,
          0,
          3,
          0,
          1,
          2,
          2,
          2,
          1,
          0,
          0,
          0,
          1,
          0,
          0,
          0,
          0,
          null,
          0,
          0,
          0,
          2,
          1,
          0,
          0,
          0,
          0,
          2,
          0,
          0,
          2,
          3,
          0,
          0,
          null,
          2,
          3,
          0,
          0,
          1,
          1,
          1,
          2,
          2,
          2,
          null,
          3,
          0,
          0
         ],
         "xaxis": "x",
         "yaxis": "y"
        }
       ],
       "layout": {
        "barmode": "group",
        "legend": {
         "title": {
          "text": "Loan_Status"
         },
         "tracegroupgap": 0
        },
        "template": {
         "data": {
          "bar": [
           {
            "error_x": {
             "color": "#2a3f5f"
            },
            "error_y": {
             "color": "#2a3f5f"
            },
            "marker": {
             "line": {
              "color": "#E5ECF6",
              "width": 0.5
             },
             "pattern": {
              "fillmode": "overlay",
              "size": 10,
              "solidity": 0.2
             }
            },
            "type": "bar"
           }
          ],
          "barpolar": [
           {
            "marker": {
             "line": {
              "color": "#E5ECF6",
              "width": 0.5
             },
             "pattern": {
              "fillmode": "overlay",
              "size": 10,
              "solidity": 0.2
             }
            },
            "type": "barpolar"
           }
          ],
          "carpet": [
           {
            "aaxis": {
             "endlinecolor": "#2a3f5f",
             "gridcolor": "white",
             "linecolor": "white",
             "minorgridcolor": "white",
             "startlinecolor": "#2a3f5f"
            },
            "baxis": {
             "endlinecolor": "#2a3f5f",
             "gridcolor": "white",
             "linecolor": "white",
             "minorgridcolor": "white",
             "startlinecolor": "#2a3f5f"
            },
            "type": "carpet"
           }
          ],
          "choropleth": [
           {
            "colorbar": {
             "outlinewidth": 0,
             "ticks": ""
            },
            "type": "choropleth"
           }
          ],
          "contour": [
           {
            "colorbar": {
             "outlinewidth": 0,
             "ticks": ""
            },
            "colorscale": [
             [
              0,
              "#0d0887"
             ],
             [
              0.1111111111111111,
              "#46039f"
             ],
             [
              0.2222222222222222,
              "#7201a8"
             ],
             [
              0.3333333333333333,
              "#9c179e"
             ],
             [
              0.4444444444444444,
              "#bd3786"
             ],
             [
              0.5555555555555556,
              "#d8576b"
             ],
             [
              0.6666666666666666,
              "#ed7953"
             ],
             [
              0.7777777777777778,
              "#fb9f3a"
             ],
             [
              0.8888888888888888,
              "#fdca26"
             ],
             [
              1,
              "#f0f921"
             ]
            ],
            "type": "contour"
           }
          ],
          "contourcarpet": [
           {
            "colorbar": {
             "outlinewidth": 0,
             "ticks": ""
            },
            "type": "contourcarpet"
           }
          ],
          "heatmap": [
           {
            "colorbar": {
             "outlinewidth": 0,
             "ticks": ""
            },
            "colorscale": [
             [
              0,
              "#0d0887"
             ],
             [
              0.1111111111111111,
              "#46039f"
             ],
             [
              0.2222222222222222,
              "#7201a8"
             ],
             [
              0.3333333333333333,
              "#9c179e"
             ],
             [
              0.4444444444444444,
              "#bd3786"
             ],
             [
              0.5555555555555556,
              "#d8576b"
             ],
             [
              0.6666666666666666,
              "#ed7953"
             ],
             [
              0.7777777777777778,
              "#fb9f3a"
             ],
             [
              0.8888888888888888,
              "#fdca26"
             ],
             [
              1,
              "#f0f921"
             ]
            ],
            "type": "heatmap"
           }
          ],
          "heatmapgl": [
           {
            "colorbar": {
             "outlinewidth": 0,
             "ticks": ""
            },
            "colorscale": [
             [
              0,
              "#0d0887"
             ],
             [
              0.1111111111111111,
              "#46039f"
             ],
             [
              0.2222222222222222,
              "#7201a8"
             ],
             [
              0.3333333333333333,
              "#9c179e"
             ],
             [
              0.4444444444444444,
              "#bd3786"
             ],
             [
              0.5555555555555556,
              "#d8576b"
             ],
             [
              0.6666666666666666,
              "#ed7953"
             ],
             [
              0.7777777777777778,
              "#fb9f3a"
             ],
             [
              0.8888888888888888,
              "#fdca26"
             ],
             [
              1,
              "#f0f921"
             ]
            ],
            "type": "heatmapgl"
           }
          ],
          "histogram": [
           {
            "marker": {
             "pattern": {
              "fillmode": "overlay",
              "size": 10,
              "solidity": 0.2
             }
            },
            "type": "histogram"
           }
          ],
          "histogram2d": [
           {
            "colorbar": {
             "outlinewidth": 0,
             "ticks": ""
            },
            "colorscale": [
             [
              0,
              "#0d0887"
             ],
             [
              0.1111111111111111,
              "#46039f"
             ],
             [
              0.2222222222222222,
              "#7201a8"
             ],
             [
              0.3333333333333333,
              "#9c179e"
             ],
             [
              0.4444444444444444,
              "#bd3786"
             ],
             [
              0.5555555555555556,
              "#d8576b"
             ],
             [
              0.6666666666666666,
              "#ed7953"
             ],
             [
              0.7777777777777778,
              "#fb9f3a"
             ],
             [
              0.8888888888888888,
              "#fdca26"
             ],
             [
              1,
              "#f0f921"
             ]
            ],
            "type": "histogram2d"
           }
          ],
          "histogram2dcontour": [
           {
            "colorbar": {
             "outlinewidth": 0,
             "ticks": ""
            },
            "colorscale": [
             [
              0,
              "#0d0887"
             ],
             [
              0.1111111111111111,
              "#46039f"
             ],
             [
              0.2222222222222222,
              "#7201a8"
             ],
             [
              0.3333333333333333,
              "#9c179e"
             ],
             [
              0.4444444444444444,
              "#bd3786"
             ],
             [
              0.5555555555555556,
              "#d8576b"
             ],
             [
              0.6666666666666666,
              "#ed7953"
             ],
             [
              0.7777777777777778,
              "#fb9f3a"
             ],
             [
              0.8888888888888888,
              "#fdca26"
             ],
             [
              1,
              "#f0f921"
             ]
            ],
            "type": "histogram2dcontour"
           }
          ],
          "mesh3d": [
           {
            "colorbar": {
             "outlinewidth": 0,
             "ticks": ""
            },
            "type": "mesh3d"
           }
          ],
          "parcoords": [
           {
            "line": {
             "colorbar": {
              "outlinewidth": 0,
              "ticks": ""
             }
            },
            "type": "parcoords"
           }
          ],
          "pie": [
           {
            "automargin": true,
            "type": "pie"
           }
          ],
          "scatter": [
           {
            "fillpattern": {
             "fillmode": "overlay",
             "size": 10,
             "solidity": 0.2
            },
            "type": "scatter"
           }
          ],
          "scatter3d": [
           {
            "line": {
             "colorbar": {
              "outlinewidth": 0,
              "ticks": ""
             }
            },
            "marker": {
             "colorbar": {
              "outlinewidth": 0,
              "ticks": ""
             }
            },
            "type": "scatter3d"
           }
          ],
          "scattercarpet": [
           {
            "marker": {
             "colorbar": {
              "outlinewidth": 0,
              "ticks": ""
             }
            },
            "type": "scattercarpet"
           }
          ],
          "scattergeo": [
           {
            "marker": {
             "colorbar": {
              "outlinewidth": 0,
              "ticks": ""
             }
            },
            "type": "scattergeo"
           }
          ],
          "scattergl": [
           {
            "marker": {
             "colorbar": {
              "outlinewidth": 0,
              "ticks": ""
             }
            },
            "type": "scattergl"
           }
          ],
          "scattermapbox": [
           {
            "marker": {
             "colorbar": {
              "outlinewidth": 0,
              "ticks": ""
             }
            },
            "type": "scattermapbox"
           }
          ],
          "scatterpolar": [
           {
            "marker": {
             "colorbar": {
              "outlinewidth": 0,
              "ticks": ""
             }
            },
            "type": "scatterpolar"
           }
          ],
          "scatterpolargl": [
           {
            "marker": {
             "colorbar": {
              "outlinewidth": 0,
              "ticks": ""
             }
            },
            "type": "scatterpolargl"
           }
          ],
          "scatterternary": [
           {
            "marker": {
             "colorbar": {
              "outlinewidth": 0,
              "ticks": ""
             }
            },
            "type": "scatterternary"
           }
          ],
          "surface": [
           {
            "colorbar": {
             "outlinewidth": 0,
             "ticks": ""
            },
            "colorscale": [
             [
              0,
              "#0d0887"
             ],
             [
              0.1111111111111111,
              "#46039f"
             ],
             [
              0.2222222222222222,
              "#7201a8"
             ],
             [
              0.3333333333333333,
              "#9c179e"
             ],
             [
              0.4444444444444444,
              "#bd3786"
             ],
             [
              0.5555555555555556,
              "#d8576b"
             ],
             [
              0.6666666666666666,
              "#ed7953"
             ],
             [
              0.7777777777777778,
              "#fb9f3a"
             ],
             [
              0.8888888888888888,
              "#fdca26"
             ],
             [
              1,
              "#f0f921"
             ]
            ],
            "type": "surface"
           }
          ],
          "table": [
           {
            "cells": {
             "fill": {
              "color": "#EBF0F8"
             },
             "line": {
              "color": "white"
             }
            },
            "header": {
             "fill": {
              "color": "#C8D4E3"
             },
             "line": {
              "color": "white"
             }
            },
            "type": "table"
           }
          ]
         },
         "layout": {
          "annotationdefaults": {
           "arrowcolor": "#2a3f5f",
           "arrowhead": 0,
           "arrowwidth": 1
          },
          "autotypenumbers": "strict",
          "coloraxis": {
           "colorbar": {
            "outlinewidth": 0,
            "ticks": ""
           }
          },
          "colorscale": {
           "diverging": [
            [
             0,
             "#8e0152"
            ],
            [
             0.1,
             "#c51b7d"
            ],
            [
             0.2,
             "#de77ae"
            ],
            [
             0.3,
             "#f1b6da"
            ],
            [
             0.4,
             "#fde0ef"
            ],
            [
             0.5,
             "#f7f7f7"
            ],
            [
             0.6,
             "#e6f5d0"
            ],
            [
             0.7,
             "#b8e186"
            ],
            [
             0.8,
             "#7fbc41"
            ],
            [
             0.9,
             "#4d9221"
            ],
            [
             1,
             "#276419"
            ]
           ],
           "sequential": [
            [
             0,
             "#0d0887"
            ],
            [
             0.1111111111111111,
             "#46039f"
            ],
            [
             0.2222222222222222,
             "#7201a8"
            ],
            [
             0.3333333333333333,
             "#9c179e"
            ],
            [
             0.4444444444444444,
             "#bd3786"
            ],
            [
             0.5555555555555556,
             "#d8576b"
            ],
            [
             0.6666666666666666,
             "#ed7953"
            ],
            [
             0.7777777777777778,
             "#fb9f3a"
            ],
            [
             0.8888888888888888,
             "#fdca26"
            ],
            [
             1,
             "#f0f921"
            ]
           ],
           "sequentialminus": [
            [
             0,
             "#0d0887"
            ],
            [
             0.1111111111111111,
             "#46039f"
            ],
            [
             0.2222222222222222,
             "#7201a8"
            ],
            [
             0.3333333333333333,
             "#9c179e"
            ],
            [
             0.4444444444444444,
             "#bd3786"
            ],
            [
             0.5555555555555556,
             "#d8576b"
            ],
            [
             0.6666666666666666,
             "#ed7953"
            ],
            [
             0.7777777777777778,
             "#fb9f3a"
            ],
            [
             0.8888888888888888,
             "#fdca26"
            ],
            [
             1,
             "#f0f921"
            ]
           ]
          },
          "colorway": [
           "#636efa",
           "#EF553B",
           "#00cc96",
           "#ab63fa",
           "#FFA15A",
           "#19d3f3",
           "#FF6692",
           "#B6E880",
           "#FF97FF",
           "#FECB52"
          ],
          "font": {
           "color": "#2a3f5f"
          },
          "geo": {
           "bgcolor": "white",
           "lakecolor": "white",
           "landcolor": "#E5ECF6",
           "showlakes": true,
           "showland": true,
           "subunitcolor": "white"
          },
          "hoverlabel": {
           "align": "left"
          },
          "hovermode": "closest",
          "mapbox": {
           "style": "light"
          },
          "paper_bgcolor": "white",
          "plot_bgcolor": "#E5ECF6",
          "polar": {
           "angularaxis": {
            "gridcolor": "white",
            "linecolor": "white",
            "ticks": ""
           },
           "bgcolor": "#E5ECF6",
           "radialaxis": {
            "gridcolor": "white",
            "linecolor": "white",
            "ticks": ""
           }
          },
          "scene": {
           "xaxis": {
            "backgroundcolor": "#E5ECF6",
            "gridcolor": "white",
            "gridwidth": 2,
            "linecolor": "white",
            "showbackground": true,
            "ticks": "",
            "zerolinecolor": "white"
           },
           "yaxis": {
            "backgroundcolor": "#E5ECF6",
            "gridcolor": "white",
            "gridwidth": 2,
            "linecolor": "white",
            "showbackground": true,
            "ticks": "",
            "zerolinecolor": "white"
           },
           "zaxis": {
            "backgroundcolor": "#E5ECF6",
            "gridcolor": "white",
            "gridwidth": 2,
            "linecolor": "white",
            "showbackground": true,
            "ticks": "",
            "zerolinecolor": "white"
           }
          },
          "shapedefaults": {
           "line": {
            "color": "#2a3f5f"
           }
          },
          "ternary": {
           "aaxis": {
            "gridcolor": "white",
            "linecolor": "white",
            "ticks": ""
           },
           "baxis": {
            "gridcolor": "white",
            "linecolor": "white",
            "ticks": ""
           },
           "bgcolor": "#E5ECF6",
           "caxis": {
            "gridcolor": "white",
            "linecolor": "white",
            "ticks": ""
           }
          },
          "title": {
           "x": 0.05
          },
          "xaxis": {
           "automargin": true,
           "gridcolor": "white",
           "linecolor": "white",
           "ticks": "",
           "title": {
            "standoff": 15
           },
           "zerolinecolor": "white",
           "zerolinewidth": 2
          },
          "yaxis": {
           "automargin": true,
           "gridcolor": "white",
           "linecolor": "white",
           "ticks": "",
           "title": {
            "standoff": 15
           },
           "zerolinecolor": "white",
           "zerolinewidth": 2
          }
         }
        },
        "title": {
         "text": "Loan Status by Dependents and Education"
        },
        "xaxis": {
         "anchor": "y",
         "domain": [
          0,
          1
         ],
         "title": {
          "text": "Dependents"
         }
        },
        "yaxis": {
         "anchor": "x",
         "domain": [
          0,
          1
         ],
         "title": {
          "text": "count"
         }
        }
       }
      }
     },
     "metadata": {},
     "output_type": "display_data"
    }
   ],
   "source": [
    "fig = px.histogram(df, x='Dependents', color='Loan_Status',\n",
    "                   barmode='group', \n",
    "                   title='Loan Status by Dependents and Education')\n",
    "fig.show()\n"
   ]
  },
  {
   "cell_type": "markdown",
   "id": "a0565340",
   "metadata": {},
   "source": [
    "## Result:\n",
    "### **Applicants with 0 dependents have the highest approval counts in both education groups, likely due to lower financial burdens**"
   ]
  },
  {
   "cell_type": "markdown",
   "id": "c14aed4e",
   "metadata": {},
   "source": [
    "## 3-Do property area affect loan approval?"
   ]
  },
  {
   "cell_type": "code",
   "execution_count": 45,
   "id": "f2144e37",
   "metadata": {},
   "outputs": [
    {
     "data": {
      "application/vnd.plotly.v1+json": {
       "config": {
        "plotlyServerURL": "https://plot.ly"
       },
       "data": [
        {
         "alignmentgroup": "True",
         "bingroup": "x",
         "hovertemplate": "Loan_Status=1<br>Property_Area=%{x}<br>count=%{y}<extra></extra>",
         "legendgroup": "1",
         "marker": {
          "color": "#636efa",
          "pattern": {
           "shape": ""
          }
         },
         "name": "1",
         "offsetgroup": "1",
         "orientation": "v",
         "showlegend": true,
         "type": "histogram",
         "x": [
          "Urban",
          "Urban",
          "Urban",
          "Urban",
          "Urban",
          "Urban",
          "Urban",
          "Urban",
          "Urban",
          "Urban",
          "Urban",
          "Urban",
          "Urban",
          "Urban",
          "Urban",
          "Semiurban",
          "Semiurban",
          "Urban",
          "Semiurban",
          "Semiurban",
          "Urban",
          "Semiurban",
          "Urban",
          "Semiurban",
          "Urban",
          "Urban",
          "Semiurban",
          "Urban",
          "Urban",
          "Urban",
          "Urban",
          "Semiurban",
          "Semiurban",
          "Semiurban",
          "Semiurban",
          "Semiurban",
          "Urban",
          "Urban",
          "Urban",
          "Urban",
          "Urban",
          "Urban",
          "Urban",
          "Semiurban",
          "Semiurban",
          "Semiurban",
          "Semiurban",
          "Semiurban",
          "Semiurban",
          "Urban",
          "Semiurban",
          "Semiurban",
          "Semiurban",
          "Urban",
          "Semiurban",
          "Semiurban",
          "Semiurban",
          "Urban",
          "Semiurban",
          "Semiurban",
          "Semiurban",
          "Semiurban",
          "Semiurban",
          "Semiurban",
          "Urban",
          "Semiurban",
          "Urban",
          "Semiurban",
          "Urban",
          "Urban",
          "Urban",
          "Semiurban",
          "Urban",
          "Semiurban",
          "Semiurban",
          "Semiurban",
          "Rural",
          "Semiurban",
          "Urban",
          "Urban",
          "Rural",
          "Semiurban",
          "Semiurban",
          "Semiurban",
          "Rural",
          "Rural",
          "Rural",
          "Rural",
          "Urban",
          "Urban",
          "Semiurban",
          "Semiurban",
          "Semiurban",
          "Urban",
          "Urban",
          "Semiurban",
          "Semiurban",
          "Urban",
          "Semiurban",
          "Urban",
          "Urban",
          "Semiurban",
          "Rural",
          "Urban",
          "Semiurban",
          "Rural",
          "Urban",
          "Rural",
          "Semiurban",
          "Semiurban",
          "Rural",
          "Urban",
          "Rural",
          "Rural",
          "Semiurban",
          "Rural",
          "Urban",
          "Semiurban",
          "Rural",
          "Rural",
          "Semiurban",
          "Semiurban",
          "Semiurban",
          "Semiurban",
          "Rural",
          "Rural",
          "Rural",
          "Rural",
          "Semiurban",
          "Rural",
          "Rural",
          "Urban",
          "Semiurban",
          "Semiurban",
          "Semiurban",
          "Urban",
          "Semiurban",
          "Semiurban",
          "Urban",
          "Rural",
          "Urban",
          "Urban",
          "Rural",
          "Urban",
          "Semiurban",
          "Semiurban",
          "Semiurban",
          "Semiurban",
          "Semiurban",
          "Semiurban",
          "Semiurban",
          "Semiurban",
          "Semiurban",
          "Rural",
          "Semiurban",
          "Rural",
          "Rural",
          "Semiurban",
          "Semiurban",
          "Rural",
          "Urban",
          "Rural",
          "Semiurban",
          "Rural",
          "Urban",
          "Rural",
          "Semiurban",
          "Urban",
          "Urban",
          "Semiurban",
          "Urban",
          "Rural",
          "Semiurban",
          "Rural",
          "Urban",
          "Semiurban",
          "Rural",
          "Semiurban",
          "Rural",
          "Semiurban",
          "Urban",
          "Urban",
          "Urban",
          "Urban",
          "Rural",
          "Semiurban",
          "Semiurban",
          "Semiurban",
          "Semiurban",
          "Urban",
          "Semiurban",
          "Rural",
          "Semiurban",
          "Urban",
          "Urban",
          "Rural",
          "Rural",
          "Semiurban",
          "Rural",
          "Rural",
          "Urban",
          "Semiurban",
          "Urban",
          "Semiurban",
          "Urban",
          "Semiurban",
          "Rural",
          "Urban",
          "Rural",
          "Rural",
          "Rural",
          "Semiurban",
          "Semiurban",
          "Rural",
          "Rural",
          "Urban",
          "Semiurban",
          "Urban",
          "Semiurban",
          "Semiurban",
          "Semiurban",
          "Rural",
          "Rural",
          "Rural",
          "Rural",
          "Semiurban",
          "Urban",
          "Urban",
          "Semiurban",
          "Urban",
          "Urban",
          "Urban",
          "Semiurban",
          "Rural",
          "Rural",
          "Semiurban",
          "Urban",
          "Semiurban",
          "Rural",
          "Semiurban",
          "Urban",
          "Semiurban",
          "Rural",
          "Semiurban",
          "Rural",
          "Semiurban",
          "Urban",
          "Rural",
          "Semiurban",
          "Semiurban",
          "Urban",
          "Urban",
          "Rural",
          "Semiurban",
          "Semiurban",
          "Semiurban",
          "Rural",
          "Urban",
          "Urban",
          "Rural",
          "Semiurban",
          "Urban",
          "Semiurban",
          "Semiurban",
          "Urban",
          "Urban",
          "Urban",
          "Semiurban",
          "Urban",
          "Rural",
          "Rural",
          "Rural",
          "Urban",
          "Semiurban",
          "Urban",
          "Semiurban",
          "Urban",
          "Rural",
          "Semiurban",
          "Semiurban",
          "Semiurban",
          "Urban",
          "Rural",
          "Urban",
          "Rural",
          "Urban",
          "Rural",
          "Semiurban",
          "Rural",
          "Urban",
          "Semiurban",
          "Rural",
          "Semiurban",
          "Rural",
          "Urban",
          "Semiurban",
          "Semiurban",
          "Semiurban",
          "Urban",
          "Semiurban",
          "Semiurban",
          "Urban",
          "Rural",
          "Semiurban",
          "Rural",
          "Semiurban",
          "Semiurban",
          "Rural",
          "Rural",
          "Rural",
          "Urban",
          "Rural",
          "Semiurban",
          "Semiurban",
          "Urban",
          "Rural",
          "Semiurban",
          "Urban",
          "Rural",
          "Semiurban",
          "Rural",
          "Semiurban",
          "Semiurban",
          "Semiurban",
          "Semiurban",
          "Urban",
          "Rural",
          "Rural",
          "Semiurban",
          "Semiurban",
          "Rural",
          "Rural",
          "Semiurban",
          "Semiurban",
          "Semiurban",
          "Rural",
          "Semiurban",
          "Semiurban",
          "Urban",
          "Rural",
          "Semiurban",
          "Semiurban",
          "Rural",
          "Urban",
          "Semiurban",
          "Rural",
          "Semiurban",
          "Semiurban",
          "Semiurban",
          "Rural",
          "Urban",
          "Urban",
          "Urban",
          "Semiurban",
          "Urban",
          "Rural",
          "Semiurban",
          "Semiurban",
          "Semiurban",
          "Rural",
          "Rural",
          "Rural",
          "Semiurban",
          "Semiurban",
          "Semiurban",
          "Semiurban",
          "Rural",
          "Urban",
          "Urban",
          "Rural",
          "Urban",
          "Semiurban",
          "Rural",
          "Semiurban",
          "Semiurban",
          "Urban",
          "Semiurban",
          "Rural",
          "Rural",
          "Rural",
          "Rural",
          "Urban",
          "Semiurban",
          "Urban",
          "Semiurban",
          "Semiurban",
          "Semiurban",
          "Semiurban",
          "Semiurban",
          "Rural",
          "Semiurban",
          "Rural",
          "Urban",
          "Urban",
          "Urban",
          "Urban",
          "Urban",
          "Rural",
          "Urban",
          "Semiurban",
          "Semiurban",
          "Urban",
          "Semiurban",
          "Semiurban",
          "Semiurban",
          "Semiurban",
          "Rural",
          "Urban",
          "Rural",
          "Rural",
          "Urban",
          "Rural",
          "Urban",
          "Rural",
          "Semiurban",
          "Semiurban",
          "Rural",
          "Rural",
          "Rural",
          "Rural",
          "Urban",
          "Urban"
         ],
         "xaxis": "x",
         "yaxis": "y"
        },
        {
         "alignmentgroup": "True",
         "bingroup": "x",
         "hovertemplate": "Loan_Status=0<br>Property_Area=%{x}<br>count=%{y}<extra></extra>",
         "legendgroup": "0",
         "marker": {
          "color": "#EF553B",
          "pattern": {
           "shape": ""
          }
         },
         "name": "0",
         "offsetgroup": "0",
         "orientation": "v",
         "showlegend": true,
         "type": "histogram",
         "x": [
          "Rural",
          "Semiurban",
          "Semiurban",
          "Rural",
          "Urban",
          "Rural",
          "Urban",
          "Semiurban",
          "Rural",
          "Semiurban",
          "Urban",
          "Urban",
          "Urban",
          "Rural",
          "Rural",
          "Urban",
          "Urban",
          "Urban",
          "Semiurban",
          "Urban",
          "Urban",
          "Rural",
          "Rural",
          "Rural",
          "Semiurban",
          "Semiurban",
          "Urban",
          "Semiurban",
          "Semiurban",
          "Urban",
          "Urban",
          "Urban",
          "Semiurban",
          "Urban",
          "Semiurban",
          "Urban",
          "Rural",
          "Urban",
          "Rural",
          "Rural",
          "Urban",
          "Rural",
          "Semiurban",
          "Rural",
          "Semiurban",
          "Rural",
          "Rural",
          "Rural",
          "Rural",
          "Urban",
          "Rural",
          "Urban",
          "Semiurban",
          "Rural",
          "Semiurban",
          "Rural",
          "Semiurban",
          "Semiurban",
          "Urban",
          "Urban",
          "Rural",
          "Semiurban",
          "Rural",
          "Semiurban",
          "Urban",
          "Semiurban",
          "Urban",
          "Urban",
          "Semiurban",
          "Semiurban",
          "Semiurban",
          "Rural",
          "Semiurban",
          "Urban",
          "Rural",
          "Urban",
          "Urban",
          "Urban",
          "Urban",
          "Semiurban",
          "Urban",
          "Urban",
          "Rural",
          "Urban",
          "Rural",
          "Semiurban",
          "Semiurban",
          "Rural",
          "Urban",
          "Rural",
          "Semiurban",
          "Semiurban",
          "Urban",
          "Rural",
          "Urban",
          "Urban",
          "Urban",
          "Urban",
          "Rural",
          "Rural",
          "Rural",
          "Rural",
          "Urban",
          "Urban",
          "Rural",
          "Rural",
          "Rural",
          "Rural",
          "Rural",
          "Urban",
          "Urban",
          "Semiurban",
          "Rural",
          "Semiurban",
          "Rural",
          "Rural",
          "Urban",
          "Urban",
          "Urban",
          "Urban",
          "Urban",
          "Semiurban",
          "Urban",
          "Rural",
          "Rural",
          "Semiurban",
          "Rural",
          "Semiurban",
          "Rural",
          "Semiurban",
          "Urban",
          "Urban",
          "Urban",
          "Urban",
          "Rural",
          "Rural",
          "Urban",
          "Rural",
          "Rural",
          "Semiurban",
          "Rural",
          "Rural",
          "Urban",
          "Semiurban",
          "Semiurban",
          "Urban",
          "Urban",
          "Rural",
          "Semiurban",
          "Urban",
          "Rural",
          "Urban",
          "Urban",
          "Rural",
          "Rural",
          "Rural",
          "Urban",
          "Rural",
          "Semiurban",
          "Rural",
          "Semiurban",
          "Semiurban",
          "Rural",
          "Semiurban",
          "Rural",
          "Semiurban",
          "Rural",
          "Semiurban",
          "Semiurban",
          "Semiurban",
          "Rural",
          "Urban",
          "Rural",
          "Urban",
          "Rural",
          "Urban",
          "Urban",
          "Urban",
          "Semiurban",
          "Semiurban",
          "Semiurban",
          "Urban",
          "Rural",
          "Rural",
          "Rural",
          "Semiurban",
          "Semiurban",
          "Rural",
          "Semiurban",
          "Urban",
          "Urban",
          "Semiurban"
         ],
         "xaxis": "x",
         "yaxis": "y"
        }
       ],
       "layout": {
        "barmode": "group",
        "legend": {
         "title": {
          "text": "Loan_Status"
         },
         "tracegroupgap": 0
        },
        "template": {
         "data": {
          "bar": [
           {
            "error_x": {
             "color": "#2a3f5f"
            },
            "error_y": {
             "color": "#2a3f5f"
            },
            "marker": {
             "line": {
              "color": "#E5ECF6",
              "width": 0.5
             },
             "pattern": {
              "fillmode": "overlay",
              "size": 10,
              "solidity": 0.2
             }
            },
            "type": "bar"
           }
          ],
          "barpolar": [
           {
            "marker": {
             "line": {
              "color": "#E5ECF6",
              "width": 0.5
             },
             "pattern": {
              "fillmode": "overlay",
              "size": 10,
              "solidity": 0.2
             }
            },
            "type": "barpolar"
           }
          ],
          "carpet": [
           {
            "aaxis": {
             "endlinecolor": "#2a3f5f",
             "gridcolor": "white",
             "linecolor": "white",
             "minorgridcolor": "white",
             "startlinecolor": "#2a3f5f"
            },
            "baxis": {
             "endlinecolor": "#2a3f5f",
             "gridcolor": "white",
             "linecolor": "white",
             "minorgridcolor": "white",
             "startlinecolor": "#2a3f5f"
            },
            "type": "carpet"
           }
          ],
          "choropleth": [
           {
            "colorbar": {
             "outlinewidth": 0,
             "ticks": ""
            },
            "type": "choropleth"
           }
          ],
          "contour": [
           {
            "colorbar": {
             "outlinewidth": 0,
             "ticks": ""
            },
            "colorscale": [
             [
              0,
              "#0d0887"
             ],
             [
              0.1111111111111111,
              "#46039f"
             ],
             [
              0.2222222222222222,
              "#7201a8"
             ],
             [
              0.3333333333333333,
              "#9c179e"
             ],
             [
              0.4444444444444444,
              "#bd3786"
             ],
             [
              0.5555555555555556,
              "#d8576b"
             ],
             [
              0.6666666666666666,
              "#ed7953"
             ],
             [
              0.7777777777777778,
              "#fb9f3a"
             ],
             [
              0.8888888888888888,
              "#fdca26"
             ],
             [
              1,
              "#f0f921"
             ]
            ],
            "type": "contour"
           }
          ],
          "contourcarpet": [
           {
            "colorbar": {
             "outlinewidth": 0,
             "ticks": ""
            },
            "type": "contourcarpet"
           }
          ],
          "heatmap": [
           {
            "colorbar": {
             "outlinewidth": 0,
             "ticks": ""
            },
            "colorscale": [
             [
              0,
              "#0d0887"
             ],
             [
              0.1111111111111111,
              "#46039f"
             ],
             [
              0.2222222222222222,
              "#7201a8"
             ],
             [
              0.3333333333333333,
              "#9c179e"
             ],
             [
              0.4444444444444444,
              "#bd3786"
             ],
             [
              0.5555555555555556,
              "#d8576b"
             ],
             [
              0.6666666666666666,
              "#ed7953"
             ],
             [
              0.7777777777777778,
              "#fb9f3a"
             ],
             [
              0.8888888888888888,
              "#fdca26"
             ],
             [
              1,
              "#f0f921"
             ]
            ],
            "type": "heatmap"
           }
          ],
          "heatmapgl": [
           {
            "colorbar": {
             "outlinewidth": 0,
             "ticks": ""
            },
            "colorscale": [
             [
              0,
              "#0d0887"
             ],
             [
              0.1111111111111111,
              "#46039f"
             ],
             [
              0.2222222222222222,
              "#7201a8"
             ],
             [
              0.3333333333333333,
              "#9c179e"
             ],
             [
              0.4444444444444444,
              "#bd3786"
             ],
             [
              0.5555555555555556,
              "#d8576b"
             ],
             [
              0.6666666666666666,
              "#ed7953"
             ],
             [
              0.7777777777777778,
              "#fb9f3a"
             ],
             [
              0.8888888888888888,
              "#fdca26"
             ],
             [
              1,
              "#f0f921"
             ]
            ],
            "type": "heatmapgl"
           }
          ],
          "histogram": [
           {
            "marker": {
             "pattern": {
              "fillmode": "overlay",
              "size": 10,
              "solidity": 0.2
             }
            },
            "type": "histogram"
           }
          ],
          "histogram2d": [
           {
            "colorbar": {
             "outlinewidth": 0,
             "ticks": ""
            },
            "colorscale": [
             [
              0,
              "#0d0887"
             ],
             [
              0.1111111111111111,
              "#46039f"
             ],
             [
              0.2222222222222222,
              "#7201a8"
             ],
             [
              0.3333333333333333,
              "#9c179e"
             ],
             [
              0.4444444444444444,
              "#bd3786"
             ],
             [
              0.5555555555555556,
              "#d8576b"
             ],
             [
              0.6666666666666666,
              "#ed7953"
             ],
             [
              0.7777777777777778,
              "#fb9f3a"
             ],
             [
              0.8888888888888888,
              "#fdca26"
             ],
             [
              1,
              "#f0f921"
             ]
            ],
            "type": "histogram2d"
           }
          ],
          "histogram2dcontour": [
           {
            "colorbar": {
             "outlinewidth": 0,
             "ticks": ""
            },
            "colorscale": [
             [
              0,
              "#0d0887"
             ],
             [
              0.1111111111111111,
              "#46039f"
             ],
             [
              0.2222222222222222,
              "#7201a8"
             ],
             [
              0.3333333333333333,
              "#9c179e"
             ],
             [
              0.4444444444444444,
              "#bd3786"
             ],
             [
              0.5555555555555556,
              "#d8576b"
             ],
             [
              0.6666666666666666,
              "#ed7953"
             ],
             [
              0.7777777777777778,
              "#fb9f3a"
             ],
             [
              0.8888888888888888,
              "#fdca26"
             ],
             [
              1,
              "#f0f921"
             ]
            ],
            "type": "histogram2dcontour"
           }
          ],
          "mesh3d": [
           {
            "colorbar": {
             "outlinewidth": 0,
             "ticks": ""
            },
            "type": "mesh3d"
           }
          ],
          "parcoords": [
           {
            "line": {
             "colorbar": {
              "outlinewidth": 0,
              "ticks": ""
             }
            },
            "type": "parcoords"
           }
          ],
          "pie": [
           {
            "automargin": true,
            "type": "pie"
           }
          ],
          "scatter": [
           {
            "fillpattern": {
             "fillmode": "overlay",
             "size": 10,
             "solidity": 0.2
            },
            "type": "scatter"
           }
          ],
          "scatter3d": [
           {
            "line": {
             "colorbar": {
              "outlinewidth": 0,
              "ticks": ""
             }
            },
            "marker": {
             "colorbar": {
              "outlinewidth": 0,
              "ticks": ""
             }
            },
            "type": "scatter3d"
           }
          ],
          "scattercarpet": [
           {
            "marker": {
             "colorbar": {
              "outlinewidth": 0,
              "ticks": ""
             }
            },
            "type": "scattercarpet"
           }
          ],
          "scattergeo": [
           {
            "marker": {
             "colorbar": {
              "outlinewidth": 0,
              "ticks": ""
             }
            },
            "type": "scattergeo"
           }
          ],
          "scattergl": [
           {
            "marker": {
             "colorbar": {
              "outlinewidth": 0,
              "ticks": ""
             }
            },
            "type": "scattergl"
           }
          ],
          "scattermapbox": [
           {
            "marker": {
             "colorbar": {
              "outlinewidth": 0,
              "ticks": ""
             }
            },
            "type": "scattermapbox"
           }
          ],
          "scatterpolar": [
           {
            "marker": {
             "colorbar": {
              "outlinewidth": 0,
              "ticks": ""
             }
            },
            "type": "scatterpolar"
           }
          ],
          "scatterpolargl": [
           {
            "marker": {
             "colorbar": {
              "outlinewidth": 0,
              "ticks": ""
             }
            },
            "type": "scatterpolargl"
           }
          ],
          "scatterternary": [
           {
            "marker": {
             "colorbar": {
              "outlinewidth": 0,
              "ticks": ""
             }
            },
            "type": "scatterternary"
           }
          ],
          "surface": [
           {
            "colorbar": {
             "outlinewidth": 0,
             "ticks": ""
            },
            "colorscale": [
             [
              0,
              "#0d0887"
             ],
             [
              0.1111111111111111,
              "#46039f"
             ],
             [
              0.2222222222222222,
              "#7201a8"
             ],
             [
              0.3333333333333333,
              "#9c179e"
             ],
             [
              0.4444444444444444,
              "#bd3786"
             ],
             [
              0.5555555555555556,
              "#d8576b"
             ],
             [
              0.6666666666666666,
              "#ed7953"
             ],
             [
              0.7777777777777778,
              "#fb9f3a"
             ],
             [
              0.8888888888888888,
              "#fdca26"
             ],
             [
              1,
              "#f0f921"
             ]
            ],
            "type": "surface"
           }
          ],
          "table": [
           {
            "cells": {
             "fill": {
              "color": "#EBF0F8"
             },
             "line": {
              "color": "white"
             }
            },
            "header": {
             "fill": {
              "color": "#C8D4E3"
             },
             "line": {
              "color": "white"
             }
            },
            "type": "table"
           }
          ]
         },
         "layout": {
          "annotationdefaults": {
           "arrowcolor": "#2a3f5f",
           "arrowhead": 0,
           "arrowwidth": 1
          },
          "autotypenumbers": "strict",
          "coloraxis": {
           "colorbar": {
            "outlinewidth": 0,
            "ticks": ""
           }
          },
          "colorscale": {
           "diverging": [
            [
             0,
             "#8e0152"
            ],
            [
             0.1,
             "#c51b7d"
            ],
            [
             0.2,
             "#de77ae"
            ],
            [
             0.3,
             "#f1b6da"
            ],
            [
             0.4,
             "#fde0ef"
            ],
            [
             0.5,
             "#f7f7f7"
            ],
            [
             0.6,
             "#e6f5d0"
            ],
            [
             0.7,
             "#b8e186"
            ],
            [
             0.8,
             "#7fbc41"
            ],
            [
             0.9,
             "#4d9221"
            ],
            [
             1,
             "#276419"
            ]
           ],
           "sequential": [
            [
             0,
             "#0d0887"
            ],
            [
             0.1111111111111111,
             "#46039f"
            ],
            [
             0.2222222222222222,
             "#7201a8"
            ],
            [
             0.3333333333333333,
             "#9c179e"
            ],
            [
             0.4444444444444444,
             "#bd3786"
            ],
            [
             0.5555555555555556,
             "#d8576b"
            ],
            [
             0.6666666666666666,
             "#ed7953"
            ],
            [
             0.7777777777777778,
             "#fb9f3a"
            ],
            [
             0.8888888888888888,
             "#fdca26"
            ],
            [
             1,
             "#f0f921"
            ]
           ],
           "sequentialminus": [
            [
             0,
             "#0d0887"
            ],
            [
             0.1111111111111111,
             "#46039f"
            ],
            [
             0.2222222222222222,
             "#7201a8"
            ],
            [
             0.3333333333333333,
             "#9c179e"
            ],
            [
             0.4444444444444444,
             "#bd3786"
            ],
            [
             0.5555555555555556,
             "#d8576b"
            ],
            [
             0.6666666666666666,
             "#ed7953"
            ],
            [
             0.7777777777777778,
             "#fb9f3a"
            ],
            [
             0.8888888888888888,
             "#fdca26"
            ],
            [
             1,
             "#f0f921"
            ]
           ]
          },
          "colorway": [
           "#636efa",
           "#EF553B",
           "#00cc96",
           "#ab63fa",
           "#FFA15A",
           "#19d3f3",
           "#FF6692",
           "#B6E880",
           "#FF97FF",
           "#FECB52"
          ],
          "font": {
           "color": "#2a3f5f"
          },
          "geo": {
           "bgcolor": "white",
           "lakecolor": "white",
           "landcolor": "#E5ECF6",
           "showlakes": true,
           "showland": true,
           "subunitcolor": "white"
          },
          "hoverlabel": {
           "align": "left"
          },
          "hovermode": "closest",
          "mapbox": {
           "style": "light"
          },
          "paper_bgcolor": "white",
          "plot_bgcolor": "#E5ECF6",
          "polar": {
           "angularaxis": {
            "gridcolor": "white",
            "linecolor": "white",
            "ticks": ""
           },
           "bgcolor": "#E5ECF6",
           "radialaxis": {
            "gridcolor": "white",
            "linecolor": "white",
            "ticks": ""
           }
          },
          "scene": {
           "xaxis": {
            "backgroundcolor": "#E5ECF6",
            "gridcolor": "white",
            "gridwidth": 2,
            "linecolor": "white",
            "showbackground": true,
            "ticks": "",
            "zerolinecolor": "white"
           },
           "yaxis": {
            "backgroundcolor": "#E5ECF6",
            "gridcolor": "white",
            "gridwidth": 2,
            "linecolor": "white",
            "showbackground": true,
            "ticks": "",
            "zerolinecolor": "white"
           },
           "zaxis": {
            "backgroundcolor": "#E5ECF6",
            "gridcolor": "white",
            "gridwidth": 2,
            "linecolor": "white",
            "showbackground": true,
            "ticks": "",
            "zerolinecolor": "white"
           }
          },
          "shapedefaults": {
           "line": {
            "color": "#2a3f5f"
           }
          },
          "ternary": {
           "aaxis": {
            "gridcolor": "white",
            "linecolor": "white",
            "ticks": ""
           },
           "baxis": {
            "gridcolor": "white",
            "linecolor": "white",
            "ticks": ""
           },
           "bgcolor": "#E5ECF6",
           "caxis": {
            "gridcolor": "white",
            "linecolor": "white",
            "ticks": ""
           }
          },
          "title": {
           "x": 0.05
          },
          "xaxis": {
           "automargin": true,
           "gridcolor": "white",
           "linecolor": "white",
           "ticks": "",
           "title": {
            "standoff": 15
           },
           "zerolinecolor": "white",
           "zerolinewidth": 2
          },
          "yaxis": {
           "automargin": true,
           "gridcolor": "white",
           "linecolor": "white",
           "ticks": "",
           "title": {
            "standoff": 15
           },
           "zerolinecolor": "white",
           "zerolinewidth": 2
          }
         }
        },
        "title": {
         "text": "Loan Approval by Loan Term and Property Area"
        },
        "xaxis": {
         "anchor": "y",
         "domain": [
          0,
          1
         ],
         "title": {
          "text": "Property_Area"
         }
        },
        "yaxis": {
         "anchor": "x",
         "domain": [
          0,
          1
         ],
         "title": {
          "text": "count"
         }
        }
       }
      }
     },
     "metadata": {},
     "output_type": "display_data"
    }
   ],
   "source": [
    "fig = px.histogram(df, x= \"Property_Area\", color='Loan_Status',\n",
    "                    barmode='group',\n",
    "                   title='Loan Approval by Loan Term and Property Area')\n",
    "fig.show()\n"
   ]
  },
  {
   "cell_type": "markdown",
   "id": "e26b47b8",
   "metadata": {},
   "source": [
    "## Insights:\n",
    "### **Semiurban areas have the highest approval count  followed by rural and urban , suggesting semiurban areas may favor approvals**"
   ]
  },
  {
   "cell_type": "markdown",
   "id": "1ec4b54e",
   "metadata": {},
   "source": [
    "## 4-Are shorter or longer loans more likely to be approved?"
   ]
  },
  {
   "cell_type": "code",
   "execution_count": 46,
   "id": "01f985eb",
   "metadata": {},
   "outputs": [
    {
     "data": {
      "application/vnd.plotly.v1+json": {
       "config": {
        "plotlyServerURL": "https://plot.ly"
       },
       "data": [
        {
         "alignmentgroup": "True",
         "bingroup": "x",
         "hovertemplate": "Loan_Status=1<br>Loan_Amount_Term=%{x}<br>count=%{y}<extra></extra>",
         "legendgroup": "1",
         "marker": {
          "color": "#636efa",
          "pattern": {
           "shape": ""
          }
         },
         "name": "1",
         "offsetgroup": "1",
         "orientation": "v",
         "showlegend": true,
         "type": "histogram",
         "x": [
          360,
          360,
          360,
          360,
          360,
          360,
          360,
          360,
          360,
          360,
          120,
          360,
          240,
          null,
          360,
          360,
          360,
          360,
          360,
          360,
          360,
          360,
          360,
          360,
          360,
          360,
          360,
          null,
          null,
          360,
          360,
          360,
          360,
          360,
          360,
          360,
          360,
          360,
          360,
          360,
          360,
          60,
          360,
          360,
          300,
          360,
          360,
          360,
          360,
          240,
          360,
          360,
          360,
          360,
          360,
          360,
          180,
          360,
          360,
          120,
          360,
          360,
          180,
          360,
          180,
          360,
          360,
          360,
          360,
          360,
          360,
          480,
          360,
          360,
          360,
          360,
          180,
          360,
          360,
          360,
          360,
          360,
          360,
          360,
          360,
          360,
          360,
          360,
          480,
          360,
          360,
          120,
          360,
          360,
          360,
          180,
          360,
          180,
          360,
          360,
          360,
          360,
          360,
          360,
          180,
          360,
          360,
          360,
          360,
          360,
          360,
          180,
          null,
          360,
          360,
          360,
          300,
          360,
          360,
          360,
          360,
          180,
          360,
          360,
          360,
          360,
          180,
          360,
          360,
          360,
          360,
          null,
          360,
          360,
          360,
          360,
          360,
          360,
          360,
          360,
          360,
          360,
          360,
          360,
          360,
          360,
          360,
          360,
          360,
          null,
          360,
          360,
          480,
          360,
          360,
          180,
          null,
          360,
          360,
          360,
          360,
          360,
          360,
          360,
          60,
          360,
          360,
          360,
          180,
          480,
          360,
          360,
          180,
          360,
          360,
          360,
          360,
          360,
          360,
          360,
          360,
          360,
          360,
          360,
          360,
          360,
          360,
          360,
          360,
          360,
          360,
          360,
          360,
          180,
          360,
          360,
          360,
          360,
          360,
          360,
          360,
          360,
          360,
          360,
          360,
          360,
          360,
          360,
          360,
          360,
          360,
          360,
          360,
          360,
          84,
          180,
          360,
          360,
          360,
          360,
          360,
          360,
          360,
          360,
          360,
          360,
          360,
          360,
          360,
          360,
          180,
          180,
          null,
          360,
          360,
          360,
          360,
          360,
          360,
          360,
          360,
          360,
          360,
          360,
          360,
          360,
          180,
          360,
          360,
          360,
          360,
          300,
          360,
          360,
          360,
          360,
          300,
          360,
          180,
          360,
          360,
          360,
          360,
          360,
          360,
          360,
          180,
          360,
          360,
          360,
          360,
          360,
          360,
          180,
          360,
          360,
          360,
          360,
          360,
          360,
          360,
          360,
          360,
          360,
          360,
          360,
          360,
          360,
          360,
          360,
          360,
          360,
          360,
          360,
          180,
          360,
          360,
          360,
          360,
          240,
          360,
          360,
          360,
          360,
          360,
          360,
          360,
          300,
          360,
          360,
          300,
          180,
          360,
          360,
          360,
          360,
          360,
          180,
          360,
          360,
          360,
          360,
          360,
          360,
          360,
          360,
          360,
          360,
          300,
          360,
          360,
          360,
          360,
          360,
          360,
          360,
          360,
          360,
          360,
          360,
          360,
          84,
          360,
          12,
          360,
          480,
          360,
          360,
          300,
          360,
          360,
          360,
          360,
          360,
          360,
          360,
          480,
          360,
          360,
          360,
          360,
          360,
          360,
          360,
          360,
          360,
          360,
          360,
          360,
          360,
          360,
          360,
          180,
          180,
          360,
          360,
          360,
          360,
          360,
          360,
          360,
          360,
          360,
          360,
          360,
          360,
          360,
          360,
          360,
          360,
          360,
          360,
          360,
          360,
          360,
          84,
          360,
          360,
          360,
          360,
          360,
          360,
          360,
          360,
          180,
          360,
          180,
          360,
          360,
          360,
          360,
          360,
          360,
          360,
          360,
          360,
          360,
          360,
          360,
          180,
          360,
          360
         ],
         "xaxis": "x",
         "yaxis": "y"
        },
        {
         "alignmentgroup": "True",
         "bingroup": "x",
         "hovertemplate": "Loan_Status=0<br>Loan_Amount_Term=%{x}<br>count=%{y}<extra></extra>",
         "legendgroup": "0",
         "marker": {
          "color": "#EF553B",
          "pattern": {
           "shape": ""
          }
         },
         "name": "0",
         "offsetgroup": "0",
         "orientation": "v",
         "showlegend": true,
         "type": "histogram",
         "x": [
          360,
          360,
          360,
          360,
          360,
          360,
          360,
          360,
          360,
          360,
          360,
          360,
          360,
          360,
          360,
          null,
          360,
          360,
          360,
          360,
          360,
          360,
          180,
          360,
          360,
          360,
          180,
          360,
          null,
          480,
          360,
          360,
          300,
          360,
          360,
          360,
          360,
          360,
          null,
          360,
          180,
          360,
          360,
          360,
          360,
          360,
          360,
          360,
          360,
          360,
          360,
          360,
          360,
          360,
          480,
          180,
          360,
          360,
          480,
          360,
          360,
          360,
          300,
          360,
          360,
          360,
          360,
          180,
          360,
          360,
          360,
          360,
          360,
          360,
          360,
          360,
          360,
          180,
          180,
          360,
          360,
          360,
          360,
          360,
          360,
          360,
          36,
          360,
          360,
          360,
          300,
          360,
          480,
          480,
          360,
          360,
          360,
          360,
          360,
          360,
          360,
          360,
          360,
          360,
          360,
          360,
          360,
          360,
          360,
          360,
          480,
          360,
          360,
          480,
          null,
          360,
          180,
          480,
          360,
          360,
          360,
          360,
          180,
          300,
          360,
          300,
          360,
          360,
          360,
          360,
          360,
          360,
          null,
          null,
          360,
          360,
          360,
          360,
          360,
          360,
          360,
          360,
          360,
          360,
          360,
          180,
          360,
          180,
          360,
          360,
          360,
          360,
          360,
          360,
          360,
          360,
          360,
          360,
          180,
          360,
          360,
          360,
          360,
          360,
          360,
          360,
          360,
          360,
          36,
          360,
          360,
          360,
          180,
          360,
          360,
          360,
          360,
          360,
          480,
          360,
          360,
          360,
          360,
          360,
          84,
          360,
          240,
          360,
          360,
          180,
          180,
          360
         ],
         "xaxis": "x",
         "yaxis": "y"
        }
       ],
       "layout": {
        "barmode": "group",
        "legend": {
         "title": {
          "text": "Loan_Status"
         },
         "tracegroupgap": 0
        },
        "template": {
         "data": {
          "bar": [
           {
            "error_x": {
             "color": "#2a3f5f"
            },
            "error_y": {
             "color": "#2a3f5f"
            },
            "marker": {
             "line": {
              "color": "#E5ECF6",
              "width": 0.5
             },
             "pattern": {
              "fillmode": "overlay",
              "size": 10,
              "solidity": 0.2
             }
            },
            "type": "bar"
           }
          ],
          "barpolar": [
           {
            "marker": {
             "line": {
              "color": "#E5ECF6",
              "width": 0.5
             },
             "pattern": {
              "fillmode": "overlay",
              "size": 10,
              "solidity": 0.2
             }
            },
            "type": "barpolar"
           }
          ],
          "carpet": [
           {
            "aaxis": {
             "endlinecolor": "#2a3f5f",
             "gridcolor": "white",
             "linecolor": "white",
             "minorgridcolor": "white",
             "startlinecolor": "#2a3f5f"
            },
            "baxis": {
             "endlinecolor": "#2a3f5f",
             "gridcolor": "white",
             "linecolor": "white",
             "minorgridcolor": "white",
             "startlinecolor": "#2a3f5f"
            },
            "type": "carpet"
           }
          ],
          "choropleth": [
           {
            "colorbar": {
             "outlinewidth": 0,
             "ticks": ""
            },
            "type": "choropleth"
           }
          ],
          "contour": [
           {
            "colorbar": {
             "outlinewidth": 0,
             "ticks": ""
            },
            "colorscale": [
             [
              0,
              "#0d0887"
             ],
             [
              0.1111111111111111,
              "#46039f"
             ],
             [
              0.2222222222222222,
              "#7201a8"
             ],
             [
              0.3333333333333333,
              "#9c179e"
             ],
             [
              0.4444444444444444,
              "#bd3786"
             ],
             [
              0.5555555555555556,
              "#d8576b"
             ],
             [
              0.6666666666666666,
              "#ed7953"
             ],
             [
              0.7777777777777778,
              "#fb9f3a"
             ],
             [
              0.8888888888888888,
              "#fdca26"
             ],
             [
              1,
              "#f0f921"
             ]
            ],
            "type": "contour"
           }
          ],
          "contourcarpet": [
           {
            "colorbar": {
             "outlinewidth": 0,
             "ticks": ""
            },
            "type": "contourcarpet"
           }
          ],
          "heatmap": [
           {
            "colorbar": {
             "outlinewidth": 0,
             "ticks": ""
            },
            "colorscale": [
             [
              0,
              "#0d0887"
             ],
             [
              0.1111111111111111,
              "#46039f"
             ],
             [
              0.2222222222222222,
              "#7201a8"
             ],
             [
              0.3333333333333333,
              "#9c179e"
             ],
             [
              0.4444444444444444,
              "#bd3786"
             ],
             [
              0.5555555555555556,
              "#d8576b"
             ],
             [
              0.6666666666666666,
              "#ed7953"
             ],
             [
              0.7777777777777778,
              "#fb9f3a"
             ],
             [
              0.8888888888888888,
              "#fdca26"
             ],
             [
              1,
              "#f0f921"
             ]
            ],
            "type": "heatmap"
           }
          ],
          "heatmapgl": [
           {
            "colorbar": {
             "outlinewidth": 0,
             "ticks": ""
            },
            "colorscale": [
             [
              0,
              "#0d0887"
             ],
             [
              0.1111111111111111,
              "#46039f"
             ],
             [
              0.2222222222222222,
              "#7201a8"
             ],
             [
              0.3333333333333333,
              "#9c179e"
             ],
             [
              0.4444444444444444,
              "#bd3786"
             ],
             [
              0.5555555555555556,
              "#d8576b"
             ],
             [
              0.6666666666666666,
              "#ed7953"
             ],
             [
              0.7777777777777778,
              "#fb9f3a"
             ],
             [
              0.8888888888888888,
              "#fdca26"
             ],
             [
              1,
              "#f0f921"
             ]
            ],
            "type": "heatmapgl"
           }
          ],
          "histogram": [
           {
            "marker": {
             "pattern": {
              "fillmode": "overlay",
              "size": 10,
              "solidity": 0.2
             }
            },
            "type": "histogram"
           }
          ],
          "histogram2d": [
           {
            "colorbar": {
             "outlinewidth": 0,
             "ticks": ""
            },
            "colorscale": [
             [
              0,
              "#0d0887"
             ],
             [
              0.1111111111111111,
              "#46039f"
             ],
             [
              0.2222222222222222,
              "#7201a8"
             ],
             [
              0.3333333333333333,
              "#9c179e"
             ],
             [
              0.4444444444444444,
              "#bd3786"
             ],
             [
              0.5555555555555556,
              "#d8576b"
             ],
             [
              0.6666666666666666,
              "#ed7953"
             ],
             [
              0.7777777777777778,
              "#fb9f3a"
             ],
             [
              0.8888888888888888,
              "#fdca26"
             ],
             [
              1,
              "#f0f921"
             ]
            ],
            "type": "histogram2d"
           }
          ],
          "histogram2dcontour": [
           {
            "colorbar": {
             "outlinewidth": 0,
             "ticks": ""
            },
            "colorscale": [
             [
              0,
              "#0d0887"
             ],
             [
              0.1111111111111111,
              "#46039f"
             ],
             [
              0.2222222222222222,
              "#7201a8"
             ],
             [
              0.3333333333333333,
              "#9c179e"
             ],
             [
              0.4444444444444444,
              "#bd3786"
             ],
             [
              0.5555555555555556,
              "#d8576b"
             ],
             [
              0.6666666666666666,
              "#ed7953"
             ],
             [
              0.7777777777777778,
              "#fb9f3a"
             ],
             [
              0.8888888888888888,
              "#fdca26"
             ],
             [
              1,
              "#f0f921"
             ]
            ],
            "type": "histogram2dcontour"
           }
          ],
          "mesh3d": [
           {
            "colorbar": {
             "outlinewidth": 0,
             "ticks": ""
            },
            "type": "mesh3d"
           }
          ],
          "parcoords": [
           {
            "line": {
             "colorbar": {
              "outlinewidth": 0,
              "ticks": ""
             }
            },
            "type": "parcoords"
           }
          ],
          "pie": [
           {
            "automargin": true,
            "type": "pie"
           }
          ],
          "scatter": [
           {
            "fillpattern": {
             "fillmode": "overlay",
             "size": 10,
             "solidity": 0.2
            },
            "type": "scatter"
           }
          ],
          "scatter3d": [
           {
            "line": {
             "colorbar": {
              "outlinewidth": 0,
              "ticks": ""
             }
            },
            "marker": {
             "colorbar": {
              "outlinewidth": 0,
              "ticks": ""
             }
            },
            "type": "scatter3d"
           }
          ],
          "scattercarpet": [
           {
            "marker": {
             "colorbar": {
              "outlinewidth": 0,
              "ticks": ""
             }
            },
            "type": "scattercarpet"
           }
          ],
          "scattergeo": [
           {
            "marker": {
             "colorbar": {
              "outlinewidth": 0,
              "ticks": ""
             }
            },
            "type": "scattergeo"
           }
          ],
          "scattergl": [
           {
            "marker": {
             "colorbar": {
              "outlinewidth": 0,
              "ticks": ""
             }
            },
            "type": "scattergl"
           }
          ],
          "scattermapbox": [
           {
            "marker": {
             "colorbar": {
              "outlinewidth": 0,
              "ticks": ""
             }
            },
            "type": "scattermapbox"
           }
          ],
          "scatterpolar": [
           {
            "marker": {
             "colorbar": {
              "outlinewidth": 0,
              "ticks": ""
             }
            },
            "type": "scatterpolar"
           }
          ],
          "scatterpolargl": [
           {
            "marker": {
             "colorbar": {
              "outlinewidth": 0,
              "ticks": ""
             }
            },
            "type": "scatterpolargl"
           }
          ],
          "scatterternary": [
           {
            "marker": {
             "colorbar": {
              "outlinewidth": 0,
              "ticks": ""
             }
            },
            "type": "scatterternary"
           }
          ],
          "surface": [
           {
            "colorbar": {
             "outlinewidth": 0,
             "ticks": ""
            },
            "colorscale": [
             [
              0,
              "#0d0887"
             ],
             [
              0.1111111111111111,
              "#46039f"
             ],
             [
              0.2222222222222222,
              "#7201a8"
             ],
             [
              0.3333333333333333,
              "#9c179e"
             ],
             [
              0.4444444444444444,
              "#bd3786"
             ],
             [
              0.5555555555555556,
              "#d8576b"
             ],
             [
              0.6666666666666666,
              "#ed7953"
             ],
             [
              0.7777777777777778,
              "#fb9f3a"
             ],
             [
              0.8888888888888888,
              "#fdca26"
             ],
             [
              1,
              "#f0f921"
             ]
            ],
            "type": "surface"
           }
          ],
          "table": [
           {
            "cells": {
             "fill": {
              "color": "#EBF0F8"
             },
             "line": {
              "color": "white"
             }
            },
            "header": {
             "fill": {
              "color": "#C8D4E3"
             },
             "line": {
              "color": "white"
             }
            },
            "type": "table"
           }
          ]
         },
         "layout": {
          "annotationdefaults": {
           "arrowcolor": "#2a3f5f",
           "arrowhead": 0,
           "arrowwidth": 1
          },
          "autotypenumbers": "strict",
          "coloraxis": {
           "colorbar": {
            "outlinewidth": 0,
            "ticks": ""
           }
          },
          "colorscale": {
           "diverging": [
            [
             0,
             "#8e0152"
            ],
            [
             0.1,
             "#c51b7d"
            ],
            [
             0.2,
             "#de77ae"
            ],
            [
             0.3,
             "#f1b6da"
            ],
            [
             0.4,
             "#fde0ef"
            ],
            [
             0.5,
             "#f7f7f7"
            ],
            [
             0.6,
             "#e6f5d0"
            ],
            [
             0.7,
             "#b8e186"
            ],
            [
             0.8,
             "#7fbc41"
            ],
            [
             0.9,
             "#4d9221"
            ],
            [
             1,
             "#276419"
            ]
           ],
           "sequential": [
            [
             0,
             "#0d0887"
            ],
            [
             0.1111111111111111,
             "#46039f"
            ],
            [
             0.2222222222222222,
             "#7201a8"
            ],
            [
             0.3333333333333333,
             "#9c179e"
            ],
            [
             0.4444444444444444,
             "#bd3786"
            ],
            [
             0.5555555555555556,
             "#d8576b"
            ],
            [
             0.6666666666666666,
             "#ed7953"
            ],
            [
             0.7777777777777778,
             "#fb9f3a"
            ],
            [
             0.8888888888888888,
             "#fdca26"
            ],
            [
             1,
             "#f0f921"
            ]
           ],
           "sequentialminus": [
            [
             0,
             "#0d0887"
            ],
            [
             0.1111111111111111,
             "#46039f"
            ],
            [
             0.2222222222222222,
             "#7201a8"
            ],
            [
             0.3333333333333333,
             "#9c179e"
            ],
            [
             0.4444444444444444,
             "#bd3786"
            ],
            [
             0.5555555555555556,
             "#d8576b"
            ],
            [
             0.6666666666666666,
             "#ed7953"
            ],
            [
             0.7777777777777778,
             "#fb9f3a"
            ],
            [
             0.8888888888888888,
             "#fdca26"
            ],
            [
             1,
             "#f0f921"
            ]
           ]
          },
          "colorway": [
           "#636efa",
           "#EF553B",
           "#00cc96",
           "#ab63fa",
           "#FFA15A",
           "#19d3f3",
           "#FF6692",
           "#B6E880",
           "#FF97FF",
           "#FECB52"
          ],
          "font": {
           "color": "#2a3f5f"
          },
          "geo": {
           "bgcolor": "white",
           "lakecolor": "white",
           "landcolor": "#E5ECF6",
           "showlakes": true,
           "showland": true,
           "subunitcolor": "white"
          },
          "hoverlabel": {
           "align": "left"
          },
          "hovermode": "closest",
          "mapbox": {
           "style": "light"
          },
          "paper_bgcolor": "white",
          "plot_bgcolor": "#E5ECF6",
          "polar": {
           "angularaxis": {
            "gridcolor": "white",
            "linecolor": "white",
            "ticks": ""
           },
           "bgcolor": "#E5ECF6",
           "radialaxis": {
            "gridcolor": "white",
            "linecolor": "white",
            "ticks": ""
           }
          },
          "scene": {
           "xaxis": {
            "backgroundcolor": "#E5ECF6",
            "gridcolor": "white",
            "gridwidth": 2,
            "linecolor": "white",
            "showbackground": true,
            "ticks": "",
            "zerolinecolor": "white"
           },
           "yaxis": {
            "backgroundcolor": "#E5ECF6",
            "gridcolor": "white",
            "gridwidth": 2,
            "linecolor": "white",
            "showbackground": true,
            "ticks": "",
            "zerolinecolor": "white"
           },
           "zaxis": {
            "backgroundcolor": "#E5ECF6",
            "gridcolor": "white",
            "gridwidth": 2,
            "linecolor": "white",
            "showbackground": true,
            "ticks": "",
            "zerolinecolor": "white"
           }
          },
          "shapedefaults": {
           "line": {
            "color": "#2a3f5f"
           }
          },
          "ternary": {
           "aaxis": {
            "gridcolor": "white",
            "linecolor": "white",
            "ticks": ""
           },
           "baxis": {
            "gridcolor": "white",
            "linecolor": "white",
            "ticks": ""
           },
           "bgcolor": "#E5ECF6",
           "caxis": {
            "gridcolor": "white",
            "linecolor": "white",
            "ticks": ""
           }
          },
          "title": {
           "x": 0.05
          },
          "xaxis": {
           "automargin": true,
           "gridcolor": "white",
           "linecolor": "white",
           "ticks": "",
           "title": {
            "standoff": 15
           },
           "zerolinecolor": "white",
           "zerolinewidth": 2
          },
          "yaxis": {
           "automargin": true,
           "gridcolor": "white",
           "linecolor": "white",
           "ticks": "",
           "title": {
            "standoff": 15
           },
           "zerolinecolor": "white",
           "zerolinewidth": 2
          }
         }
        },
        "title": {
         "text": "Loan Approval by Loan Term Duration"
        },
        "xaxis": {
         "anchor": "y",
         "domain": [
          0,
          1
         ],
         "title": {
          "text": "Loan_Amount_Term"
         }
        },
        "yaxis": {
         "anchor": "x",
         "domain": [
          0,
          1
         ],
         "title": {
          "text": "count"
         }
        }
       }
      }
     },
     "metadata": {},
     "output_type": "display_data"
    }
   ],
   "source": [
    "fig = px.histogram(df, x='Loan_Amount_Term', color='Loan_Status', barmode='group',\n",
    "                   title='Loan Approval by Loan Term Duration')\n",
    "fig.show()\n"
   ]
  },
  {
   "cell_type": "markdown",
   "id": "9b4d1f4b",
   "metadata": {},
   "source": [
    "## Insights:\n",
    "### **Longer loans are more likely to be approved, possibly due to better repayment structuring or applicant profiles suited to extended terms.**"
   ]
  },
  {
   "cell_type": "markdown",
   "id": "b0fd0b6a",
   "metadata": {},
   "source": [
    "## 5-Do coapplicants increase approval chances?\n"
   ]
  },
  {
   "cell_type": "code",
   "execution_count": 47,
   "id": "48be4e04",
   "metadata": {},
   "outputs": [
    {
     "data": {
      "application/vnd.plotly.v1+json": {
       "config": {
        "plotlyServerURL": "https://plot.ly"
       },
       "data": [
        {
         "alignmentgroup": "True",
         "hovertemplate": "Loan_Status=%{x}<br>CoapplicantIncome=%{y}<extra></extra>",
         "legendgroup": "1",
         "marker": {
          "color": "#636efa"
         },
         "name": "1",
         "notched": false,
         "offsetgroup": "1",
         "orientation": "v",
         "showlegend": true,
         "type": "box",
         "x": [
          1,
          1,
          1,
          1,
          1,
          1,
          1,
          1,
          1,
          1,
          1,
          1,
          1,
          1,
          1,
          1,
          1,
          1,
          1,
          1,
          1,
          1,
          1,
          1,
          1,
          1,
          1,
          1,
          1,
          1,
          1,
          1,
          1,
          1,
          1,
          1,
          1,
          1,
          1,
          1,
          1,
          1,
          1,
          1,
          1,
          1,
          1,
          1,
          1,
          1,
          1,
          1,
          1,
          1,
          1,
          1,
          1,
          1,
          1,
          1,
          1,
          1,
          1,
          1,
          1,
          1,
          1,
          1,
          1,
          1,
          1,
          1,
          1,
          1,
          1,
          1,
          1,
          1,
          1,
          1,
          1,
          1,
          1,
          1,
          1,
          1,
          1,
          1,
          1,
          1,
          1,
          1,
          1,
          1,
          1,
          1,
          1,
          1,
          1,
          1,
          1,
          1,
          1,
          1,
          1,
          1,
          1,
          1,
          1,
          1,
          1,
          1,
          1,
          1,
          1,
          1,
          1,
          1,
          1,
          1,
          1,
          1,
          1,
          1,
          1,
          1,
          1,
          1,
          1,
          1,
          1,
          1,
          1,
          1,
          1,
          1,
          1,
          1,
          1,
          1,
          1,
          1,
          1,
          1,
          1,
          1,
          1,
          1,
          1,
          1,
          1,
          1,
          1,
          1,
          1,
          1,
          1,
          1,
          1,
          1,
          1,
          1,
          1,
          1,
          1,
          1,
          1,
          1,
          1,
          1,
          1,
          1,
          1,
          1,
          1,
          1,
          1,
          1,
          1,
          1,
          1,
          1,
          1,
          1,
          1,
          1,
          1,
          1,
          1,
          1,
          1,
          1,
          1,
          1,
          1,
          1,
          1,
          1,
          1,
          1,
          1,
          1,
          1,
          1,
          1,
          1,
          1,
          1,
          1,
          1,
          1,
          1,
          1,
          1,
          1,
          1,
          1,
          1,
          1,
          1,
          1,
          1,
          1,
          1,
          1,
          1,
          1,
          1,
          1,
          1,
          1,
          1,
          1,
          1,
          1,
          1,
          1,
          1,
          1,
          1,
          1,
          1,
          1,
          1,
          1,
          1,
          1,
          1,
          1,
          1,
          1,
          1,
          1,
          1,
          1,
          1,
          1,
          1,
          1,
          1,
          1,
          1,
          1,
          1,
          1,
          1,
          1,
          1,
          1,
          1,
          1,
          1,
          1,
          1,
          1,
          1,
          1,
          1,
          1,
          1,
          1,
          1,
          1,
          1,
          1,
          1,
          1,
          1,
          1,
          1,
          1,
          1,
          1,
          1,
          1,
          1,
          1,
          1,
          1,
          1,
          1,
          1,
          1,
          1,
          1,
          1,
          1,
          1,
          1,
          1,
          1,
          1,
          1,
          1,
          1,
          1,
          1,
          1,
          1,
          1,
          1,
          1,
          1,
          1,
          1,
          1,
          1,
          1,
          1,
          1,
          1,
          1,
          1,
          1,
          1,
          1,
          1,
          1,
          1,
          1,
          1,
          1,
          1,
          1,
          1,
          1,
          1,
          1,
          1,
          1,
          1,
          1,
          1,
          1,
          1,
          1,
          1,
          1,
          1,
          1,
          1,
          1,
          1,
          1,
          1,
          1,
          1,
          1,
          1,
          1,
          1,
          1,
          1,
          1,
          1,
          1,
          1,
          1,
          1,
          1,
          1,
          1,
          1,
          1,
          1,
          1,
          1,
          1,
          1,
          1,
          1,
          1,
          1,
          1,
          1,
          1,
          1,
          1,
          1,
          1,
          1,
          1,
          1,
          1,
          1,
          1,
          1,
          1,
          1,
          1,
          1,
          1,
          1,
          1,
          1,
          1,
          1,
          1,
          1,
          1,
          1,
          1
         ],
         "x0": " ",
         "xaxis": "x",
         "y": [
          0,
          0,
          2358,
          0,
          4196,
          1516,
          1526,
          700,
          1840,
          8106,
          1086,
          0,
          0,
          3500,
          5625,
          0,
          2253,
          1040,
          2083,
          1667,
          2067,
          1459,
          7210,
          1668,
          1213,
          0,
          2336,
          0,
          0,
          0,
          0,
          2275,
          1644,
          0,
          1167,
          1591,
          2250,
          2859,
          3796,
          0,
          0,
          0,
          3066,
          1875,
          0,
          1774,
          2166,
          0,
          0,
          0,
          2531,
          2000,
          2118,
          0,
          4167,
          2900,
          5654,
          1820,
          0,
          0,
          2302,
          997,
          0,
          3541,
          3263,
          3806,
          0,
          3583,
          754,
          1030,
          1126,
          754,
          0,
          2333,
          0,
          0,
          0,
          2283,
          1398,
          0,
          2667,
          0,
          8980,
          0,
          2014,
          0,
          0,
          1640,
          0,
          1929,
          0,
          0,
          0,
          3500,
          0,
          0,
          2034,
          0,
          4486,
          0,
          1425,
          830,
          3750,
          0,
          0,
          0,
          0,
          2083,
          5625,
          1041,
          1447,
          0,
          3166,
          3333,
          0,
          1769,
          0,
          5625,
          1964,
          1619,
          0,
          0,
          0,
          4750,
          2138,
          5296,
          0,
          0,
          0,
          0,
          3750,
          2365,
          2816,
          2500,
          0,
          1083,
          0,
          0,
          0,
          2531,
          0,
          0,
          0,
          3021,
          983,
          1775,
          2383,
          1717,
          2791,
          1010,
          0,
          1695,
          0,
          0,
          2054,
          0,
          2598,
          0,
          1779,
          1260,
          0,
          0,
          0,
          5000,
          5701,
          1300,
          4417,
          0,
          0,
          1843,
          1868,
          2167,
          7101,
          0,
          4250,
          2209,
          0,
          0,
          3447,
          1387,
          1811,
          1560,
          0,
          0,
          1857,
          2223,
          0,
          1842,
          3274,
          1300,
          0,
          0,
          800,
          985.7999878,
          1666,
          3053,
          2000,
          0,
          0,
          2416,
          1560,
          3334,
          1250,
          0,
          0,
          1750,
          0,
          1803,
          2500,
          1666,
          0,
          0,
          2405,
          0,
          0,
          1640,
          0,
          2134,
          0,
          2167,
          189,
          1590,
          2985,
          0,
          0,
          2160,
          0,
          1793,
          0,
          0,
          0,
          1833,
          4490,
          688,
          4600,
          0,
          1229,
          0,
          2330,
          2458,
          2168,
          4583,
          6250,
          0,
          2083,
          505,
          0,
          3167,
          3167,
          3667,
          2333,
          3033,
          0,
          0,
          0,
          0,
          7873,
          1459,
          923,
          4996,
          0,
          0,
          2500,
          4232,
          0,
          0,
          0,
          1600,
          2417,
          0,
          0,
          0,
          2115,
          1625,
          1400,
          484,
          1459,
          1666,
          20000,
          0,
          0,
          2400,
          0,
          0,
          2033,
          0,
          2773,
          1417,
          0,
          1719,
          0,
          4300,
          0,
          16.12000084,
          0,
          0,
          0,
          2340,
          0,
          0,
          1851,
          1125,
          0,
          5064,
          1833,
          1993,
          0,
          8333,
          1210,
          0,
          1456,
          2466,
          0,
          0,
          0,
          0,
          4083,
          0,
          2188,
          0,
          0,
          0,
          2917,
          2079,
          0,
          0,
          4648,
          1014,
          1750,
          2250,
          0,
          0,
          3150,
          0,
          0,
          2436,
          2083,
          2785,
          1131,
          0,
          0,
          913,
          1700,
          2857,
          0,
          3683,
          0,
          5624,
          1483,
          4416,
          6667,
          3013,
          0,
          2004,
          2035,
          3428,
          1632,
          1742,
          0,
          1424,
          7166,
          0,
          0,
          1430,
          1302,
          0,
          5500,
          0,
          0,
          2042,
          3906,
          0,
          0,
          2845,
          0,
          2524,
          663,
          1950,
          1783,
          2016,
          2375,
          3250,
          1032,
          1625,
          0,
          2669,
          2306,
          242,
          0,
          2054,
          0,
          0,
          0,
          1750,
          0,
          461,
          2739,
          2232,
          2917,
          0,
          0,
          1522,
          0,
          0,
          3416,
          0,
          3300,
          0,
          0,
          0,
          0,
          2792,
          0,
          4301,
          0,
          2500,
          1411,
          1950,
          0,
          0,
          240,
          0
         ],
         "y0": " ",
         "yaxis": "y"
        },
        {
         "alignmentgroup": "True",
         "hovertemplate": "Loan_Status=%{x}<br>CoapplicantIncome=%{y}<extra></extra>",
         "legendgroup": "0",
         "marker": {
          "color": "#EF553B"
         },
         "name": "0",
         "notched": false,
         "offsetgroup": "0",
         "orientation": "v",
         "showlegend": true,
         "type": "box",
         "x": [
          0,
          0,
          0,
          0,
          0,
          0,
          0,
          0,
          0,
          0,
          0,
          0,
          0,
          0,
          0,
          0,
          0,
          0,
          0,
          0,
          0,
          0,
          0,
          0,
          0,
          0,
          0,
          0,
          0,
          0,
          0,
          0,
          0,
          0,
          0,
          0,
          0,
          0,
          0,
          0,
          0,
          0,
          0,
          0,
          0,
          0,
          0,
          0,
          0,
          0,
          0,
          0,
          0,
          0,
          0,
          0,
          0,
          0,
          0,
          0,
          0,
          0,
          0,
          0,
          0,
          0,
          0,
          0,
          0,
          0,
          0,
          0,
          0,
          0,
          0,
          0,
          0,
          0,
          0,
          0,
          0,
          0,
          0,
          0,
          0,
          0,
          0,
          0,
          0,
          0,
          0,
          0,
          0,
          0,
          0,
          0,
          0,
          0,
          0,
          0,
          0,
          0,
          0,
          0,
          0,
          0,
          0,
          0,
          0,
          0,
          0,
          0,
          0,
          0,
          0,
          0,
          0,
          0,
          0,
          0,
          0,
          0,
          0,
          0,
          0,
          0,
          0,
          0,
          0,
          0,
          0,
          0,
          0,
          0,
          0,
          0,
          0,
          0,
          0,
          0,
          0,
          0,
          0,
          0,
          0,
          0,
          0,
          0,
          0,
          0,
          0,
          0,
          0,
          0,
          0,
          0,
          0,
          0,
          0,
          0,
          0,
          0,
          0,
          0,
          0,
          0,
          0,
          0,
          0,
          0,
          0,
          0,
          0,
          0,
          0,
          0,
          0,
          0,
          0,
          0,
          0,
          0,
          0,
          0,
          0,
          0,
          0,
          0,
          0,
          0,
          0,
          0
         ],
         "x0": " ",
         "xaxis": "x",
         "y": [
          1508,
          2504,
          10968,
          2840,
          0,
          0,
          0,
          1911,
          1917,
          2925,
          0,
          3369,
          0,
          0,
          3000,
          1330,
          0,
          3440,
          0,
          0,
          0,
          2200,
          3449,
          0,
          0,
          4595,
          2254,
          0,
          0,
          0,
          4750,
          3022,
          4000,
          1881,
          2250,
          0,
          0,
          3600,
          4114,
          2142,
          3850,
          2569,
          7750,
          0,
          0,
          1430,
          2083,
          1666,
          0,
          0,
          0,
          0,
          1280,
          0,
          0,
          0,
          736,
          11300,
          1451,
          7250,
          5063,
          0,
          0,
          0,
          0,
          2583,
          0,
          0,
          0,
          0,
          1250,
          1800,
          0,
          0,
          0,
          0,
          0,
          1983,
          4333,
          3890,
          0,
          0,
          0,
          0,
          2100,
          0,
          0,
          0,
          2426,
          0,
          1717,
          0,
          0,
          2541,
          2925,
          2934,
          0,
          1863,
          0,
          1843,
          0,
          4983,
          2451,
          0,
          1587,
          0,
          3230,
          4167,
          0,
          0,
          1666,
          0,
          0,
          0,
          0,
          5266,
          1987,
          0,
          0,
          3136,
          0,
          1800,
          0,
          0,
          0,
          0,
          0,
          0,
          0,
          3237,
          0,
          20000,
          0,
          1667,
          0,
          0,
          0,
          1376,
          1710,
          1542,
          1255,
          1733,
          2569,
          0,
          0,
          1664,
          2451,
          1500,
          1872,
          1603,
          0,
          0,
          0,
          2157,
          4416,
          5302,
          0,
          1287,
          6666,
          3666,
          1800,
          1915,
          0,
          2087,
          0,
          0,
          536,
          0,
          0,
          0,
          0,
          2333,
          4266,
          0,
          2500,
          0,
          2064,
          1451,
          1625,
          0,
          2210,
          33837,
          0,
          1917,
          3000,
          0,
          0,
          1000,
          0,
          41667,
          3800,
          0
         ],
         "y0": " ",
         "yaxis": "y"
        }
       ],
       "layout": {
        "boxmode": "overlay",
        "legend": {
         "title": {
          "text": "Loan_Status"
         },
         "tracegroupgap": 0
        },
        "template": {
         "data": {
          "bar": [
           {
            "error_x": {
             "color": "#2a3f5f"
            },
            "error_y": {
             "color": "#2a3f5f"
            },
            "marker": {
             "line": {
              "color": "#E5ECF6",
              "width": 0.5
             },
             "pattern": {
              "fillmode": "overlay",
              "size": 10,
              "solidity": 0.2
             }
            },
            "type": "bar"
           }
          ],
          "barpolar": [
           {
            "marker": {
             "line": {
              "color": "#E5ECF6",
              "width": 0.5
             },
             "pattern": {
              "fillmode": "overlay",
              "size": 10,
              "solidity": 0.2
             }
            },
            "type": "barpolar"
           }
          ],
          "carpet": [
           {
            "aaxis": {
             "endlinecolor": "#2a3f5f",
             "gridcolor": "white",
             "linecolor": "white",
             "minorgridcolor": "white",
             "startlinecolor": "#2a3f5f"
            },
            "baxis": {
             "endlinecolor": "#2a3f5f",
             "gridcolor": "white",
             "linecolor": "white",
             "minorgridcolor": "white",
             "startlinecolor": "#2a3f5f"
            },
            "type": "carpet"
           }
          ],
          "choropleth": [
           {
            "colorbar": {
             "outlinewidth": 0,
             "ticks": ""
            },
            "type": "choropleth"
           }
          ],
          "contour": [
           {
            "colorbar": {
             "outlinewidth": 0,
             "ticks": ""
            },
            "colorscale": [
             [
              0,
              "#0d0887"
             ],
             [
              0.1111111111111111,
              "#46039f"
             ],
             [
              0.2222222222222222,
              "#7201a8"
             ],
             [
              0.3333333333333333,
              "#9c179e"
             ],
             [
              0.4444444444444444,
              "#bd3786"
             ],
             [
              0.5555555555555556,
              "#d8576b"
             ],
             [
              0.6666666666666666,
              "#ed7953"
             ],
             [
              0.7777777777777778,
              "#fb9f3a"
             ],
             [
              0.8888888888888888,
              "#fdca26"
             ],
             [
              1,
              "#f0f921"
             ]
            ],
            "type": "contour"
           }
          ],
          "contourcarpet": [
           {
            "colorbar": {
             "outlinewidth": 0,
             "ticks": ""
            },
            "type": "contourcarpet"
           }
          ],
          "heatmap": [
           {
            "colorbar": {
             "outlinewidth": 0,
             "ticks": ""
            },
            "colorscale": [
             [
              0,
              "#0d0887"
             ],
             [
              0.1111111111111111,
              "#46039f"
             ],
             [
              0.2222222222222222,
              "#7201a8"
             ],
             [
              0.3333333333333333,
              "#9c179e"
             ],
             [
              0.4444444444444444,
              "#bd3786"
             ],
             [
              0.5555555555555556,
              "#d8576b"
             ],
             [
              0.6666666666666666,
              "#ed7953"
             ],
             [
              0.7777777777777778,
              "#fb9f3a"
             ],
             [
              0.8888888888888888,
              "#fdca26"
             ],
             [
              1,
              "#f0f921"
             ]
            ],
            "type": "heatmap"
           }
          ],
          "heatmapgl": [
           {
            "colorbar": {
             "outlinewidth": 0,
             "ticks": ""
            },
            "colorscale": [
             [
              0,
              "#0d0887"
             ],
             [
              0.1111111111111111,
              "#46039f"
             ],
             [
              0.2222222222222222,
              "#7201a8"
             ],
             [
              0.3333333333333333,
              "#9c179e"
             ],
             [
              0.4444444444444444,
              "#bd3786"
             ],
             [
              0.5555555555555556,
              "#d8576b"
             ],
             [
              0.6666666666666666,
              "#ed7953"
             ],
             [
              0.7777777777777778,
              "#fb9f3a"
             ],
             [
              0.8888888888888888,
              "#fdca26"
             ],
             [
              1,
              "#f0f921"
             ]
            ],
            "type": "heatmapgl"
           }
          ],
          "histogram": [
           {
            "marker": {
             "pattern": {
              "fillmode": "overlay",
              "size": 10,
              "solidity": 0.2
             }
            },
            "type": "histogram"
           }
          ],
          "histogram2d": [
           {
            "colorbar": {
             "outlinewidth": 0,
             "ticks": ""
            },
            "colorscale": [
             [
              0,
              "#0d0887"
             ],
             [
              0.1111111111111111,
              "#46039f"
             ],
             [
              0.2222222222222222,
              "#7201a8"
             ],
             [
              0.3333333333333333,
              "#9c179e"
             ],
             [
              0.4444444444444444,
              "#bd3786"
             ],
             [
              0.5555555555555556,
              "#d8576b"
             ],
             [
              0.6666666666666666,
              "#ed7953"
             ],
             [
              0.7777777777777778,
              "#fb9f3a"
             ],
             [
              0.8888888888888888,
              "#fdca26"
             ],
             [
              1,
              "#f0f921"
             ]
            ],
            "type": "histogram2d"
           }
          ],
          "histogram2dcontour": [
           {
            "colorbar": {
             "outlinewidth": 0,
             "ticks": ""
            },
            "colorscale": [
             [
              0,
              "#0d0887"
             ],
             [
              0.1111111111111111,
              "#46039f"
             ],
             [
              0.2222222222222222,
              "#7201a8"
             ],
             [
              0.3333333333333333,
              "#9c179e"
             ],
             [
              0.4444444444444444,
              "#bd3786"
             ],
             [
              0.5555555555555556,
              "#d8576b"
             ],
             [
              0.6666666666666666,
              "#ed7953"
             ],
             [
              0.7777777777777778,
              "#fb9f3a"
             ],
             [
              0.8888888888888888,
              "#fdca26"
             ],
             [
              1,
              "#f0f921"
             ]
            ],
            "type": "histogram2dcontour"
           }
          ],
          "mesh3d": [
           {
            "colorbar": {
             "outlinewidth": 0,
             "ticks": ""
            },
            "type": "mesh3d"
           }
          ],
          "parcoords": [
           {
            "line": {
             "colorbar": {
              "outlinewidth": 0,
              "ticks": ""
             }
            },
            "type": "parcoords"
           }
          ],
          "pie": [
           {
            "automargin": true,
            "type": "pie"
           }
          ],
          "scatter": [
           {
            "fillpattern": {
             "fillmode": "overlay",
             "size": 10,
             "solidity": 0.2
            },
            "type": "scatter"
           }
          ],
          "scatter3d": [
           {
            "line": {
             "colorbar": {
              "outlinewidth": 0,
              "ticks": ""
             }
            },
            "marker": {
             "colorbar": {
              "outlinewidth": 0,
              "ticks": ""
             }
            },
            "type": "scatter3d"
           }
          ],
          "scattercarpet": [
           {
            "marker": {
             "colorbar": {
              "outlinewidth": 0,
              "ticks": ""
             }
            },
            "type": "scattercarpet"
           }
          ],
          "scattergeo": [
           {
            "marker": {
             "colorbar": {
              "outlinewidth": 0,
              "ticks": ""
             }
            },
            "type": "scattergeo"
           }
          ],
          "scattergl": [
           {
            "marker": {
             "colorbar": {
              "outlinewidth": 0,
              "ticks": ""
             }
            },
            "type": "scattergl"
           }
          ],
          "scattermapbox": [
           {
            "marker": {
             "colorbar": {
              "outlinewidth": 0,
              "ticks": ""
             }
            },
            "type": "scattermapbox"
           }
          ],
          "scatterpolar": [
           {
            "marker": {
             "colorbar": {
              "outlinewidth": 0,
              "ticks": ""
             }
            },
            "type": "scatterpolar"
           }
          ],
          "scatterpolargl": [
           {
            "marker": {
             "colorbar": {
              "outlinewidth": 0,
              "ticks": ""
             }
            },
            "type": "scatterpolargl"
           }
          ],
          "scatterternary": [
           {
            "marker": {
             "colorbar": {
              "outlinewidth": 0,
              "ticks": ""
             }
            },
            "type": "scatterternary"
           }
          ],
          "surface": [
           {
            "colorbar": {
             "outlinewidth": 0,
             "ticks": ""
            },
            "colorscale": [
             [
              0,
              "#0d0887"
             ],
             [
              0.1111111111111111,
              "#46039f"
             ],
             [
              0.2222222222222222,
              "#7201a8"
             ],
             [
              0.3333333333333333,
              "#9c179e"
             ],
             [
              0.4444444444444444,
              "#bd3786"
             ],
             [
              0.5555555555555556,
              "#d8576b"
             ],
             [
              0.6666666666666666,
              "#ed7953"
             ],
             [
              0.7777777777777778,
              "#fb9f3a"
             ],
             [
              0.8888888888888888,
              "#fdca26"
             ],
             [
              1,
              "#f0f921"
             ]
            ],
            "type": "surface"
           }
          ],
          "table": [
           {
            "cells": {
             "fill": {
              "color": "#EBF0F8"
             },
             "line": {
              "color": "white"
             }
            },
            "header": {
             "fill": {
              "color": "#C8D4E3"
             },
             "line": {
              "color": "white"
             }
            },
            "type": "table"
           }
          ]
         },
         "layout": {
          "annotationdefaults": {
           "arrowcolor": "#2a3f5f",
           "arrowhead": 0,
           "arrowwidth": 1
          },
          "autotypenumbers": "strict",
          "coloraxis": {
           "colorbar": {
            "outlinewidth": 0,
            "ticks": ""
           }
          },
          "colorscale": {
           "diverging": [
            [
             0,
             "#8e0152"
            ],
            [
             0.1,
             "#c51b7d"
            ],
            [
             0.2,
             "#de77ae"
            ],
            [
             0.3,
             "#f1b6da"
            ],
            [
             0.4,
             "#fde0ef"
            ],
            [
             0.5,
             "#f7f7f7"
            ],
            [
             0.6,
             "#e6f5d0"
            ],
            [
             0.7,
             "#b8e186"
            ],
            [
             0.8,
             "#7fbc41"
            ],
            [
             0.9,
             "#4d9221"
            ],
            [
             1,
             "#276419"
            ]
           ],
           "sequential": [
            [
             0,
             "#0d0887"
            ],
            [
             0.1111111111111111,
             "#46039f"
            ],
            [
             0.2222222222222222,
             "#7201a8"
            ],
            [
             0.3333333333333333,
             "#9c179e"
            ],
            [
             0.4444444444444444,
             "#bd3786"
            ],
            [
             0.5555555555555556,
             "#d8576b"
            ],
            [
             0.6666666666666666,
             "#ed7953"
            ],
            [
             0.7777777777777778,
             "#fb9f3a"
            ],
            [
             0.8888888888888888,
             "#fdca26"
            ],
            [
             1,
             "#f0f921"
            ]
           ],
           "sequentialminus": [
            [
             0,
             "#0d0887"
            ],
            [
             0.1111111111111111,
             "#46039f"
            ],
            [
             0.2222222222222222,
             "#7201a8"
            ],
            [
             0.3333333333333333,
             "#9c179e"
            ],
            [
             0.4444444444444444,
             "#bd3786"
            ],
            [
             0.5555555555555556,
             "#d8576b"
            ],
            [
             0.6666666666666666,
             "#ed7953"
            ],
            [
             0.7777777777777778,
             "#fb9f3a"
            ],
            [
             0.8888888888888888,
             "#fdca26"
            ],
            [
             1,
             "#f0f921"
            ]
           ]
          },
          "colorway": [
           "#636efa",
           "#EF553B",
           "#00cc96",
           "#ab63fa",
           "#FFA15A",
           "#19d3f3",
           "#FF6692",
           "#B6E880",
           "#FF97FF",
           "#FECB52"
          ],
          "font": {
           "color": "#2a3f5f"
          },
          "geo": {
           "bgcolor": "white",
           "lakecolor": "white",
           "landcolor": "#E5ECF6",
           "showlakes": true,
           "showland": true,
           "subunitcolor": "white"
          },
          "hoverlabel": {
           "align": "left"
          },
          "hovermode": "closest",
          "mapbox": {
           "style": "light"
          },
          "paper_bgcolor": "white",
          "plot_bgcolor": "#E5ECF6",
          "polar": {
           "angularaxis": {
            "gridcolor": "white",
            "linecolor": "white",
            "ticks": ""
           },
           "bgcolor": "#E5ECF6",
           "radialaxis": {
            "gridcolor": "white",
            "linecolor": "white",
            "ticks": ""
           }
          },
          "scene": {
           "xaxis": {
            "backgroundcolor": "#E5ECF6",
            "gridcolor": "white",
            "gridwidth": 2,
            "linecolor": "white",
            "showbackground": true,
            "ticks": "",
            "zerolinecolor": "white"
           },
           "yaxis": {
            "backgroundcolor": "#E5ECF6",
            "gridcolor": "white",
            "gridwidth": 2,
            "linecolor": "white",
            "showbackground": true,
            "ticks": "",
            "zerolinecolor": "white"
           },
           "zaxis": {
            "backgroundcolor": "#E5ECF6",
            "gridcolor": "white",
            "gridwidth": 2,
            "linecolor": "white",
            "showbackground": true,
            "ticks": "",
            "zerolinecolor": "white"
           }
          },
          "shapedefaults": {
           "line": {
            "color": "#2a3f5f"
           }
          },
          "ternary": {
           "aaxis": {
            "gridcolor": "white",
            "linecolor": "white",
            "ticks": ""
           },
           "baxis": {
            "gridcolor": "white",
            "linecolor": "white",
            "ticks": ""
           },
           "bgcolor": "#E5ECF6",
           "caxis": {
            "gridcolor": "white",
            "linecolor": "white",
            "ticks": ""
           }
          },
          "title": {
           "x": 0.05
          },
          "xaxis": {
           "automargin": true,
           "gridcolor": "white",
           "linecolor": "white",
           "ticks": "",
           "title": {
            "standoff": 15
           },
           "zerolinecolor": "white",
           "zerolinewidth": 2
          },
          "yaxis": {
           "automargin": true,
           "gridcolor": "white",
           "linecolor": "white",
           "ticks": "",
           "title": {
            "standoff": 15
           },
           "zerolinecolor": "white",
           "zerolinewidth": 2
          }
         }
        },
        "title": {
         "text": "Coapplicant Income by Loan Status"
        },
        "xaxis": {
         "anchor": "y",
         "categoryarray": [
          1,
          0
         ],
         "categoryorder": "array",
         "domain": [
          0,
          1
         ],
         "title": {
          "text": "Loan_Status"
         }
        },
        "yaxis": {
         "anchor": "x",
         "domain": [
          0,
          1
         ],
         "title": {
          "text": "CoapplicantIncome"
         }
        }
       }
      }
     },
     "metadata": {},
     "output_type": "display_data"
    }
   ],
   "source": [
    "fig = px.box(df, x='Loan_Status', y='CoapplicantIncome', color='Loan_Status',\n",
    "             title='Coapplicant Income by Loan Status')\n",
    "fig.show()\n"
   ]
  },
  {
   "cell_type": "markdown",
   "id": "2bdb541e",
   "metadata": {},
   "source": [
    "## Insights: \n",
    "### **Coapplicant income has a limited impact on improving loan approval chances** "
   ]
  },
  {
   "cell_type": "markdown",
   "id": "1cc7d572-21c6-4ca2-b912-62f25560b1f3",
   "metadata": {},
   "source": [
    "# Feature Engineering"
   ]
  },
  {
   "cell_type": "markdown",
   "id": "24dbc1d0",
   "metadata": {},
   "source": [
    "## Total_Income"
   ]
  },
  {
   "cell_type": "code",
   "execution_count": 48,
   "id": "6943df71-a56e-47dd-855c-281f0874e6f1",
   "metadata": {},
   "outputs": [],
   "source": [
    "df[\"Total_Income\"] = df[\"ApplicantIncome\"] + df[\"CoapplicantIncome\"] "
   ]
  },
  {
   "cell_type": "code",
   "execution_count": 49,
   "id": "09586125",
   "metadata": {},
   "outputs": [
    {
     "data": {
      "application/vnd.plotly.v1+json": {
       "config": {
        "plotlyServerURL": "https://plot.ly"
       },
       "data": [
        {
         "alignmentgroup": "True",
         "bingroup": "x",
         "hovertemplate": "Total_Income=%{x}<br>count=%{y}<extra></extra>",
         "legendgroup": "",
         "marker": {
          "color": "#636efa",
          "pattern": {
           "shape": ""
          }
         },
         "name": "",
         "offsetgroup": "",
         "orientation": "v",
         "showlegend": false,
         "type": "histogram",
         "x": [
          5849,
          6091,
          3000,
          4941,
          6000,
          9613,
          3849,
          5540,
          5532,
          23809,
          3900,
          4340,
          11179,
          4693,
          2385,
          4950,
          3596,
          3510,
          4887,
          6100,
          7660,
          11580,
          4511,
          5282,
          6642,
          9560,
          5052,
          5266,
          1442,
          5833,
          7535,
          3167,
          4692,
          5167,
          15500,
          4342,
          3158,
          5126,
          11376,
          5416,
          3600,
          3013,
          2400,
          6277,
          4695,
          3410,
          5649,
          5821,
          6085,
          6275,
          3572,
          3086,
          4230,
          4616,
          11500,
          3875,
          3723,
          5566,
          10330,
          6216,
          6296,
          3029,
          6058,
          4945,
          4166,
          10321,
          5454,
          10750,
          7100,
          4300,
          6274,
          3750,
          3500,
          4755,
          7040,
          3750,
          8500,
          4022,
          7167,
          5499,
          3846,
          2395,
          3259,
          8250,
          3988,
          4897,
          5333,
          4618,
          8566,
          9862,
          5858,
          11904,
          5093,
          4133,
          3620,
          6782,
          4786,
          2974,
          4188,
          5300,
          7551,
          8649,
          13650,
          8235,
          4570,
          4082,
          12543,
          7333,
          7400,
          2825,
          5316,
          5262,
          7686,
          7451,
          5050,
          14583,
          5450,
          3612,
          7710,
          10408,
          8334,
          4166,
          11117,
          2957,
          6314,
          3692,
          23803,
          5505,
          14363,
          8649,
          20166,
          3943,
          2718,
          3459,
          4895,
          11750,
          4583,
          6816,
          14999,
          5630,
          7125,
          5417,
          6950,
          4732,
          11757,
          6816,
          14866,
          2963,
          11666,
          5690,
          6277,
          6327,
          9166,
          2281,
          3254,
          39999,
          6000,
          9538,
          5063,
          10208,
          2904,
          7933,
          4369,
          5614,
          9323,
          6873,
          4583,
          5772,
          2237,
          8000,
          3589,
          51763,
          3522,
          11333,
          5080,
          5461,
          3664,
          16816,
          3750,
          3784,
          13650,
          6979,
          4600,
          33846,
          3625,
          43897,
          2178,
          4521,
          5970,
          9328,
          4885,
          12000,
          6033,
          3858,
          4191,
          5708,
          12083,
          4272,
          6232,
          11000,
          5100,
          4923,
          3992,
          4583,
          3917,
          4408,
          3244,
          6506,
          2479,
          3418,
          10000,
          4680,
          7787,
          5703,
          6194,
          4833,
          1950,
          5502,
          5000,
          6666,
          2221,
          5726,
          5762,
          8588,
          6250,
          3250,
          4735,
          7945,
          4758,
          6400,
          4545,
          3716,
          5787,
          8333,
          4934,
          6760,
          5746,
          3463,
          3812,
          3315,
          10819,
          4493,
          8666,
          7550,
          7823,
          10383,
          9703,
          6608,
          4725,
          3677,
          5558,
          3427,
          4750,
          9762,
          16250,
          3083,
          6045,
          5250,
          16783,
          4931,
          10333,
          4269,
          3481,
          7200,
          5166,
          7542,
          6095,
          6144,
          3418,
          4436,
          3237,
          11146,
          4690,
          4843,
          3900,
          4592,
          7267,
          4403,
          14583,
          4100,
          6479,
          4727,
          3286.7999878,
          3477,
          20667,
          6211,
          4317,
          5704,
          4124,
          9508,
          5491,
          4400,
          4713,
          5417,
          5717,
          5666,
          6875,
          4666,
          7541,
          4939,
          4734,
          4625,
          5000,
          3428,
          6500,
          2000,
          5428,
          4263,
          20233,
          7667,
          2917,
          5332,
          2507,
          5746,
          4316,
          5039,
          3717,
          4192,
          3541,
          10000,
          4567,
          4531,
          5191,
          6151,
          15000,
          13649,
          4917,
          7978,
          6784,
          2500,
          6177,
          2935,
          2833,
          63337,
          11666,
          9993,
          5938,
          7100,
          1830,
          4160,
          4234,
          2378,
          5783,
          3173,
          4913,
          4957,
          6753,
          5251,
          10916,
          8875,
          9083,
          12917,
          4749,
          5500,
          2928,
          3813,
          11500,
          3875,
          4666,
          8334,
          4723,
          8667,
          7083,
          6046,
          6822,
          6216,
          2500,
          5124,
          6325,
          24996,
          15759,
          5185,
          17196,
          5049,
          4223,
          5740,
          13746,
          4310,
          3069,
          5391,
          5833,
          10173,
          6000,
          7167,
          4566,
          3667,
          3946,
          6146,
          4750,
          5488,
          9167,
          9504,
          4698,
          3618,
          4500,
          3760,
          3180,
          4492,
          5568,
          3300,
          2889,
          2755,
          22500,
          1963,
          7441,
          4547,
          4567,
          2213,
          8300,
          81000,
          3867,
          6256,
          6096,
          4286,
          5386,
          2995,
          2600,
          21600,
          3798,
          4663,
          5829,
          2720,
          3539,
          8917,
          14880,
          6966,
          4606,
          5935,
          2936.12000084,
          2717,
          8624,
          6500,
          12876,
          4765,
          3750,
          10047,
          3777,
          3338,
          10416,
          7142,
          8724,
          9734,
          6700,
          37719,
          15666,
          4676,
          4652,
          4915,
          5050,
          4311,
          3564,
          3414,
          5681,
          4949,
          7085,
          3859,
          4301,
          6277,
          4354,
          8334,
          6166,
          7740,
          5203,
          5191,
          4166,
          6000,
          4611,
          16692,
          3127,
          6784,
          5529,
          4153,
          4691,
          2500,
          10180,
          17539,
          8450,
          4745,
          18917,
          4550,
          4350,
          3095,
          5233,
          10833,
          8333,
          4394,
          3547,
          18333,
          6666,
          2435,
          5484,
          6464,
          3691,
          17263,
          5754,
          4239,
          4300,
          7482,
          2895,
          10699,
          4328,
          3159,
          10489,
          9352,
          5297,
          7926,
          27500,
          3583,
          5492,
          13262,
          4885,
          8069,
          5318,
          8796,
          9481,
          6894,
          3663,
          4874,
          6598,
          3400,
          3934,
          2500,
          7101,
          15114,
          6767,
          17500,
          3775,
          6715,
          3981,
          6783,
          6525,
          4281,
          3588,
          11250,
          18165,
          4592,
          10039,
          3617,
          3453,
          6417,
          7453,
          2138,
          3652,
          4763,
          3680,
          4718,
          3358,
          4309,
          5000,
          4801,
          6633,
          4867,
          6583,
          4787,
          7859,
          6500,
          4292,
          10139,
          6556,
          6486,
          3917,
          19484,
          7977,
          5800,
          8799,
          4467,
          3333,
          5900,
          2378,
          5230,
          5167,
          6567,
          16666,
          7750,
          6406,
          3620,
          5297,
          5968,
          4014,
          6099,
          6540,
          35673,
          3166,
          1880,
          4704,
          7283,
          3819,
          2165,
          4750,
          2726,
          6416,
          6000,
          9357,
          7159,
          16120,
          3833,
          7383,
          2987,
          9963,
          5780,
          42083,
          5686,
          5703,
          7977,
          12000,
          6200,
          5900,
          5398,
          5182,
          2900,
          4106,
          8312,
          7583,
          4583
         ],
         "xaxis": "x",
         "yaxis": "y"
        }
       ],
       "layout": {
        "barmode": "relative",
        "legend": {
         "tracegroupgap": 0
        },
        "margin": {
         "t": 60
        },
        "template": {
         "data": {
          "bar": [
           {
            "error_x": {
             "color": "#2a3f5f"
            },
            "error_y": {
             "color": "#2a3f5f"
            },
            "marker": {
             "line": {
              "color": "#E5ECF6",
              "width": 0.5
             },
             "pattern": {
              "fillmode": "overlay",
              "size": 10,
              "solidity": 0.2
             }
            },
            "type": "bar"
           }
          ],
          "barpolar": [
           {
            "marker": {
             "line": {
              "color": "#E5ECF6",
              "width": 0.5
             },
             "pattern": {
              "fillmode": "overlay",
              "size": 10,
              "solidity": 0.2
             }
            },
            "type": "barpolar"
           }
          ],
          "carpet": [
           {
            "aaxis": {
             "endlinecolor": "#2a3f5f",
             "gridcolor": "white",
             "linecolor": "white",
             "minorgridcolor": "white",
             "startlinecolor": "#2a3f5f"
            },
            "baxis": {
             "endlinecolor": "#2a3f5f",
             "gridcolor": "white",
             "linecolor": "white",
             "minorgridcolor": "white",
             "startlinecolor": "#2a3f5f"
            },
            "type": "carpet"
           }
          ],
          "choropleth": [
           {
            "colorbar": {
             "outlinewidth": 0,
             "ticks": ""
            },
            "type": "choropleth"
           }
          ],
          "contour": [
           {
            "colorbar": {
             "outlinewidth": 0,
             "ticks": ""
            },
            "colorscale": [
             [
              0,
              "#0d0887"
             ],
             [
              0.1111111111111111,
              "#46039f"
             ],
             [
              0.2222222222222222,
              "#7201a8"
             ],
             [
              0.3333333333333333,
              "#9c179e"
             ],
             [
              0.4444444444444444,
              "#bd3786"
             ],
             [
              0.5555555555555556,
              "#d8576b"
             ],
             [
              0.6666666666666666,
              "#ed7953"
             ],
             [
              0.7777777777777778,
              "#fb9f3a"
             ],
             [
              0.8888888888888888,
              "#fdca26"
             ],
             [
              1,
              "#f0f921"
             ]
            ],
            "type": "contour"
           }
          ],
          "contourcarpet": [
           {
            "colorbar": {
             "outlinewidth": 0,
             "ticks": ""
            },
            "type": "contourcarpet"
           }
          ],
          "heatmap": [
           {
            "colorbar": {
             "outlinewidth": 0,
             "ticks": ""
            },
            "colorscale": [
             [
              0,
              "#0d0887"
             ],
             [
              0.1111111111111111,
              "#46039f"
             ],
             [
              0.2222222222222222,
              "#7201a8"
             ],
             [
              0.3333333333333333,
              "#9c179e"
             ],
             [
              0.4444444444444444,
              "#bd3786"
             ],
             [
              0.5555555555555556,
              "#d8576b"
             ],
             [
              0.6666666666666666,
              "#ed7953"
             ],
             [
              0.7777777777777778,
              "#fb9f3a"
             ],
             [
              0.8888888888888888,
              "#fdca26"
             ],
             [
              1,
              "#f0f921"
             ]
            ],
            "type": "heatmap"
           }
          ],
          "heatmapgl": [
           {
            "colorbar": {
             "outlinewidth": 0,
             "ticks": ""
            },
            "colorscale": [
             [
              0,
              "#0d0887"
             ],
             [
              0.1111111111111111,
              "#46039f"
             ],
             [
              0.2222222222222222,
              "#7201a8"
             ],
             [
              0.3333333333333333,
              "#9c179e"
             ],
             [
              0.4444444444444444,
              "#bd3786"
             ],
             [
              0.5555555555555556,
              "#d8576b"
             ],
             [
              0.6666666666666666,
              "#ed7953"
             ],
             [
              0.7777777777777778,
              "#fb9f3a"
             ],
             [
              0.8888888888888888,
              "#fdca26"
             ],
             [
              1,
              "#f0f921"
             ]
            ],
            "type": "heatmapgl"
           }
          ],
          "histogram": [
           {
            "marker": {
             "pattern": {
              "fillmode": "overlay",
              "size": 10,
              "solidity": 0.2
             }
            },
            "type": "histogram"
           }
          ],
          "histogram2d": [
           {
            "colorbar": {
             "outlinewidth": 0,
             "ticks": ""
            },
            "colorscale": [
             [
              0,
              "#0d0887"
             ],
             [
              0.1111111111111111,
              "#46039f"
             ],
             [
              0.2222222222222222,
              "#7201a8"
             ],
             [
              0.3333333333333333,
              "#9c179e"
             ],
             [
              0.4444444444444444,
              "#bd3786"
             ],
             [
              0.5555555555555556,
              "#d8576b"
             ],
             [
              0.6666666666666666,
              "#ed7953"
             ],
             [
              0.7777777777777778,
              "#fb9f3a"
             ],
             [
              0.8888888888888888,
              "#fdca26"
             ],
             [
              1,
              "#f0f921"
             ]
            ],
            "type": "histogram2d"
           }
          ],
          "histogram2dcontour": [
           {
            "colorbar": {
             "outlinewidth": 0,
             "ticks": ""
            },
            "colorscale": [
             [
              0,
              "#0d0887"
             ],
             [
              0.1111111111111111,
              "#46039f"
             ],
             [
              0.2222222222222222,
              "#7201a8"
             ],
             [
              0.3333333333333333,
              "#9c179e"
             ],
             [
              0.4444444444444444,
              "#bd3786"
             ],
             [
              0.5555555555555556,
              "#d8576b"
             ],
             [
              0.6666666666666666,
              "#ed7953"
             ],
             [
              0.7777777777777778,
              "#fb9f3a"
             ],
             [
              0.8888888888888888,
              "#fdca26"
             ],
             [
              1,
              "#f0f921"
             ]
            ],
            "type": "histogram2dcontour"
           }
          ],
          "mesh3d": [
           {
            "colorbar": {
             "outlinewidth": 0,
             "ticks": ""
            },
            "type": "mesh3d"
           }
          ],
          "parcoords": [
           {
            "line": {
             "colorbar": {
              "outlinewidth": 0,
              "ticks": ""
             }
            },
            "type": "parcoords"
           }
          ],
          "pie": [
           {
            "automargin": true,
            "type": "pie"
           }
          ],
          "scatter": [
           {
            "fillpattern": {
             "fillmode": "overlay",
             "size": 10,
             "solidity": 0.2
            },
            "type": "scatter"
           }
          ],
          "scatter3d": [
           {
            "line": {
             "colorbar": {
              "outlinewidth": 0,
              "ticks": ""
             }
            },
            "marker": {
             "colorbar": {
              "outlinewidth": 0,
              "ticks": ""
             }
            },
            "type": "scatter3d"
           }
          ],
          "scattercarpet": [
           {
            "marker": {
             "colorbar": {
              "outlinewidth": 0,
              "ticks": ""
             }
            },
            "type": "scattercarpet"
           }
          ],
          "scattergeo": [
           {
            "marker": {
             "colorbar": {
              "outlinewidth": 0,
              "ticks": ""
             }
            },
            "type": "scattergeo"
           }
          ],
          "scattergl": [
           {
            "marker": {
             "colorbar": {
              "outlinewidth": 0,
              "ticks": ""
             }
            },
            "type": "scattergl"
           }
          ],
          "scattermapbox": [
           {
            "marker": {
             "colorbar": {
              "outlinewidth": 0,
              "ticks": ""
             }
            },
            "type": "scattermapbox"
           }
          ],
          "scatterpolar": [
           {
            "marker": {
             "colorbar": {
              "outlinewidth": 0,
              "ticks": ""
             }
            },
            "type": "scatterpolar"
           }
          ],
          "scatterpolargl": [
           {
            "marker": {
             "colorbar": {
              "outlinewidth": 0,
              "ticks": ""
             }
            },
            "type": "scatterpolargl"
           }
          ],
          "scatterternary": [
           {
            "marker": {
             "colorbar": {
              "outlinewidth": 0,
              "ticks": ""
             }
            },
            "type": "scatterternary"
           }
          ],
          "surface": [
           {
            "colorbar": {
             "outlinewidth": 0,
             "ticks": ""
            },
            "colorscale": [
             [
              0,
              "#0d0887"
             ],
             [
              0.1111111111111111,
              "#46039f"
             ],
             [
              0.2222222222222222,
              "#7201a8"
             ],
             [
              0.3333333333333333,
              "#9c179e"
             ],
             [
              0.4444444444444444,
              "#bd3786"
             ],
             [
              0.5555555555555556,
              "#d8576b"
             ],
             [
              0.6666666666666666,
              "#ed7953"
             ],
             [
              0.7777777777777778,
              "#fb9f3a"
             ],
             [
              0.8888888888888888,
              "#fdca26"
             ],
             [
              1,
              "#f0f921"
             ]
            ],
            "type": "surface"
           }
          ],
          "table": [
           {
            "cells": {
             "fill": {
              "color": "#EBF0F8"
             },
             "line": {
              "color": "white"
             }
            },
            "header": {
             "fill": {
              "color": "#C8D4E3"
             },
             "line": {
              "color": "white"
             }
            },
            "type": "table"
           }
          ]
         },
         "layout": {
          "annotationdefaults": {
           "arrowcolor": "#2a3f5f",
           "arrowhead": 0,
           "arrowwidth": 1
          },
          "autotypenumbers": "strict",
          "coloraxis": {
           "colorbar": {
            "outlinewidth": 0,
            "ticks": ""
           }
          },
          "colorscale": {
           "diverging": [
            [
             0,
             "#8e0152"
            ],
            [
             0.1,
             "#c51b7d"
            ],
            [
             0.2,
             "#de77ae"
            ],
            [
             0.3,
             "#f1b6da"
            ],
            [
             0.4,
             "#fde0ef"
            ],
            [
             0.5,
             "#f7f7f7"
            ],
            [
             0.6,
             "#e6f5d0"
            ],
            [
             0.7,
             "#b8e186"
            ],
            [
             0.8,
             "#7fbc41"
            ],
            [
             0.9,
             "#4d9221"
            ],
            [
             1,
             "#276419"
            ]
           ],
           "sequential": [
            [
             0,
             "#0d0887"
            ],
            [
             0.1111111111111111,
             "#46039f"
            ],
            [
             0.2222222222222222,
             "#7201a8"
            ],
            [
             0.3333333333333333,
             "#9c179e"
            ],
            [
             0.4444444444444444,
             "#bd3786"
            ],
            [
             0.5555555555555556,
             "#d8576b"
            ],
            [
             0.6666666666666666,
             "#ed7953"
            ],
            [
             0.7777777777777778,
             "#fb9f3a"
            ],
            [
             0.8888888888888888,
             "#fdca26"
            ],
            [
             1,
             "#f0f921"
            ]
           ],
           "sequentialminus": [
            [
             0,
             "#0d0887"
            ],
            [
             0.1111111111111111,
             "#46039f"
            ],
            [
             0.2222222222222222,
             "#7201a8"
            ],
            [
             0.3333333333333333,
             "#9c179e"
            ],
            [
             0.4444444444444444,
             "#bd3786"
            ],
            [
             0.5555555555555556,
             "#d8576b"
            ],
            [
             0.6666666666666666,
             "#ed7953"
            ],
            [
             0.7777777777777778,
             "#fb9f3a"
            ],
            [
             0.8888888888888888,
             "#fdca26"
            ],
            [
             1,
             "#f0f921"
            ]
           ]
          },
          "colorway": [
           "#636efa",
           "#EF553B",
           "#00cc96",
           "#ab63fa",
           "#FFA15A",
           "#19d3f3",
           "#FF6692",
           "#B6E880",
           "#FF97FF",
           "#FECB52"
          ],
          "font": {
           "color": "#2a3f5f"
          },
          "geo": {
           "bgcolor": "white",
           "lakecolor": "white",
           "landcolor": "#E5ECF6",
           "showlakes": true,
           "showland": true,
           "subunitcolor": "white"
          },
          "hoverlabel": {
           "align": "left"
          },
          "hovermode": "closest",
          "mapbox": {
           "style": "light"
          },
          "paper_bgcolor": "white",
          "plot_bgcolor": "#E5ECF6",
          "polar": {
           "angularaxis": {
            "gridcolor": "white",
            "linecolor": "white",
            "ticks": ""
           },
           "bgcolor": "#E5ECF6",
           "radialaxis": {
            "gridcolor": "white",
            "linecolor": "white",
            "ticks": ""
           }
          },
          "scene": {
           "xaxis": {
            "backgroundcolor": "#E5ECF6",
            "gridcolor": "white",
            "gridwidth": 2,
            "linecolor": "white",
            "showbackground": true,
            "ticks": "",
            "zerolinecolor": "white"
           },
           "yaxis": {
            "backgroundcolor": "#E5ECF6",
            "gridcolor": "white",
            "gridwidth": 2,
            "linecolor": "white",
            "showbackground": true,
            "ticks": "",
            "zerolinecolor": "white"
           },
           "zaxis": {
            "backgroundcolor": "#E5ECF6",
            "gridcolor": "white",
            "gridwidth": 2,
            "linecolor": "white",
            "showbackground": true,
            "ticks": "",
            "zerolinecolor": "white"
           }
          },
          "shapedefaults": {
           "line": {
            "color": "#2a3f5f"
           }
          },
          "ternary": {
           "aaxis": {
            "gridcolor": "white",
            "linecolor": "white",
            "ticks": ""
           },
           "baxis": {
            "gridcolor": "white",
            "linecolor": "white",
            "ticks": ""
           },
           "bgcolor": "#E5ECF6",
           "caxis": {
            "gridcolor": "white",
            "linecolor": "white",
            "ticks": ""
           }
          },
          "title": {
           "x": 0.05
          },
          "xaxis": {
           "automargin": true,
           "gridcolor": "white",
           "linecolor": "white",
           "ticks": "",
           "title": {
            "standoff": 15
           },
           "zerolinecolor": "white",
           "zerolinewidth": 2
          },
          "yaxis": {
           "automargin": true,
           "gridcolor": "white",
           "linecolor": "white",
           "ticks": "",
           "title": {
            "standoff": 15
           },
           "zerolinecolor": "white",
           "zerolinewidth": 2
          }
         }
        },
        "xaxis": {
         "anchor": "y",
         "domain": [
          0,
          1
         ],
         "title": {
          "text": "Total_Income"
         }
        },
        "yaxis": {
         "anchor": "x",
         "domain": [
          0,
          1
         ],
         "title": {
          "text": "count"
         }
        }
       }
      }
     },
     "metadata": {},
     "output_type": "display_data"
    }
   ],
   "source": [
    "px.histogram(df, x= \"Total_Income\")"
   ]
  },
  {
   "cell_type": "code",
   "execution_count": 50,
   "id": "0577730e",
   "metadata": {},
   "outputs": [],
   "source": [
    "df[\"log_Total_Income\"] = np.log(df[\"Total_Income\"]) "
   ]
  },
  {
   "cell_type": "code",
   "execution_count": 51,
   "id": "a9da5ddc",
   "metadata": {},
   "outputs": [
    {
     "data": {
      "application/vnd.plotly.v1+json": {
       "config": {
        "plotlyServerURL": "https://plot.ly"
       },
       "data": [
        {
         "alignmentgroup": "True",
         "bingroup": "x",
         "hovertemplate": "log_Total_Income=%{x}<br>count=%{y}<extra></extra>",
         "legendgroup": "",
         "marker": {
          "color": "#636efa",
          "pattern": {
           "shape": ""
          }
         },
         "name": "",
         "offsetgroup": "",
         "orientation": "v",
         "showlegend": false,
         "type": "histogram",
         "x": [
          8.674025985443025,
          8.714567550836485,
          8.006367567650246,
          8.50532301884575,
          8.699514748210191,
          9.170871628065816,
          8.255568653283746,
          8.61974977974133,
          8.61830469278465,
          10.077818939438902,
          8.268731832117737,
          8.375629627094451,
          9.321792297270326,
          8.453827315794417,
          7.776954403322442,
          8.507142855562735,
          8.18757739559151,
          8.163371316459912,
          8.494333897270154,
          8.716044050161402,
          8.943767262734637,
          9.357034751126987,
          8.414274137408396,
          8.572060092857077,
          8.801168401936692,
          9.165343006045447,
          8.527539483470381,
          8.569026340056254,
          7.273786317844895,
          8.671286726753637,
          8.927314111060596,
          8.06054004653864,
          8.453614209773367,
          8.550047528287184,
          9.648595302907339,
          8.376090350438238,
          8.057694194815587,
          8.542080906924017,
          9.339261152043022,
          8.59711281459211,
          8.1886891244442,
          8.0106915391303,
          7.783224016336037,
          8.744647438317532,
          8.454253391642363,
          8.134467570277563,
          8.639233817325263,
          8.669227347271736,
          8.713582005421628,
          8.744328763999984,
          8.18088094199639,
          8.034631032923107,
          8.349957272040324,
          8.437283808187935,
          9.350102314351341,
          8.262300941787448,
          8.222285073872717,
          8.624431942085836,
          9.242807562113684,
          8.734881892047483,
          8.74766979009724,
          8.015987811027237,
          8.709134991587183,
          8.506132244056813,
          8.334711621820917,
          9.241935933565934,
          8.604104563405533,
          9.28266103355581,
          8.867850063029406,
          8.366370301681654,
          8.744169388750624,
          8.229511118964457,
          8.160518247477505,
          8.46695197497949,
          8.859363449152088,
          8.229511118964457,
          9.047821442478408,
          8.299534570332597,
          8.877242435993919,
          8.612321536507814,
          8.254788926148725,
          7.781138509845015,
          8.089175678837561,
          9.017968479328726,
          8.291045131081729,
          8.496378051702317,
          8.581669210600602,
          8.43771698991444,
          9.055556158175316,
          9.196444266784072,
          8.675563527387679,
          9.384629757072872,
          8.535622326884605,
          8.326758814511733,
          8.194229304819817,
          8.822027322685583,
          8.47345026846832,
          7.9976631270201,
          8.339978571990427,
          8.575462099540212,
          8.929435283803425,
          9.065198986306513,
          9.521494800613105,
          9.016148642611741,
          8.42726848388825,
          8.31434234336979,
          9.436918020024674,
          8.9001399880938,
          8.909235279192261,
          7.946263643580541,
          8.578476419833136,
          8.568266461600238,
          8.94715577112479,
          8.916103530553727,
          8.527143522269405,
          9.587611745713565,
          8.60337088765729,
          8.192016914536875,
          8.950273466557375,
          9.250330020192342,
          9.0280988119824,
          8.334711621820917,
          9.316230747233615,
          7.9919305198524775,
          8.750524669117937,
          8.213923595622743,
          10.077566902136047,
          8.61341204915678,
          9.572410734431823,
          9.065198986306513,
          9.91175329695316,
          8.279697133877628,
          7.907651594711089,
          8.148734808937169,
          8.49596955496461,
          9.371608519572305,
          8.430109084509125,
          8.827028068509152,
          9.61573881119536,
          8.635864721133736,
          8.871365005136852,
          8.597297435657898,
          8.846496938558838,
          8.462103225098277,
          9.372204086867741,
          8.827028068509152,
          9.60683200528524,
          7.993957547573565,
          9.364433907313582,
          8.646465527120377,
          8.744647438317532,
          8.752581469146884,
          9.123256265069069,
          7.732369222284388,
          8.087640287778983,
          10.596609732783568,
          8.699514748210191,
          9.16303909885817,
          8.529714471969909,
          9.23092700558457,
          7.973844375944687,
          8.978786553302003,
          8.382289428951436,
          8.633018756921828,
          9.140239744296693,
          8.835355971121606,
          8.430109084509125,
          8.660773919893762,
          7.71289096149013,
          8.987196820661973,
          8.185628891147607,
          10.854430887309706,
          8.166784289056151,
          9.335474102732949,
          8.533066540572527,
          8.605387202152153,
          8.20631072579402,
          9.730086093116732,
          8.229511118964457,
          8.238536930171769,
          9.521494800613105,
          8.850660919017152,
          8.433811582477187,
          10.429576102968031,
          8.195609567288775,
          10.689601259598334,
          7.686162303492906,
          8.416488487294606,
          8.694502206386648,
          9.140775908590273,
          8.493924564476883,
          9.392661928770137,
          8.704999678440762,
          8.257904193465674,
          8.340694647925071,
          8.649623978596727,
          9.399554785027307,
          8.35983738064003,
          8.737452587550584,
          9.305650551780507,
          8.536995818712418,
          8.5016733797582,
          8.292047637431354,
          8.430109084509125,
          8.27308133366583,
          8.391176350832751,
          8.084562415235304,
          8.780480107033297,
          7.8156105320351905,
          8.136810863675537,
          9.210340371976184,
          8.451053388911692,
          8.960210955576986,
          8.648747631156539,
          8.731336360533149,
          8.483222671845084,
          7.575584651557793,
          8.61286694148452,
          8.517193191416238,
          8.804775258867686,
          7.7057128238944275,
          8.65277248565806,
          8.659039915644474,
          9.058121158998672,
          8.740336742730447,
          8.086410275323782,
          8.462737005620179,
          8.980298078970817,
          8.467582690862903,
          8.764053269347762,
          8.421783006611578,
          8.22040309993373,
          8.663369301573839,
          9.027978814382207,
          8.503905297089302,
          8.81877816903701,
          8.656259239539235,
          8.149890544402423,
          8.245909264774093,
          8.106212902619962,
          9.289059126687574,
          8.41027590907016,
          9.067162602299854,
          8.92930284224307,
          8.96482339168508,
          9.247925132303454,
          9.1801903950253,
          8.796036315200814,
          8.460622839927844,
          8.209852481301272,
          8.62299361030245,
          8.139440521874608,
          8.465899897028686,
          9.186252576447092,
          9.695848187757884,
          8.03365842788615,
          8.706986763048892,
          8.565983355585669,
          9.72812174830818,
          8.503297086224126,
          9.243097936214355,
          8.359134886757962,
          8.15507488781144,
          8.881836305004146,
          8.549853973655786,
          8.928242677818302,
          8.715224041915372,
          8.723231274827508,
          8.136810863675537,
          8.397508348470257,
          8.082402253926244,
          9.318835968129482,
          8.453187861440325,
          8.48528964240323,
          8.268731832117737,
          8.432070937999402,
          8.891098830616636,
          8.390041405755754,
          9.587611745713565,
          8.318742252692399,
          8.776321456449958,
          8.461046030793236,
          8.097669722345216,
          8.153925132007862,
          9.936293504261306,
          8.734077192559303,
          8.370315995555478,
          8.648922962094131,
          8.32457884513685,
          9.159888828480085,
          8.610865667278873,
          8.389359819906353,
          8.45807992692373,
          8.597297435657898,
          8.651199471263972,
          8.642238680390461,
          8.835646922534773,
          8.448057452581375,
          8.928110078202646,
          8.504918160540624,
          8.46252579007393,
          8.439231649946526,
          8.517193191416238,
          8.13973227971767,
          8.779557455883728,
          7.600902459542082,
          8.59932602095476,
          8.35772841676521,
          9.915070213779195,
          8.944680683558895,
          7.978310969867722,
          8.5814816812986,
          7.826842098158293,
          8.656259239539235,
          8.370084326378025,
          8.524962928680598,
          8.220672170297252,
          8.340933226000878,
          8.172164452111904,
          9.210340371976184,
          8.426611813185,
          8.418697944667139,
          8.55468163582723,
          8.724369949208368,
          9.615805480084347,
          9.521421537856195,
          8.50045386741194,
          8.984443032465352,
          8.822322177471738,
          7.824046010856292,
          8.728587995695898,
          7.984462732262196,
          7.949091499830517,
          11.05622495553552,
          9.364433907313582,
          9.209640126861789,
          8.689127655323706,
          8.867850063029406,
          7.512071245835466,
          8.333270353255308,
          8.350902451694811,
          7.774015077250727,
          8.662677858158219,
          8.062432791583195,
          8.499640032168648,
          8.508555998020574,
          8.817742129574842,
          8.566173813637858,
          9.29798488182823,
          9.090993614343617,
          9.114159813502214,
          9.466299552232016,
          8.465689348549121,
          8.612503371220562,
          7.982074875081202,
          8.246171559857563,
          9.350102314351341,
          8.262300941787448,
          8.448057452581375,
          9.0280988119824,
          8.460199469896118,
          9.067277989134345,
          8.865452825753623,
          8.707152175339404,
          8.82790796297859,
          8.734881892047483,
          7.824046010856292,
          8.541690663016626,
          8.752265313595721,
          10.126471091048971,
          9.665166909622071,
          8.553525120663627,
          9.752432077616172,
          8.526945482858915,
          8.348301054933943,
          8.655214489313613,
          9.52850315168155,
          8.368693183097793,
          8.029107054619736,
          8.592486175451668,
          8.671286726753637,
          9.227492430793749,
          8.699514748210191,
          8.877242435993919,
          8.42639282708974,
          8.207129168071326,
          8.28045768658256,
          8.72355674269043,
          8.465899897028686,
          8.610319169405722,
          9.123365357961776,
          9.159468041602427,
          8.454892165218858,
          8.193676665955241,
          8.411832675758411,
          8.23217423638394,
          8.064636475774222,
          8.410053315858335,
          8.624791202014256,
          8.101677747454572,
          7.968665700466235,
          7.9211727215870145,
          10.021270588192511,
          7.5822291942764615,
          8.914760527397261,
          8.42222295382501,
          8.426611813185,
          7.70210434005105,
          9.02401079378469,
          11.302204433654575,
          8.260234291607297,
          8.741296282225147,
          8.715388097366482,
          8.363109176033522,
          8.591558273371545,
          8.00469951054955,
          7.8632667240095735,
          9.980448593672257,
          8.242229891372231,
          8.44741429680832,
          8.67060073804555,
          7.908387159290043,
          8.171599480345463,
          9.095714846134879,
          9.607773308387083,
          8.848796450925947,
          8.43511508038063,
          8.688622307043769,
          7.984844261119869,
          7.907283609426348,
          9.06230429314878,
          8.779557455883728,
          9.463120392418698,
          8.469052816088302,
          8.229511118964457,
          9.215029361462314,
          8.236685322712457,
          8.11312710422178,
          9.251098364448351,
          8.873748128154395,
          9.07383312732152,
          9.1833801903934,
          8.809862805379057,
          10.537919225261291,
          9.659248037927183,
          8.450198322591959,
          8.445052513638554,
          8.500047032581268,
          8.527143522269405,
          8.368925174747135,
          8.1786387885907,
          8.135639903354386,
          8.644882552557126,
          8.506940814951886,
          8.865735152124781,
          8.258163361537619,
          8.366602832783736,
          8.744647438317532,
          8.378850241794492,
          9.0280988119824,
          8.726805608446096,
          8.954156966583772,
          8.556990661290303,
          8.55468163582723,
          8.334711621820917,
          8.699514748210191,
          8.436200032206706,
          9.722684841711443,
          8.047829357457841,
          8.822322177471738,
          8.617762246337932,
          8.331586243630754,
          8.453401058328458,
          7.824046010856292,
          9.228180290104513,
          9.772182251758139,
          9.041921720351219,
          8.464846711044029,
          9.847816267665664,
          8.422882511944996,
          8.37793112408273,
          8.037543185118697,
          8.562740006372207,
          9.290352309945568,
          9.027978814382207,
          8.387995252944556,
          8.173857454773621,
          9.816457993563025,
          8.804775258867686,
          7.79770203551669,
          8.609590040682205,
          8.774003600200931,
          8.213652703029998,
          9.756320761816548,
          8.657650544111494,
          8.352082671352637,
          8.366370301681654,
          8.920255414908091,
          7.970740390007095,
          9.277905558138606,
          8.372860820526318,
          8.058010800802085,
          9.258082367961604,
          9.143345503151904,
          8.574895901544526,
          8.97790377375038,
          10.221941283654663,
          8.183955717304954,
          8.61104776688786,
          9.492658081928813,
          8.493924564476883,
          8.995784837848506,
          8.578852571802965,
          9.082052351674651,
          9.15704507491796,
          8.83840674707681,
          8.206037762778815,
          8.491670234185152,
          8.794521851788527,
          8.131530710604252,
          8.277411998949004,
          7.824046010856292,
          8.867990898182093,
          9.623376745580666,
          8.819813136232225,
          9.769956159911606,
          8.236155661683124,
          8.812099108957337,
          8.289288323000317,
          8.82217476094608,
          8.783396232190894,
          8.361941906144946,
          8.185350223178686,
          9.328123407632566,
          9.807251944655302,
          8.432070937999402,
          9.214232786691527,
          8.193400231952097,
          8.146998697389993,
          8.766705997750515,
          8.916371914881694,
          7.6676260915849905,
          8.20303024171486,
          8.46863300080086,
          8.210668031162976,
          8.45914025996762,
          8.119100837637486,
          8.368461137615839,
          8.517193191416238,
          8.476579508530941,
          8.799812469525556,
          8.490233009833455,
          8.792245847467877,
          8.473659189392508,
          8.969414650866176,
          8.779557455883728,
          8.36450810375059,
          9.22414465295258,
          8.78813593986372,
          8.777401286867264,
          8.27308133366583,
          9.877348894926433,
          8.984317679911129,
          8.66561319653451,
          9.08239335764556,
          8.404472321352118,
          8.11162807830774,
          8.68270762989381,
          7.774015077250727,
          8.56216655705897,
          8.550047528287184,
          8.789812386190972,
          9.721125994942152,
          8.955448122347393,
          8.764990330169104,
          8.194229304819817,
          8.574895901544526,
          8.694167141883597,
          8.297543529356284,
          8.715880102296456,
          8.785692444451245,
          10.482149379105689,
          8.060224240440958,
          7.539027055823995,
          8.456168489578463,
          8.893298144217916,
          8.247743887225516,
          7.68017564043659,
          8.465899897028686,
          7.9105906122564775,
          8.766550149546351,
          8.699514748210191,
          9.143880005275912,
          8.876125585396185,
          9.68781601606062,
          8.251403065380556,
          8.906935339059165,
          8.00202481821611,
          9.206633510044856,
          8.662158961666423,
          10.647399137646048,
          8.645762292210945,
          8.648747631156539,
          8.984317679911129,
          9.392661928770137,
          8.732304571033183,
          8.68270762989381,
          8.59378379357795,
          8.552946361122055,
          7.9724660159745655,
          8.32020459757888,
          9.025455532779063,
          8.933664178700935,
          8.430109084509125
         ],
         "xaxis": "x",
         "yaxis": "y"
        }
       ],
       "layout": {
        "barmode": "relative",
        "legend": {
         "tracegroupgap": 0
        },
        "margin": {
         "t": 60
        },
        "template": {
         "data": {
          "bar": [
           {
            "error_x": {
             "color": "#2a3f5f"
            },
            "error_y": {
             "color": "#2a3f5f"
            },
            "marker": {
             "line": {
              "color": "#E5ECF6",
              "width": 0.5
             },
             "pattern": {
              "fillmode": "overlay",
              "size": 10,
              "solidity": 0.2
             }
            },
            "type": "bar"
           }
          ],
          "barpolar": [
           {
            "marker": {
             "line": {
              "color": "#E5ECF6",
              "width": 0.5
             },
             "pattern": {
              "fillmode": "overlay",
              "size": 10,
              "solidity": 0.2
             }
            },
            "type": "barpolar"
           }
          ],
          "carpet": [
           {
            "aaxis": {
             "endlinecolor": "#2a3f5f",
             "gridcolor": "white",
             "linecolor": "white",
             "minorgridcolor": "white",
             "startlinecolor": "#2a3f5f"
            },
            "baxis": {
             "endlinecolor": "#2a3f5f",
             "gridcolor": "white",
             "linecolor": "white",
             "minorgridcolor": "white",
             "startlinecolor": "#2a3f5f"
            },
            "type": "carpet"
           }
          ],
          "choropleth": [
           {
            "colorbar": {
             "outlinewidth": 0,
             "ticks": ""
            },
            "type": "choropleth"
           }
          ],
          "contour": [
           {
            "colorbar": {
             "outlinewidth": 0,
             "ticks": ""
            },
            "colorscale": [
             [
              0,
              "#0d0887"
             ],
             [
              0.1111111111111111,
              "#46039f"
             ],
             [
              0.2222222222222222,
              "#7201a8"
             ],
             [
              0.3333333333333333,
              "#9c179e"
             ],
             [
              0.4444444444444444,
              "#bd3786"
             ],
             [
              0.5555555555555556,
              "#d8576b"
             ],
             [
              0.6666666666666666,
              "#ed7953"
             ],
             [
              0.7777777777777778,
              "#fb9f3a"
             ],
             [
              0.8888888888888888,
              "#fdca26"
             ],
             [
              1,
              "#f0f921"
             ]
            ],
            "type": "contour"
           }
          ],
          "contourcarpet": [
           {
            "colorbar": {
             "outlinewidth": 0,
             "ticks": ""
            },
            "type": "contourcarpet"
           }
          ],
          "heatmap": [
           {
            "colorbar": {
             "outlinewidth": 0,
             "ticks": ""
            },
            "colorscale": [
             [
              0,
              "#0d0887"
             ],
             [
              0.1111111111111111,
              "#46039f"
             ],
             [
              0.2222222222222222,
              "#7201a8"
             ],
             [
              0.3333333333333333,
              "#9c179e"
             ],
             [
              0.4444444444444444,
              "#bd3786"
             ],
             [
              0.5555555555555556,
              "#d8576b"
             ],
             [
              0.6666666666666666,
              "#ed7953"
             ],
             [
              0.7777777777777778,
              "#fb9f3a"
             ],
             [
              0.8888888888888888,
              "#fdca26"
             ],
             [
              1,
              "#f0f921"
             ]
            ],
            "type": "heatmap"
           }
          ],
          "heatmapgl": [
           {
            "colorbar": {
             "outlinewidth": 0,
             "ticks": ""
            },
            "colorscale": [
             [
              0,
              "#0d0887"
             ],
             [
              0.1111111111111111,
              "#46039f"
             ],
             [
              0.2222222222222222,
              "#7201a8"
             ],
             [
              0.3333333333333333,
              "#9c179e"
             ],
             [
              0.4444444444444444,
              "#bd3786"
             ],
             [
              0.5555555555555556,
              "#d8576b"
             ],
             [
              0.6666666666666666,
              "#ed7953"
             ],
             [
              0.7777777777777778,
              "#fb9f3a"
             ],
             [
              0.8888888888888888,
              "#fdca26"
             ],
             [
              1,
              "#f0f921"
             ]
            ],
            "type": "heatmapgl"
           }
          ],
          "histogram": [
           {
            "marker": {
             "pattern": {
              "fillmode": "overlay",
              "size": 10,
              "solidity": 0.2
             }
            },
            "type": "histogram"
           }
          ],
          "histogram2d": [
           {
            "colorbar": {
             "outlinewidth": 0,
             "ticks": ""
            },
            "colorscale": [
             [
              0,
              "#0d0887"
             ],
             [
              0.1111111111111111,
              "#46039f"
             ],
             [
              0.2222222222222222,
              "#7201a8"
             ],
             [
              0.3333333333333333,
              "#9c179e"
             ],
             [
              0.4444444444444444,
              "#bd3786"
             ],
             [
              0.5555555555555556,
              "#d8576b"
             ],
             [
              0.6666666666666666,
              "#ed7953"
             ],
             [
              0.7777777777777778,
              "#fb9f3a"
             ],
             [
              0.8888888888888888,
              "#fdca26"
             ],
             [
              1,
              "#f0f921"
             ]
            ],
            "type": "histogram2d"
           }
          ],
          "histogram2dcontour": [
           {
            "colorbar": {
             "outlinewidth": 0,
             "ticks": ""
            },
            "colorscale": [
             [
              0,
              "#0d0887"
             ],
             [
              0.1111111111111111,
              "#46039f"
             ],
             [
              0.2222222222222222,
              "#7201a8"
             ],
             [
              0.3333333333333333,
              "#9c179e"
             ],
             [
              0.4444444444444444,
              "#bd3786"
             ],
             [
              0.5555555555555556,
              "#d8576b"
             ],
             [
              0.6666666666666666,
              "#ed7953"
             ],
             [
              0.7777777777777778,
              "#fb9f3a"
             ],
             [
              0.8888888888888888,
              "#fdca26"
             ],
             [
              1,
              "#f0f921"
             ]
            ],
            "type": "histogram2dcontour"
           }
          ],
          "mesh3d": [
           {
            "colorbar": {
             "outlinewidth": 0,
             "ticks": ""
            },
            "type": "mesh3d"
           }
          ],
          "parcoords": [
           {
            "line": {
             "colorbar": {
              "outlinewidth": 0,
              "ticks": ""
             }
            },
            "type": "parcoords"
           }
          ],
          "pie": [
           {
            "automargin": true,
            "type": "pie"
           }
          ],
          "scatter": [
           {
            "fillpattern": {
             "fillmode": "overlay",
             "size": 10,
             "solidity": 0.2
            },
            "type": "scatter"
           }
          ],
          "scatter3d": [
           {
            "line": {
             "colorbar": {
              "outlinewidth": 0,
              "ticks": ""
             }
            },
            "marker": {
             "colorbar": {
              "outlinewidth": 0,
              "ticks": ""
             }
            },
            "type": "scatter3d"
           }
          ],
          "scattercarpet": [
           {
            "marker": {
             "colorbar": {
              "outlinewidth": 0,
              "ticks": ""
             }
            },
            "type": "scattercarpet"
           }
          ],
          "scattergeo": [
           {
            "marker": {
             "colorbar": {
              "outlinewidth": 0,
              "ticks": ""
             }
            },
            "type": "scattergeo"
           }
          ],
          "scattergl": [
           {
            "marker": {
             "colorbar": {
              "outlinewidth": 0,
              "ticks": ""
             }
            },
            "type": "scattergl"
           }
          ],
          "scattermapbox": [
           {
            "marker": {
             "colorbar": {
              "outlinewidth": 0,
              "ticks": ""
             }
            },
            "type": "scattermapbox"
           }
          ],
          "scatterpolar": [
           {
            "marker": {
             "colorbar": {
              "outlinewidth": 0,
              "ticks": ""
             }
            },
            "type": "scatterpolar"
           }
          ],
          "scatterpolargl": [
           {
            "marker": {
             "colorbar": {
              "outlinewidth": 0,
              "ticks": ""
             }
            },
            "type": "scatterpolargl"
           }
          ],
          "scatterternary": [
           {
            "marker": {
             "colorbar": {
              "outlinewidth": 0,
              "ticks": ""
             }
            },
            "type": "scatterternary"
           }
          ],
          "surface": [
           {
            "colorbar": {
             "outlinewidth": 0,
             "ticks": ""
            },
            "colorscale": [
             [
              0,
              "#0d0887"
             ],
             [
              0.1111111111111111,
              "#46039f"
             ],
             [
              0.2222222222222222,
              "#7201a8"
             ],
             [
              0.3333333333333333,
              "#9c179e"
             ],
             [
              0.4444444444444444,
              "#bd3786"
             ],
             [
              0.5555555555555556,
              "#d8576b"
             ],
             [
              0.6666666666666666,
              "#ed7953"
             ],
             [
              0.7777777777777778,
              "#fb9f3a"
             ],
             [
              0.8888888888888888,
              "#fdca26"
             ],
             [
              1,
              "#f0f921"
             ]
            ],
            "type": "surface"
           }
          ],
          "table": [
           {
            "cells": {
             "fill": {
              "color": "#EBF0F8"
             },
             "line": {
              "color": "white"
             }
            },
            "header": {
             "fill": {
              "color": "#C8D4E3"
             },
             "line": {
              "color": "white"
             }
            },
            "type": "table"
           }
          ]
         },
         "layout": {
          "annotationdefaults": {
           "arrowcolor": "#2a3f5f",
           "arrowhead": 0,
           "arrowwidth": 1
          },
          "autotypenumbers": "strict",
          "coloraxis": {
           "colorbar": {
            "outlinewidth": 0,
            "ticks": ""
           }
          },
          "colorscale": {
           "diverging": [
            [
             0,
             "#8e0152"
            ],
            [
             0.1,
             "#c51b7d"
            ],
            [
             0.2,
             "#de77ae"
            ],
            [
             0.3,
             "#f1b6da"
            ],
            [
             0.4,
             "#fde0ef"
            ],
            [
             0.5,
             "#f7f7f7"
            ],
            [
             0.6,
             "#e6f5d0"
            ],
            [
             0.7,
             "#b8e186"
            ],
            [
             0.8,
             "#7fbc41"
            ],
            [
             0.9,
             "#4d9221"
            ],
            [
             1,
             "#276419"
            ]
           ],
           "sequential": [
            [
             0,
             "#0d0887"
            ],
            [
             0.1111111111111111,
             "#46039f"
            ],
            [
             0.2222222222222222,
             "#7201a8"
            ],
            [
             0.3333333333333333,
             "#9c179e"
            ],
            [
             0.4444444444444444,
             "#bd3786"
            ],
            [
             0.5555555555555556,
             "#d8576b"
            ],
            [
             0.6666666666666666,
             "#ed7953"
            ],
            [
             0.7777777777777778,
             "#fb9f3a"
            ],
            [
             0.8888888888888888,
             "#fdca26"
            ],
            [
             1,
             "#f0f921"
            ]
           ],
           "sequentialminus": [
            [
             0,
             "#0d0887"
            ],
            [
             0.1111111111111111,
             "#46039f"
            ],
            [
             0.2222222222222222,
             "#7201a8"
            ],
            [
             0.3333333333333333,
             "#9c179e"
            ],
            [
             0.4444444444444444,
             "#bd3786"
            ],
            [
             0.5555555555555556,
             "#d8576b"
            ],
            [
             0.6666666666666666,
             "#ed7953"
            ],
            [
             0.7777777777777778,
             "#fb9f3a"
            ],
            [
             0.8888888888888888,
             "#fdca26"
            ],
            [
             1,
             "#f0f921"
            ]
           ]
          },
          "colorway": [
           "#636efa",
           "#EF553B",
           "#00cc96",
           "#ab63fa",
           "#FFA15A",
           "#19d3f3",
           "#FF6692",
           "#B6E880",
           "#FF97FF",
           "#FECB52"
          ],
          "font": {
           "color": "#2a3f5f"
          },
          "geo": {
           "bgcolor": "white",
           "lakecolor": "white",
           "landcolor": "#E5ECF6",
           "showlakes": true,
           "showland": true,
           "subunitcolor": "white"
          },
          "hoverlabel": {
           "align": "left"
          },
          "hovermode": "closest",
          "mapbox": {
           "style": "light"
          },
          "paper_bgcolor": "white",
          "plot_bgcolor": "#E5ECF6",
          "polar": {
           "angularaxis": {
            "gridcolor": "white",
            "linecolor": "white",
            "ticks": ""
           },
           "bgcolor": "#E5ECF6",
           "radialaxis": {
            "gridcolor": "white",
            "linecolor": "white",
            "ticks": ""
           }
          },
          "scene": {
           "xaxis": {
            "backgroundcolor": "#E5ECF6",
            "gridcolor": "white",
            "gridwidth": 2,
            "linecolor": "white",
            "showbackground": true,
            "ticks": "",
            "zerolinecolor": "white"
           },
           "yaxis": {
            "backgroundcolor": "#E5ECF6",
            "gridcolor": "white",
            "gridwidth": 2,
            "linecolor": "white",
            "showbackground": true,
            "ticks": "",
            "zerolinecolor": "white"
           },
           "zaxis": {
            "backgroundcolor": "#E5ECF6",
            "gridcolor": "white",
            "gridwidth": 2,
            "linecolor": "white",
            "showbackground": true,
            "ticks": "",
            "zerolinecolor": "white"
           }
          },
          "shapedefaults": {
           "line": {
            "color": "#2a3f5f"
           }
          },
          "ternary": {
           "aaxis": {
            "gridcolor": "white",
            "linecolor": "white",
            "ticks": ""
           },
           "baxis": {
            "gridcolor": "white",
            "linecolor": "white",
            "ticks": ""
           },
           "bgcolor": "#E5ECF6",
           "caxis": {
            "gridcolor": "white",
            "linecolor": "white",
            "ticks": ""
           }
          },
          "title": {
           "x": 0.05
          },
          "xaxis": {
           "automargin": true,
           "gridcolor": "white",
           "linecolor": "white",
           "ticks": "",
           "title": {
            "standoff": 15
           },
           "zerolinecolor": "white",
           "zerolinewidth": 2
          },
          "yaxis": {
           "automargin": true,
           "gridcolor": "white",
           "linecolor": "white",
           "ticks": "",
           "title": {
            "standoff": 15
           },
           "zerolinecolor": "white",
           "zerolinewidth": 2
          }
         }
        },
        "xaxis": {
         "anchor": "y",
         "domain": [
          0,
          1
         ],
         "title": {
          "text": "log_Total_Income"
         }
        },
        "yaxis": {
         "anchor": "x",
         "domain": [
          0,
          1
         ],
         "title": {
          "text": "count"
         }
        }
       }
      }
     },
     "metadata": {},
     "output_type": "display_data"
    }
   ],
   "source": [
    "px.histogram(df, x= \"log_Total_Income\")"
   ]
  },
  {
   "cell_type": "markdown",
   "id": "dd4291f4",
   "metadata": {},
   "source": [
    "## Loan_Monthly_Paid"
   ]
  },
  {
   "cell_type": "code",
   "execution_count": null,
   "id": "2b8a28ee-b49e-4d46-a9b3-215d1c50a492",
   "metadata": {},
   "outputs": [],
   "source": [
    "df[\"Loan_Monthly_Paid\"] = round((df[\"LoanAmount\"] * 1000 ) / (df[\"Loan_Amount_Term\"]) , 2 ) "
   ]
  },
  {
   "cell_type": "code",
   "execution_count": 53,
   "id": "b8f0e0de",
   "metadata": {},
   "outputs": [
    {
     "data": {
      "application/vnd.plotly.v1+json": {
       "config": {
        "plotlyServerURL": "https://plot.ly"
       },
       "data": [
        {
         "alignmentgroup": "True",
         "bingroup": "x",
         "hovertemplate": "Loan_Monthly_Paid=%{x}<br>count=%{y}<extra></extra>",
         "legendgroup": "",
         "marker": {
          "color": "#636efa",
          "pattern": {
           "shape": ""
          }
         },
         "name": "",
         "offsetgroup": "",
         "orientation": "v",
         "showlegend": false,
         "type": "histogram",
         "x": [
          null,
          355.56,
          183.33,
          333.33,
          391.67,
          741.67,
          263.89,
          438.89,
          466.67,
          969.44,
          194.44,
          302.78,
          555.56,
          316.67,
          141.67,
          347.22,
          416.67,
          211.11,
          369.44,
          null,
          288.89,
          875,
          322.22,
          311.11,
          419.44,
          530.56,
          338.89,
          305.56,
          97.22,
          333.33,
          558.33,
          205.56,
          294.44,
          316.67,
          888.89,
          null,
          null,
          400,
          511.11,
          305.56,
          222.22,
          130.56,
          208.33,
          372.22,
          null,
          null,
          122.22,
          400,
          333.33,
          400,
          277.78,
          333.33,
          311.11,
          372.22,
          794.44,
          269.44,
          266.67,
          375,
          500,
          400,
          333.33,
          275,
          916.67,
          null,
          322.22,
          716.67,
          700,
          866.67,
          2083.33,
          377.78,
          477.78,
          269.44,
          270,
          null,
          519.44,
          235.42,
          488.89,
          305.56,
          600,
          361.11,
          308.33,
          null,
          463.89,
          736.11,
          208.33,
          377.78,
          275,
          288.89,
          583.33,
          486.11,
          363.89,
          1044.44,
          225,
          338.89,
          208.33,
          null,
          380.56,
          138.89,
          638.89,
          363.89,
          738.89,
          419.44,
          null,
          null,
          444.44,
          277.78,
          625,
          333.33,
          600,
          195.83,
          377.78,
          386.11,
          null,
          null,
          327.78,
          1027.78,
          427.78,
          236.11,
          486.11,
          719.44,
          500,
          122.22,
          380.56,
          225,
          538.89,
          258.33,
          1027.78,
          null,
          888.89,
          505.56,
          1354.17,
          205.56,
          194.44,
          208.33,
          283.33,
          805.56,
          233.33,
          244.44,
          672.22,
          358.33,
          513.89,
          466.67,
          972.22,
          338.89,
          1038.89,
          277.78,
          194.44,
          83.33,
          625,
          347.22,
          327.78,
          422.22,
          677.78,
          313.89,
          138.89,
          3333.33,
          444.44,
          519.44,
          333.33,
          708.33,
          272.22,
          763.89,
          336.11,
          438.89,
          416.67,
          null,
          311.11,
          358.33,
          131.25,
          555.56,
          263.89,
          2333.33,
          450,
          519.44,
          241.67,
          322.22,
          280.56,
          1375,
          322.22,
          212.5,
          500,
          186.11,
          405.56,
          722.22,
          300,
          333.33,
          220,
          161.11,
          466.67,
          1044.44,
          133.33,
          455.56,
          444.44,
          211.11,
          333.33,
          472.22,
          519.44,
          null,
          313.89,
          230.56,
          250,
          461.11,
          null,
          375,
          344.44,
          333.33,
          222.22,
          152.78,
          163.89,
          352.78,
          594.44,
          355.56,
          666.67,
          361.11,
          380.56,
          277.78,
          375,
          363.89,
          200,
          352.78,
          166.67,
          322.22,
          400,
          null,
          355.56,
          472.22,
          383.33,
          583.33,
          329.17,
          555.56,
          288.89,
          233.33,
          null,
          777.78,
          388.89,
          472.22,
          708.33,
          338.89,
          311.11,
          266.67,
          333.33,
          777.78,
          2583.33,
          300,
          341.67,
          666.67,
          311.11,
          761.11,
          256.25,
          250,
          558.33,
          383.33,
          288.89,
          1550,
          533.33,
          708.33,
          319.44,
          261.11,
          844.44,
          355.56,
          916.67,
          372.22,
          4305.56,
          333.33,
          355.56,
          419.44,
          416.67,
          444.44,
          375,
          250,
          83.33,
          377.78,
          350,
          416.67,
          250,
          319.44,
          575,
          222.22,
          1211.11,
          344.44,
          438.89,
          311.11,
          433.33,
          150,
          null,
          247.22,
          330,
          333.33,
          319.44,
          519.44,
          386.11,
          352.78,
          372.22,
          297.92,
          477.78,
          305.56,
          555.56,
          375,
          314.58,
          313.89,
          258.33,
          291.67,
          366.67,
          266.67,
          388.89,
          null,
          375,
          288.89,
          1333.33,
          513.89,
          233.33,
          308.33,
          155.56,
          1714.29,
          441.67,
          616.67,
          333.33,
          244.44,
          311.11,
          430.56,
          319.44,
          344.44,
          null,
          366.67,
          833.33,
          1044.44,
          361.11,
          511.11,
          305.56,
          186.11,
          325,
          272.22,
          197.22,
          2722.22,
          1011.11,
          null,
          444.44,
          488.89,
          null,
          197.22,
          480.56,
          127.78,
          438.89,
          205.56,
          347.22,
          444.44,
          422.22,
          350,
          719.44,
          519.44,
          633.33,
          855.56,
          263.89,
          291.67,
          361.11,
          644.44,
          458.33,
          186.11,
          208.33,
          555.56,
          225,
          655.56,
          361.11,
          316.67,
          391.67,
          369.44,
          200,
          null,
          486.11,
          1583.33,
          152.78,
          430.56,
          1266.67,
          616.67,
          305.56,
          666.67,
          361.11,
          361.11,
          147.92,
          361.11,
          355.56,
          822.22,
          433.33,
          355.56,
          277.78,
          627.78,
          366.67,
          null,
          377.78,
          347.22,
          513.89,
          763.89,
          333.33,
          627.78,
          313.89,
          375,
          197.22,
          263.89,
          302.78,
          286.11,
          250,
          216.67,
          286.11,
          147.22,
          538.89,
          319.44,
          319.44,
          183.33,
          506.67,
          1000,
          172.22,
          444.44,
          605.56,
          305.56,
          494.44,
          166.67,
          444.44,
          663.89,
          311.11,
          383.33,
          383.33,
          null,
          277.78,
          null,
          266.67,
          336.11,
          225,
          369.44,
          241.67,
          333.33,
          416.67,
          291.67,
          1125,
          397.22,
          277.78,
          null,
          138.89,
          null,
          519.44,
          383.33,
          519.44,
          500,
          411.11,
          422.22,
          583.33,
          361.11,
          305.56,
          152.78,
          416.67,
          527.78,
          347.22,
          200,
          413.89,
          500,
          233.33,
          266.67,
          327.78,
          480.56,
          377.78,
          444.44,
          444.44,
          711.11,
          425,
          366.67,
          272.22,
          388.89,
          388.89,
          305.56,
          272.22,
          305.56,
          450,
          627.78,
          277.78,
          258.33,
          450,
          416.67,
          766.67,
          366.67,
          238.89,
          null,
          427.78,
          313.89,
          355.56,
          650,
          683.33,
          363.89,
          222.22,
          1388.89,
          444.44,
          208.33,
          266.67,
          516.67,
          305.56,
          625,
          330.56,
          1250,
          297.22,
          9250,
          263.89,
          580.56,
          235.42,
          277.78,
          577.78,
          383.33,
          413.33,
          675,
          1333.33,
          266.67,
          522.22,
          111.11,
          277.78,
          694.44,
          411.11,
          388.89,
          863.89,
          416.67,
          235.42,
          341.67,
          513.89,
          263.89,
          125,
          152.78,
          277.78,
          1333.33,
          null,
          1111.11,
          305.56,
          447.22,
          261.11,
          361.11,
          600,
          277.78,
          305.56,
          544.44,
          347.22,
          350,
          900,
          297.22,
          183.33,
          872.22,
          777.78,
          275,
          263.89,
          355.56,
          283.33,
          430.56,
          2222.22,
          402.78,
          286.11,
          305.56,
          null,
          null,
          438.89,
          502.78,
          733.33,
          72.22,
          233.33,
          722.22,
          450,
          505.56,
          300,
          1666.67,
          586.11,
          366.67,
          716.67,
          333.33,
          194.44,
          341.67,
          25,
          288.89,
          516.67,
          458.33,
          763.89,
          389.58,
          416.67,
          1285.71,
          377.78,
          305.56,
          297.22,
          447.22,
          569.44,
          250,
          100,
          169.44,
          405.56,
          2047.62,
          288.89,
          194.44,
          261.11,
          294.44,
          311.11,
          854.17,
          811.11,
          788.89,
          722.22,
          305.56,
          519.44,
          244.44,
          500,
          533.33,
          1944.44,
          430.56,
          355.56,
          477.78,
          1377.78,
          null,
          480.56,
          436.11,
          300,
          197.22,
          222.22,
          702.78,
          519.44,
          369.44
         ],
         "xaxis": "x",
         "yaxis": "y"
        }
       ],
       "layout": {
        "barmode": "relative",
        "legend": {
         "tracegroupgap": 0
        },
        "margin": {
         "t": 60
        },
        "template": {
         "data": {
          "bar": [
           {
            "error_x": {
             "color": "#2a3f5f"
            },
            "error_y": {
             "color": "#2a3f5f"
            },
            "marker": {
             "line": {
              "color": "#E5ECF6",
              "width": 0.5
             },
             "pattern": {
              "fillmode": "overlay",
              "size": 10,
              "solidity": 0.2
             }
            },
            "type": "bar"
           }
          ],
          "barpolar": [
           {
            "marker": {
             "line": {
              "color": "#E5ECF6",
              "width": 0.5
             },
             "pattern": {
              "fillmode": "overlay",
              "size": 10,
              "solidity": 0.2
             }
            },
            "type": "barpolar"
           }
          ],
          "carpet": [
           {
            "aaxis": {
             "endlinecolor": "#2a3f5f",
             "gridcolor": "white",
             "linecolor": "white",
             "minorgridcolor": "white",
             "startlinecolor": "#2a3f5f"
            },
            "baxis": {
             "endlinecolor": "#2a3f5f",
             "gridcolor": "white",
             "linecolor": "white",
             "minorgridcolor": "white",
             "startlinecolor": "#2a3f5f"
            },
            "type": "carpet"
           }
          ],
          "choropleth": [
           {
            "colorbar": {
             "outlinewidth": 0,
             "ticks": ""
            },
            "type": "choropleth"
           }
          ],
          "contour": [
           {
            "colorbar": {
             "outlinewidth": 0,
             "ticks": ""
            },
            "colorscale": [
             [
              0,
              "#0d0887"
             ],
             [
              0.1111111111111111,
              "#46039f"
             ],
             [
              0.2222222222222222,
              "#7201a8"
             ],
             [
              0.3333333333333333,
              "#9c179e"
             ],
             [
              0.4444444444444444,
              "#bd3786"
             ],
             [
              0.5555555555555556,
              "#d8576b"
             ],
             [
              0.6666666666666666,
              "#ed7953"
             ],
             [
              0.7777777777777778,
              "#fb9f3a"
             ],
             [
              0.8888888888888888,
              "#fdca26"
             ],
             [
              1,
              "#f0f921"
             ]
            ],
            "type": "contour"
           }
          ],
          "contourcarpet": [
           {
            "colorbar": {
             "outlinewidth": 0,
             "ticks": ""
            },
            "type": "contourcarpet"
           }
          ],
          "heatmap": [
           {
            "colorbar": {
             "outlinewidth": 0,
             "ticks": ""
            },
            "colorscale": [
             [
              0,
              "#0d0887"
             ],
             [
              0.1111111111111111,
              "#46039f"
             ],
             [
              0.2222222222222222,
              "#7201a8"
             ],
             [
              0.3333333333333333,
              "#9c179e"
             ],
             [
              0.4444444444444444,
              "#bd3786"
             ],
             [
              0.5555555555555556,
              "#d8576b"
             ],
             [
              0.6666666666666666,
              "#ed7953"
             ],
             [
              0.7777777777777778,
              "#fb9f3a"
             ],
             [
              0.8888888888888888,
              "#fdca26"
             ],
             [
              1,
              "#f0f921"
             ]
            ],
            "type": "heatmap"
           }
          ],
          "heatmapgl": [
           {
            "colorbar": {
             "outlinewidth": 0,
             "ticks": ""
            },
            "colorscale": [
             [
              0,
              "#0d0887"
             ],
             [
              0.1111111111111111,
              "#46039f"
             ],
             [
              0.2222222222222222,
              "#7201a8"
             ],
             [
              0.3333333333333333,
              "#9c179e"
             ],
             [
              0.4444444444444444,
              "#bd3786"
             ],
             [
              0.5555555555555556,
              "#d8576b"
             ],
             [
              0.6666666666666666,
              "#ed7953"
             ],
             [
              0.7777777777777778,
              "#fb9f3a"
             ],
             [
              0.8888888888888888,
              "#fdca26"
             ],
             [
              1,
              "#f0f921"
             ]
            ],
            "type": "heatmapgl"
           }
          ],
          "histogram": [
           {
            "marker": {
             "pattern": {
              "fillmode": "overlay",
              "size": 10,
              "solidity": 0.2
             }
            },
            "type": "histogram"
           }
          ],
          "histogram2d": [
           {
            "colorbar": {
             "outlinewidth": 0,
             "ticks": ""
            },
            "colorscale": [
             [
              0,
              "#0d0887"
             ],
             [
              0.1111111111111111,
              "#46039f"
             ],
             [
              0.2222222222222222,
              "#7201a8"
             ],
             [
              0.3333333333333333,
              "#9c179e"
             ],
             [
              0.4444444444444444,
              "#bd3786"
             ],
             [
              0.5555555555555556,
              "#d8576b"
             ],
             [
              0.6666666666666666,
              "#ed7953"
             ],
             [
              0.7777777777777778,
              "#fb9f3a"
             ],
             [
              0.8888888888888888,
              "#fdca26"
             ],
             [
              1,
              "#f0f921"
             ]
            ],
            "type": "histogram2d"
           }
          ],
          "histogram2dcontour": [
           {
            "colorbar": {
             "outlinewidth": 0,
             "ticks": ""
            },
            "colorscale": [
             [
              0,
              "#0d0887"
             ],
             [
              0.1111111111111111,
              "#46039f"
             ],
             [
              0.2222222222222222,
              "#7201a8"
             ],
             [
              0.3333333333333333,
              "#9c179e"
             ],
             [
              0.4444444444444444,
              "#bd3786"
             ],
             [
              0.5555555555555556,
              "#d8576b"
             ],
             [
              0.6666666666666666,
              "#ed7953"
             ],
             [
              0.7777777777777778,
              "#fb9f3a"
             ],
             [
              0.8888888888888888,
              "#fdca26"
             ],
             [
              1,
              "#f0f921"
             ]
            ],
            "type": "histogram2dcontour"
           }
          ],
          "mesh3d": [
           {
            "colorbar": {
             "outlinewidth": 0,
             "ticks": ""
            },
            "type": "mesh3d"
           }
          ],
          "parcoords": [
           {
            "line": {
             "colorbar": {
              "outlinewidth": 0,
              "ticks": ""
             }
            },
            "type": "parcoords"
           }
          ],
          "pie": [
           {
            "automargin": true,
            "type": "pie"
           }
          ],
          "scatter": [
           {
            "fillpattern": {
             "fillmode": "overlay",
             "size": 10,
             "solidity": 0.2
            },
            "type": "scatter"
           }
          ],
          "scatter3d": [
           {
            "line": {
             "colorbar": {
              "outlinewidth": 0,
              "ticks": ""
             }
            },
            "marker": {
             "colorbar": {
              "outlinewidth": 0,
              "ticks": ""
             }
            },
            "type": "scatter3d"
           }
          ],
          "scattercarpet": [
           {
            "marker": {
             "colorbar": {
              "outlinewidth": 0,
              "ticks": ""
             }
            },
            "type": "scattercarpet"
           }
          ],
          "scattergeo": [
           {
            "marker": {
             "colorbar": {
              "outlinewidth": 0,
              "ticks": ""
             }
            },
            "type": "scattergeo"
           }
          ],
          "scattergl": [
           {
            "marker": {
             "colorbar": {
              "outlinewidth": 0,
              "ticks": ""
             }
            },
            "type": "scattergl"
           }
          ],
          "scattermapbox": [
           {
            "marker": {
             "colorbar": {
              "outlinewidth": 0,
              "ticks": ""
             }
            },
            "type": "scattermapbox"
           }
          ],
          "scatterpolar": [
           {
            "marker": {
             "colorbar": {
              "outlinewidth": 0,
              "ticks": ""
             }
            },
            "type": "scatterpolar"
           }
          ],
          "scatterpolargl": [
           {
            "marker": {
             "colorbar": {
              "outlinewidth": 0,
              "ticks": ""
             }
            },
            "type": "scatterpolargl"
           }
          ],
          "scatterternary": [
           {
            "marker": {
             "colorbar": {
              "outlinewidth": 0,
              "ticks": ""
             }
            },
            "type": "scatterternary"
           }
          ],
          "surface": [
           {
            "colorbar": {
             "outlinewidth": 0,
             "ticks": ""
            },
            "colorscale": [
             [
              0,
              "#0d0887"
             ],
             [
              0.1111111111111111,
              "#46039f"
             ],
             [
              0.2222222222222222,
              "#7201a8"
             ],
             [
              0.3333333333333333,
              "#9c179e"
             ],
             [
              0.4444444444444444,
              "#bd3786"
             ],
             [
              0.5555555555555556,
              "#d8576b"
             ],
             [
              0.6666666666666666,
              "#ed7953"
             ],
             [
              0.7777777777777778,
              "#fb9f3a"
             ],
             [
              0.8888888888888888,
              "#fdca26"
             ],
             [
              1,
              "#f0f921"
             ]
            ],
            "type": "surface"
           }
          ],
          "table": [
           {
            "cells": {
             "fill": {
              "color": "#EBF0F8"
             },
             "line": {
              "color": "white"
             }
            },
            "header": {
             "fill": {
              "color": "#C8D4E3"
             },
             "line": {
              "color": "white"
             }
            },
            "type": "table"
           }
          ]
         },
         "layout": {
          "annotationdefaults": {
           "arrowcolor": "#2a3f5f",
           "arrowhead": 0,
           "arrowwidth": 1
          },
          "autotypenumbers": "strict",
          "coloraxis": {
           "colorbar": {
            "outlinewidth": 0,
            "ticks": ""
           }
          },
          "colorscale": {
           "diverging": [
            [
             0,
             "#8e0152"
            ],
            [
             0.1,
             "#c51b7d"
            ],
            [
             0.2,
             "#de77ae"
            ],
            [
             0.3,
             "#f1b6da"
            ],
            [
             0.4,
             "#fde0ef"
            ],
            [
             0.5,
             "#f7f7f7"
            ],
            [
             0.6,
             "#e6f5d0"
            ],
            [
             0.7,
             "#b8e186"
            ],
            [
             0.8,
             "#7fbc41"
            ],
            [
             0.9,
             "#4d9221"
            ],
            [
             1,
             "#276419"
            ]
           ],
           "sequential": [
            [
             0,
             "#0d0887"
            ],
            [
             0.1111111111111111,
             "#46039f"
            ],
            [
             0.2222222222222222,
             "#7201a8"
            ],
            [
             0.3333333333333333,
             "#9c179e"
            ],
            [
             0.4444444444444444,
             "#bd3786"
            ],
            [
             0.5555555555555556,
             "#d8576b"
            ],
            [
             0.6666666666666666,
             "#ed7953"
            ],
            [
             0.7777777777777778,
             "#fb9f3a"
            ],
            [
             0.8888888888888888,
             "#fdca26"
            ],
            [
             1,
             "#f0f921"
            ]
           ],
           "sequentialminus": [
            [
             0,
             "#0d0887"
            ],
            [
             0.1111111111111111,
             "#46039f"
            ],
            [
             0.2222222222222222,
             "#7201a8"
            ],
            [
             0.3333333333333333,
             "#9c179e"
            ],
            [
             0.4444444444444444,
             "#bd3786"
            ],
            [
             0.5555555555555556,
             "#d8576b"
            ],
            [
             0.6666666666666666,
             "#ed7953"
            ],
            [
             0.7777777777777778,
             "#fb9f3a"
            ],
            [
             0.8888888888888888,
             "#fdca26"
            ],
            [
             1,
             "#f0f921"
            ]
           ]
          },
          "colorway": [
           "#636efa",
           "#EF553B",
           "#00cc96",
           "#ab63fa",
           "#FFA15A",
           "#19d3f3",
           "#FF6692",
           "#B6E880",
           "#FF97FF",
           "#FECB52"
          ],
          "font": {
           "color": "#2a3f5f"
          },
          "geo": {
           "bgcolor": "white",
           "lakecolor": "white",
           "landcolor": "#E5ECF6",
           "showlakes": true,
           "showland": true,
           "subunitcolor": "white"
          },
          "hoverlabel": {
           "align": "left"
          },
          "hovermode": "closest",
          "mapbox": {
           "style": "light"
          },
          "paper_bgcolor": "white",
          "plot_bgcolor": "#E5ECF6",
          "polar": {
           "angularaxis": {
            "gridcolor": "white",
            "linecolor": "white",
            "ticks": ""
           },
           "bgcolor": "#E5ECF6",
           "radialaxis": {
            "gridcolor": "white",
            "linecolor": "white",
            "ticks": ""
           }
          },
          "scene": {
           "xaxis": {
            "backgroundcolor": "#E5ECF6",
            "gridcolor": "white",
            "gridwidth": 2,
            "linecolor": "white",
            "showbackground": true,
            "ticks": "",
            "zerolinecolor": "white"
           },
           "yaxis": {
            "backgroundcolor": "#E5ECF6",
            "gridcolor": "white",
            "gridwidth": 2,
            "linecolor": "white",
            "showbackground": true,
            "ticks": "",
            "zerolinecolor": "white"
           },
           "zaxis": {
            "backgroundcolor": "#E5ECF6",
            "gridcolor": "white",
            "gridwidth": 2,
            "linecolor": "white",
            "showbackground": true,
            "ticks": "",
            "zerolinecolor": "white"
           }
          },
          "shapedefaults": {
           "line": {
            "color": "#2a3f5f"
           }
          },
          "ternary": {
           "aaxis": {
            "gridcolor": "white",
            "linecolor": "white",
            "ticks": ""
           },
           "baxis": {
            "gridcolor": "white",
            "linecolor": "white",
            "ticks": ""
           },
           "bgcolor": "#E5ECF6",
           "caxis": {
            "gridcolor": "white",
            "linecolor": "white",
            "ticks": ""
           }
          },
          "title": {
           "x": 0.05
          },
          "xaxis": {
           "automargin": true,
           "gridcolor": "white",
           "linecolor": "white",
           "ticks": "",
           "title": {
            "standoff": 15
           },
           "zerolinecolor": "white",
           "zerolinewidth": 2
          },
          "yaxis": {
           "automargin": true,
           "gridcolor": "white",
           "linecolor": "white",
           "ticks": "",
           "title": {
            "standoff": 15
           },
           "zerolinecolor": "white",
           "zerolinewidth": 2
          }
         }
        },
        "xaxis": {
         "anchor": "y",
         "domain": [
          0,
          1
         ],
         "title": {
          "text": "Loan_Monthly_Paid"
         }
        },
        "yaxis": {
         "anchor": "x",
         "domain": [
          0,
          1
         ],
         "title": {
          "text": "count"
         }
        }
       }
      }
     },
     "metadata": {},
     "output_type": "display_data"
    }
   ],
   "source": [
    "px.histogram(df, x=\"Loan_Monthly_Paid\")"
   ]
  },
  {
   "cell_type": "code",
   "execution_count": 54,
   "id": "d4689974",
   "metadata": {},
   "outputs": [],
   "source": [
    "df[\"log_Loan_Monthly_Paid\"] = np.log(df[\"Loan_Monthly_Paid\"]) "
   ]
  },
  {
   "cell_type": "code",
   "execution_count": 55,
   "id": "eec0f93d",
   "metadata": {},
   "outputs": [
    {
     "data": {
      "application/vnd.plotly.v1+json": {
       "config": {
        "plotlyServerURL": "https://plot.ly"
       },
       "data": [
        {
         "alignmentgroup": "True",
         "bingroup": "x",
         "hovertemplate": "log_Loan_Monthly_Paid=%{x}<br>count=%{y}<extra></extra>",
         "legendgroup": "",
         "marker": {
          "color": "#636efa",
          "pattern": {
           "shape": ""
          }
         },
         "name": "",
         "offsetgroup": "",
         "orientation": "v",
         "showlegend": false,
         "type": "histogram",
         "x": [
          null,
          5.873694011373474,
          5.211287807574934,
          5.809132990264027,
          5.970419648512232,
          6.608904400304153,
          5.575532349649974,
          6.084248812201313,
          6.1456223697668735,
          6.876718585196679,
          5.270123632177254,
          5.713006469183733,
          6.319976614048018,
          5.757860222186865,
          4.95350040939126,
          5.849958584813803,
          6.0322945415962375,
          5.352379324646567,
          5.9119883456061855,
          null,
          5.666045992819804,
          6.774223886357614,
          5.775234542062841,
          5.740146547392127,
          6.038920488264277,
          6.273933052506876,
          5.825675570948388,
          5.722146158673159,
          4.576976451617309,
          5.809132990264027,
          6.324950185423982,
          5.325737962124029,
          5.685075247190505,
          5.757860222186865,
          6.789973493324973,
          null,
          null,
          5.991464547107982,
          6.236584831225561,
          5.722146158673159,
          5.403667882155863,
          4.871832891215797,
          5.339123360940291,
          5.919485077315818,
          null,
          null,
          4.80582269946677,
          5.991464547107982,
          5.809132990264027,
          5.991464547107982,
          5.626829433488073,
          5.809132990264027,
          5.740146547392127,
          5.919485077315818,
          6.677637463930591,
          5.596345731053962,
          5.586011938921693,
          5.926926025970411,
          6.214608098422191,
          5.991464547107982,
          5.809132990264027,
          5.616771097666572,
          6.820747538349532,
          null,
          5.775234542062841,
          6.574615483605573,
          6.551080335043404,
          6.764658281487914,
          7.641722854061057,
          5.934312015603673,
          6.169150375497408,
          5.596345731053962,
          5.598421958998375,
          null,
          6.2527513082002315,
          5.461371152984334,
          6.1921375152948235,
          5.722146158673159,
          6.396929655216146,
          5.889182621059753,
          5.731170637975067,
          null,
          6.1396474551554485,
          6.601379564083103,
          5.339123360940291,
          5.934312015603673,
          5.616771097666572,
          5.666045992819804,
          6.368753063947409,
          6.186434935738598,
          5.8968516241635855,
          6.951236135593673,
          5.41610040220442,
          5.825675570948388,
          5.339123360940291,
          null,
          5.9416438521240265,
          4.9336822529281275,
          6.459732295584099,
          5.8968516241635855,
          6.605149060071948,
          6.038920488264277,
          null,
          null,
          6.096815062715808,
          5.626829433488073,
          6.437751649736401,
          5.809132990264027,
          6.396929655216146,
          5.277246935928745,
          5.934312015603673,
          5.956122302960691,
          null,
          null,
          5.792342651635681,
          6.935156415330076,
          6.058609044737312,
          5.4642977981288725,
          6.186434935738598,
          6.57847313160626,
          6.214608098422191,
          4.80582269946677,
          5.9416438521240265,
          5.41610040220442,
          6.289511468448854,
          5.554237837376183,
          6.935156415330076,
          null,
          6.789973493324973,
          6.225666725778925,
          7.210943999505315,
          5.325737962124029,
          5.270123632177254,
          5.339123360940291,
          5.646612296041165,
          6.69153768773866,
          5.452453760558967,
          5.498969880026714,
          6.51058566789808,
          5.881454349524805,
          6.242009234770131,
          6.1456223697668735,
          6.879582116298542,
          5.825675570948388,
          6.945908114464658,
          5.626829433488073,
          5.270123632177254,
          4.422808628394115,
          6.437751649736401,
          5.849958584813803,
          5.792342651635681,
          6.045526505206513,
          6.518822751508333,
          5.7490426060610655,
          4.9336822529281275,
          8.111727083307573,
          6.096815062715808,
          6.2527513082002315,
          5.809132990264027,
          6.562910086796982,
          5.606610562903928,
          6.63842379974295,
          5.817438487338134,
          6.084248812201313,
          6.0322945415962375,
          null,
          5.740146547392127,
          5.881454349524805,
          4.877103901471733,
          6.319976614048018,
          5.575532349649974,
          7.7550517107968915,
          6.1092475827643655,
          6.2527513082002315,
          5.4875731591948895,
          5.775234542062841,
          5.636787605831922,
          7.226209010100671,
          5.775234542062841,
          5.358941988364472,
          6.214608098422191,
          5.226337896755872,
          6.005268828084379,
          6.582329801619698,
          5.703782474656201,
          5.809132990264027,
          5.393627546352362,
          5.082087361502896,
          6.1456223697668735,
          6.951236135593673,
          4.892827258127367,
          6.12152743140615,
          6.096815062715808,
          5.352379324646567,
          5.809132990264027,
          6.157444978688818,
          6.2527513082002315,
          null,
          5.7490426060610655,
          5.440511132251212,
          5.521460917862246,
          6.133636626247068,
          null,
          5.926926025970411,
          5.841919909827965,
          5.809132990264027,
          5.403667882155863,
          5.028998978113214,
          5.099195471075736,
          5.865844633183331,
          6.387619785890369,
          5.873694011373474,
          6.502295170861473,
          5.889182621059753,
          5.9416438521240265,
          5.626829433488073,
          5.926926025970411,
          5.8968516241635855,
          5.298317366548036,
          5.865844633183331,
          5.116015809554085,
          5.775234542062841,
          5.991464547107982,
          null,
          5.873694011373474,
          6.157444978688818,
          5.948896236999205,
          6.368753063947409,
          5.796574334638172,
          6.319976614048018,
          5.666045992819804,
          5.452453760558967,
          null,
          6.6564437078400065,
          5.963296527280061,
          6.157444978688818,
          6.562910086796982,
          5.825675570948388,
          5.740146547392127,
          5.586011938921693,
          5.809132990264027,
          6.6564437078400065,
          7.85683454335587,
          5.703782474656201,
          5.8338453589543695,
          6.502295170861473,
          5.740146547392127,
          6.634777894064971,
          5.546153530452618,
          5.521460917862246,
          6.324950185423982,
          5.948896236999205,
          5.666045992819804,
          7.346010209913293,
          6.279140369540231,
          6.562910086796982,
          5.7665694627549655,
          5.564941774473782,
          6.738673685766458,
          5.873694011373474,
          6.820747538349532,
          5.919485077315818,
          8.367662489702806,
          5.809132990264027,
          5.873694011373474,
          6.038920488264277,
          6.0322945415962375,
          6.096815062715808,
          5.926926025970411,
          5.521460917862246,
          4.422808628394115,
          5.934312015603673,
          5.857933154483459,
          6.0322945415962375,
          5.521460917862246,
          5.7665694627549655,
          6.354370040797351,
          5.403667882155863,
          7.099292573449402,
          5.841919909827965,
          6.084248812201313,
          5.740146547392127,
          6.07149956244424,
          5.0106352940962555,
          null,
          5.510278628459677,
          5.799092654460526,
          5.809132990264027,
          5.7665694627549655,
          6.2527513082002315,
          5.956122302960691,
          5.865844633183331,
          5.919485077315818,
          5.696824994088702,
          6.169150375497408,
          5.722146158673159,
          6.319976614048018,
          5.926926025970411,
          5.751238415812496,
          5.7490426060610655,
          5.554237837376183,
          5.675623026195628,
          5.904462260986121,
          5.586011938921693,
          5.963296527280061,
          null,
          5.926926025970411,
          5.666045992819804,
          7.195434851430793,
          6.242009234770131,
          5.452453760558967,
          5.731170637975067,
          5.047031509287547,
          7.4467542797116995,
          6.090562996893545,
          6.424334034795057,
          5.809132990264027,
          5.498969880026714,
          5.740146547392127,
          6.065086686978596,
          5.7665694627549655,
          5.841919909827965,
          null,
          5.904462260986121,
          6.725429722180182,
          6.951236135593673,
          5.889182621059753,
          6.236584831225561,
          5.722146158673159,
          5.226337896755872,
          5.783825182329737,
          5.606610562903928,
          5.284319856904183,
          7.909203002869735,
          6.9188040162670195,
          null,
          6.096815062715808,
          6.1921375152948235,
          null,
          5.284319856904183,
          6.174952090541906,
          4.850310035174197,
          6.084248812201313,
          5.325737962124029,
          5.849958584813803,
          6.096815062715808,
          6.045526505206513,
          5.857933154483459,
          6.57847313160626,
          6.2527513082002315,
          6.450991613314677,
          6.751756225297258,
          5.575532349649974,
          5.675623026195628,
          5.889182621059753,
          6.4683817226227855,
          6.127589448678843,
          5.226337896755872,
          5.339123360940291,
          6.319976614048018,
          5.41610040220442,
          6.4854898321956265,
          5.889182621059753,
          5.757860222186865,
          5.970419648512232,
          5.9119883456061855,
          5.298317366548036,
          null,
          6.186434935738598,
          7.367285503095204,
          5.028998978113214,
          6.065086686978596,
          7.144146688621852,
          6.424334034795057,
          5.722146158673159,
          6.502295170861473,
          5.889182621059753,
          5.889182621059753,
          4.996671587078869,
          5.889182621059753,
          5.873694011373474,
          6.712007999149686,
          6.07149956244424,
          5.873694011373474,
          5.626829433488073,
          6.442189786621011,
          5.904462260986121,
          null,
          5.934312015603673,
          5.849958584813803,
          6.242009234770131,
          6.63842379974295,
          5.809132990264027,
          6.442189786621011,
          5.7490426060610655,
          5.926926025970411,
          5.284319856904183,
          5.575532349649974,
          5.713006469183733,
          5.656376352258931,
          5.521460917862246,
          5.378375458718616,
          5.656376352258931,
          4.991928066630559,
          6.289511468448854,
          5.7665694627549655,
          5.7665694627549655,
          5.211287807574934,
          6.227859904097939,
          6.907755278982137,
          5.148772729268019,
          6.096815062715808,
          6.406153649743678,
          5.722146158673159,
          6.203425809019622,
          5.116015809554085,
          6.096815062715808,
          6.498116473102259,
          5.740146547392127,
          5.948896236999205,
          5.948896236999205,
          null,
          5.626829433488073,
          null,
          5.586011938921693,
          5.817438487338134,
          5.41610040220442,
          5.9119883456061855,
          5.4875731591948895,
          5.809132990264027,
          6.0322945415962375,
          5.675623026195628,
          7.025538314638521,
          5.984490283370645,
          5.626829433488073,
          null,
          4.9336822529281275,
          null,
          6.2527513082002315,
          5.948896236999205,
          6.2527513082002315,
          6.214608098422191,
          6.018860818589742,
          6.045526505206513,
          6.368753063947409,
          5.889182621059753,
          5.722146158673159,
          5.028998978113214,
          6.0322945415962375,
          6.268679530209919,
          5.849958584813803,
          5.298317366548036,
          6.025600238037596,
          6.214608098422191,
          5.452453760558967,
          5.586011938921693,
          5.792342651635681,
          6.174952090541906,
          5.934312015603673,
          6.096815062715808,
          6.096815062715808,
          6.566827129510323,
          6.052089168924417,
          5.904462260986121,
          5.606610562903928,
          5.963296527280061,
          5.963296527280061,
          5.722146158673159,
          5.606610562903928,
          5.722146158673159,
          6.1092475827643655,
          6.442189786621011,
          5.626829433488073,
          5.554237837376183,
          6.1092475827643655,
          6.0322945415962375,
          6.642056461065766,
          5.904462260986121,
          5.476003194937463,
          null,
          6.058609044737312,
          5.7490426060610655,
          5.873694011373474,
          6.476972362889683,
          6.526977905403666,
          5.8968516241635855,
          5.403667882155863,
          7.236260145953853,
          6.096815062715808,
          5.339123360940291,
          5.586011938921693,
          6.247404372837274,
          5.722146158673159,
          6.437751649736401,
          5.800788185931274,
          7.1308988302963465,
          5.694472605330423,
          9.132378830506472,
          5.575532349649974,
          6.363993154969881,
          5.461371152984334,
          5.626829433488073,
          6.359193173379749,
          5.948896236999205,
          6.024246305382325,
          6.51471269087253,
          7.195434851430793,
          5.586011938921693,
          6.2580889550337275,
          4.710520701595917,
          5.626829433488073,
          6.543105765373748,
          6.018860818589742,
          5.963296527280061,
          6.761445445884021,
          6.0322945415962375,
          5.461371152984334,
          5.8338453589543695,
          6.242009234770131,
          5.575532349649974,
          4.8283137373023015,
          5.028998978113214,
          5.626829433488073,
          7.195434851430793,
          null,
          7.013114794639463,
          5.722146158673159,
          6.10305064356,
          5.564941774473782,
          5.889182621059753,
          6.396929655216146,
          5.626829433488073,
          5.722146158673159,
          6.299757743463873,
          5.849958584813803,
          5.857933154483459,
          6.802394763324311,
          5.694472605330423,
          5.211287807574934,
          6.7710416856662885,
          6.6564437078400065,
          5.616771097666572,
          5.575532349649974,
          5.873694011373474,
          5.646612296041165,
          6.065086686978596,
          7.706261975199409,
          5.998390507178715,
          5.656376352258931,
          5.722146158673159,
          null,
          null,
          6.084248812201313,
          6.220152698677542,
          6.597595805213421,
          4.279717015849312,
          5.452453760558967,
          6.582329801619698,
          6.1092475827643655,
          6.225666725778925,
          5.703782474656201,
          7.418582902746127,
          6.373507485271654,
          5.904462260986121,
          6.574615483605573,
          5.809132990264027,
          5.270123632177254,
          5.8338453589543695,
          3.2188758248682006,
          5.666045992819804,
          6.247404372837274,
          6.127589448678843,
          6.63842379974295,
          5.965069235748451,
          6.0322945415962375,
          7.159066373924154,
          5.934312015603673,
          5.722146158673159,
          5.694472605330423,
          6.10305064356,
          6.344653421761882,
          5.521460917862246,
          4.605170185988092,
          5.132498881853096,
          6.005268828084379,
          7.6244334220684475,
          5.666045992819804,
          5.270123632177254,
          5.564941774473782,
          5.685075247190505,
          5.740146547392127,
          6.750130237209964,
          6.698403679936312,
          6.6706268941429,
          6.582329801619698,
          5.722146158673159,
          6.2527513082002315,
          5.498969880026714,
          6.214608098422191,
          6.279140369540231,
          7.572729296858488,
          6.065086686978596,
          5.873694011373474,
          6.169150375497408,
          7.228228787158834,
          null,
          6.174952090541906,
          6.077894505106343,
          5.703782474656201,
          5.284319856904183,
          5.403667882155863,
          6.5550438983098385,
          6.2527513082002315,
          5.9119883456061855
         ],
         "xaxis": "x",
         "yaxis": "y"
        }
       ],
       "layout": {
        "barmode": "relative",
        "legend": {
         "tracegroupgap": 0
        },
        "margin": {
         "t": 60
        },
        "template": {
         "data": {
          "bar": [
           {
            "error_x": {
             "color": "#2a3f5f"
            },
            "error_y": {
             "color": "#2a3f5f"
            },
            "marker": {
             "line": {
              "color": "#E5ECF6",
              "width": 0.5
             },
             "pattern": {
              "fillmode": "overlay",
              "size": 10,
              "solidity": 0.2
             }
            },
            "type": "bar"
           }
          ],
          "barpolar": [
           {
            "marker": {
             "line": {
              "color": "#E5ECF6",
              "width": 0.5
             },
             "pattern": {
              "fillmode": "overlay",
              "size": 10,
              "solidity": 0.2
             }
            },
            "type": "barpolar"
           }
          ],
          "carpet": [
           {
            "aaxis": {
             "endlinecolor": "#2a3f5f",
             "gridcolor": "white",
             "linecolor": "white",
             "minorgridcolor": "white",
             "startlinecolor": "#2a3f5f"
            },
            "baxis": {
             "endlinecolor": "#2a3f5f",
             "gridcolor": "white",
             "linecolor": "white",
             "minorgridcolor": "white",
             "startlinecolor": "#2a3f5f"
            },
            "type": "carpet"
           }
          ],
          "choropleth": [
           {
            "colorbar": {
             "outlinewidth": 0,
             "ticks": ""
            },
            "type": "choropleth"
           }
          ],
          "contour": [
           {
            "colorbar": {
             "outlinewidth": 0,
             "ticks": ""
            },
            "colorscale": [
             [
              0,
              "#0d0887"
             ],
             [
              0.1111111111111111,
              "#46039f"
             ],
             [
              0.2222222222222222,
              "#7201a8"
             ],
             [
              0.3333333333333333,
              "#9c179e"
             ],
             [
              0.4444444444444444,
              "#bd3786"
             ],
             [
              0.5555555555555556,
              "#d8576b"
             ],
             [
              0.6666666666666666,
              "#ed7953"
             ],
             [
              0.7777777777777778,
              "#fb9f3a"
             ],
             [
              0.8888888888888888,
              "#fdca26"
             ],
             [
              1,
              "#f0f921"
             ]
            ],
            "type": "contour"
           }
          ],
          "contourcarpet": [
           {
            "colorbar": {
             "outlinewidth": 0,
             "ticks": ""
            },
            "type": "contourcarpet"
           }
          ],
          "heatmap": [
           {
            "colorbar": {
             "outlinewidth": 0,
             "ticks": ""
            },
            "colorscale": [
             [
              0,
              "#0d0887"
             ],
             [
              0.1111111111111111,
              "#46039f"
             ],
             [
              0.2222222222222222,
              "#7201a8"
             ],
             [
              0.3333333333333333,
              "#9c179e"
             ],
             [
              0.4444444444444444,
              "#bd3786"
             ],
             [
              0.5555555555555556,
              "#d8576b"
             ],
             [
              0.6666666666666666,
              "#ed7953"
             ],
             [
              0.7777777777777778,
              "#fb9f3a"
             ],
             [
              0.8888888888888888,
              "#fdca26"
             ],
             [
              1,
              "#f0f921"
             ]
            ],
            "type": "heatmap"
           }
          ],
          "heatmapgl": [
           {
            "colorbar": {
             "outlinewidth": 0,
             "ticks": ""
            },
            "colorscale": [
             [
              0,
              "#0d0887"
             ],
             [
              0.1111111111111111,
              "#46039f"
             ],
             [
              0.2222222222222222,
              "#7201a8"
             ],
             [
              0.3333333333333333,
              "#9c179e"
             ],
             [
              0.4444444444444444,
              "#bd3786"
             ],
             [
              0.5555555555555556,
              "#d8576b"
             ],
             [
              0.6666666666666666,
              "#ed7953"
             ],
             [
              0.7777777777777778,
              "#fb9f3a"
             ],
             [
              0.8888888888888888,
              "#fdca26"
             ],
             [
              1,
              "#f0f921"
             ]
            ],
            "type": "heatmapgl"
           }
          ],
          "histogram": [
           {
            "marker": {
             "pattern": {
              "fillmode": "overlay",
              "size": 10,
              "solidity": 0.2
             }
            },
            "type": "histogram"
           }
          ],
          "histogram2d": [
           {
            "colorbar": {
             "outlinewidth": 0,
             "ticks": ""
            },
            "colorscale": [
             [
              0,
              "#0d0887"
             ],
             [
              0.1111111111111111,
              "#46039f"
             ],
             [
              0.2222222222222222,
              "#7201a8"
             ],
             [
              0.3333333333333333,
              "#9c179e"
             ],
             [
              0.4444444444444444,
              "#bd3786"
             ],
             [
              0.5555555555555556,
              "#d8576b"
             ],
             [
              0.6666666666666666,
              "#ed7953"
             ],
             [
              0.7777777777777778,
              "#fb9f3a"
             ],
             [
              0.8888888888888888,
              "#fdca26"
             ],
             [
              1,
              "#f0f921"
             ]
            ],
            "type": "histogram2d"
           }
          ],
          "histogram2dcontour": [
           {
            "colorbar": {
             "outlinewidth": 0,
             "ticks": ""
            },
            "colorscale": [
             [
              0,
              "#0d0887"
             ],
             [
              0.1111111111111111,
              "#46039f"
             ],
             [
              0.2222222222222222,
              "#7201a8"
             ],
             [
              0.3333333333333333,
              "#9c179e"
             ],
             [
              0.4444444444444444,
              "#bd3786"
             ],
             [
              0.5555555555555556,
              "#d8576b"
             ],
             [
              0.6666666666666666,
              "#ed7953"
             ],
             [
              0.7777777777777778,
              "#fb9f3a"
             ],
             [
              0.8888888888888888,
              "#fdca26"
             ],
             [
              1,
              "#f0f921"
             ]
            ],
            "type": "histogram2dcontour"
           }
          ],
          "mesh3d": [
           {
            "colorbar": {
             "outlinewidth": 0,
             "ticks": ""
            },
            "type": "mesh3d"
           }
          ],
          "parcoords": [
           {
            "line": {
             "colorbar": {
              "outlinewidth": 0,
              "ticks": ""
             }
            },
            "type": "parcoords"
           }
          ],
          "pie": [
           {
            "automargin": true,
            "type": "pie"
           }
          ],
          "scatter": [
           {
            "fillpattern": {
             "fillmode": "overlay",
             "size": 10,
             "solidity": 0.2
            },
            "type": "scatter"
           }
          ],
          "scatter3d": [
           {
            "line": {
             "colorbar": {
              "outlinewidth": 0,
              "ticks": ""
             }
            },
            "marker": {
             "colorbar": {
              "outlinewidth": 0,
              "ticks": ""
             }
            },
            "type": "scatter3d"
           }
          ],
          "scattercarpet": [
           {
            "marker": {
             "colorbar": {
              "outlinewidth": 0,
              "ticks": ""
             }
            },
            "type": "scattercarpet"
           }
          ],
          "scattergeo": [
           {
            "marker": {
             "colorbar": {
              "outlinewidth": 0,
              "ticks": ""
             }
            },
            "type": "scattergeo"
           }
          ],
          "scattergl": [
           {
            "marker": {
             "colorbar": {
              "outlinewidth": 0,
              "ticks": ""
             }
            },
            "type": "scattergl"
           }
          ],
          "scattermapbox": [
           {
            "marker": {
             "colorbar": {
              "outlinewidth": 0,
              "ticks": ""
             }
            },
            "type": "scattermapbox"
           }
          ],
          "scatterpolar": [
           {
            "marker": {
             "colorbar": {
              "outlinewidth": 0,
              "ticks": ""
             }
            },
            "type": "scatterpolar"
           }
          ],
          "scatterpolargl": [
           {
            "marker": {
             "colorbar": {
              "outlinewidth": 0,
              "ticks": ""
             }
            },
            "type": "scatterpolargl"
           }
          ],
          "scatterternary": [
           {
            "marker": {
             "colorbar": {
              "outlinewidth": 0,
              "ticks": ""
             }
            },
            "type": "scatterternary"
           }
          ],
          "surface": [
           {
            "colorbar": {
             "outlinewidth": 0,
             "ticks": ""
            },
            "colorscale": [
             [
              0,
              "#0d0887"
             ],
             [
              0.1111111111111111,
              "#46039f"
             ],
             [
              0.2222222222222222,
              "#7201a8"
             ],
             [
              0.3333333333333333,
              "#9c179e"
             ],
             [
              0.4444444444444444,
              "#bd3786"
             ],
             [
              0.5555555555555556,
              "#d8576b"
             ],
             [
              0.6666666666666666,
              "#ed7953"
             ],
             [
              0.7777777777777778,
              "#fb9f3a"
             ],
             [
              0.8888888888888888,
              "#fdca26"
             ],
             [
              1,
              "#f0f921"
             ]
            ],
            "type": "surface"
           }
          ],
          "table": [
           {
            "cells": {
             "fill": {
              "color": "#EBF0F8"
             },
             "line": {
              "color": "white"
             }
            },
            "header": {
             "fill": {
              "color": "#C8D4E3"
             },
             "line": {
              "color": "white"
             }
            },
            "type": "table"
           }
          ]
         },
         "layout": {
          "annotationdefaults": {
           "arrowcolor": "#2a3f5f",
           "arrowhead": 0,
           "arrowwidth": 1
          },
          "autotypenumbers": "strict",
          "coloraxis": {
           "colorbar": {
            "outlinewidth": 0,
            "ticks": ""
           }
          },
          "colorscale": {
           "diverging": [
            [
             0,
             "#8e0152"
            ],
            [
             0.1,
             "#c51b7d"
            ],
            [
             0.2,
             "#de77ae"
            ],
            [
             0.3,
             "#f1b6da"
            ],
            [
             0.4,
             "#fde0ef"
            ],
            [
             0.5,
             "#f7f7f7"
            ],
            [
             0.6,
             "#e6f5d0"
            ],
            [
             0.7,
             "#b8e186"
            ],
            [
             0.8,
             "#7fbc41"
            ],
            [
             0.9,
             "#4d9221"
            ],
            [
             1,
             "#276419"
            ]
           ],
           "sequential": [
            [
             0,
             "#0d0887"
            ],
            [
             0.1111111111111111,
             "#46039f"
            ],
            [
             0.2222222222222222,
             "#7201a8"
            ],
            [
             0.3333333333333333,
             "#9c179e"
            ],
            [
             0.4444444444444444,
             "#bd3786"
            ],
            [
             0.5555555555555556,
             "#d8576b"
            ],
            [
             0.6666666666666666,
             "#ed7953"
            ],
            [
             0.7777777777777778,
             "#fb9f3a"
            ],
            [
             0.8888888888888888,
             "#fdca26"
            ],
            [
             1,
             "#f0f921"
            ]
           ],
           "sequentialminus": [
            [
             0,
             "#0d0887"
            ],
            [
             0.1111111111111111,
             "#46039f"
            ],
            [
             0.2222222222222222,
             "#7201a8"
            ],
            [
             0.3333333333333333,
             "#9c179e"
            ],
            [
             0.4444444444444444,
             "#bd3786"
            ],
            [
             0.5555555555555556,
             "#d8576b"
            ],
            [
             0.6666666666666666,
             "#ed7953"
            ],
            [
             0.7777777777777778,
             "#fb9f3a"
            ],
            [
             0.8888888888888888,
             "#fdca26"
            ],
            [
             1,
             "#f0f921"
            ]
           ]
          },
          "colorway": [
           "#636efa",
           "#EF553B",
           "#00cc96",
           "#ab63fa",
           "#FFA15A",
           "#19d3f3",
           "#FF6692",
           "#B6E880",
           "#FF97FF",
           "#FECB52"
          ],
          "font": {
           "color": "#2a3f5f"
          },
          "geo": {
           "bgcolor": "white",
           "lakecolor": "white",
           "landcolor": "#E5ECF6",
           "showlakes": true,
           "showland": true,
           "subunitcolor": "white"
          },
          "hoverlabel": {
           "align": "left"
          },
          "hovermode": "closest",
          "mapbox": {
           "style": "light"
          },
          "paper_bgcolor": "white",
          "plot_bgcolor": "#E5ECF6",
          "polar": {
           "angularaxis": {
            "gridcolor": "white",
            "linecolor": "white",
            "ticks": ""
           },
           "bgcolor": "#E5ECF6",
           "radialaxis": {
            "gridcolor": "white",
            "linecolor": "white",
            "ticks": ""
           }
          },
          "scene": {
           "xaxis": {
            "backgroundcolor": "#E5ECF6",
            "gridcolor": "white",
            "gridwidth": 2,
            "linecolor": "white",
            "showbackground": true,
            "ticks": "",
            "zerolinecolor": "white"
           },
           "yaxis": {
            "backgroundcolor": "#E5ECF6",
            "gridcolor": "white",
            "gridwidth": 2,
            "linecolor": "white",
            "showbackground": true,
            "ticks": "",
            "zerolinecolor": "white"
           },
           "zaxis": {
            "backgroundcolor": "#E5ECF6",
            "gridcolor": "white",
            "gridwidth": 2,
            "linecolor": "white",
            "showbackground": true,
            "ticks": "",
            "zerolinecolor": "white"
           }
          },
          "shapedefaults": {
           "line": {
            "color": "#2a3f5f"
           }
          },
          "ternary": {
           "aaxis": {
            "gridcolor": "white",
            "linecolor": "white",
            "ticks": ""
           },
           "baxis": {
            "gridcolor": "white",
            "linecolor": "white",
            "ticks": ""
           },
           "bgcolor": "#E5ECF6",
           "caxis": {
            "gridcolor": "white",
            "linecolor": "white",
            "ticks": ""
           }
          },
          "title": {
           "x": 0.05
          },
          "xaxis": {
           "automargin": true,
           "gridcolor": "white",
           "linecolor": "white",
           "ticks": "",
           "title": {
            "standoff": 15
           },
           "zerolinecolor": "white",
           "zerolinewidth": 2
          },
          "yaxis": {
           "automargin": true,
           "gridcolor": "white",
           "linecolor": "white",
           "ticks": "",
           "title": {
            "standoff": 15
           },
           "zerolinecolor": "white",
           "zerolinewidth": 2
          }
         }
        },
        "xaxis": {
         "anchor": "y",
         "domain": [
          0,
          1
         ],
         "title": {
          "text": "log_Loan_Monthly_Paid"
         }
        },
        "yaxis": {
         "anchor": "x",
         "domain": [
          0,
          1
         ],
         "title": {
          "text": "count"
         }
        }
       }
      }
     },
     "metadata": {},
     "output_type": "display_data"
    }
   ],
   "source": [
    "px.histogram(df, x= \"log_Loan_Monthly_Paid\")"
   ]
  },
  {
   "cell_type": "markdown",
   "id": "cd494360",
   "metadata": {},
   "source": [
    "## Income_After_Loan"
   ]
  },
  {
   "cell_type": "code",
   "execution_count": 56,
   "id": "469a5f6d",
   "metadata": {},
   "outputs": [],
   "source": [
    "df[\"Income_After_Loan\"] = df[\"ApplicantIncome\"] - df[\"Loan_Monthly_Paid\"] "
   ]
  },
  {
   "cell_type": "code",
   "execution_count": 57,
   "id": "91c2b29d",
   "metadata": {},
   "outputs": [
    {
     "data": {
      "application/vnd.plotly.v1+json": {
       "config": {
        "plotlyServerURL": "https://plot.ly"
       },
       "data": [
        {
         "alignmentgroup": "True",
         "bingroup": "x",
         "hovertemplate": "Income_After_Loan=%{x}<br>count=%{y}<extra></extra>",
         "legendgroup": "",
         "marker": {
          "color": "#636efa",
          "pattern": {
           "shape": ""
          }
         },
         "name": "",
         "offsetgroup": "",
         "orientation": "v",
         "showlegend": false,
         "type": "histogram",
         "x": [
          null,
          4227.44,
          2816.67,
          2249.67,
          5608.33,
          4675.33,
          2069.11,
          2597.11,
          3539.33,
          11871.56,
          3005.56,
          2197.2200000000003,
          2517.44,
          1536.33,
          1157.33,
          4602.78,
          3179.33,
          3298.89,
          4517.56,
          null,
          7371.11,
          5080,
          2277.7799999999997,
          3053.89,
          3297.56,
          9029.44,
          2460.11,
          3920.44,
          1344.78,
          3416.67,
          3607.67,
          2961.44,
          4397.56,
          3183.33,
          11611.11,
          null,
          null,
          3267,
          3654.89,
          3442.44,
          3377.78,
          1669.44,
          2191.67,
          3568.7799999999997,
          null,
          null,
          5526.78,
          5421,
          2311.67,
          3600,
          1650.22,
          2752.67,
          3918.89,
          4243.78,
          10705.56,
          2438.56,
          1865.33,
          2991,
          7580,
          2957,
          2166.67,
          2754,
          1692.33,
          null,
          3843.7799999999997,
          5009.33,
          2500,
          9883.33,
          5016.67,
          3922.2200000000003,
          2730.2200000000003,
          1605.56,
          3230,
          null,
          4746.5599999999995,
          3514.58,
          3261.11,
          694.44,
          2567,
          2971.89,
          3537.67,
          null,
          914.11,
          5263.89,
          3779.67,
          1988.22,
          3058,
          2211.11,
          7982.67,
          5208.89,
          2594.11,
          5205.5599999999995,
          3048,
          3794.11,
          3411.67,
          null,
          2103.44,
          1838.1100000000001,
          3549.11,
          1395.1100000000001,
          3549.11,
          4423.56,
          null,
          null,
          3371.56,
          2774.2200000000003,
          10792,
          6999.67,
          3200,
          1875.17,
          4938.22,
          2542.89,
          null,
          null,
          4722.22,
          13555.22,
          2739.2200000000003,
          1977.8899999999999,
          5081.89,
          9688.56,
          5167,
          4043.78,
          1756.44,
          2732,
          3761.11,
          3433.67,
          22775.22,
          null,
          9624.11,
          5574.44,
          18811.83,
          1808.44,
          2523.56,
          3250.67,
          4611.67,
          3194.44,
          4349.67,
          3071.56,
          14326.78,
          3841.67,
          4528.11,
          4950.33,
          5977.78,
          2359.11,
          10718.11,
          2052.2200000000003,
          14671.56,
          1454.67,
          9375,
          4512.78,
          5949.22,
          2154.7799999999997,
          8488.22,
          1967.1100000000001,
          3115.11,
          36665.67,
          5555.56,
          9018.56,
          2646.67,
          3874.67,
          1590.78,
          7169.11,
          2752.89,
          3728.11,
          8906.33,
          null,
          4271.89,
          2080.67,
          2105.75,
          7444.4400000000005,
          1556.1100000000001,
          49429.67,
          3072,
          5188.5599999999995,
          4102.33,
          3174.7799999999997,
          1764.44,
          4141,
          3427.7799999999997,
          2120.5,
          5900,
          1729.8899999999999,
          4194.44,
          33123.78,
          3325,
          38813.67,
          1958,
          2221.89,
          207.32999999999998,
          8283.56,
          4751.67,
          11544.44,
          5588.56,
          3646.89,
          3857.67,
          2652.7799999999997,
          7813.5599999999995,
          null,
          3102.11,
          10769.44,
          2350,
          4461.89,
          null,
          3125,
          3572.56,
          4074.67,
          3021.78,
          3822.22,
          2315.11,
          3065.2200000000003,
          9405.56,
          3074.44,
          7120.33,
          5341.89,
          2792.44,
          3572.2200000000003,
          -225,
          3363.11,
          4800,
          3930.2200000000003,
          2054.33,
          3686.7799999999997,
          2571,
          null,
          5894.44,
          2777.7799999999997,
          4351.67,
          5666.67,
          4428.83,
          5844.4400000000005,
          2202.11,
          3482.67,
          null,
          7555.22,
          2766.11,
          5027.78,
          5037.67,
          3124.11,
          3500.89,
          3048.33,
          5485.67,
          1732.22,
          381.6700000000001,
          5950,
          3064.33,
          5383.33,
          9391.89,
          5846.89,
          2625.75,
          1559,
          1109.67,
          3043.67,
          2294.11,
          1111,
          15716.67,
          2374.67,
          5725.56,
          4988.89,
          13838.56,
          4575.44,
          5166.33,
          1687.78,
          -824.5600000000004,
          6866.67,
          4810.44,
          3675.56,
          4291.33,
          3888.56,
          3043,
          2626,
          3153.67,
          10768.22,
          2483,
          2203.33,
          3650,
          2430.56,
          3418,
          2880.78,
          13371.89,
          3755.56,
          3614.11,
          3615.89,
          1867.67,
          1661,
          null,
          2910.78,
          2270,
          3370.67,
          3804.56,
          8988.56,
          2688.89,
          4047.2200000000003,
          2780.7799999999997,
          5119.08,
          1905.22,
          4110.44,
          6319.4400000000005,
          4291,
          4685.42,
          1700.1100000000001,
          1541.67,
          2583.33,
          4633.33,
          1358.33,
          3611.11,
          null,
          3387,
          2111.11,
          18899.67,
          7153.11,
          2683.67,
          2618.67,
          2351.44,
          4031.71,
          2031.33,
          2782.33,
          3383.67,
          1813.56,
          3229.89,
          9569.44,
          2080.56,
          3997.56,
          null,
          2799.33,
          14166.67,
          7621.5599999999995,
          4555.89,
          5306.89,
          4027.44,
          2313.89,
          4059,
          2662.7799999999997,
          2635.78,
          60614.78,
          8821.89,
          null,
          4805.56,
          2011.1100000000001,
          null,
          3962.78,
          2166.44,
          2250.22,
          4115.11,
          2967.44,
          2235.7799999999997,
          2054.56,
          3100.7799999999997,
          2733,
          5613.5599999999995,
          2105.56,
          8449.67,
          7894.4400000000005,
          2402.11,
          5208.33,
          2061.89,
          3168.56,
          7874.67,
          3688.89,
          2791.67,
          4611.4400000000005,
          4498,
          4344.4400000000005,
          4388.89,
          2696.33,
          6430.33,
          5846.56,
          2300,
          null,
          5838.89,
          18146.67,
          15606.22,
          4754.44,
          8056.33,
          2445.33,
          2458.44,
          4150.33,
          8388.89,
          3948.89,
          2921.08,
          5029.89,
          2977.44,
          5118.78,
          5566.67,
          6811.44,
          4288.22,
          3039.2200000000003,
          1979.33,
          null,
          1955.22,
          5140.78,
          8653.11,
          8740.11,
          2249.67,
          1365.22,
          2786.11,
          2901,
          2982.78,
          2769.11,
          3599.2200000000003,
          1213.8899999999999,
          2639,
          2538.33,
          2213.89,
          1815.78,
          6902.11,
          4227.56,
          1847.56,
          2029.67,
          7793.33,
          80000,
          3694.78,
          5811.56,
          5490.4400000000005,
          1947.44,
          1654.56,
          2828.33,
          2155.56,
          936.11,
          713.89,
          2862.67,
          5445.67,
          null,
          1542.22,
          null,
          14613.33,
          2329.89,
          4381,
          5565.56,
          2678.33,
          2383.67,
          8207.33,
          6208.33,
          11751,
          2027.78,
          3472.2200000000003,
          null,
          1787.1100000000001,
          null,
          9896.56,
          6758.67,
          3140.56,
          7401,
          4295.89,
          37296.78,
          6749.67,
          3104.89,
          4346.44,
          3386.22,
          2923.33,
          2241.2200000000003,
          1961.78,
          1758,
          3534.11,
          1983,
          6851.67,
          3592.33,
          3973.2200000000003,
          3227.44,
          3976.2200000000003,
          7889.56,
          1638.56,
          7028.89,
          2590,
          4824.33,
          3893.7799999999997,
          5611.11,
          2558.11,
          16386.44,
          -62.22000000000003,
          4027.44,
          3000,
          2025.22,
          4413.22,
          2241.67,
          5082,
          16108.33,
          5933.33,
          2506.33,
          16428.11,
          null,
          3922.2200000000003,
          2781.11,
          1727.44,
          10183,
          7649.67,
          1594.1100000000001,
          3324.78,
          16944.11,
          4138.56,
          2226.67,
          2432.33,
          4816.33,
          3385.44,
          16638,
          3266.44,
          2076,
          2302.7799999999997,
          -4625,
          2631.11,
          5702.4400000000005,
          409.58000000000004,
          2881.2200000000003,
          4287.22,
          3666.67,
          3400.67,
          2835,
          19499.67,
          3316.33,
          1956.78,
          13150.89,
          3320.2200000000003,
          5370.5599999999995,
          2871.89,
          1741.1100000000001,
          4951.11,
          3049.33,
          1795.58,
          2732.33,
          4169.11,
          3136.11,
          2067,
          2347.22,
          5399.22,
          6614.67,
          null,
          16388.89,
          3469.44,
          4837.78,
          2417.89,
          6421.89,
          425,
          4003.2200000000003,
          3282.44,
          10705.56,
          17817.78,
          2200,
          5233,
          3319.7799999999997,
          2733.67,
          5544.78,
          3830.2200000000003,
          1863,
          3388.11,
          1883.44,
          2733.67,
          2337.44,
          1135.7800000000002,
          2123.2200000000003,
          4713.89,
          2479.44,
          null,
          null,
          2894.11,
          1951.22,
          2859.67,
          5395.78,
          2433.67,
          9416.78,
          3437,
          3674.44,
          3375,
          17817.33,
          5336.89,
          5433.33,
          8082.33,
          4133.67,
          3138.56,
          3058.33,
          2353,
          2877.11,
          2900.33,
          4657.67,
          15902.11,
          5735.42,
          5989.33,
          1873.29,
          2709.2200000000003,
          2923.44,
          1484.78,
          2734.7799999999997,
          5970.5599999999995,
          1586,
          3066,
          1710.56,
          2381.44,
          2235.38,
          2008.1100000000001,
          1970.56,
          4488.89,
          2431.56,
          2688.89,
          5145.83,
          8545.89,
          3070.11,
          15397.78,
          3527.44,
          5863.5599999999995,
          2742.56,
          9463,
          5246.67,
          -1528.44,
          2463.44,
          5347.44,
          3198.2200000000003,
          10622.22,
          null,
          2919.44,
          3550.89,
          2932,
          2702.78,
          3883.78,
          7369.22,
          7063.5599999999995,
          4213.56
         ],
         "xaxis": "x",
         "yaxis": "y"
        }
       ],
       "layout": {
        "barmode": "relative",
        "legend": {
         "tracegroupgap": 0
        },
        "margin": {
         "t": 60
        },
        "template": {
         "data": {
          "bar": [
           {
            "error_x": {
             "color": "#2a3f5f"
            },
            "error_y": {
             "color": "#2a3f5f"
            },
            "marker": {
             "line": {
              "color": "#E5ECF6",
              "width": 0.5
             },
             "pattern": {
              "fillmode": "overlay",
              "size": 10,
              "solidity": 0.2
             }
            },
            "type": "bar"
           }
          ],
          "barpolar": [
           {
            "marker": {
             "line": {
              "color": "#E5ECF6",
              "width": 0.5
             },
             "pattern": {
              "fillmode": "overlay",
              "size": 10,
              "solidity": 0.2
             }
            },
            "type": "barpolar"
           }
          ],
          "carpet": [
           {
            "aaxis": {
             "endlinecolor": "#2a3f5f",
             "gridcolor": "white",
             "linecolor": "white",
             "minorgridcolor": "white",
             "startlinecolor": "#2a3f5f"
            },
            "baxis": {
             "endlinecolor": "#2a3f5f",
             "gridcolor": "white",
             "linecolor": "white",
             "minorgridcolor": "white",
             "startlinecolor": "#2a3f5f"
            },
            "type": "carpet"
           }
          ],
          "choropleth": [
           {
            "colorbar": {
             "outlinewidth": 0,
             "ticks": ""
            },
            "type": "choropleth"
           }
          ],
          "contour": [
           {
            "colorbar": {
             "outlinewidth": 0,
             "ticks": ""
            },
            "colorscale": [
             [
              0,
              "#0d0887"
             ],
             [
              0.1111111111111111,
              "#46039f"
             ],
             [
              0.2222222222222222,
              "#7201a8"
             ],
             [
              0.3333333333333333,
              "#9c179e"
             ],
             [
              0.4444444444444444,
              "#bd3786"
             ],
             [
              0.5555555555555556,
              "#d8576b"
             ],
             [
              0.6666666666666666,
              "#ed7953"
             ],
             [
              0.7777777777777778,
              "#fb9f3a"
             ],
             [
              0.8888888888888888,
              "#fdca26"
             ],
             [
              1,
              "#f0f921"
             ]
            ],
            "type": "contour"
           }
          ],
          "contourcarpet": [
           {
            "colorbar": {
             "outlinewidth": 0,
             "ticks": ""
            },
            "type": "contourcarpet"
           }
          ],
          "heatmap": [
           {
            "colorbar": {
             "outlinewidth": 0,
             "ticks": ""
            },
            "colorscale": [
             [
              0,
              "#0d0887"
             ],
             [
              0.1111111111111111,
              "#46039f"
             ],
             [
              0.2222222222222222,
              "#7201a8"
             ],
             [
              0.3333333333333333,
              "#9c179e"
             ],
             [
              0.4444444444444444,
              "#bd3786"
             ],
             [
              0.5555555555555556,
              "#d8576b"
             ],
             [
              0.6666666666666666,
              "#ed7953"
             ],
             [
              0.7777777777777778,
              "#fb9f3a"
             ],
             [
              0.8888888888888888,
              "#fdca26"
             ],
             [
              1,
              "#f0f921"
             ]
            ],
            "type": "heatmap"
           }
          ],
          "heatmapgl": [
           {
            "colorbar": {
             "outlinewidth": 0,
             "ticks": ""
            },
            "colorscale": [
             [
              0,
              "#0d0887"
             ],
             [
              0.1111111111111111,
              "#46039f"
             ],
             [
              0.2222222222222222,
              "#7201a8"
             ],
             [
              0.3333333333333333,
              "#9c179e"
             ],
             [
              0.4444444444444444,
              "#bd3786"
             ],
             [
              0.5555555555555556,
              "#d8576b"
             ],
             [
              0.6666666666666666,
              "#ed7953"
             ],
             [
              0.7777777777777778,
              "#fb9f3a"
             ],
             [
              0.8888888888888888,
              "#fdca26"
             ],
             [
              1,
              "#f0f921"
             ]
            ],
            "type": "heatmapgl"
           }
          ],
          "histogram": [
           {
            "marker": {
             "pattern": {
              "fillmode": "overlay",
              "size": 10,
              "solidity": 0.2
             }
            },
            "type": "histogram"
           }
          ],
          "histogram2d": [
           {
            "colorbar": {
             "outlinewidth": 0,
             "ticks": ""
            },
            "colorscale": [
             [
              0,
              "#0d0887"
             ],
             [
              0.1111111111111111,
              "#46039f"
             ],
             [
              0.2222222222222222,
              "#7201a8"
             ],
             [
              0.3333333333333333,
              "#9c179e"
             ],
             [
              0.4444444444444444,
              "#bd3786"
             ],
             [
              0.5555555555555556,
              "#d8576b"
             ],
             [
              0.6666666666666666,
              "#ed7953"
             ],
             [
              0.7777777777777778,
              "#fb9f3a"
             ],
             [
              0.8888888888888888,
              "#fdca26"
             ],
             [
              1,
              "#f0f921"
             ]
            ],
            "type": "histogram2d"
           }
          ],
          "histogram2dcontour": [
           {
            "colorbar": {
             "outlinewidth": 0,
             "ticks": ""
            },
            "colorscale": [
             [
              0,
              "#0d0887"
             ],
             [
              0.1111111111111111,
              "#46039f"
             ],
             [
              0.2222222222222222,
              "#7201a8"
             ],
             [
              0.3333333333333333,
              "#9c179e"
             ],
             [
              0.4444444444444444,
              "#bd3786"
             ],
             [
              0.5555555555555556,
              "#d8576b"
             ],
             [
              0.6666666666666666,
              "#ed7953"
             ],
             [
              0.7777777777777778,
              "#fb9f3a"
             ],
             [
              0.8888888888888888,
              "#fdca26"
             ],
             [
              1,
              "#f0f921"
             ]
            ],
            "type": "histogram2dcontour"
           }
          ],
          "mesh3d": [
           {
            "colorbar": {
             "outlinewidth": 0,
             "ticks": ""
            },
            "type": "mesh3d"
           }
          ],
          "parcoords": [
           {
            "line": {
             "colorbar": {
              "outlinewidth": 0,
              "ticks": ""
             }
            },
            "type": "parcoords"
           }
          ],
          "pie": [
           {
            "automargin": true,
            "type": "pie"
           }
          ],
          "scatter": [
           {
            "fillpattern": {
             "fillmode": "overlay",
             "size": 10,
             "solidity": 0.2
            },
            "type": "scatter"
           }
          ],
          "scatter3d": [
           {
            "line": {
             "colorbar": {
              "outlinewidth": 0,
              "ticks": ""
             }
            },
            "marker": {
             "colorbar": {
              "outlinewidth": 0,
              "ticks": ""
             }
            },
            "type": "scatter3d"
           }
          ],
          "scattercarpet": [
           {
            "marker": {
             "colorbar": {
              "outlinewidth": 0,
              "ticks": ""
             }
            },
            "type": "scattercarpet"
           }
          ],
          "scattergeo": [
           {
            "marker": {
             "colorbar": {
              "outlinewidth": 0,
              "ticks": ""
             }
            },
            "type": "scattergeo"
           }
          ],
          "scattergl": [
           {
            "marker": {
             "colorbar": {
              "outlinewidth": 0,
              "ticks": ""
             }
            },
            "type": "scattergl"
           }
          ],
          "scattermapbox": [
           {
            "marker": {
             "colorbar": {
              "outlinewidth": 0,
              "ticks": ""
             }
            },
            "type": "scattermapbox"
           }
          ],
          "scatterpolar": [
           {
            "marker": {
             "colorbar": {
              "outlinewidth": 0,
              "ticks": ""
             }
            },
            "type": "scatterpolar"
           }
          ],
          "scatterpolargl": [
           {
            "marker": {
             "colorbar": {
              "outlinewidth": 0,
              "ticks": ""
             }
            },
            "type": "scatterpolargl"
           }
          ],
          "scatterternary": [
           {
            "marker": {
             "colorbar": {
              "outlinewidth": 0,
              "ticks": ""
             }
            },
            "type": "scatterternary"
           }
          ],
          "surface": [
           {
            "colorbar": {
             "outlinewidth": 0,
             "ticks": ""
            },
            "colorscale": [
             [
              0,
              "#0d0887"
             ],
             [
              0.1111111111111111,
              "#46039f"
             ],
             [
              0.2222222222222222,
              "#7201a8"
             ],
             [
              0.3333333333333333,
              "#9c179e"
             ],
             [
              0.4444444444444444,
              "#bd3786"
             ],
             [
              0.5555555555555556,
              "#d8576b"
             ],
             [
              0.6666666666666666,
              "#ed7953"
             ],
             [
              0.7777777777777778,
              "#fb9f3a"
             ],
             [
              0.8888888888888888,
              "#fdca26"
             ],
             [
              1,
              "#f0f921"
             ]
            ],
            "type": "surface"
           }
          ],
          "table": [
           {
            "cells": {
             "fill": {
              "color": "#EBF0F8"
             },
             "line": {
              "color": "white"
             }
            },
            "header": {
             "fill": {
              "color": "#C8D4E3"
             },
             "line": {
              "color": "white"
             }
            },
            "type": "table"
           }
          ]
         },
         "layout": {
          "annotationdefaults": {
           "arrowcolor": "#2a3f5f",
           "arrowhead": 0,
           "arrowwidth": 1
          },
          "autotypenumbers": "strict",
          "coloraxis": {
           "colorbar": {
            "outlinewidth": 0,
            "ticks": ""
           }
          },
          "colorscale": {
           "diverging": [
            [
             0,
             "#8e0152"
            ],
            [
             0.1,
             "#c51b7d"
            ],
            [
             0.2,
             "#de77ae"
            ],
            [
             0.3,
             "#f1b6da"
            ],
            [
             0.4,
             "#fde0ef"
            ],
            [
             0.5,
             "#f7f7f7"
            ],
            [
             0.6,
             "#e6f5d0"
            ],
            [
             0.7,
             "#b8e186"
            ],
            [
             0.8,
             "#7fbc41"
            ],
            [
             0.9,
             "#4d9221"
            ],
            [
             1,
             "#276419"
            ]
           ],
           "sequential": [
            [
             0,
             "#0d0887"
            ],
            [
             0.1111111111111111,
             "#46039f"
            ],
            [
             0.2222222222222222,
             "#7201a8"
            ],
            [
             0.3333333333333333,
             "#9c179e"
            ],
            [
             0.4444444444444444,
             "#bd3786"
            ],
            [
             0.5555555555555556,
             "#d8576b"
            ],
            [
             0.6666666666666666,
             "#ed7953"
            ],
            [
             0.7777777777777778,
             "#fb9f3a"
            ],
            [
             0.8888888888888888,
             "#fdca26"
            ],
            [
             1,
             "#f0f921"
            ]
           ],
           "sequentialminus": [
            [
             0,
             "#0d0887"
            ],
            [
             0.1111111111111111,
             "#46039f"
            ],
            [
             0.2222222222222222,
             "#7201a8"
            ],
            [
             0.3333333333333333,
             "#9c179e"
            ],
            [
             0.4444444444444444,
             "#bd3786"
            ],
            [
             0.5555555555555556,
             "#d8576b"
            ],
            [
             0.6666666666666666,
             "#ed7953"
            ],
            [
             0.7777777777777778,
             "#fb9f3a"
            ],
            [
             0.8888888888888888,
             "#fdca26"
            ],
            [
             1,
             "#f0f921"
            ]
           ]
          },
          "colorway": [
           "#636efa",
           "#EF553B",
           "#00cc96",
           "#ab63fa",
           "#FFA15A",
           "#19d3f3",
           "#FF6692",
           "#B6E880",
           "#FF97FF",
           "#FECB52"
          ],
          "font": {
           "color": "#2a3f5f"
          },
          "geo": {
           "bgcolor": "white",
           "lakecolor": "white",
           "landcolor": "#E5ECF6",
           "showlakes": true,
           "showland": true,
           "subunitcolor": "white"
          },
          "hoverlabel": {
           "align": "left"
          },
          "hovermode": "closest",
          "mapbox": {
           "style": "light"
          },
          "paper_bgcolor": "white",
          "plot_bgcolor": "#E5ECF6",
          "polar": {
           "angularaxis": {
            "gridcolor": "white",
            "linecolor": "white",
            "ticks": ""
           },
           "bgcolor": "#E5ECF6",
           "radialaxis": {
            "gridcolor": "white",
            "linecolor": "white",
            "ticks": ""
           }
          },
          "scene": {
           "xaxis": {
            "backgroundcolor": "#E5ECF6",
            "gridcolor": "white",
            "gridwidth": 2,
            "linecolor": "white",
            "showbackground": true,
            "ticks": "",
            "zerolinecolor": "white"
           },
           "yaxis": {
            "backgroundcolor": "#E5ECF6",
            "gridcolor": "white",
            "gridwidth": 2,
            "linecolor": "white",
            "showbackground": true,
            "ticks": "",
            "zerolinecolor": "white"
           },
           "zaxis": {
            "backgroundcolor": "#E5ECF6",
            "gridcolor": "white",
            "gridwidth": 2,
            "linecolor": "white",
            "showbackground": true,
            "ticks": "",
            "zerolinecolor": "white"
           }
          },
          "shapedefaults": {
           "line": {
            "color": "#2a3f5f"
           }
          },
          "ternary": {
           "aaxis": {
            "gridcolor": "white",
            "linecolor": "white",
            "ticks": ""
           },
           "baxis": {
            "gridcolor": "white",
            "linecolor": "white",
            "ticks": ""
           },
           "bgcolor": "#E5ECF6",
           "caxis": {
            "gridcolor": "white",
            "linecolor": "white",
            "ticks": ""
           }
          },
          "title": {
           "x": 0.05
          },
          "xaxis": {
           "automargin": true,
           "gridcolor": "white",
           "linecolor": "white",
           "ticks": "",
           "title": {
            "standoff": 15
           },
           "zerolinecolor": "white",
           "zerolinewidth": 2
          },
          "yaxis": {
           "automargin": true,
           "gridcolor": "white",
           "linecolor": "white",
           "ticks": "",
           "title": {
            "standoff": 15
           },
           "zerolinecolor": "white",
           "zerolinewidth": 2
          }
         }
        },
        "xaxis": {
         "anchor": "y",
         "domain": [
          0,
          1
         ],
         "title": {
          "text": "Income_After_Loan"
         }
        },
        "yaxis": {
         "anchor": "x",
         "domain": [
          0,
          1
         ],
         "title": {
          "text": "count"
         }
        }
       }
      }
     },
     "metadata": {},
     "output_type": "display_data"
    }
   ],
   "source": [
    "px.histogram(df, x= \"Income_After_Loan\")"
   ]
  },
  {
   "cell_type": "code",
   "execution_count": 58,
   "id": "ef052b0d",
   "metadata": {},
   "outputs": [
    {
     "name": "stderr",
     "output_type": "stream",
     "text": [
      "/Library/Frameworks/Python.framework/Versions/3.10/lib/python3.10/site-packages/pandas/core/arraylike.py:399: RuntimeWarning:\n",
      "\n",
      "invalid value encountered in log\n",
      "\n"
     ]
    }
   ],
   "source": [
    "df[\"log_Income_After_Loan\"] = np.log(df[\"Income_After_Loan\"]) "
   ]
  },
  {
   "cell_type": "code",
   "execution_count": 59,
   "id": "ed6d5075",
   "metadata": {},
   "outputs": [
    {
     "data": {
      "application/vnd.plotly.v1+json": {
       "config": {
        "plotlyServerURL": "https://plot.ly"
       },
       "data": [
        {
         "alignmentgroup": "True",
         "bingroup": "x",
         "hovertemplate": "log_Income_After_Loan=%{x}<br>count=%{y}<extra></extra>",
         "legendgroup": "",
         "marker": {
          "color": "#636efa",
          "pattern": {
           "shape": ""
          }
         },
         "name": "",
         "offsetgroup": "",
         "orientation": "v",
         "showlegend": false,
         "type": "histogram",
         "x": [
          null,
          8.349351887886682,
          7.943310615114362,
          7.718538817775192,
          8.632008271491001,
          8.450055027466849,
          7.634873842112864,
          7.862154567331002,
          8.171692722678115,
          9.38190090272574,
          8.008219185680383,
          7.694948203921121,
          7.830997791140878,
          7.337151734382004,
          7.053870906923652,
          8.434415747758669,
          8.064425761751682,
          8.101341327235271,
          8.41572730406053,
          null,
          8.905323584426194,
          8.533066540572527,
          7.73095656339956,
          8.024171466793295,
          8.10093808002866,
          9.108245628984115,
          7.807961343373857,
          8.27395917138348,
          7.203985709883875,
          8.136421671507724,
          8.190817413584847,
          7.993430915508407,
          8.388805120634608,
          8.0656830976857,
          9.359717677356999,
          null,
          null,
          8.09162741160107,
          8.203821275971759,
          8.14393580125702,
          8.124973967952615,
          7.4202435198340275,
          7.692419089289246,
          8.179979079673716,
          null,
          null,
          8.617360646445418,
          8.598035579260339,
          7.7457254860408495,
          8.1886891244442,
          7.40866389133986,
          7.920326628724153,
          8.273563729420914,
          8.35320966050146,
          9.278518511659295,
          7.799162980137539,
          7.531193260124958,
          8.003363058629947,
          8.933268478636418,
          7.9919305198524775,
          7.680946705675974,
          7.9208096792886,
          7.433861556610219,
          null,
          8.25421153640242,
          8.519057452600988,
          7.824046010856292,
          9.198604778489576,
          8.52052164596052,
          8.27441309901277,
          7.9121374710127075,
          7.381227884366617,
          8.080237416216702,
          null,
          8.465175424135248,
          8.164675309196555,
          8.089822907204463,
          6.543105765373748,
          7.8504931808711405,
          7.99695339303963,
          8.171223597333917,
          null,
          6.817950914322066,
          8.56862557613028,
          8.237391983215327,
          7.594995045077616,
          8.025516386489008,
          7.701249930863676,
          8.98502822094845,
          8.558122060225232,
          7.860998769528571,
          8.557482564118672,
          8.022240916806537,
          8.241205143221741,
          8.134957186466373,
          null,
          7.651329378735005,
          7.516493148785333,
          8.174452146812552,
          7.240728544193323,
          8.174452146812552,
          8.394700080751424,
          null,
          null,
          8.123130824249417,
          7.928124905588763,
          9.286560397887591,
          8.853618284069048,
          8.070906088787819,
          7.536454600961204,
          8.504760221363078,
          7.8410565084896975,
          null,
          null,
          8.460034306987943,
          9.514526991974426,
          7.915428487322637,
          7.589785898907248,
          8.533438518624207,
          9.17870108703058,
          8.550047528287184,
          8.304935177077951,
          7.471044312283856,
          7.912789220690681,
          8.232469405583183,
          8.141384938994648,
          10.033428381796103,
          null,
          9.172026687348131,
          8.625947142852544,
          9.842241206239075,
          7.50021987417605,
          7.8334258819985525,
          8.086616407923152,
          8.436345326357136,
          8.06916707758396,
          8.377855259136092,
          8.02994085484262,
          9.569885792153222,
          8.253662446875323,
          8.418059912874162,
          8.50720952000728,
          8.695804540560799,
          7.76603970824847,
          9.279690113110918,
          7.626677413019447,
          9.59366620495169,
          7.2825343497579365,
          9.14580185083861,
          8.41466865057762,
          8.691015397509336,
          7.675443909159443,
          9.046434598902321,
          7.584320739550404,
          8.04401974359967,
          10.50959617391883,
          8.622554507073744,
          9.107039955079197,
          7.8810575250181225,
          8.262215776870697,
          7.371979740963832,
          8.877536797576697,
          7.9204065479331405,
          8.223656681807944,
          9.09451753886686,
          null,
          8.359811631244847,
          7.640445236211956,
          7.652426977195473,
          8.91522272402178,
          7.3499443963270314,
          10.808306130171093,
          8.030084094267563,
          8.554211481014319,
          8.319310383958191,
          8.062993617587454,
          7.475588638570048,
          8.328692583545568,
          8.13966810029532,
          7.659407188914646,
          8.68270762989381,
          7.455813101655259,
          8.34151511773774,
          10.408006732421596,
          8.109224953089955,
          10.566527783149022,
          7.579678823090456,
          7.7061134640236695,
          5.334311726771412,
          9.022028106667383,
          8.46625141418666,
          9.353959214765462,
          8.628476930101574,
          8.201630028577002,
          8.25781865325978,
          7.883363425708696,
          8.963615964840958,
          null,
          8.039837804100666,
          9.2844677725126,
          7.762170607138205,
          8.403327722066454,
          null,
          8.047189562170502,
          8.1810377046245,
          8.312545040800684,
          8.013601340712125,
          8.248586684629753,
          7.7472124815901795,
          8.027874623934679,
          9.149056282758913,
          8.030878049834744,
          8.870709351646578,
          8.583334801919149,
          7.93467104458898,
          8.180942530245371,
          null,
          8.120621420096217,
          8.476371196895983,
          8.276450682940272,
          7.627705039706414,
          8.212508727346197,
          7.852050207265889,
          null,
          8.68176481269997,
          7.9294073265137985,
          8.378314958454869,
          8.642356922605364,
          8.395890719804283,
          8.67324606093302,
          7.697171270621676,
          8.155554519968625,
          null,
          8.929993994071086,
          7.925197280052897,
          8.522733813780706,
          8.524698952583787,
          8.04690472160728,
          8.160772500866658,
          8.022349178662546,
          8.609894516571252,
          7.457159101841143,
          5.944556360906547,
          8.691146498539675,
          8.02758422741087,
          8.591062420787456,
          9.14760182990389,
          8.673665174932173,
          7.873121848502885,
          7.351799869057777,
          7.01181795280748,
          8.02081930311793,
          7.7381002477166785,
          7.01301578963963,
          9.662477211482548,
          7.772613759446241,
          8.652695640232595,
          8.51496871911125,
          9.5352141775157,
          8.428458147948504,
          8.549917850825816,
          7.431169334908427,
          null,
          8.834434551546337,
          8.478543835007601,
          8.20946078099052,
          8.36435198718479,
          8.265794188130394,
          8.02059914989697,
          7.873217054862741,
          8.056322133006498,
          9.28435448258219,
          7.817222785508166,
          7.697725131317174,
          8.202482446576537,
          7.795876962459353,
          8.136810863675537,
          7.965816369794599,
          9.500910021361973,
          8.230992687566143,
          8.192600907877683,
          8.193093300695377,
          7.532446943653747,
          7.415175109613295,
          null,
          7.976176365486017,
          7.727535110475448,
          8.122866816642091,
          8.24395562628996,
          9.103707936660275,
          7.896883748031613,
          8.305785504653597,
          7.930486742870295,
          8.54073001438782,
          7.552352766457162,
          8.32128535772127,
          8.751385875620082,
          8.364275084991524,
          8.452210838466565,
          7.438448233833325,
          7.340621523438241,
          7.85683454335587,
          8.441031111025953,
          7.214011283016112,
          8.191770483289254,
          null,
          8.127699852817772,
          7.65496915449643,
          9.84689974057784,
          8.87530250615315,
          7.894940539712828,
          7.870421834277805,
          7.7627831854312515,
          8.301945882561332,
          7.616446029917879,
          7.931043985146687,
          8.126716198240455,
          7.50304704337003,
          8.08020335990924,
          9.166329966538413,
          7.640392367228495,
          8.293439453976333,
          null,
          7.937135381815615,
          9.558647301538489,
          8.938736352136958,
          8.424176180289649,
          8.576761255271833,
          8.300886217361017,
          7.746685369890786,
          8.308691916838898,
          7.88712596880755,
          7.876934432351879,
          11.012294036709443,
          9.08499141175922,
          null,
          8.47752885987887,
          7.606442087431358,
          null,
          8.284701078149629,
          7.680840546358432,
          7.718783268196308,
          8.322420844224121,
          7.99545490723982,
          7.712345439452267,
          7.6278169920829635,
          8.039408971727246,
          7.913155185928068,
          8.632940378360463,
          7.652336743990067,
          9.041882666334184,
          8.973913993205056,
          7.7841027967620535,
          8.558014545936288,
          7.631378316888181,
          8.06103250498952,
          8.9714065580539,
          8.213080878773134,
          7.934395262054295,
          8.436295451640246,
          8.411388132519262,
          8.376652145618811,
          8.38683162671752,
          7.899646868102324,
          8.7687811378432,
          8.673608733077957,
          7.7406644019172415,
          null,
          8.672295989263818,
          9.80624235178574,
          9.655424831719468,
          8.466834197276356,
          8.994213396816626,
          7.801935362126586,
          7.807282281429108,
          8.330943128135639,
          9.03466349035122,
          8.281189805745484,
          7.979708689893562,
          8.523153394067384,
          7.998819149892917,
          8.540671408390066,
          8.624552308538952,
          8.82635883053486,
          8.36362700740468,
          8.01935618253089,
          7.590513682585468,
          null,
          7.578257998057529,
          8.544960097908959,
          9.065674072880034,
          9.075678054382738,
          7.718538817775192,
          7.219070866793395,
          7.932401636690249,
          7.972810784121404,
          8.000611030537867,
          7.926281247914607,
          8.188472434301922,
          7.10158535795896,
          7.878155336503324,
          7.839261663462654,
          7.702506428204128,
          7.504270406448096,
          8.839582440940395,
          8.349380273457353,
          7.521621128614363,
          7.615628497244913,
          8.961023518641861,
          11.289781913656018,
          8.214676291690921,
          8.667604316387346,
          8.610763677011569,
          7.574270968541165,
          7.411290391436665,
          7.947441710449139,
          7.675805829568745,
          6.841732990940018,
          6.570728888846223,
          7.959510034745348,
          8.602576076465697,
          null,
          7.340978215801348,
          null,
          9.58968940485157,
          7.753576335144876,
          8.385032287813898,
          8.624352887577711,
          7.892948744947657,
          7.776396595785126,
          9.01278293639852,
          8.733647217666755,
          9.371693622333941,
          7.614696877564229,
          8.152549437828123,
          null,
          7.488355068944865,
          null,
          9.199942500991868,
          8.818581404117932,
          8.052156406949953,
          8.909370405197466,
          8.365414030646729,
          10.526662274827762,
          8.817248893782587,
          8.040733567008958,
          8.377112398213557,
          8.127469534002364,
          7.980478656446614,
          7.714775639442139,
          7.5816075033591135,
          7.471932078245122,
          8.170216778597835,
          7.592366128519796,
          8.832247697163385,
          8.186556296026279,
          8.287332128054496,
          8.079444532307873,
          8.288086898237658,
          8.973295645491485,
          7.401573086327128,
          8.857784077601183,
          7.859413154693583,
          8.481427144027503,
          8.267135687160978,
          8.632503839907411,
          7.847023983559796,
          9.704209442532141,
          null,
          8.300886217361017,
          8.006367567650246,
          7.613433615614836,
          8.392359860734851,
          7.714976402789672,
          8.53346016388011,
          9.68709180847617,
          8.688340885814156,
          7.826574810744942,
          9.706749170939107,
          null,
          8.27441309901277,
          7.930605407568946,
          7.4543958227665765,
          9.228474942171665,
          8.942417788635241,
          7.3740708657521,
          8.109158785487393,
          9.737675559793676,
          8.32810318022688,
          7.708262474867449,
          7.796604924670369,
          8.479767506235843,
          8.127239162127978,
          9.719444514843833,
          8.09145598582801,
          7.638198244285779,
          7.741872367684905,
          null,
          7.875161089364336,
          8.64864943240218,
          6.015132244408166,
          7.965969094543246,
          8.363393783219209,
          8.207039172202894,
          8.131727750014242,
          7.949797216161852,
          9.878152821331717,
          8.106614028794601,
          7.579055544112074,
          9.484244715924046,
          8.107786324775343,
          8.588687465119815,
          7.962725628598965,
          7.46227811985155,
          8.507367072848403,
          8.022677173338852,
          7.493083368507586,
          7.9129100040256555,
          8.335457862756988,
          8.050738457385744,
          7.633853559681768,
          7.7609869281431445,
          8.594009777674819,
          8.797045188683361,
          null,
          9.7043589452224,
          8.15174847663192,
          8.48421121679994,
          7.7906505379976725,
          8.767467745882396,
          6.052089168924417,
          8.29485431626331,
          8.096342327258942,
          9.278518511659295,
          9.787952114139598,
          7.696212639346407,
          8.562740006372207,
          8.107653794654667,
          7.913400307731051,
          8.62061222361415,
          8.25067752177827,
          7.529943370601589,
          8.128027522777353,
          7.540855171036695,
          7.913400307731051,
          7.756811592384204,
          7.035074918554365,
          7.660689083277361,
          8.458268748476257,
          7.815788007209299,
          null,
          null,
          7.9704329161442695,
          7.576210096951679,
          7.958461512541197,
          8.593372445555051,
          7.797155685062425,
          9.150248483232282,
          8.142354276849835,
          8.2091560190834,
          8.12415060330663,
          9.787926858149087,
          8.582398365291484,
          8.600307484629623,
          8.997435476282194,
          8.326920911220919,
          8.051519374987627,
          8.025624294335811,
          7.763446388727362,
          7.964541597092448,
          7.97257980260407,
          8.446270602078009,
          9.674207083806388,
          8.654416261406801,
          8.697734831764992,
          7.535451522279488,
          7.904416049566564,
          7.980516284059814,
          7.303021892113631,
          7.913806272863855,
          8.694596004332542,
          7.368970402194793,
          8.028129059431759,
          7.44457608126519,
          7.775460625718203,
          7.712166514966869,
          7.604949260187697,
          7.5860730452960805,
          8.409360734137744,
          7.796288305665239,
          7.896883748031613,
          8.545941956928734,
          9.053205744602293,
          8.029468670558234,
          9.641978622166112,
          8.168327674368987,
          8.676512206644876,
          7.9166470697587465,
          9.155144736508232,
          8.565348868627098,
          null,
          7.809314026095778,
          8.58437322069726,
          8.070349684023393,
          9.270703312498231,
          null,
          7.979147096048116,
          8.174953555273762,
          7.983440063006542,
          7.902036151917032,
          8.264564185170503,
          8.905067145118476,
          8.86270445268812,
          8.346063175054061
         ],
         "xaxis": "x",
         "yaxis": "y"
        }
       ],
       "layout": {
        "barmode": "relative",
        "legend": {
         "tracegroupgap": 0
        },
        "margin": {
         "t": 60
        },
        "template": {
         "data": {
          "bar": [
           {
            "error_x": {
             "color": "#2a3f5f"
            },
            "error_y": {
             "color": "#2a3f5f"
            },
            "marker": {
             "line": {
              "color": "#E5ECF6",
              "width": 0.5
             },
             "pattern": {
              "fillmode": "overlay",
              "size": 10,
              "solidity": 0.2
             }
            },
            "type": "bar"
           }
          ],
          "barpolar": [
           {
            "marker": {
             "line": {
              "color": "#E5ECF6",
              "width": 0.5
             },
             "pattern": {
              "fillmode": "overlay",
              "size": 10,
              "solidity": 0.2
             }
            },
            "type": "barpolar"
           }
          ],
          "carpet": [
           {
            "aaxis": {
             "endlinecolor": "#2a3f5f",
             "gridcolor": "white",
             "linecolor": "white",
             "minorgridcolor": "white",
             "startlinecolor": "#2a3f5f"
            },
            "baxis": {
             "endlinecolor": "#2a3f5f",
             "gridcolor": "white",
             "linecolor": "white",
             "minorgridcolor": "white",
             "startlinecolor": "#2a3f5f"
            },
            "type": "carpet"
           }
          ],
          "choropleth": [
           {
            "colorbar": {
             "outlinewidth": 0,
             "ticks": ""
            },
            "type": "choropleth"
           }
          ],
          "contour": [
           {
            "colorbar": {
             "outlinewidth": 0,
             "ticks": ""
            },
            "colorscale": [
             [
              0,
              "#0d0887"
             ],
             [
              0.1111111111111111,
              "#46039f"
             ],
             [
              0.2222222222222222,
              "#7201a8"
             ],
             [
              0.3333333333333333,
              "#9c179e"
             ],
             [
              0.4444444444444444,
              "#bd3786"
             ],
             [
              0.5555555555555556,
              "#d8576b"
             ],
             [
              0.6666666666666666,
              "#ed7953"
             ],
             [
              0.7777777777777778,
              "#fb9f3a"
             ],
             [
              0.8888888888888888,
              "#fdca26"
             ],
             [
              1,
              "#f0f921"
             ]
            ],
            "type": "contour"
           }
          ],
          "contourcarpet": [
           {
            "colorbar": {
             "outlinewidth": 0,
             "ticks": ""
            },
            "type": "contourcarpet"
           }
          ],
          "heatmap": [
           {
            "colorbar": {
             "outlinewidth": 0,
             "ticks": ""
            },
            "colorscale": [
             [
              0,
              "#0d0887"
             ],
             [
              0.1111111111111111,
              "#46039f"
             ],
             [
              0.2222222222222222,
              "#7201a8"
             ],
             [
              0.3333333333333333,
              "#9c179e"
             ],
             [
              0.4444444444444444,
              "#bd3786"
             ],
             [
              0.5555555555555556,
              "#d8576b"
             ],
             [
              0.6666666666666666,
              "#ed7953"
             ],
             [
              0.7777777777777778,
              "#fb9f3a"
             ],
             [
              0.8888888888888888,
              "#fdca26"
             ],
             [
              1,
              "#f0f921"
             ]
            ],
            "type": "heatmap"
           }
          ],
          "heatmapgl": [
           {
            "colorbar": {
             "outlinewidth": 0,
             "ticks": ""
            },
            "colorscale": [
             [
              0,
              "#0d0887"
             ],
             [
              0.1111111111111111,
              "#46039f"
             ],
             [
              0.2222222222222222,
              "#7201a8"
             ],
             [
              0.3333333333333333,
              "#9c179e"
             ],
             [
              0.4444444444444444,
              "#bd3786"
             ],
             [
              0.5555555555555556,
              "#d8576b"
             ],
             [
              0.6666666666666666,
              "#ed7953"
             ],
             [
              0.7777777777777778,
              "#fb9f3a"
             ],
             [
              0.8888888888888888,
              "#fdca26"
             ],
             [
              1,
              "#f0f921"
             ]
            ],
            "type": "heatmapgl"
           }
          ],
          "histogram": [
           {
            "marker": {
             "pattern": {
              "fillmode": "overlay",
              "size": 10,
              "solidity": 0.2
             }
            },
            "type": "histogram"
           }
          ],
          "histogram2d": [
           {
            "colorbar": {
             "outlinewidth": 0,
             "ticks": ""
            },
            "colorscale": [
             [
              0,
              "#0d0887"
             ],
             [
              0.1111111111111111,
              "#46039f"
             ],
             [
              0.2222222222222222,
              "#7201a8"
             ],
             [
              0.3333333333333333,
              "#9c179e"
             ],
             [
              0.4444444444444444,
              "#bd3786"
             ],
             [
              0.5555555555555556,
              "#d8576b"
             ],
             [
              0.6666666666666666,
              "#ed7953"
             ],
             [
              0.7777777777777778,
              "#fb9f3a"
             ],
             [
              0.8888888888888888,
              "#fdca26"
             ],
             [
              1,
              "#f0f921"
             ]
            ],
            "type": "histogram2d"
           }
          ],
          "histogram2dcontour": [
           {
            "colorbar": {
             "outlinewidth": 0,
             "ticks": ""
            },
            "colorscale": [
             [
              0,
              "#0d0887"
             ],
             [
              0.1111111111111111,
              "#46039f"
             ],
             [
              0.2222222222222222,
              "#7201a8"
             ],
             [
              0.3333333333333333,
              "#9c179e"
             ],
             [
              0.4444444444444444,
              "#bd3786"
             ],
             [
              0.5555555555555556,
              "#d8576b"
             ],
             [
              0.6666666666666666,
              "#ed7953"
             ],
             [
              0.7777777777777778,
              "#fb9f3a"
             ],
             [
              0.8888888888888888,
              "#fdca26"
             ],
             [
              1,
              "#f0f921"
             ]
            ],
            "type": "histogram2dcontour"
           }
          ],
          "mesh3d": [
           {
            "colorbar": {
             "outlinewidth": 0,
             "ticks": ""
            },
            "type": "mesh3d"
           }
          ],
          "parcoords": [
           {
            "line": {
             "colorbar": {
              "outlinewidth": 0,
              "ticks": ""
             }
            },
            "type": "parcoords"
           }
          ],
          "pie": [
           {
            "automargin": true,
            "type": "pie"
           }
          ],
          "scatter": [
           {
            "fillpattern": {
             "fillmode": "overlay",
             "size": 10,
             "solidity": 0.2
            },
            "type": "scatter"
           }
          ],
          "scatter3d": [
           {
            "line": {
             "colorbar": {
              "outlinewidth": 0,
              "ticks": ""
             }
            },
            "marker": {
             "colorbar": {
              "outlinewidth": 0,
              "ticks": ""
             }
            },
            "type": "scatter3d"
           }
          ],
          "scattercarpet": [
           {
            "marker": {
             "colorbar": {
              "outlinewidth": 0,
              "ticks": ""
             }
            },
            "type": "scattercarpet"
           }
          ],
          "scattergeo": [
           {
            "marker": {
             "colorbar": {
              "outlinewidth": 0,
              "ticks": ""
             }
            },
            "type": "scattergeo"
           }
          ],
          "scattergl": [
           {
            "marker": {
             "colorbar": {
              "outlinewidth": 0,
              "ticks": ""
             }
            },
            "type": "scattergl"
           }
          ],
          "scattermapbox": [
           {
            "marker": {
             "colorbar": {
              "outlinewidth": 0,
              "ticks": ""
             }
            },
            "type": "scattermapbox"
           }
          ],
          "scatterpolar": [
           {
            "marker": {
             "colorbar": {
              "outlinewidth": 0,
              "ticks": ""
             }
            },
            "type": "scatterpolar"
           }
          ],
          "scatterpolargl": [
           {
            "marker": {
             "colorbar": {
              "outlinewidth": 0,
              "ticks": ""
             }
            },
            "type": "scatterpolargl"
           }
          ],
          "scatterternary": [
           {
            "marker": {
             "colorbar": {
              "outlinewidth": 0,
              "ticks": ""
             }
            },
            "type": "scatterternary"
           }
          ],
          "surface": [
           {
            "colorbar": {
             "outlinewidth": 0,
             "ticks": ""
            },
            "colorscale": [
             [
              0,
              "#0d0887"
             ],
             [
              0.1111111111111111,
              "#46039f"
             ],
             [
              0.2222222222222222,
              "#7201a8"
             ],
             [
              0.3333333333333333,
              "#9c179e"
             ],
             [
              0.4444444444444444,
              "#bd3786"
             ],
             [
              0.5555555555555556,
              "#d8576b"
             ],
             [
              0.6666666666666666,
              "#ed7953"
             ],
             [
              0.7777777777777778,
              "#fb9f3a"
             ],
             [
              0.8888888888888888,
              "#fdca26"
             ],
             [
              1,
              "#f0f921"
             ]
            ],
            "type": "surface"
           }
          ],
          "table": [
           {
            "cells": {
             "fill": {
              "color": "#EBF0F8"
             },
             "line": {
              "color": "white"
             }
            },
            "header": {
             "fill": {
              "color": "#C8D4E3"
             },
             "line": {
              "color": "white"
             }
            },
            "type": "table"
           }
          ]
         },
         "layout": {
          "annotationdefaults": {
           "arrowcolor": "#2a3f5f",
           "arrowhead": 0,
           "arrowwidth": 1
          },
          "autotypenumbers": "strict",
          "coloraxis": {
           "colorbar": {
            "outlinewidth": 0,
            "ticks": ""
           }
          },
          "colorscale": {
           "diverging": [
            [
             0,
             "#8e0152"
            ],
            [
             0.1,
             "#c51b7d"
            ],
            [
             0.2,
             "#de77ae"
            ],
            [
             0.3,
             "#f1b6da"
            ],
            [
             0.4,
             "#fde0ef"
            ],
            [
             0.5,
             "#f7f7f7"
            ],
            [
             0.6,
             "#e6f5d0"
            ],
            [
             0.7,
             "#b8e186"
            ],
            [
             0.8,
             "#7fbc41"
            ],
            [
             0.9,
             "#4d9221"
            ],
            [
             1,
             "#276419"
            ]
           ],
           "sequential": [
            [
             0,
             "#0d0887"
            ],
            [
             0.1111111111111111,
             "#46039f"
            ],
            [
             0.2222222222222222,
             "#7201a8"
            ],
            [
             0.3333333333333333,
             "#9c179e"
            ],
            [
             0.4444444444444444,
             "#bd3786"
            ],
            [
             0.5555555555555556,
             "#d8576b"
            ],
            [
             0.6666666666666666,
             "#ed7953"
            ],
            [
             0.7777777777777778,
             "#fb9f3a"
            ],
            [
             0.8888888888888888,
             "#fdca26"
            ],
            [
             1,
             "#f0f921"
            ]
           ],
           "sequentialminus": [
            [
             0,
             "#0d0887"
            ],
            [
             0.1111111111111111,
             "#46039f"
            ],
            [
             0.2222222222222222,
             "#7201a8"
            ],
            [
             0.3333333333333333,
             "#9c179e"
            ],
            [
             0.4444444444444444,
             "#bd3786"
            ],
            [
             0.5555555555555556,
             "#d8576b"
            ],
            [
             0.6666666666666666,
             "#ed7953"
            ],
            [
             0.7777777777777778,
             "#fb9f3a"
            ],
            [
             0.8888888888888888,
             "#fdca26"
            ],
            [
             1,
             "#f0f921"
            ]
           ]
          },
          "colorway": [
           "#636efa",
           "#EF553B",
           "#00cc96",
           "#ab63fa",
           "#FFA15A",
           "#19d3f3",
           "#FF6692",
           "#B6E880",
           "#FF97FF",
           "#FECB52"
          ],
          "font": {
           "color": "#2a3f5f"
          },
          "geo": {
           "bgcolor": "white",
           "lakecolor": "white",
           "landcolor": "#E5ECF6",
           "showlakes": true,
           "showland": true,
           "subunitcolor": "white"
          },
          "hoverlabel": {
           "align": "left"
          },
          "hovermode": "closest",
          "mapbox": {
           "style": "light"
          },
          "paper_bgcolor": "white",
          "plot_bgcolor": "#E5ECF6",
          "polar": {
           "angularaxis": {
            "gridcolor": "white",
            "linecolor": "white",
            "ticks": ""
           },
           "bgcolor": "#E5ECF6",
           "radialaxis": {
            "gridcolor": "white",
            "linecolor": "white",
            "ticks": ""
           }
          },
          "scene": {
           "xaxis": {
            "backgroundcolor": "#E5ECF6",
            "gridcolor": "white",
            "gridwidth": 2,
            "linecolor": "white",
            "showbackground": true,
            "ticks": "",
            "zerolinecolor": "white"
           },
           "yaxis": {
            "backgroundcolor": "#E5ECF6",
            "gridcolor": "white",
            "gridwidth": 2,
            "linecolor": "white",
            "showbackground": true,
            "ticks": "",
            "zerolinecolor": "white"
           },
           "zaxis": {
            "backgroundcolor": "#E5ECF6",
            "gridcolor": "white",
            "gridwidth": 2,
            "linecolor": "white",
            "showbackground": true,
            "ticks": "",
            "zerolinecolor": "white"
           }
          },
          "shapedefaults": {
           "line": {
            "color": "#2a3f5f"
           }
          },
          "ternary": {
           "aaxis": {
            "gridcolor": "white",
            "linecolor": "white",
            "ticks": ""
           },
           "baxis": {
            "gridcolor": "white",
            "linecolor": "white",
            "ticks": ""
           },
           "bgcolor": "#E5ECF6",
           "caxis": {
            "gridcolor": "white",
            "linecolor": "white",
            "ticks": ""
           }
          },
          "title": {
           "x": 0.05
          },
          "xaxis": {
           "automargin": true,
           "gridcolor": "white",
           "linecolor": "white",
           "ticks": "",
           "title": {
            "standoff": 15
           },
           "zerolinecolor": "white",
           "zerolinewidth": 2
          },
          "yaxis": {
           "automargin": true,
           "gridcolor": "white",
           "linecolor": "white",
           "ticks": "",
           "title": {
            "standoff": 15
           },
           "zerolinecolor": "white",
           "zerolinewidth": 2
          }
         }
        },
        "xaxis": {
         "anchor": "y",
         "domain": [
          0,
          1
         ],
         "title": {
          "text": "log_Income_After_Loan"
         }
        },
        "yaxis": {
         "anchor": "x",
         "domain": [
          0,
          1
         ],
         "title": {
          "text": "count"
         }
        }
       }
      }
     },
     "metadata": {},
     "output_type": "display_data"
    }
   ],
   "source": [
    "px.histogram(df, x= \"log_Income_After_Loan\")"
   ]
  },
  {
   "cell_type": "code",
   "execution_count": 60,
   "id": "56a82415",
   "metadata": {},
   "outputs": [],
   "source": [
    "df['Income_to_LoanRatio'] = (df['Total_Income'] / df['LoanAmount'].replace(0, np.nan)).round(2)\n"
   ]
  },
  {
   "cell_type": "code",
   "execution_count": 61,
   "id": "2a334146",
   "metadata": {},
   "outputs": [
    {
     "data": {
      "text/plain": [
       "count    592.000000\n",
       "mean      51.225811\n",
       "std       37.916858\n",
       "min       12.090000\n",
       "25%       35.525000\n",
       "50%       41.425000\n",
       "75%       51.775000\n",
       "max      396.370000\n",
       "Name: Income_to_LoanRatio, dtype: float64"
      ]
     },
     "execution_count": 61,
     "metadata": {},
     "output_type": "execute_result"
    }
   ],
   "source": [
    "df['Income_to_LoanRatio'].describe()"
   ]
  },
  {
   "cell_type": "markdown",
   "id": "d1058d46",
   "metadata": {},
   "source": [
    "# Feature Importance"
   ]
  },
  {
   "cell_type": "markdown",
   "id": "9dd6e489",
   "metadata": {},
   "source": [
    "## Check Correlation"
   ]
  },
  {
   "cell_type": "code",
   "execution_count": 62,
   "id": "45dd2d32",
   "metadata": {},
   "outputs": [
    {
     "name": "stdout",
     "output_type": "stream",
     "text": [
      "Loan_Status              1.000000\n",
      "Credit_History           0.561678\n",
      "Income_to_LoanRatio      0.024229\n",
      "log_ApplicantIncome      0.010977\n",
      "log_Total_Income         0.007240\n",
      "Dependents               0.006781\n",
      "Income_After_Loan       -0.004473\n",
      "ApplicantIncome         -0.004710\n",
      "log_Income_After_Loan   -0.006132\n",
      "Loan_Monthly_Paid       -0.015394\n",
      "Loan_Amount_Term        -0.021268\n",
      "Total_Income            -0.031271\n",
      "log_Loan_Monthly_Paid   -0.031284\n",
      "LoanAmount              -0.037318\n",
      "log_LoanAmount          -0.039100\n",
      "CoapplicantIncome       -0.059187\n",
      "Name: Loan_Status, dtype: float64\n"
     ]
    }
   ],
   "source": [
    "df_corr = df.select_dtypes(include=\"number\")\n",
    "corr = df_corr.corr()['Loan_Status'].sort_values(ascending=False)\n",
    "print(corr)\n"
   ]
  },
  {
   "cell_type": "code",
   "execution_count": 63,
   "id": "4f9ca823",
   "metadata": {},
   "outputs": [
    {
     "data": {
      "text/plain": [
       "Index(['Dependents', 'ApplicantIncome', 'CoapplicantIncome', 'LoanAmount',\n",
       "       'Loan_Amount_Term', 'Credit_History', 'Loan_Status',\n",
       "       'log_ApplicantIncome', 'log_LoanAmount', 'Total_Income',\n",
       "       'log_Total_Income', 'Loan_Monthly_Paid', 'log_Loan_Monthly_Paid',\n",
       "       'Income_After_Loan', 'log_Income_After_Loan', 'Income_to_LoanRatio'],\n",
       "      dtype='object')"
      ]
     },
     "execution_count": 63,
     "metadata": {},
     "output_type": "execute_result"
    }
   ],
   "source": [
    "df.select_dtypes(include=\"number\").columns"
   ]
  },
  {
   "cell_type": "code",
   "execution_count": 64,
   "id": "de8c8643",
   "metadata": {},
   "outputs": [],
   "source": [
    "df_importance = df.copy()"
   ]
  },
  {
   "cell_type": "code",
   "execution_count": 65,
   "id": "cbb6f143",
   "metadata": {},
   "outputs": [],
   "source": [
    "df_importance.dropna(inplace= True)"
   ]
  },
  {
   "cell_type": "code",
   "execution_count": 66,
   "id": "3d81c606",
   "metadata": {},
   "outputs": [
    {
     "name": "stdout",
     "output_type": "stream",
     "text": [
      "Column Gender has 2 values\n",
      "Column Married has 2 values\n",
      "Column Education has 2 values\n",
      "Column Self_Employed has 2 values\n",
      "Column Property_Area has 3 values\n"
     ]
    }
   ],
   "source": [
    "df_Cat = df.select_dtypes(include=\"object\")\n",
    "\n",
    "for col in df_Cat.columns :\n",
    "    print(f\"Column {col} has {df_Cat[col].nunique()} values\")"
   ]
  },
  {
   "cell_type": "markdown",
   "id": "f775a236",
   "metadata": {},
   "source": [
    "###  encoding cat columns to do feature importance using ExtraTreesClassifier "
   ]
  },
  {
   "cell_type": "code",
   "execution_count": 67,
   "id": "fea54528",
   "metadata": {},
   "outputs": [],
   "source": [
    "from sklearn.preprocessing import LabelEncoder\n",
    "from sklearn.ensemble import ExtraTreesClassifier\n",
    "\n",
    "cat_cols = [\n",
    "    'Gender', 'Married', 'Education', \"Self_Employed\", \"Property_Area\"\n",
    "]\n",
    "\n",
    "num_cols = ['Dependents', 'ApplicantIncome', 'CoapplicantIncome', 'LoanAmount',\n",
    "       'Loan_Amount_Term', 'Credit_History', 'Loan_Status',\n",
    "       'log_ApplicantIncome', 'log_LoanAmount', 'Total_Income',\n",
    "       'log_Total_Income', 'Loan_Monthly_Paid', 'log_Loan_Monthly_Paid',\n",
    "       'Income_After_Loan', 'log_Income_After_Loan', 'Income_to_LoanRatio']\n",
    "\n",
    "df_encoded = df_importance.copy()\n",
    "for col in cat_cols:\n",
    "    le = LabelEncoder()\n",
    "    df_encoded[col] = le.fit_transform(df_encoded[col].astype(str))\n",
    "\n",
    "\n",
    "X = df_encoded[cat_cols + num_cols]\n",
    "y = df_encoded['Loan_Status']  "
   ]
  },
  {
   "cell_type": "markdown",
   "id": "2ff7d115",
   "metadata": {},
   "source": [
    "## 2-Model-Based Feature Importance (ExtraTreesClassifier)"
   ]
  },
  {
   "cell_type": "code",
   "execution_count": 68,
   "id": "d55f68c0",
   "metadata": {},
   "outputs": [
    {
     "data": {
      "text/plain": [
       "Loan_Status              0.749878\n",
       "Credit_History           0.140936\n",
       "Total_Income             0.007512\n",
       "CoapplicantIncome        0.007220\n",
       "Income_After_Loan        0.007055\n",
       "Property_Area            0.006850\n",
       "Married                  0.006777\n",
       "log_LoanAmount           0.006702\n",
       "log_Total_Income         0.006638\n",
       "LoanAmount               0.006623\n",
       "Loan_Monthly_Paid        0.006439\n",
       "log_Loan_Monthly_Paid    0.006135\n",
       "Loan_Amount_Term         0.005903\n",
       "log_Income_After_Loan    0.005721\n",
       "log_ApplicantIncome      0.005526\n",
       "Income_to_LoanRatio      0.005378\n",
       "ApplicantIncome          0.005309\n",
       "Gender                   0.003877\n",
       "Dependents               0.003737\n",
       "Education                0.002988\n",
       "Self_Employed            0.002795\n",
       "dtype: float64"
      ]
     },
     "execution_count": 68,
     "metadata": {},
     "output_type": "execute_result"
    }
   ],
   "source": [
    "# Fit ExtraTreesClassifier\n",
    "model = ExtraTreesClassifier(n_estimators=100, random_state=42)\n",
    "model.fit(X, y)\n",
    "\n",
    "#  Get feature importances\n",
    "importances = pd.Series(model.feature_importances_, index=X.columns)\n",
    "importances_sorted = importances.sort_values(ascending=False)\n",
    "\n",
    "#  Show top features\n",
    "importances_sorted"
   ]
  },
  {
   "cell_type": "code",
   "execution_count": 69,
   "id": "b24f90b5",
   "metadata": {},
   "outputs": [],
   "source": [
    "df.drop([\"Gender\", \"Dependents\", \"Education\", \"Self_Employed\"], inplace= True, axis= 1 )"
   ]
  },
  {
   "cell_type": "code",
   "execution_count": 70,
   "id": "5cb34d17-611a-40cf-a024-d36fdfde24a4",
   "metadata": {},
   "outputs": [
    {
     "data": {
      "text/plain": [
       "Index(['Married', 'ApplicantIncome', 'CoapplicantIncome', 'LoanAmount',\n",
       "       'Loan_Amount_Term', 'Credit_History', 'Property_Area', 'Loan_Status',\n",
       "       'log_ApplicantIncome', 'log_LoanAmount', 'Total_Income',\n",
       "       'log_Total_Income', 'Loan_Monthly_Paid', 'log_Loan_Monthly_Paid',\n",
       "       'Income_After_Loan', 'log_Income_After_Loan', 'Income_to_LoanRatio'],\n",
       "      dtype='object')"
      ]
     },
     "execution_count": 70,
     "metadata": {},
     "output_type": "execute_result"
    }
   ],
   "source": [
    "df.columns"
   ]
  },
  {
   "cell_type": "code",
   "execution_count": 71,
   "id": "160c4121",
   "metadata": {},
   "outputs": [],
   "source": [
    "df_streamlit= df.copy()"
   ]
  },
  {
   "cell_type": "markdown",
   "id": "37db9617",
   "metadata": {},
   "source": [
    "### Df for streamlit depoy"
   ]
  },
  {
   "cell_type": "code",
   "execution_count": 72,
   "id": "f32c82da",
   "metadata": {},
   "outputs": [],
   "source": [
    "df_streamlit.drop(['log_ApplicantIncome', 'log_LoanAmount', 'log_Loan_Monthly_Paid', 'log_Income_After_Loan', 'Income_After_Loan', \"log_Total_Income\"] , axis = 1 , inplace = True)\n"
   ]
  },
  {
   "cell_type": "code",
   "execution_count": 73,
   "id": "365e552c",
   "metadata": {},
   "outputs": [
    {
     "data": {
      "text/plain": [
       "Index(['Married', 'ApplicantIncome', 'CoapplicantIncome', 'LoanAmount',\n",
       "       'Loan_Amount_Term', 'Credit_History', 'Property_Area', 'Loan_Status',\n",
       "       'Total_Income', 'Loan_Monthly_Paid', 'Income_to_LoanRatio'],\n",
       "      dtype='object')"
      ]
     },
     "execution_count": 73,
     "metadata": {},
     "output_type": "execute_result"
    }
   ],
   "source": [
    "df_streamlit.columns"
   ]
  },
  {
   "cell_type": "markdown",
   "id": "4431586c",
   "metadata": {},
   "source": [
    "### Final Df for Modling"
   ]
  },
  {
   "cell_type": "code",
   "execution_count": 74,
   "id": "5d62de8b-6ada-45d0-a23b-f220c9e03162",
   "metadata": {},
   "outputs": [],
   "source": [
    "df.drop(['ApplicantIncome', 'CoapplicantIncome', 'Total_Income', 'Loan_Monthly_Paid', 'Income_After_Loan', \"LoanAmount\"] , axis = 1 , inplace = True)\n"
   ]
  },
  {
   "cell_type": "code",
   "execution_count": 75,
   "id": "792aea06",
   "metadata": {},
   "outputs": [
    {
     "data": {
      "text/plain": [
       "Index(['Married', 'Loan_Amount_Term', 'Credit_History', 'Property_Area',\n",
       "       'Loan_Status', 'log_ApplicantIncome', 'log_LoanAmount',\n",
       "       'log_Total_Income', 'log_Loan_Monthly_Paid', 'log_Income_After_Loan',\n",
       "       'Income_to_LoanRatio'],\n",
       "      dtype='object')"
      ]
     },
     "execution_count": 75,
     "metadata": {},
     "output_type": "execute_result"
    }
   ],
   "source": [
    "df.columns"
   ]
  },
  {
   "cell_type": "code",
   "execution_count": 76,
   "id": "c4c503c1",
   "metadata": {},
   "outputs": [
    {
     "data": {
      "text/plain": [
       "np.int64(1)"
      ]
     },
     "execution_count": 76,
     "metadata": {},
     "output_type": "execute_result"
    }
   ],
   "source": [
    "df.duplicated().sum()"
   ]
  },
  {
   "cell_type": "code",
   "execution_count": 77,
   "id": "96e5a87a",
   "metadata": {},
   "outputs": [],
   "source": [
    "df.drop_duplicates(inplace= True)\n",
    "df.reset_index(drop= True, inplace= True)"
   ]
  },
  {
   "cell_type": "markdown",
   "id": "e8d21b40",
   "metadata": {},
   "source": [
    "## Modling"
   ]
  },
  {
   "cell_type": "code",
   "execution_count": 78,
   "id": "caffa254-ebaa-4fb1-926b-4ea695735ecf",
   "metadata": {},
   "outputs": [],
   "source": [
    "from sklearn.compose import ColumnTransformer\n",
    "from sklearn.preprocessing import OneHotEncoder , StandardScaler , LabelEncoder , RobustScaler\n",
    "from sklearn.impute import SimpleImputer , KNNImputer\n",
    "from sklearn.pipeline import Pipeline\n",
    "from sklearn.linear_model import LogisticRegression\n",
    "from sklearn.neighbors import KNeighborsClassifier\n",
    "from sklearn.svm import SVC \n",
    "from sklearn.naive_bayes import MultinomialNB , GaussianNB\n",
    "from sklearn.model_selection import train_test_split , cross_validate\n",
    "from sklearn.metrics import accuracy_score , recall_score , precision_score , f1_score\n",
    "from sklearn.tree import DecisionTreeClassifier\n",
    "from sklearn.ensemble import RandomForestClassifier\n",
    "# from xgboost import XGBClassifier "
   ]
  },
  {
   "cell_type": "code",
   "execution_count": 79,
   "id": "ac480848",
   "metadata": {},
   "outputs": [
    {
     "data": {
      "text/plain": [
       "Married                   3\n",
       "Loan_Amount_Term         14\n",
       "Credit_History           50\n",
       "Property_Area             0\n",
       "Loan_Status               0\n",
       "log_ApplicantIncome       0\n",
       "log_LoanAmount           22\n",
       "log_Total_Income          0\n",
       "log_Loan_Monthly_Paid    36\n",
       "log_Income_After_Loan    41\n",
       "Income_to_LoanRatio      22\n",
       "dtype: int64"
      ]
     },
     "execution_count": 79,
     "metadata": {},
     "output_type": "execute_result"
    }
   ],
   "source": [
    "df.isna().sum()"
   ]
  },
  {
   "cell_type": "code",
   "execution_count": 80,
   "id": "732445a9",
   "metadata": {},
   "outputs": [
    {
     "name": "stdout",
     "output_type": "stream",
     "text": [
      "<class 'pandas.core.frame.DataFrame'>\n",
      "RangeIndex: 613 entries, 0 to 612\n",
      "Data columns (total 11 columns):\n",
      " #   Column                 Non-Null Count  Dtype  \n",
      "---  ------                 --------------  -----  \n",
      " 0   Married                610 non-null    object \n",
      " 1   Loan_Amount_Term       599 non-null    float64\n",
      " 2   Credit_History         563 non-null    float64\n",
      " 3   Property_Area          613 non-null    object \n",
      " 4   Loan_Status            613 non-null    int64  \n",
      " 5   log_ApplicantIncome    613 non-null    float64\n",
      " 6   log_LoanAmount         591 non-null    float64\n",
      " 7   log_Total_Income       613 non-null    float64\n",
      " 8   log_Loan_Monthly_Paid  577 non-null    float64\n",
      " 9   log_Income_After_Loan  572 non-null    float64\n",
      " 10  Income_to_LoanRatio    591 non-null    float64\n",
      "dtypes: float64(8), int64(1), object(2)\n",
      "memory usage: 52.8+ KB\n"
     ]
    }
   ],
   "source": [
    "df.info()"
   ]
  },
  {
   "cell_type": "code",
   "execution_count": 81,
   "id": "74528613",
   "metadata": {},
   "outputs": [
    {
     "data": {
      "text/plain": [
       "Index(['Married', 'Property_Area'], dtype='object')"
      ]
     },
     "execution_count": 81,
     "metadata": {},
     "output_type": "execute_result"
    }
   ],
   "source": [
    "df.select_dtypes(include=\"object\").columns"
   ]
  },
  {
   "cell_type": "code",
   "execution_count": 82,
   "id": "b51af498",
   "metadata": {},
   "outputs": [],
   "source": [
    "x = df.drop(\"Loan_Status\" , axis = 1 )\n",
    "y = df[\"Loan_Status\"]"
   ]
  },
  {
   "cell_type": "code",
   "execution_count": 83,
   "id": "824f033a-71f3-452a-9681-8be8a77ca533",
   "metadata": {},
   "outputs": [],
   "source": [
    "Num_Columns = x.select_dtypes(include=\"number\")\n",
    "Cat_Columns = x.select_dtypes(include = \"object_\")"
   ]
  },
  {
   "cell_type": "code",
   "execution_count": 84,
   "id": "faac7953-0087-4e78-b479-739b3b97d913",
   "metadata": {},
   "outputs": [],
   "source": [
    "Num_Steps = []\n",
    "Num_Steps.append((\"Num_Imputer\" , KNNImputer()))\n",
    "Num_Steps.append((\"Scaler\" , StandardScaler()))\n",
    "Num_Pipeline = Pipeline(steps=Num_Steps)"
   ]
  },
  {
   "cell_type": "code",
   "execution_count": 85,
   "id": "67160bdf-12be-43a0-9f1e-0f9b6d9361cd",
   "metadata": {},
   "outputs": [],
   "source": [
    "Cat_Steps = []\n",
    "Cat_Steps.append((\"Cat_Imputer\" , SimpleImputer(strategy=\"most_frequent\")))\n",
    "Cat_Steps.append(('Encoder' , OneHotEncoder(sparse_output=False, drop = \"first\")))\n",
    "Cat_Pipeline = Pipeline(steps=Cat_Steps)"
   ]
  },
  {
   "cell_type": "code",
   "execution_count": 86,
   "id": "7a488393-2362-460e-9f15-dc419fcbd802",
   "metadata": {},
   "outputs": [],
   "source": [
    "Transformer = ColumnTransformer(transformers=[(\"Num\" , Num_Pipeline ,Num_Columns.columns) , (\"Cat\" , Cat_Pipeline,Cat_Columns.columns)] , remainder=\"passthrough\")"
   ]
  },
  {
   "cell_type": "markdown",
   "id": "7d44610c",
   "metadata": {},
   "source": [
    "## for testing pipline work or not "
   ]
  },
  {
   "cell_type": "code",
   "execution_count": 87,
   "id": "a94a0509-7cbe-43c0-a352-e61e74fd3980",
   "metadata": {},
   "outputs": [],
   "source": [
    "steps = []\n",
    "steps.append((\"Preprocessing\" , Transformer))\n",
    "steps.append((\"Model\" , LogisticRegression()))\n",
    "pipeline = Pipeline(steps = steps)"
   ]
  },
  {
   "cell_type": "code",
   "execution_count": 88,
   "id": "4500ab09-49a0-4966-8885-9d68bd565c31",
   "metadata": {},
   "outputs": [],
   "source": [
    "res = cross_validate(pipeline,x,y,cv = 5 , scoring=\"accuracy\" ,return_train_score=True)"
   ]
  },
  {
   "cell_type": "code",
   "execution_count": 89,
   "id": "653fdae5-4b27-4d28-868d-c21a5d5743bb",
   "metadata": {},
   "outputs": [
    {
     "data": {
      "text/plain": [
       "np.float64(0.8042478906022694)"
      ]
     },
     "execution_count": 89,
     "metadata": {},
     "output_type": "execute_result"
    }
   ],
   "source": [
    "res[\"train_score\"].mean()\n"
   ]
  },
  {
   "cell_type": "code",
   "execution_count": 90,
   "id": "9b36339e-3576-43d5-837f-52f8dbc65011",
   "metadata": {},
   "outputs": [
    {
     "data": {
      "text/plain": [
       "np.float64(0.7978408636545382)"
      ]
     },
     "execution_count": 90,
     "metadata": {},
     "output_type": "execute_result"
    }
   ],
   "source": [
    "res[\"test_score\"].mean()"
   ]
  },
  {
   "cell_type": "code",
   "execution_count": 91,
   "id": "9cb56287-4d3c-48b3-b022-fd0b82dba82b",
   "metadata": {},
   "outputs": [],
   "source": [
    "models = list()\n",
    "models.append((\"LR\" , LogisticRegression()))\n",
    "#models.append((\"MNBA\" , MultinomialNB()))\n",
    "models.append((\"GNB\" , GaussianNB()))\n",
    "models.append((\"SVM\" , SVC(gamma= .09)))\n",
    "models.append((\"CART\" , DecisionTreeClassifier()))\n",
    "models.append((\"RF\" , RandomForestClassifier()))\n",
    "# models.append((\"XG\" , XGBClassifier()))\n",
    "models.append((\"KNN\" , KNeighborsClassifier()))"
   ]
  },
  {
   "cell_type": "code",
   "execution_count": 92,
   "id": "45b07648",
   "metadata": {},
   "outputs": [
    {
     "data": {
      "text/plain": [
       "Loan_Status\n",
       "1    422\n",
       "0    191\n",
       "Name: count, dtype: int64"
      ]
     },
     "execution_count": 92,
     "metadata": {},
     "output_type": "execute_result"
    }
   ],
   "source": [
    "y.value_counts()"
   ]
  },
  {
   "cell_type": "markdown",
   "id": "1b419257",
   "metadata": {},
   "source": [
    "## Now try all models and take the best one "
   ]
  },
  {
   "cell_type": "code",
   "execution_count": 93,
   "id": "b56d4d9d-4a03-4342-b0fb-f47c6a4167d1",
   "metadata": {},
   "outputs": [
    {
     "name": "stdout",
     "output_type": "stream",
     "text": [
      "LR\n",
      "Train Accuracy: 0.8026094185128226\n",
      "Test Accuracy: 0.7927895508463282\n",
      "Train Recall: 0.9336751640800827\n",
      "Test Recall: 0.933492350136612\n",
      "----------------------------------------\n",
      "\n",
      "\n",
      "GNB\n",
      "Train Accuracy: 0.7964944511409451\n",
      "Test Accuracy: 0.791176862588298\n",
      "Train Recall: 0.9478954467506637\n",
      "Test Recall: 0.9505029504765055\n",
      "----------------------------------------\n",
      "\n",
      "\n",
      "SVM\n",
      "Train Accuracy: 0.8319763913712125\n",
      "Test Accuracy: 0.8026122884179661\n",
      "Train Recall: 0.9758106951510944\n",
      "Test Recall: 0.9642076173884095\n",
      "----------------------------------------\n",
      "\n",
      "\n",
      "CART\n",
      "Train Accuracy: 0.9600315890103495\n",
      "Test Accuracy: 0.7405837664934026\n",
      "Train Recall: 0.9774559270263119\n",
      "Test Recall: 0.8193282062744759\n",
      "----------------------------------------\n",
      "\n",
      "\n",
      "RF\n",
      "Train Accuracy: 0.9612560788062678\n",
      "Test Accuracy: 0.7879248300679728\n",
      "Train Recall: 0.9851196358502389\n",
      "Test Recall: 0.8973910395052501\n",
      "----------------------------------------\n",
      "\n",
      "\n",
      "KNN\n",
      "Train Accuracy: 0.8303404131510037\n",
      "Test Accuracy: 0.7552179128348661\n",
      "Train Recall: 0.8786682185375332\n",
      "Test Recall: 0.8552103128196895\n",
      "----------------------------------------\n",
      "\n",
      "\n"
     ]
    }
   ],
   "source": [
    "from imblearn.pipeline import Pipeline\n",
    "from imblearn.combine import SMOTETomek\n",
    "from imblearn.over_sampling import SMOTE\n",
    "from sklearn.model_selection import cross_validate\n",
    "from sklearn.model_selection import GridSearchCV, KFold, cross_validate\n",
    "from sklearn.metrics import make_scorer, recall_score, accuracy_score, precision_score, f1_score\n",
    "\n",
    "\n",
    "scoring = {\n",
    "    'accuracy': make_scorer(accuracy_score),\n",
    "    'recall': make_scorer(recall_score),\n",
    "}\n",
    "\n",
    "for model in models:\n",
    "    steps = []\n",
    "    steps.append((\"Preprocessing\", Transformer))\n",
    "    steps.append((\"SmoteTomek\", SMOTETomek(smote=SMOTE(sampling_strategy={0: 250}, random_state=24))))\n",
    "    steps.append(model)  \n",
    "    \n",
    "    pipeline = Pipeline(steps=steps)\n",
    "    \n",
    "    kf = KFold(n_splits=5, shuffle=True, random_state=24)\n",
    "    scores = cross_validate(pipeline, x, y, scoring=scoring, cv=kf, return_train_score=True)\n",
    "    print(model[0])\n",
    "    print(\"Train Accuracy:\", scores[\"train_accuracy\"].mean())\n",
    "    print(\"Test Accuracy:\", scores[\"test_accuracy\"].mean())\n",
    "    print(\"Train Recall:\", scores[\"train_recall\"].mean())\n",
    "    print(\"Test Recall:\", scores[\"test_recall\"].mean())\n",
    "    print(\"-\" * 40)\n",
    "    print(\"\\n\")\n"
   ]
  },
  {
   "cell_type": "markdown",
   "id": "f777d6bd",
   "metadata": {},
   "source": [
    "## Choosing Svm as best one "
   ]
  },
  {
   "cell_type": "markdown",
   "id": "66193b69",
   "metadata": {},
   "source": [
    "### Tuning was not done because the dataset was small, and earlier tries at tuning gave bad results most of the time."
   ]
  },
  {
   "cell_type": "code",
   "execution_count": 94,
   "id": "4da4f4d2-21d2-4c72-b372-816c52741739",
   "metadata": {},
   "outputs": [],
   "source": [
    "# Final Pipline with SVS model\n",
    "steps = list()\n",
    "steps.append((\"Preprocessing\" , Transformer))\n",
    "steps.append((\"SmoteTomek\", SMOTETomek(smote=SMOTE(sampling_strategy={0: 250}, random_state=24))))\n",
    "steps.append((\"SVC\" , SVC()))\n",
    "Final_pipeline = Pipeline(steps = steps)\n"
   ]
  },
  {
   "cell_type": "code",
   "execution_count": 95,
   "id": "cf66be56-1807-44f3-93dd-98d698619a74",
   "metadata": {},
   "outputs": [],
   "source": [
    "Final_model = Final_pipeline.fit(x,y)"
   ]
  },
  {
   "cell_type": "code",
   "execution_count": 96,
   "id": "927cf704-01a7-41cc-aaf1-b7f93becb04c",
   "metadata": {},
   "outputs": [
    {
     "data": {
      "text/html": [
       "<style>#sk-container-id-1 {\n",
       "  /* Definition of color scheme common for light and dark mode */\n",
       "  --sklearn-color-text: black;\n",
       "  --sklearn-color-line: gray;\n",
       "  /* Definition of color scheme for unfitted estimators */\n",
       "  --sklearn-color-unfitted-level-0: #fff5e6;\n",
       "  --sklearn-color-unfitted-level-1: #f6e4d2;\n",
       "  --sklearn-color-unfitted-level-2: #ffe0b3;\n",
       "  --sklearn-color-unfitted-level-3: chocolate;\n",
       "  /* Definition of color scheme for fitted estimators */\n",
       "  --sklearn-color-fitted-level-0: #f0f8ff;\n",
       "  --sklearn-color-fitted-level-1: #d4ebff;\n",
       "  --sklearn-color-fitted-level-2: #b3dbfd;\n",
       "  --sklearn-color-fitted-level-3: cornflowerblue;\n",
       "\n",
       "  /* Specific color for light theme */\n",
       "  --sklearn-color-text-on-default-background: var(--sg-text-color, var(--theme-code-foreground, var(--jp-content-font-color1, black)));\n",
       "  --sklearn-color-background: var(--sg-background-color, var(--theme-background, var(--jp-layout-color0, white)));\n",
       "  --sklearn-color-border-box: var(--sg-text-color, var(--theme-code-foreground, var(--jp-content-font-color1, black)));\n",
       "  --sklearn-color-icon: #696969;\n",
       "\n",
       "  @media (prefers-color-scheme: dark) {\n",
       "    /* Redefinition of color scheme for dark theme */\n",
       "    --sklearn-color-text-on-default-background: var(--sg-text-color, var(--theme-code-foreground, var(--jp-content-font-color1, white)));\n",
       "    --sklearn-color-background: var(--sg-background-color, var(--theme-background, var(--jp-layout-color0, #111)));\n",
       "    --sklearn-color-border-box: var(--sg-text-color, var(--theme-code-foreground, var(--jp-content-font-color1, white)));\n",
       "    --sklearn-color-icon: #878787;\n",
       "  }\n",
       "}\n",
       "\n",
       "#sk-container-id-1 {\n",
       "  color: var(--sklearn-color-text);\n",
       "}\n",
       "\n",
       "#sk-container-id-1 pre {\n",
       "  padding: 0;\n",
       "}\n",
       "\n",
       "#sk-container-id-1 input.sk-hidden--visually {\n",
       "  border: 0;\n",
       "  clip: rect(1px 1px 1px 1px);\n",
       "  clip: rect(1px, 1px, 1px, 1px);\n",
       "  height: 1px;\n",
       "  margin: -1px;\n",
       "  overflow: hidden;\n",
       "  padding: 0;\n",
       "  position: absolute;\n",
       "  width: 1px;\n",
       "}\n",
       "\n",
       "#sk-container-id-1 div.sk-dashed-wrapped {\n",
       "  border: 1px dashed var(--sklearn-color-line);\n",
       "  margin: 0 0.4em 0.5em 0.4em;\n",
       "  box-sizing: border-box;\n",
       "  padding-bottom: 0.4em;\n",
       "  background-color: var(--sklearn-color-background);\n",
       "}\n",
       "\n",
       "#sk-container-id-1 div.sk-container {\n",
       "  /* jupyter's `normalize.less` sets `[hidden] { display: none; }`\n",
       "     but bootstrap.min.css set `[hidden] { display: none !important; }`\n",
       "     so we also need the `!important` here to be able to override the\n",
       "     default hidden behavior on the sphinx rendered scikit-learn.org.\n",
       "     See: https://github.com/scikit-learn/scikit-learn/issues/21755 */\n",
       "  display: inline-block !important;\n",
       "  position: relative;\n",
       "}\n",
       "\n",
       "#sk-container-id-1 div.sk-text-repr-fallback {\n",
       "  display: none;\n",
       "}\n",
       "\n",
       "div.sk-parallel-item,\n",
       "div.sk-serial,\n",
       "div.sk-item {\n",
       "  /* draw centered vertical line to link estimators */\n",
       "  background-image: linear-gradient(var(--sklearn-color-text-on-default-background), var(--sklearn-color-text-on-default-background));\n",
       "  background-size: 2px 100%;\n",
       "  background-repeat: no-repeat;\n",
       "  background-position: center center;\n",
       "}\n",
       "\n",
       "/* Parallel-specific style estimator block */\n",
       "\n",
       "#sk-container-id-1 div.sk-parallel-item::after {\n",
       "  content: \"\";\n",
       "  width: 100%;\n",
       "  border-bottom: 2px solid var(--sklearn-color-text-on-default-background);\n",
       "  flex-grow: 1;\n",
       "}\n",
       "\n",
       "#sk-container-id-1 div.sk-parallel {\n",
       "  display: flex;\n",
       "  align-items: stretch;\n",
       "  justify-content: center;\n",
       "  background-color: var(--sklearn-color-background);\n",
       "  position: relative;\n",
       "}\n",
       "\n",
       "#sk-container-id-1 div.sk-parallel-item {\n",
       "  display: flex;\n",
       "  flex-direction: column;\n",
       "}\n",
       "\n",
       "#sk-container-id-1 div.sk-parallel-item:first-child::after {\n",
       "  align-self: flex-end;\n",
       "  width: 50%;\n",
       "}\n",
       "\n",
       "#sk-container-id-1 div.sk-parallel-item:last-child::after {\n",
       "  align-self: flex-start;\n",
       "  width: 50%;\n",
       "}\n",
       "\n",
       "#sk-container-id-1 div.sk-parallel-item:only-child::after {\n",
       "  width: 0;\n",
       "}\n",
       "\n",
       "/* Serial-specific style estimator block */\n",
       "\n",
       "#sk-container-id-1 div.sk-serial {\n",
       "  display: flex;\n",
       "  flex-direction: column;\n",
       "  align-items: center;\n",
       "  background-color: var(--sklearn-color-background);\n",
       "  padding-right: 1em;\n",
       "  padding-left: 1em;\n",
       "}\n",
       "\n",
       "\n",
       "/* Toggleable style: style used for estimator/Pipeline/ColumnTransformer box that is\n",
       "clickable and can be expanded/collapsed.\n",
       "- Pipeline and ColumnTransformer use this feature and define the default style\n",
       "- Estimators will overwrite some part of the style using the `sk-estimator` class\n",
       "*/\n",
       "\n",
       "/* Pipeline and ColumnTransformer style (default) */\n",
       "\n",
       "#sk-container-id-1 div.sk-toggleable {\n",
       "  /* Default theme specific background. It is overwritten whether we have a\n",
       "  specific estimator or a Pipeline/ColumnTransformer */\n",
       "  background-color: var(--sklearn-color-background);\n",
       "}\n",
       "\n",
       "/* Toggleable label */\n",
       "#sk-container-id-1 label.sk-toggleable__label {\n",
       "  cursor: pointer;\n",
       "  display: block;\n",
       "  width: 100%;\n",
       "  margin-bottom: 0;\n",
       "  padding: 0.5em;\n",
       "  box-sizing: border-box;\n",
       "  text-align: center;\n",
       "}\n",
       "\n",
       "#sk-container-id-1 label.sk-toggleable__label-arrow:before {\n",
       "  /* Arrow on the left of the label */\n",
       "  content: \"▸\";\n",
       "  float: left;\n",
       "  margin-right: 0.25em;\n",
       "  color: var(--sklearn-color-icon);\n",
       "}\n",
       "\n",
       "#sk-container-id-1 label.sk-toggleable__label-arrow:hover:before {\n",
       "  color: var(--sklearn-color-text);\n",
       "}\n",
       "\n",
       "/* Toggleable content - dropdown */\n",
       "\n",
       "#sk-container-id-1 div.sk-toggleable__content {\n",
       "  max-height: 0;\n",
       "  max-width: 0;\n",
       "  overflow: hidden;\n",
       "  text-align: left;\n",
       "  /* unfitted */\n",
       "  background-color: var(--sklearn-color-unfitted-level-0);\n",
       "}\n",
       "\n",
       "#sk-container-id-1 div.sk-toggleable__content.fitted {\n",
       "  /* fitted */\n",
       "  background-color: var(--sklearn-color-fitted-level-0);\n",
       "}\n",
       "\n",
       "#sk-container-id-1 div.sk-toggleable__content pre {\n",
       "  margin: 0.2em;\n",
       "  border-radius: 0.25em;\n",
       "  color: var(--sklearn-color-text);\n",
       "  /* unfitted */\n",
       "  background-color: var(--sklearn-color-unfitted-level-0);\n",
       "}\n",
       "\n",
       "#sk-container-id-1 div.sk-toggleable__content.fitted pre {\n",
       "  /* unfitted */\n",
       "  background-color: var(--sklearn-color-fitted-level-0);\n",
       "}\n",
       "\n",
       "#sk-container-id-1 input.sk-toggleable__control:checked~div.sk-toggleable__content {\n",
       "  /* Expand drop-down */\n",
       "  max-height: 200px;\n",
       "  max-width: 100%;\n",
       "  overflow: auto;\n",
       "}\n",
       "\n",
       "#sk-container-id-1 input.sk-toggleable__control:checked~label.sk-toggleable__label-arrow:before {\n",
       "  content: \"▾\";\n",
       "}\n",
       "\n",
       "/* Pipeline/ColumnTransformer-specific style */\n",
       "\n",
       "#sk-container-id-1 div.sk-label input.sk-toggleable__control:checked~label.sk-toggleable__label {\n",
       "  color: var(--sklearn-color-text);\n",
       "  background-color: var(--sklearn-color-unfitted-level-2);\n",
       "}\n",
       "\n",
       "#sk-container-id-1 div.sk-label.fitted input.sk-toggleable__control:checked~label.sk-toggleable__label {\n",
       "  background-color: var(--sklearn-color-fitted-level-2);\n",
       "}\n",
       "\n",
       "/* Estimator-specific style */\n",
       "\n",
       "/* Colorize estimator box */\n",
       "#sk-container-id-1 div.sk-estimator input.sk-toggleable__control:checked~label.sk-toggleable__label {\n",
       "  /* unfitted */\n",
       "  background-color: var(--sklearn-color-unfitted-level-2);\n",
       "}\n",
       "\n",
       "#sk-container-id-1 div.sk-estimator.fitted input.sk-toggleable__control:checked~label.sk-toggleable__label {\n",
       "  /* fitted */\n",
       "  background-color: var(--sklearn-color-fitted-level-2);\n",
       "}\n",
       "\n",
       "#sk-container-id-1 div.sk-label label.sk-toggleable__label,\n",
       "#sk-container-id-1 div.sk-label label {\n",
       "  /* The background is the default theme color */\n",
       "  color: var(--sklearn-color-text-on-default-background);\n",
       "}\n",
       "\n",
       "/* On hover, darken the color of the background */\n",
       "#sk-container-id-1 div.sk-label:hover label.sk-toggleable__label {\n",
       "  color: var(--sklearn-color-text);\n",
       "  background-color: var(--sklearn-color-unfitted-level-2);\n",
       "}\n",
       "\n",
       "/* Label box, darken color on hover, fitted */\n",
       "#sk-container-id-1 div.sk-label.fitted:hover label.sk-toggleable__label.fitted {\n",
       "  color: var(--sklearn-color-text);\n",
       "  background-color: var(--sklearn-color-fitted-level-2);\n",
       "}\n",
       "\n",
       "/* Estimator label */\n",
       "\n",
       "#sk-container-id-1 div.sk-label label {\n",
       "  font-family: monospace;\n",
       "  font-weight: bold;\n",
       "  display: inline-block;\n",
       "  line-height: 1.2em;\n",
       "}\n",
       "\n",
       "#sk-container-id-1 div.sk-label-container {\n",
       "  text-align: center;\n",
       "}\n",
       "\n",
       "/* Estimator-specific */\n",
       "#sk-container-id-1 div.sk-estimator {\n",
       "  font-family: monospace;\n",
       "  border: 1px dotted var(--sklearn-color-border-box);\n",
       "  border-radius: 0.25em;\n",
       "  box-sizing: border-box;\n",
       "  margin-bottom: 0.5em;\n",
       "  /* unfitted */\n",
       "  background-color: var(--sklearn-color-unfitted-level-0);\n",
       "}\n",
       "\n",
       "#sk-container-id-1 div.sk-estimator.fitted {\n",
       "  /* fitted */\n",
       "  background-color: var(--sklearn-color-fitted-level-0);\n",
       "}\n",
       "\n",
       "/* on hover */\n",
       "#sk-container-id-1 div.sk-estimator:hover {\n",
       "  /* unfitted */\n",
       "  background-color: var(--sklearn-color-unfitted-level-2);\n",
       "}\n",
       "\n",
       "#sk-container-id-1 div.sk-estimator.fitted:hover {\n",
       "  /* fitted */\n",
       "  background-color: var(--sklearn-color-fitted-level-2);\n",
       "}\n",
       "\n",
       "/* Specification for estimator info (e.g. \"i\" and \"?\") */\n",
       "\n",
       "/* Common style for \"i\" and \"?\" */\n",
       "\n",
       ".sk-estimator-doc-link,\n",
       "a:link.sk-estimator-doc-link,\n",
       "a:visited.sk-estimator-doc-link {\n",
       "  float: right;\n",
       "  font-size: smaller;\n",
       "  line-height: 1em;\n",
       "  font-family: monospace;\n",
       "  background-color: var(--sklearn-color-background);\n",
       "  border-radius: 1em;\n",
       "  height: 1em;\n",
       "  width: 1em;\n",
       "  text-decoration: none !important;\n",
       "  margin-left: 1ex;\n",
       "  /* unfitted */\n",
       "  border: var(--sklearn-color-unfitted-level-1) 1pt solid;\n",
       "  color: var(--sklearn-color-unfitted-level-1);\n",
       "}\n",
       "\n",
       ".sk-estimator-doc-link.fitted,\n",
       "a:link.sk-estimator-doc-link.fitted,\n",
       "a:visited.sk-estimator-doc-link.fitted {\n",
       "  /* fitted */\n",
       "  border: var(--sklearn-color-fitted-level-1) 1pt solid;\n",
       "  color: var(--sklearn-color-fitted-level-1);\n",
       "}\n",
       "\n",
       "/* On hover */\n",
       "div.sk-estimator:hover .sk-estimator-doc-link:hover,\n",
       ".sk-estimator-doc-link:hover,\n",
       "div.sk-label-container:hover .sk-estimator-doc-link:hover,\n",
       ".sk-estimator-doc-link:hover {\n",
       "  /* unfitted */\n",
       "  background-color: var(--sklearn-color-unfitted-level-3);\n",
       "  color: var(--sklearn-color-background);\n",
       "  text-decoration: none;\n",
       "}\n",
       "\n",
       "div.sk-estimator.fitted:hover .sk-estimator-doc-link.fitted:hover,\n",
       ".sk-estimator-doc-link.fitted:hover,\n",
       "div.sk-label-container:hover .sk-estimator-doc-link.fitted:hover,\n",
       ".sk-estimator-doc-link.fitted:hover {\n",
       "  /* fitted */\n",
       "  background-color: var(--sklearn-color-fitted-level-3);\n",
       "  color: var(--sklearn-color-background);\n",
       "  text-decoration: none;\n",
       "}\n",
       "\n",
       "/* Span, style for the box shown on hovering the info icon */\n",
       ".sk-estimator-doc-link span {\n",
       "  display: none;\n",
       "  z-index: 9999;\n",
       "  position: relative;\n",
       "  font-weight: normal;\n",
       "  right: .2ex;\n",
       "  padding: .5ex;\n",
       "  margin: .5ex;\n",
       "  width: min-content;\n",
       "  min-width: 20ex;\n",
       "  max-width: 50ex;\n",
       "  color: var(--sklearn-color-text);\n",
       "  box-shadow: 2pt 2pt 4pt #999;\n",
       "  /* unfitted */\n",
       "  background: var(--sklearn-color-unfitted-level-0);\n",
       "  border: .5pt solid var(--sklearn-color-unfitted-level-3);\n",
       "}\n",
       "\n",
       ".sk-estimator-doc-link.fitted span {\n",
       "  /* fitted */\n",
       "  background: var(--sklearn-color-fitted-level-0);\n",
       "  border: var(--sklearn-color-fitted-level-3);\n",
       "}\n",
       "\n",
       ".sk-estimator-doc-link:hover span {\n",
       "  display: block;\n",
       "}\n",
       "\n",
       "/* \"?\"-specific style due to the `<a>` HTML tag */\n",
       "\n",
       "#sk-container-id-1 a.estimator_doc_link {\n",
       "  float: right;\n",
       "  font-size: 1rem;\n",
       "  line-height: 1em;\n",
       "  font-family: monospace;\n",
       "  background-color: var(--sklearn-color-background);\n",
       "  border-radius: 1rem;\n",
       "  height: 1rem;\n",
       "  width: 1rem;\n",
       "  text-decoration: none;\n",
       "  /* unfitted */\n",
       "  color: var(--sklearn-color-unfitted-level-1);\n",
       "  border: var(--sklearn-color-unfitted-level-1) 1pt solid;\n",
       "}\n",
       "\n",
       "#sk-container-id-1 a.estimator_doc_link.fitted {\n",
       "  /* fitted */\n",
       "  border: var(--sklearn-color-fitted-level-1) 1pt solid;\n",
       "  color: var(--sklearn-color-fitted-level-1);\n",
       "}\n",
       "\n",
       "/* On hover */\n",
       "#sk-container-id-1 a.estimator_doc_link:hover {\n",
       "  /* unfitted */\n",
       "  background-color: var(--sklearn-color-unfitted-level-3);\n",
       "  color: var(--sklearn-color-background);\n",
       "  text-decoration: none;\n",
       "}\n",
       "\n",
       "#sk-container-id-1 a.estimator_doc_link.fitted:hover {\n",
       "  /* fitted */\n",
       "  background-color: var(--sklearn-color-fitted-level-3);\n",
       "}\n",
       "</style><div id=\"sk-container-id-1\" class=\"sk-top-container\"><div class=\"sk-text-repr-fallback\"><pre>Pipeline(steps=[(&#x27;Preprocessing&#x27;,\n",
       "                 ColumnTransformer(remainder=&#x27;passthrough&#x27;,\n",
       "                                   transformers=[(&#x27;Num&#x27;,\n",
       "                                                  Pipeline(steps=[(&#x27;Num_Imputer&#x27;,\n",
       "                                                                   KNNImputer()),\n",
       "                                                                  (&#x27;Scaler&#x27;,\n",
       "                                                                   StandardScaler())]),\n",
       "                                                  Index([&#x27;Loan_Amount_Term&#x27;, &#x27;Credit_History&#x27;, &#x27;log_ApplicantIncome&#x27;,\n",
       "       &#x27;log_LoanAmount&#x27;, &#x27;log_Total_Income&#x27;, &#x27;log_Loan_Monthly_Paid&#x27;,\n",
       "       &#x27;log_Income_After_Loan&#x27;, &#x27;Income_to_LoanRatio&#x27;],\n",
       "      dtype=&#x27;object&#x27;)),\n",
       "                                                 (&#x27;Cat&#x27;,\n",
       "                                                  Pipeline(steps=[(&#x27;Cat_Imputer&#x27;,\n",
       "                                                                   SimpleImputer(strategy=&#x27;most_frequent&#x27;)),\n",
       "                                                                  (&#x27;Encoder&#x27;,\n",
       "                                                                   OneHotEncoder(drop=&#x27;first&#x27;,\n",
       "                                                                                 sparse_output=False))]),\n",
       "                                                  Index([&#x27;Married&#x27;, &#x27;Property_Area&#x27;], dtype=&#x27;object&#x27;))])),\n",
       "                (&#x27;SmoteTomek&#x27;,\n",
       "                 SMOTETomek(smote=SMOTE(random_state=24,\n",
       "                                        sampling_strategy={0: 250}))),\n",
       "                (&#x27;SVC&#x27;, SVC())])</pre><b>In a Jupyter environment, please rerun this cell to show the HTML representation or trust the notebook. <br />On GitHub, the HTML representation is unable to render, please try loading this page with nbviewer.org.</b></div><div class=\"sk-container\" hidden><div class=\"sk-item sk-dashed-wrapped\"><div class=\"sk-label-container\"><div class=\"sk-label fitted sk-toggleable\"><input class=\"sk-toggleable__control sk-hidden--visually\" id=\"sk-estimator-id-1\" type=\"checkbox\" ><label for=\"sk-estimator-id-1\" class=\"sk-toggleable__label fitted sk-toggleable__label-arrow fitted\">&nbsp;Pipeline<span class=\"sk-estimator-doc-link fitted\">i<span>Fitted</span></span></label><div class=\"sk-toggleable__content fitted\"><pre>Pipeline(steps=[(&#x27;Preprocessing&#x27;,\n",
       "                 ColumnTransformer(remainder=&#x27;passthrough&#x27;,\n",
       "                                   transformers=[(&#x27;Num&#x27;,\n",
       "                                                  Pipeline(steps=[(&#x27;Num_Imputer&#x27;,\n",
       "                                                                   KNNImputer()),\n",
       "                                                                  (&#x27;Scaler&#x27;,\n",
       "                                                                   StandardScaler())]),\n",
       "                                                  Index([&#x27;Loan_Amount_Term&#x27;, &#x27;Credit_History&#x27;, &#x27;log_ApplicantIncome&#x27;,\n",
       "       &#x27;log_LoanAmount&#x27;, &#x27;log_Total_Income&#x27;, &#x27;log_Loan_Monthly_Paid&#x27;,\n",
       "       &#x27;log_Income_After_Loan&#x27;, &#x27;Income_to_LoanRatio&#x27;],\n",
       "      dtype=&#x27;object&#x27;)),\n",
       "                                                 (&#x27;Cat&#x27;,\n",
       "                                                  Pipeline(steps=[(&#x27;Cat_Imputer&#x27;,\n",
       "                                                                   SimpleImputer(strategy=&#x27;most_frequent&#x27;)),\n",
       "                                                                  (&#x27;Encoder&#x27;,\n",
       "                                                                   OneHotEncoder(drop=&#x27;first&#x27;,\n",
       "                                                                                 sparse_output=False))]),\n",
       "                                                  Index([&#x27;Married&#x27;, &#x27;Property_Area&#x27;], dtype=&#x27;object&#x27;))])),\n",
       "                (&#x27;SmoteTomek&#x27;,\n",
       "                 SMOTETomek(smote=SMOTE(random_state=24,\n",
       "                                        sampling_strategy={0: 250}))),\n",
       "                (&#x27;SVC&#x27;, SVC())])</pre></div> </div></div><div class=\"sk-serial\"><div class=\"sk-item sk-dashed-wrapped\"><div class=\"sk-label-container\"><div class=\"sk-label fitted sk-toggleable\"><input class=\"sk-toggleable__control sk-hidden--visually\" id=\"sk-estimator-id-2\" type=\"checkbox\" ><label for=\"sk-estimator-id-2\" class=\"sk-toggleable__label fitted sk-toggleable__label-arrow fitted\">&nbsp;Preprocessing: ColumnTransformer<a class=\"sk-estimator-doc-link fitted\" rel=\"noreferrer\" target=\"_blank\" href=\"https://scikit-learn.org/1.5/modules/generated/sklearn.compose.ColumnTransformer.html\">?<span>Documentation for Preprocessing: ColumnTransformer</span></a></label><div class=\"sk-toggleable__content fitted\"><pre>ColumnTransformer(remainder=&#x27;passthrough&#x27;,\n",
       "                  transformers=[(&#x27;Num&#x27;,\n",
       "                                 Pipeline(steps=[(&#x27;Num_Imputer&#x27;, KNNImputer()),\n",
       "                                                 (&#x27;Scaler&#x27;, StandardScaler())]),\n",
       "                                 Index([&#x27;Loan_Amount_Term&#x27;, &#x27;Credit_History&#x27;, &#x27;log_ApplicantIncome&#x27;,\n",
       "       &#x27;log_LoanAmount&#x27;, &#x27;log_Total_Income&#x27;, &#x27;log_Loan_Monthly_Paid&#x27;,\n",
       "       &#x27;log_Income_After_Loan&#x27;, &#x27;Income_to_LoanRatio&#x27;],\n",
       "      dtype=&#x27;object&#x27;)),\n",
       "                                (&#x27;Cat&#x27;,\n",
       "                                 Pipeline(steps=[(&#x27;Cat_Imputer&#x27;,\n",
       "                                                  SimpleImputer(strategy=&#x27;most_frequent&#x27;)),\n",
       "                                                 (&#x27;Encoder&#x27;,\n",
       "                                                  OneHotEncoder(drop=&#x27;first&#x27;,\n",
       "                                                                sparse_output=False))]),\n",
       "                                 Index([&#x27;Married&#x27;, &#x27;Property_Area&#x27;], dtype=&#x27;object&#x27;))])</pre></div> </div></div><div class=\"sk-parallel\"><div class=\"sk-parallel-item\"><div class=\"sk-item\"><div class=\"sk-label-container\"><div class=\"sk-label fitted sk-toggleable\"><input class=\"sk-toggleable__control sk-hidden--visually\" id=\"sk-estimator-id-3\" type=\"checkbox\" ><label for=\"sk-estimator-id-3\" class=\"sk-toggleable__label fitted sk-toggleable__label-arrow fitted\">Num</label><div class=\"sk-toggleable__content fitted\"><pre>Index([&#x27;Loan_Amount_Term&#x27;, &#x27;Credit_History&#x27;, &#x27;log_ApplicantIncome&#x27;,\n",
       "       &#x27;log_LoanAmount&#x27;, &#x27;log_Total_Income&#x27;, &#x27;log_Loan_Monthly_Paid&#x27;,\n",
       "       &#x27;log_Income_After_Loan&#x27;, &#x27;Income_to_LoanRatio&#x27;],\n",
       "      dtype=&#x27;object&#x27;)</pre></div> </div></div><div class=\"sk-serial\"><div class=\"sk-item\"><div class=\"sk-serial\"><div class=\"sk-item\"><div class=\"sk-estimator fitted sk-toggleable\"><input class=\"sk-toggleable__control sk-hidden--visually\" id=\"sk-estimator-id-4\" type=\"checkbox\" ><label for=\"sk-estimator-id-4\" class=\"sk-toggleable__label fitted sk-toggleable__label-arrow fitted\">&nbsp;KNNImputer<a class=\"sk-estimator-doc-link fitted\" rel=\"noreferrer\" target=\"_blank\" href=\"https://scikit-learn.org/1.5/modules/generated/sklearn.impute.KNNImputer.html\">?<span>Documentation for KNNImputer</span></a></label><div class=\"sk-toggleable__content fitted\"><pre>KNNImputer()</pre></div> </div></div><div class=\"sk-item\"><div class=\"sk-estimator fitted sk-toggleable\"><input class=\"sk-toggleable__control sk-hidden--visually\" id=\"sk-estimator-id-5\" type=\"checkbox\" ><label for=\"sk-estimator-id-5\" class=\"sk-toggleable__label fitted sk-toggleable__label-arrow fitted\">&nbsp;StandardScaler<a class=\"sk-estimator-doc-link fitted\" rel=\"noreferrer\" target=\"_blank\" href=\"https://scikit-learn.org/1.5/modules/generated/sklearn.preprocessing.StandardScaler.html\">?<span>Documentation for StandardScaler</span></a></label><div class=\"sk-toggleable__content fitted\"><pre>StandardScaler()</pre></div> </div></div></div></div></div></div></div><div class=\"sk-parallel-item\"><div class=\"sk-item\"><div class=\"sk-label-container\"><div class=\"sk-label fitted sk-toggleable\"><input class=\"sk-toggleable__control sk-hidden--visually\" id=\"sk-estimator-id-6\" type=\"checkbox\" ><label for=\"sk-estimator-id-6\" class=\"sk-toggleable__label fitted sk-toggleable__label-arrow fitted\">Cat</label><div class=\"sk-toggleable__content fitted\"><pre>Index([&#x27;Married&#x27;, &#x27;Property_Area&#x27;], dtype=&#x27;object&#x27;)</pre></div> </div></div><div class=\"sk-serial\"><div class=\"sk-item\"><div class=\"sk-serial\"><div class=\"sk-item\"><div class=\"sk-estimator fitted sk-toggleable\"><input class=\"sk-toggleable__control sk-hidden--visually\" id=\"sk-estimator-id-7\" type=\"checkbox\" ><label for=\"sk-estimator-id-7\" class=\"sk-toggleable__label fitted sk-toggleable__label-arrow fitted\">&nbsp;SimpleImputer<a class=\"sk-estimator-doc-link fitted\" rel=\"noreferrer\" target=\"_blank\" href=\"https://scikit-learn.org/1.5/modules/generated/sklearn.impute.SimpleImputer.html\">?<span>Documentation for SimpleImputer</span></a></label><div class=\"sk-toggleable__content fitted\"><pre>SimpleImputer(strategy=&#x27;most_frequent&#x27;)</pre></div> </div></div><div class=\"sk-item\"><div class=\"sk-estimator fitted sk-toggleable\"><input class=\"sk-toggleable__control sk-hidden--visually\" id=\"sk-estimator-id-8\" type=\"checkbox\" ><label for=\"sk-estimator-id-8\" class=\"sk-toggleable__label fitted sk-toggleable__label-arrow fitted\">&nbsp;OneHotEncoder<a class=\"sk-estimator-doc-link fitted\" rel=\"noreferrer\" target=\"_blank\" href=\"https://scikit-learn.org/1.5/modules/generated/sklearn.preprocessing.OneHotEncoder.html\">?<span>Documentation for OneHotEncoder</span></a></label><div class=\"sk-toggleable__content fitted\"><pre>OneHotEncoder(drop=&#x27;first&#x27;, sparse_output=False)</pre></div> </div></div></div></div></div></div></div><div class=\"sk-parallel-item\"><div class=\"sk-item\"><div class=\"sk-label-container\"><div class=\"sk-label fitted sk-toggleable\"><input class=\"sk-toggleable__control sk-hidden--visually\" id=\"sk-estimator-id-9\" type=\"checkbox\" ><label for=\"sk-estimator-id-9\" class=\"sk-toggleable__label fitted sk-toggleable__label-arrow fitted\">remainder</label><div class=\"sk-toggleable__content fitted\"><pre>[]</pre></div> </div></div><div class=\"sk-serial\"><div class=\"sk-item\"><div class=\"sk-estimator fitted sk-toggleable\"><input class=\"sk-toggleable__control sk-hidden--visually\" id=\"sk-estimator-id-10\" type=\"checkbox\" ><label for=\"sk-estimator-id-10\" class=\"sk-toggleable__label fitted sk-toggleable__label-arrow fitted\">passthrough</label><div class=\"sk-toggleable__content fitted\"><pre>passthrough</pre></div> </div></div></div></div></div></div></div><div class=\"sk-item sk-dashed-wrapped\"><div class=\"sk-label-container\"><div class=\"sk-label fitted sk-toggleable\"><input class=\"sk-toggleable__control sk-hidden--visually\" id=\"sk-estimator-id-11\" type=\"checkbox\" ><label for=\"sk-estimator-id-11\" class=\"sk-toggleable__label fitted sk-toggleable__label-arrow fitted\">SmoteTomek: SMOTETomek</label><div class=\"sk-toggleable__content fitted\"><pre>SMOTETomek(smote=SMOTE(random_state=24, sampling_strategy={0: 250}))</pre></div> </div></div><div class=\"sk-parallel\"><div class=\"sk-parallel-item\"><div class=\"sk-item\"><div class=\"sk-label-container\"><div class=\"sk-label fitted sk-toggleable\"><input class=\"sk-toggleable__control sk-hidden--visually\" id=\"sk-estimator-id-12\" type=\"checkbox\" ><label for=\"sk-estimator-id-12\" class=\"sk-toggleable__label fitted sk-toggleable__label-arrow fitted\">smote: SMOTE</label><div class=\"sk-toggleable__content fitted\"><pre>SMOTE(random_state=24, sampling_strategy={0: 250})</pre></div> </div></div><div class=\"sk-serial\"><div class=\"sk-item\"><div class=\"sk-estimator fitted sk-toggleable\"><input class=\"sk-toggleable__control sk-hidden--visually\" id=\"sk-estimator-id-13\" type=\"checkbox\" ><label for=\"sk-estimator-id-13\" class=\"sk-toggleable__label fitted sk-toggleable__label-arrow fitted\">SMOTE</label><div class=\"sk-toggleable__content fitted\"><pre>SMOTE(random_state=24, sampling_strategy={0: 250})</pre></div> </div></div></div></div></div></div></div><div class=\"sk-item\"><div class=\"sk-estimator fitted sk-toggleable\"><input class=\"sk-toggleable__control sk-hidden--visually\" id=\"sk-estimator-id-14\" type=\"checkbox\" ><label for=\"sk-estimator-id-14\" class=\"sk-toggleable__label fitted sk-toggleable__label-arrow fitted\">&nbsp;SVC<a class=\"sk-estimator-doc-link fitted\" rel=\"noreferrer\" target=\"_blank\" href=\"https://scikit-learn.org/1.5/modules/generated/sklearn.svm.SVC.html\">?<span>Documentation for SVC</span></a></label><div class=\"sk-toggleable__content fitted\"><pre>SVC()</pre></div> </div></div></div></div></div></div>"
      ],
      "text/plain": [
       "Pipeline(steps=[('Preprocessing',\n",
       "                 ColumnTransformer(remainder='passthrough',\n",
       "                                   transformers=[('Num',\n",
       "                                                  Pipeline(steps=[('Num_Imputer',\n",
       "                                                                   KNNImputer()),\n",
       "                                                                  ('Scaler',\n",
       "                                                                   StandardScaler())]),\n",
       "                                                  Index(['Loan_Amount_Term', 'Credit_History', 'log_ApplicantIncome',\n",
       "       'log_LoanAmount', 'log_Total_Income', 'log_Loan_Monthly_Paid',\n",
       "       'log_Income_After_Loan', 'Income_to_LoanRatio'],\n",
       "      dtype='object')),\n",
       "                                                 ('Cat',\n",
       "                                                  Pipeline(steps=[('Cat_Imputer',\n",
       "                                                                   SimpleImputer(strategy='most_frequent')),\n",
       "                                                                  ('Encoder',\n",
       "                                                                   OneHotEncoder(drop='first',\n",
       "                                                                                 sparse_output=False))]),\n",
       "                                                  Index(['Married', 'Property_Area'], dtype='object'))])),\n",
       "                ('SmoteTomek',\n",
       "                 SMOTETomek(smote=SMOTE(random_state=24,\n",
       "                                        sampling_strategy={0: 250}))),\n",
       "                ('SVC', SVC())])"
      ]
     },
     "execution_count": 96,
     "metadata": {},
     "output_type": "execute_result"
    }
   ],
   "source": [
    "Final_model "
   ]
  },
  {
   "cell_type": "code",
   "execution_count": 97,
   "id": "98f1acde",
   "metadata": {},
   "outputs": [
    {
     "data": {
      "text/plain": [
       "Index(['Married', 'ApplicantIncome', 'CoapplicantIncome', 'LoanAmount',\n",
       "       'Loan_Amount_Term', 'Credit_History', 'Property_Area', 'Loan_Status',\n",
       "       'Total_Income', 'Loan_Monthly_Paid', 'Income_to_LoanRatio'],\n",
       "      dtype='object')"
      ]
     },
     "execution_count": 97,
     "metadata": {},
     "output_type": "execute_result"
    }
   ],
   "source": [
    "df_streamlit.columns"
   ]
  },
  {
   "cell_type": "code",
   "execution_count": 107,
   "id": "c3c07688",
   "metadata": {},
   "outputs": [
    {
     "data": {
      "text/plain": [
       "Index(['Married', 'Loan_Amount_Term', 'Credit_History', 'Property_Area',\n",
       "       'Loan_Status', 'log_ApplicantIncome', 'log_LoanAmount',\n",
       "       'log_Total_Income', 'log_Loan_Monthly_Paid', 'log_Income_After_Loan',\n",
       "       'Income_to_LoanRatio'],\n",
       "      dtype='object')"
      ]
     },
     "execution_count": 107,
     "metadata": {},
     "output_type": "execute_result"
    }
   ],
   "source": [
    "df.columns"
   ]
  },
  {
   "cell_type": "code",
   "execution_count": 101,
   "id": "9e0303c6",
   "metadata": {},
   "outputs": [
    {
     "data": {
      "text/plain": [
       "Index(['Married', 'Property_Area'], dtype='object')"
      ]
     },
     "execution_count": 101,
     "metadata": {},
     "output_type": "execute_result"
    }
   ],
   "source": [
    "df.select_dtypes(include=\"object\").columns"
   ]
  },
  {
   "cell_type": "code",
   "execution_count": 104,
   "id": "e8fd367a",
   "metadata": {},
   "outputs": [
    {
     "data": {
      "text/plain": [
       "array(['Urban', 'Rural', 'Semiurban'], dtype=object)"
      ]
     },
     "execution_count": 104,
     "metadata": {},
     "output_type": "execute_result"
    }
   ],
   "source": [
    "df.Property_Area.unique()"
   ]
  },
  {
   "cell_type": "code",
   "execution_count": null,
   "id": "92a96d8a",
   "metadata": {},
   "outputs": [],
   "source": [
    "# import pickle\n",
    "\n",
    "# file_name = '/Users/mohammedmahmood/Desktop/Data projects/Loan_Approval_analysis_and_prediction.sav'\n",
    "\n",
    "# with open(file_name, \"wb\") as file:\n",
    "#     pickle.dump(Final_model, file)"
   ]
  },
  {
   "cell_type": "code",
   "execution_count": null,
   "id": "2ba9f0e5",
   "metadata": {},
   "outputs": [],
   "source": []
  }
 ],
 "metadata": {
  "kernelspec": {
   "display_name": "Python 3",
   "language": "python",
   "name": "python3"
  },
  "language_info": {
   "codemirror_mode": {
    "name": "ipython",
    "version": 3
   },
   "file_extension": ".py",
   "mimetype": "text/x-python",
   "name": "python",
   "nbconvert_exporter": "python",
   "pygments_lexer": "ipython3",
   "version": "3.10.2"
  }
 },
 "nbformat": 4,
 "nbformat_minor": 5
}
